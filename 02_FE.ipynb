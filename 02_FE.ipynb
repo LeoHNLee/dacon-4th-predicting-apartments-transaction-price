{
 "cells": [
  {
   "cell_type": "markdown",
   "metadata": {},
   "source": [
    "#### 모듈 로드"
   ]
  },
  {
   "cell_type": "code",
   "execution_count": 1,
   "metadata": {},
   "outputs": [],
   "source": [
    "import numpy as np\n",
    "import pandas as pd\n",
    "import matplotlib.pyplot as plt\n",
    "import seaborn as sns"
   ]
  },
  {
   "cell_type": "code",
   "execution_count": 2,
   "metadata": {},
   "outputs": [],
   "source": [
    "import warnings\n",
    "warnings.filterwarnings('ignore')"
   ]
  },
  {
   "cell_type": "markdown",
   "metadata": {},
   "source": [
    "#### 트레인, 테스트, 지하철 학교 데이터 로드"
   ]
  },
  {
   "cell_type": "code",
   "execution_count": 3,
   "metadata": {},
   "outputs": [],
   "source": [
    "train_raw = pd.read_csv('./data/train.csv')\n",
    "test_raw = pd.read_csv('./data/test.csv')"
   ]
  },
  {
   "cell_type": "markdown",
   "metadata": {},
   "source": [
    "#### 트레인 + 테스트 합치기"
   ]
  },
  {
   "cell_type": "code",
   "execution_count": 4,
   "metadata": {},
   "outputs": [],
   "source": [
    "data = pd.concat([train_raw, test_raw]).sort_values('key').set_index('key')"
   ]
  },
  {
   "cell_type": "markdown",
   "metadata": {},
   "source": [
    "#### 널 데이터 처리"
   ]
  },
  {
   "cell_type": "code",
   "execution_count": 6,
   "metadata": {},
   "outputs": [],
   "source": [
    "# 양적정보\n",
    "data.total_parking_capacity_in_site.fillna(data.total_parking_capacity_in_site.median(), inplace = True)\n",
    "data.tallest_building_in_sites.fillna(data.tallest_building_in_sites.median(), inplace = True)\n",
    "data.lowest_building_in_sites.fillna(data.lowest_building_in_sites.median(), inplace = True)\n",
    "data.room_count.fillna(data.room_count.median(), inplace = True)\n",
    "data.bathroom_count.fillna(data.bathroom_count.median(), inplace = True)"
   ]
  },
  {
   "cell_type": "code",
   "execution_count": 7,
   "metadata": {},
   "outputs": [],
   "source": [
    "# 질적정보\n",
    "data.heat_type.fillna('-', inplace = True)\n",
    "data.heat_fuel.fillna('-', inplace = True)\n",
    "data.front_door_structure.fillna('-', inplace = True)"
   ]
  },
  {
   "cell_type": "markdown",
   "metadata": {},
   "source": [
    "#### Feature Engineering"
   ]
  },
  {
   "cell_type": "markdown",
   "metadata": {},
   "source": [
    "* 거래기간 (날)"
   ]
  },
  {
   "cell_type": "code",
   "execution_count": 9,
   "metadata": {},
   "outputs": [],
   "source": [
    "# 거래 기간 (날)\n",
    "data['transaction_date_duration'] = data.transaction_date.apply(lambda v: int(v.split('~')[-1]) - int(v.split('~')[0]))"
   ]
  },
  {
   "cell_type": "markdown",
   "metadata": {},
   "source": [
    "* 거래일자"
   ]
  },
  {
   "cell_type": "code",
   "execution_count": 10,
   "metadata": {},
   "outputs": [],
   "source": [
    "# transaction date\n",
    "data['transaction_date'] = (data.transaction_year_month) * 100 + data.transaction_date.apply(lambda v: v.split('~')[-1]).astype(\"int\")\n",
    "data.drop(['transaction_year_month'], axis = 1, inplace=True)"
   ]
  },
  {
   "cell_type": "markdown",
   "metadata": {},
   "source": [
    "* 주소정보"
   ]
  },
  {
   "cell_type": "code",
   "execution_count": 11,
   "metadata": {},
   "outputs": [],
   "source": [
    "def get_addr(data):\n",
    "    return law_addr.loc[str(data.address_by_law)].addr"
   ]
  },
  {
   "cell_type": "code",
   "execution_count": 12,
   "metadata": {},
   "outputs": [],
   "source": [
    "def get_gu(addr):\n",
    "    temp = addr.split(\" \")\n",
    "    if temp[1] == \"강서구\":\n",
    "        if temp[0] == \"서울특별시\":\n",
    "            return \"서울강서구\"\n",
    "        else:\n",
    "            return \"부산강서구\"\n",
    "    else:\n",
    "        return temp[1]"
   ]
  },
  {
   "cell_type": "code",
   "execution_count": 13,
   "metadata": {},
   "outputs": [],
   "source": [
    "# 법정 주소 정보 읽기 - 법정 주소 홈페이지\n",
    "with open('./data/law_addr.txt') as f:\n",
    "    law_addr = f.read()\n",
    "    \n",
    "law_addr = [v.split('\\t') for v in law_addr.split('\\n')]\n",
    "law_addr = pd.DataFrame(law_addr[1:])\n",
    "law_addr.columns = ['law_addr', 'addr', 'existance']\n",
    "law_addr = law_addr.set_index('law_addr').dropna()"
   ]
  },
  {
   "cell_type": "code",
   "execution_count": 14,
   "metadata": {},
   "outputs": [],
   "source": [
    "# 주소와 구(군) 얻기\n",
    "data['addr'] = data.apply(get_addr, axis = 1)\n",
    "data['gu'] = data.addr.apply(get_gu)"
   ]
  },
  {
   "cell_type": "code",
   "execution_count": 15,
   "metadata": {},
   "outputs": [],
   "source": [
    "data.drop(['addr'],axis = 1, inplace=True)"
   ]
  },
  {
   "cell_type": "markdown",
   "metadata": {},
   "source": [
    "#### FE - 지하철/학교 Common"
   ]
  },
  {
   "cell_type": "code",
   "execution_count": 22,
   "metadata": {},
   "outputs": [],
   "source": [
    "subway = pd.read_csv('./data/Subways.csv')\n",
    "school = pd.read_csv('./data/Schools.csv')"
   ]
  },
  {
   "cell_type": "code",
   "execution_count": 18,
   "metadata": {},
   "outputs": [],
   "source": [
    "def deg2rad(data):\n",
    "    return (data * np.pi) / 180"
   ]
  },
  {
   "cell_type": "code",
   "execution_count": 19,
   "metadata": {},
   "outputs": [],
   "source": [
    "def rad2deg(data):\n",
    "    return data * 180 / np.pi"
   ]
  },
  {
   "cell_type": "code",
   "execution_count": 20,
   "metadata": {},
   "outputs": [],
   "source": [
    "loc = pd.DataFrame([list(v) for v in list(set([tuple(v) for v in data[['apartment_id', 'latitude', 'longitude']].values]))], columns=['apartment_id', 'latitude', 'longitude'])"
   ]
  },
  {
   "cell_type": "markdown",
   "metadata": {},
   "source": [
    "#### FE - 지하철"
   ]
  },
  {
   "cell_type": "code",
   "execution_count": 23,
   "metadata": {},
   "outputs": [],
   "source": [
    "dist_subway = []\n",
    "\n",
    "for i in range(len(loc)):\n",
    "\n",
    "    lat1 = loc.iloc[i].latitude\n",
    "    lon1 = loc.iloc[i].longitude\n",
    "    \n",
    "    lat2 = subway.latitude\n",
    "    lon2 = subway.longitude\n",
    "    \n",
    "    dist_subway.append(list((rad2deg(np.arccos(np.sin(deg2rad(lat1)) * np.sin(deg2rad(lat2)) + np.cos(deg2rad(lat1)) * np.cos(deg2rad(lat2)) * np.cos(deg2rad(lon1 - lon2)))) * 60 * 1.1515 * 1.609344 * 1000).values))"
   ]
  },
  {
   "cell_type": "code",
   "execution_count": 24,
   "metadata": {},
   "outputs": [],
   "source": [
    "# 각 단지별 지하철 역 사이에 거리\n",
    "df_subway = pd.concat([loc, pd.DataFrame(dist_subway)], axis = 1).drop(['latitude', 'longitude'], axis = 1)"
   ]
  },
  {
   "cell_type": "code",
   "execution_count": 28,
   "metadata": {},
   "outputs": [],
   "source": [
    "dist_dic = {}\n",
    "dist_400 = {}\n",
    "dist_800 = {}\n",
    "dist_1200 = {}\n",
    "dist_1600 = {}\n",
    "dist_2000 = {}\n",
    "\n",
    "for idx in range(3918):\n",
    "    dist_dic.update({df_subway.T.iloc[0,idx]:df_subway.T.iloc[1:,idx].sort_values().to_frame().reset_index().iloc[0].values})\n",
    "    dist_400.update({df_subway.T.iloc[0,idx]: np.sum((df_subway.T.iloc[1:,idx].sort_values().to_frame().reset_index()[idx] < 400) * 1)})\n",
    "    dist_800.update({df_subway.T.iloc[0,idx]: np.sum((df_subway.T.iloc[1:,idx].sort_values().to_frame().reset_index()[idx] < 800) * 1)})\n",
    "    dist_1200.update({df_subway.T.iloc[0,idx]: np.sum((df_subway.T.iloc[1:,idx].sort_values().to_frame().reset_index()[idx] < 1200) * 1)})\n",
    "    dist_1600.update({df_subway.T.iloc[0,idx]: np.sum((df_subway.T.iloc[1:,idx].sort_values().to_frame().reset_index()[idx] < 1600) * 1)})\n",
    "    dist_2000.update({df_subway.T.iloc[0,idx]: np.sum((df_subway.T.iloc[1:,idx].sort_values().to_frame().reset_index()[idx] < 2000) * 1)})"
   ]
  },
  {
   "cell_type": "code",
   "execution_count": 31,
   "metadata": {},
   "outputs": [],
   "source": [
    "temp = data.apartment_id.apply(lambda v: np.append(np.append(np.append(np.append(np.append(dist_dic[float(v)], dist_400[float(v)]),  dist_800[float(v)]), dist_1200[float(v)]), dist_1600[float(v)]), dist_2000[float(v)]))\n",
    "temp = np.array([list(v) for v in temp.values])"
   ]
  },
  {
   "cell_type": "code",
   "execution_count": 44,
   "metadata": {},
   "outputs": [],
   "source": [
    "data['subway_idx'] = temp[:, 0]\n",
    "data['subway_distance'] = temp[:, 1]\n",
    "data['subway_distance_400'] = temp[:, 2]\n",
    "data['subway_distance_800'] = temp[:, 3]\n",
    "data['subway_distance_1200'] = temp[:, 4]\n",
    "data['subway_distance_1600'] = temp[:, 5]\n",
    "data['subway_distance_2000'] = temp[:, 6]"
   ]
  },
  {
   "cell_type": "markdown",
   "metadata": {},
   "source": [
    "#### FE - 학교"
   ]
  },
  {
   "cell_type": "code",
   "execution_count": 50,
   "metadata": {},
   "outputs": [],
   "source": [
    "dist_school = []\n",
    "\n",
    "for i in range(len(loc)):\n",
    "\n",
    "    lat1 = loc.iloc[i].latitude\n",
    "    lon1 = loc.iloc[i].longitude\n",
    "    \n",
    "    lat2 = school.latitude\n",
    "    lon2 = school.longitude\n",
    "    \n",
    "    dist_school.append(list((rad2deg(np.arccos(np.sin(deg2rad(lat1)) * np.sin(deg2rad(lat2)) + np.cos(deg2rad(lat1)) * np.cos(deg2rad(lat2)) * np.cos(deg2rad(lon1 - lon2)))) * 60 * 1.1515 * 1.609344 * 1000).values))"
   ]
  },
  {
   "cell_type": "code",
   "execution_count": 51,
   "metadata": {},
   "outputs": [],
   "source": [
    "# 각 단지별 학교 사이에 거리\n",
    "df_school = pd.concat([loc, pd.DataFrame(dist_school)], axis = 1).drop(['latitude', 'longitude'], axis = 1)"
   ]
  },
  {
   "cell_type": "code",
   "execution_count": 52,
   "metadata": {},
   "outputs": [],
   "source": [
    "dist_dic = {}\n",
    "dist_400 = {}\n",
    "dist_800 = {}\n",
    "dist_1200 = {}\n",
    "dist_1600 = {}\n",
    "dist_2000 = {}\n",
    "\n",
    "for idx in range(3918):\n",
    "    dist_dic.update({df_school.T.iloc[0,idx]:df_school.T.iloc[1:,idx].sort_values().to_frame().reset_index().iloc[0].values})\n",
    "    dist_400.update({df_school.T.iloc[0,idx]: np.sum((df_school.T.iloc[1:,idx].sort_values().to_frame().reset_index()[idx] < 400) * 1)})\n",
    "    dist_800.update({df_school.T.iloc[0,idx]: np.sum((df_school.T.iloc[1:,idx].sort_values().to_frame().reset_index()[idx] < 800) * 1)})\n",
    "    dist_1200.update({df_school.T.iloc[0,idx]: np.sum((df_school.T.iloc[1:,idx].sort_values().to_frame().reset_index()[idx] < 1200) * 1)})\n",
    "    dist_1600.update({df_school.T.iloc[0,idx]: np.sum((df_school.T.iloc[1:,idx].sort_values().to_frame().reset_index()[idx] < 1600) * 1)})\n",
    "    dist_2000.update({df_school.T.iloc[0,idx]: np.sum((df_school.T.iloc[1:,idx].sort_values().to_frame().reset_index()[idx] < 2000) * 1)})"
   ]
  },
  {
   "cell_type": "code",
   "execution_count": 53,
   "metadata": {},
   "outputs": [],
   "source": [
    "temp = data.apartment_id.apply(lambda v: np.append(np.append(np.append(np.append(np.append(dist_dic[float(v)], dist_400[float(v)]),  dist_800[float(v)]), dist_1200[float(v)]), dist_1600[float(v)]), dist_2000[float(v)]))\n",
    "temp = np.array([list(v) for v in temp.values])"
   ]
  },
  {
   "cell_type": "code",
   "execution_count": 54,
   "metadata": {},
   "outputs": [],
   "source": [
    "data['school_idx'] = temp[:, 0]\n",
    "data['school_distance'] = temp[:, 1]\n",
    "data['school_distance_400'] = temp[:, 2]\n",
    "data['school_distance_800'] = temp[:, 3]\n",
    "data['school_distance_1200'] = temp[:, 4]\n",
    "data['school_distance_1600'] = temp[:, 5]\n",
    "data['school_distance_2000'] = temp[:, 6]"
   ]
  },
  {
   "cell_type": "code",
   "execution_count": 56,
   "metadata": {},
   "outputs": [],
   "source": [
    "data.to_csv('./data/data.csv')"
   ]
  }
 ],
 "metadata": {
  "kernelspec": {
   "display_name": "Python 3",
   "language": "python",
   "name": "python3"
  },
  "language_info": {
   "codemirror_mode": {
    "name": "ipython",
    "version": 3
   },
   "file_extension": ".py",
   "mimetype": "text/x-python",
   "name": "python",
   "nbconvert_exporter": "python",
   "pygments_lexer": "ipython3",
   "version": "3.6.7"
  }
 },
 "nbformat": 4,
 "nbformat_minor": 2
}
