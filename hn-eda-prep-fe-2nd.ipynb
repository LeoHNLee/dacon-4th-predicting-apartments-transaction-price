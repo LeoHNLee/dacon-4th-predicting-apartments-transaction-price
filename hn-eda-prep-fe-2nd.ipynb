{
 "cells": [
  {
   "cell_type": "markdown",
   "metadata": {},
   "source": [
    "# EDA Prep FE 2nd\n",
    "\n",
    "## 목표\n",
    "\n",
    "- 아파트 아이디 변환 : 순서가 있는 int형 카테고리\n",
    "- 평당가 계산하기\n",
    "    1. row별로 평당가 계산 - 기준은? 공급면적, 전용면적을 구한 뒤, 수식으로 공용면적도 구하기\n",
    "    2. 동별로 평당가 mean, median, std 구해서 비교ㅁ\n",
    "- school, subway : eda\n",
    "\n",
    "## 결과\n",
    "\n",
    "- 아파트 아이디 변환 : test에만 있는 12개 단지는 mid값으로 넣음\n",
    "- null data 추정 : 그리드 서치로 lgb 파라미터 조절한 다음 바로 추정\n",
    "\n",
    "### subway\n",
    "\n",
    "- 역세권\n",
    "    - 1차 : 200m\n",
    "    - 2차 : 500m\n",
    "    - 3차 : 800m : 1km가 아닌 이유 : 단순히 직선거리로 재기 때문에 실소요거리는 더 길 것임\n",
    "- 더블 역세권\n",
    "    - 환승역\n",
    "    - 나머지는 기준이 애매함. 일단 3차도 도보 10분 이내이므로 3차까지 포함해서 계산\n",
    "- 지하철역의 가치 : logPrice\n",
    "    - 역세권에 속하는 단지 아이디의 타겟값을 활용해서 지하철역의 가치를 계산할 수 있음\n",
    "    - 예) 강남역, 판교역 등은 다른 역주변보다 비쌈\n",
    "- 지하철역 구/동 : disTown - 법정동코드 000000 형태\n",
    "- 환승역 갯수 : noLine\n",
    "    \n",
    "### school\n",
    "\n",
    "- private\n",
    "- onlySex\n",
    "\n",
    "## 부족한 부분\n",
    "\n",
    "- 아파트 단지와 지하철/학교와의 거리 구하기 연산 시간 너무 길다...\n",
    "- 평당가 계산하기 : logPrice로 계산해야 할까, raw price로 계산한 뒤에 log를 씌우는 게 맞을까, 일단 후자 택\n",
    "\n",
    "## 새로운 아이디어\n",
    "\n",
    "- 평당가를 구하자\n",
    "- 법정동 가치 구하기 : 평당가를 활용해서 가치 산출\n",
    "    - 지하철 가치 산출 가능\n",
    "    - 학교 가치 산출 가능"
   ]
  },
  {
   "cell_type": "code",
   "execution_count": 47,
   "metadata": {},
   "outputs": [
    {
     "data": {
      "text/plain": [
       "15"
      ]
     },
     "execution_count": 47,
     "metadata": {},
     "output_type": "execute_result"
    }
   ],
   "source": [
    "import pandas as pd\n",
    "import numpy as np\n",
    "import os, sys, warnings, re, time, gc,math\n",
    "from tqdm import tqdm\n",
    "import matplotlib.pyplot as plt\n",
    "import seaborn as sns\n",
    "from statsmodels.distributions.empirical_distribution import ECDF\n",
    "from sklearn.linear_model import RidgeCV as ridge\n",
    "\n",
    "warnings.filterwarnings('ignore')\n",
    "sys.path.append(os.path.abspath(os.path.dirname('../')))\n",
    "from modules import eda\n",
    "gc.collect()"
   ]
  },
  {
   "cell_type": "code",
   "execution_count": 58,
   "metadata": {
    "collapsed": true
   },
   "outputs": [
    {
     "ename": "FileNotFoundError",
     "evalue": "File b'./datasets/schoolFE2nd.csv' does not exist",
     "output_type": "error",
     "traceback": [
      "\u001b[1;31m---------------------------------------------------------------------------\u001b[0m",
      "\u001b[1;31mFileNotFoundError\u001b[0m                         Traceback (most recent call last)",
      "\u001b[1;32m<timed exec>\u001b[0m in \u001b[0;36m<module>\u001b[1;34m\u001b[0m\n",
      "\u001b[1;32mC:\\Anaconda3\\envs\\tensorflow\\lib\\site-packages\\pandas\\io\\parsers.py\u001b[0m in \u001b[0;36mparser_f\u001b[1;34m(filepath_or_buffer, sep, delimiter, header, names, index_col, usecols, squeeze, prefix, mangle_dupe_cols, dtype, engine, converters, true_values, false_values, skipinitialspace, skiprows, nrows, na_values, keep_default_na, na_filter, verbose, skip_blank_lines, parse_dates, infer_datetime_format, keep_date_col, date_parser, dayfirst, iterator, chunksize, compression, thousands, decimal, lineterminator, quotechar, quoting, escapechar, comment, encoding, dialect, tupleize_cols, error_bad_lines, warn_bad_lines, skipfooter, doublequote, delim_whitespace, low_memory, memory_map, float_precision)\u001b[0m\n\u001b[0;32m    676\u001b[0m                     skip_blank_lines=skip_blank_lines)\n\u001b[0;32m    677\u001b[0m \u001b[1;33m\u001b[0m\u001b[0m\n\u001b[1;32m--> 678\u001b[1;33m         \u001b[1;32mreturn\u001b[0m \u001b[0m_read\u001b[0m\u001b[1;33m(\u001b[0m\u001b[0mfilepath_or_buffer\u001b[0m\u001b[1;33m,\u001b[0m \u001b[0mkwds\u001b[0m\u001b[1;33m)\u001b[0m\u001b[1;33m\u001b[0m\u001b[1;33m\u001b[0m\u001b[0m\n\u001b[0m\u001b[0;32m    679\u001b[0m \u001b[1;33m\u001b[0m\u001b[0m\n\u001b[0;32m    680\u001b[0m     \u001b[0mparser_f\u001b[0m\u001b[1;33m.\u001b[0m\u001b[0m__name__\u001b[0m \u001b[1;33m=\u001b[0m \u001b[0mname\u001b[0m\u001b[1;33m\u001b[0m\u001b[1;33m\u001b[0m\u001b[0m\n",
      "\u001b[1;32mC:\\Anaconda3\\envs\\tensorflow\\lib\\site-packages\\pandas\\io\\parsers.py\u001b[0m in \u001b[0;36m_read\u001b[1;34m(filepath_or_buffer, kwds)\u001b[0m\n\u001b[0;32m    438\u001b[0m \u001b[1;33m\u001b[0m\u001b[0m\n\u001b[0;32m    439\u001b[0m     \u001b[1;31m# Create the parser.\u001b[0m\u001b[1;33m\u001b[0m\u001b[1;33m\u001b[0m\u001b[1;33m\u001b[0m\u001b[0m\n\u001b[1;32m--> 440\u001b[1;33m     \u001b[0mparser\u001b[0m \u001b[1;33m=\u001b[0m \u001b[0mTextFileReader\u001b[0m\u001b[1;33m(\u001b[0m\u001b[0mfilepath_or_buffer\u001b[0m\u001b[1;33m,\u001b[0m \u001b[1;33m**\u001b[0m\u001b[0mkwds\u001b[0m\u001b[1;33m)\u001b[0m\u001b[1;33m\u001b[0m\u001b[1;33m\u001b[0m\u001b[0m\n\u001b[0m\u001b[0;32m    441\u001b[0m \u001b[1;33m\u001b[0m\u001b[0m\n\u001b[0;32m    442\u001b[0m     \u001b[1;32mif\u001b[0m \u001b[0mchunksize\u001b[0m \u001b[1;32mor\u001b[0m \u001b[0miterator\u001b[0m\u001b[1;33m:\u001b[0m\u001b[1;33m\u001b[0m\u001b[1;33m\u001b[0m\u001b[0m\n",
      "\u001b[1;32mC:\\Anaconda3\\envs\\tensorflow\\lib\\site-packages\\pandas\\io\\parsers.py\u001b[0m in \u001b[0;36m__init__\u001b[1;34m(self, f, engine, **kwds)\u001b[0m\n\u001b[0;32m    785\u001b[0m             \u001b[0mself\u001b[0m\u001b[1;33m.\u001b[0m\u001b[0moptions\u001b[0m\u001b[1;33m[\u001b[0m\u001b[1;34m'has_index_names'\u001b[0m\u001b[1;33m]\u001b[0m \u001b[1;33m=\u001b[0m \u001b[0mkwds\u001b[0m\u001b[1;33m[\u001b[0m\u001b[1;34m'has_index_names'\u001b[0m\u001b[1;33m]\u001b[0m\u001b[1;33m\u001b[0m\u001b[1;33m\u001b[0m\u001b[0m\n\u001b[0;32m    786\u001b[0m \u001b[1;33m\u001b[0m\u001b[0m\n\u001b[1;32m--> 787\u001b[1;33m         \u001b[0mself\u001b[0m\u001b[1;33m.\u001b[0m\u001b[0m_make_engine\u001b[0m\u001b[1;33m(\u001b[0m\u001b[0mself\u001b[0m\u001b[1;33m.\u001b[0m\u001b[0mengine\u001b[0m\u001b[1;33m)\u001b[0m\u001b[1;33m\u001b[0m\u001b[1;33m\u001b[0m\u001b[0m\n\u001b[0m\u001b[0;32m    788\u001b[0m \u001b[1;33m\u001b[0m\u001b[0m\n\u001b[0;32m    789\u001b[0m     \u001b[1;32mdef\u001b[0m \u001b[0mclose\u001b[0m\u001b[1;33m(\u001b[0m\u001b[0mself\u001b[0m\u001b[1;33m)\u001b[0m\u001b[1;33m:\u001b[0m\u001b[1;33m\u001b[0m\u001b[1;33m\u001b[0m\u001b[0m\n",
      "\u001b[1;32mC:\\Anaconda3\\envs\\tensorflow\\lib\\site-packages\\pandas\\io\\parsers.py\u001b[0m in \u001b[0;36m_make_engine\u001b[1;34m(self, engine)\u001b[0m\n\u001b[0;32m   1012\u001b[0m     \u001b[1;32mdef\u001b[0m \u001b[0m_make_engine\u001b[0m\u001b[1;33m(\u001b[0m\u001b[0mself\u001b[0m\u001b[1;33m,\u001b[0m \u001b[0mengine\u001b[0m\u001b[1;33m=\u001b[0m\u001b[1;34m'c'\u001b[0m\u001b[1;33m)\u001b[0m\u001b[1;33m:\u001b[0m\u001b[1;33m\u001b[0m\u001b[1;33m\u001b[0m\u001b[0m\n\u001b[0;32m   1013\u001b[0m         \u001b[1;32mif\u001b[0m \u001b[0mengine\u001b[0m \u001b[1;33m==\u001b[0m \u001b[1;34m'c'\u001b[0m\u001b[1;33m:\u001b[0m\u001b[1;33m\u001b[0m\u001b[1;33m\u001b[0m\u001b[0m\n\u001b[1;32m-> 1014\u001b[1;33m             \u001b[0mself\u001b[0m\u001b[1;33m.\u001b[0m\u001b[0m_engine\u001b[0m \u001b[1;33m=\u001b[0m \u001b[0mCParserWrapper\u001b[0m\u001b[1;33m(\u001b[0m\u001b[0mself\u001b[0m\u001b[1;33m.\u001b[0m\u001b[0mf\u001b[0m\u001b[1;33m,\u001b[0m \u001b[1;33m**\u001b[0m\u001b[0mself\u001b[0m\u001b[1;33m.\u001b[0m\u001b[0moptions\u001b[0m\u001b[1;33m)\u001b[0m\u001b[1;33m\u001b[0m\u001b[1;33m\u001b[0m\u001b[0m\n\u001b[0m\u001b[0;32m   1015\u001b[0m         \u001b[1;32melse\u001b[0m\u001b[1;33m:\u001b[0m\u001b[1;33m\u001b[0m\u001b[1;33m\u001b[0m\u001b[0m\n\u001b[0;32m   1016\u001b[0m             \u001b[1;32mif\u001b[0m \u001b[0mengine\u001b[0m \u001b[1;33m==\u001b[0m \u001b[1;34m'python'\u001b[0m\u001b[1;33m:\u001b[0m\u001b[1;33m\u001b[0m\u001b[1;33m\u001b[0m\u001b[0m\n",
      "\u001b[1;32mC:\\Anaconda3\\envs\\tensorflow\\lib\\site-packages\\pandas\\io\\parsers.py\u001b[0m in \u001b[0;36m__init__\u001b[1;34m(self, src, **kwds)\u001b[0m\n\u001b[0;32m   1706\u001b[0m         \u001b[0mkwds\u001b[0m\u001b[1;33m[\u001b[0m\u001b[1;34m'usecols'\u001b[0m\u001b[1;33m]\u001b[0m \u001b[1;33m=\u001b[0m \u001b[0mself\u001b[0m\u001b[1;33m.\u001b[0m\u001b[0musecols\u001b[0m\u001b[1;33m\u001b[0m\u001b[1;33m\u001b[0m\u001b[0m\n\u001b[0;32m   1707\u001b[0m \u001b[1;33m\u001b[0m\u001b[0m\n\u001b[1;32m-> 1708\u001b[1;33m         \u001b[0mself\u001b[0m\u001b[1;33m.\u001b[0m\u001b[0m_reader\u001b[0m \u001b[1;33m=\u001b[0m \u001b[0mparsers\u001b[0m\u001b[1;33m.\u001b[0m\u001b[0mTextReader\u001b[0m\u001b[1;33m(\u001b[0m\u001b[0msrc\u001b[0m\u001b[1;33m,\u001b[0m \u001b[1;33m**\u001b[0m\u001b[0mkwds\u001b[0m\u001b[1;33m)\u001b[0m\u001b[1;33m\u001b[0m\u001b[1;33m\u001b[0m\u001b[0m\n\u001b[0m\u001b[0;32m   1709\u001b[0m \u001b[1;33m\u001b[0m\u001b[0m\n\u001b[0;32m   1710\u001b[0m         \u001b[0mpassed_names\u001b[0m \u001b[1;33m=\u001b[0m \u001b[0mself\u001b[0m\u001b[1;33m.\u001b[0m\u001b[0mnames\u001b[0m \u001b[1;32mis\u001b[0m \u001b[1;32mNone\u001b[0m\u001b[1;33m\u001b[0m\u001b[1;33m\u001b[0m\u001b[0m\n",
      "\u001b[1;32mpandas\\_libs\\parsers.pyx\u001b[0m in \u001b[0;36mpandas._libs.parsers.TextReader.__cinit__\u001b[1;34m()\u001b[0m\n",
      "\u001b[1;32mpandas\\_libs\\parsers.pyx\u001b[0m in \u001b[0;36mpandas._libs.parsers.TextReader._setup_parser_source\u001b[1;34m()\u001b[0m\n",
      "\u001b[1;31mFileNotFoundError\u001b[0m: File b'./datasets/schoolFE2nd.csv' does not exist"
     ]
    }
   ],
   "source": [
    "%%time\n",
    "path = './datasets/'\n",
    "train = pd.read_csv(path+'trainFe2nd.csv')\n",
    "test = pd.read_csv(path+'testFe2nd.csv')\n",
    "school = pd.read_csv(path+'schoolFE2nd.csv')\n",
    "subway = pd.read_csv(path+'subwayFE2nd.csv')\n",
    "gc.collect()"
   ]
  },
  {
   "cell_type": "code",
   "execution_count": 165,
   "metadata": {},
   "outputs": [],
   "source": [
    "train.to_csv('./datasets/trainFE2nd.csv', index=False)\n",
    "test.to_csv('./datasets/testFE2nd.csv', index=False)\n",
    "subway.to_csv('./datasets/subwayFE2nd.csv', index=False)\n",
    "school.to_csv('./datasets/schoolFE2nd.csv', index=False)\n",
    "\n",
    "# groupedTowns.to_csv('./datasets/groupedTown.csv', index=False)\n",
    "# subDist.to_csv('./datasets/subDist.csv', index=False)"
   ]
  },
  {
   "cell_type": "code",
   "execution_count": 59,
   "metadata": {
    "collapsed": true
   },
   "outputs": [
    {
     "data": {
      "text/html": [
       "<div>\n",
       "<style scoped>\n",
       "    .dataframe tbody tr th:only-of-type {\n",
       "        vertical-align: middle;\n",
       "    }\n",
       "\n",
       "    .dataframe tbody tr th {\n",
       "        vertical-align: top;\n",
       "    }\n",
       "\n",
       "    .dataframe thead th {\n",
       "        text-align: right;\n",
       "    }\n",
       "</style>\n",
       "<table border=\"1\" class=\"dataframe\">\n",
       "  <thead>\n",
       "    <tr style=\"text-align: right;\">\n",
       "      <th></th>\n",
       "      <th>station_id</th>\n",
       "      <th>latitude</th>\n",
       "      <th>longitude</th>\n",
       "      <th>subway_line</th>\n",
       "      <th>address_by_law</th>\n",
       "      <th>disTown</th>\n",
       "      <th>logPrice</th>\n",
       "      <th>noLine</th>\n",
       "      <th>lines</th>\n",
       "      <th>city</th>\n",
       "      <th>cityDisTown</th>\n",
       "    </tr>\n",
       "  </thead>\n",
       "  <tbody>\n",
       "    <tr>\n",
       "      <th>0</th>\n",
       "      <td>1</td>\n",
       "      <td>37.555729</td>\n",
       "      <td>126.972145</td>\n",
       "      <td>1,4,KJ,AP</td>\n",
       "      <td>1.114012e+09</td>\n",
       "      <td>140120.0</td>\n",
       "      <td>NaN</td>\n",
       "      <td>4</td>\n",
       "      <td>[1, 4, KJ, AP]</td>\n",
       "      <td>1</td>\n",
       "      <td>1140120.0</td>\n",
       "    </tr>\n",
       "    <tr>\n",
       "      <th>1</th>\n",
       "      <td>2</td>\n",
       "      <td>37.565624</td>\n",
       "      <td>126.976936</td>\n",
       "      <td>1,2</td>\n",
       "      <td>1.114017e+09</td>\n",
       "      <td>140167.0</td>\n",
       "      <td>NaN</td>\n",
       "      <td>2</td>\n",
       "      <td>[1, 2]</td>\n",
       "      <td>1</td>\n",
       "      <td>1140167.0</td>\n",
       "    </tr>\n",
       "    <tr>\n",
       "      <th>2</th>\n",
       "      <td>3</td>\n",
       "      <td>37.570169</td>\n",
       "      <td>126.983099</td>\n",
       "      <td>1</td>\n",
       "      <td>1.111013e+09</td>\n",
       "      <td>110126.0</td>\n",
       "      <td>NaN</td>\n",
       "      <td>1</td>\n",
       "      <td>[1]</td>\n",
       "      <td>1</td>\n",
       "      <td>1110126.0</td>\n",
       "    </tr>\n",
       "    <tr>\n",
       "      <th>3</th>\n",
       "      <td>4</td>\n",
       "      <td>37.571570</td>\n",
       "      <td>126.991895</td>\n",
       "      <td>1,3,5</td>\n",
       "      <td>1.111016e+09</td>\n",
       "      <td>110156.0</td>\n",
       "      <td>NaN</td>\n",
       "      <td>3</td>\n",
       "      <td>[1, 3, 5]</td>\n",
       "      <td>1</td>\n",
       "      <td>1110156.0</td>\n",
       "    </tr>\n",
       "    <tr>\n",
       "      <th>4</th>\n",
       "      <td>5</td>\n",
       "      <td>37.570988</td>\n",
       "      <td>127.001921</td>\n",
       "      <td>1</td>\n",
       "      <td>1.111016e+09</td>\n",
       "      <td>110163.0</td>\n",
       "      <td>NaN</td>\n",
       "      <td>1</td>\n",
       "      <td>[1]</td>\n",
       "      <td>1</td>\n",
       "      <td>1110163.0</td>\n",
       "    </tr>\n",
       "    <tr>\n",
       "      <th>5</th>\n",
       "      <td>6</td>\n",
       "      <td>37.571256</td>\n",
       "      <td>127.009080</td>\n",
       "      <td>1,4</td>\n",
       "      <td>NaN</td>\n",
       "      <td>NaN</td>\n",
       "      <td>NaN</td>\n",
       "      <td>2</td>\n",
       "      <td>[1, 4]</td>\n",
       "      <td>1</td>\n",
       "      <td>NaN</td>\n",
       "    </tr>\n",
       "    <tr>\n",
       "      <th>6</th>\n",
       "      <td>7</td>\n",
       "      <td>37.576107</td>\n",
       "      <td>127.024536</td>\n",
       "      <td>1,2,US</td>\n",
       "      <td>1.123010e+09</td>\n",
       "      <td>230101.0</td>\n",
       "      <td>NaN</td>\n",
       "      <td>3</td>\n",
       "      <td>[1, 2, US]</td>\n",
       "      <td>1</td>\n",
       "      <td>1230101.0</td>\n",
       "    </tr>\n",
       "    <tr>\n",
       "      <th>7</th>\n",
       "      <td>8</td>\n",
       "      <td>37.578196</td>\n",
       "      <td>127.034867</td>\n",
       "      <td>1</td>\n",
       "      <td>1.123010e+09</td>\n",
       "      <td>230103.0</td>\n",
       "      <td>15.056720</td>\n",
       "      <td>1</td>\n",
       "      <td>[1]</td>\n",
       "      <td>1</td>\n",
       "      <td>1230103.0</td>\n",
       "    </tr>\n",
       "    <tr>\n",
       "      <th>8</th>\n",
       "      <td>9</td>\n",
       "      <td>37.580166</td>\n",
       "      <td>127.044327</td>\n",
       "      <td>1,KJ,KC</td>\n",
       "      <td>1.123011e+09</td>\n",
       "      <td>230107.0</td>\n",
       "      <td>15.048571</td>\n",
       "      <td>3</td>\n",
       "      <td>[1, KJ, KC]</td>\n",
       "      <td>1</td>\n",
       "      <td>1230107.0</td>\n",
       "    </tr>\n",
       "    <tr>\n",
       "      <th>9</th>\n",
       "      <td>10</td>\n",
       "      <td>37.573246</td>\n",
       "      <td>127.016365</td>\n",
       "      <td>1,6</td>\n",
       "      <td>1.111018e+09</td>\n",
       "      <td>110175.0</td>\n",
       "      <td>15.399594</td>\n",
       "      <td>2</td>\n",
       "      <td>[1, 6]</td>\n",
       "      <td>1</td>\n",
       "      <td>1110175.0</td>\n",
       "    </tr>\n",
       "    <tr>\n",
       "      <th>10</th>\n",
       "      <td>11</td>\n",
       "      <td>37.566048</td>\n",
       "      <td>126.982399</td>\n",
       "      <td>2</td>\n",
       "      <td>1.114010e+09</td>\n",
       "      <td>140104.0</td>\n",
       "      <td>NaN</td>\n",
       "      <td>1</td>\n",
       "      <td>[2]</td>\n",
       "      <td>1</td>\n",
       "      <td>1140104.0</td>\n",
       "    </tr>\n",
       "    <tr>\n",
       "      <th>11</th>\n",
       "      <td>12</td>\n",
       "      <td>37.566101</td>\n",
       "      <td>126.991058</td>\n",
       "      <td>2,3</td>\n",
       "      <td>1.114016e+09</td>\n",
       "      <td>140155.0</td>\n",
       "      <td>NaN</td>\n",
       "      <td>2</td>\n",
       "      <td>[2, 3]</td>\n",
       "      <td>1</td>\n",
       "      <td>1140155.0</td>\n",
       "    </tr>\n",
       "    <tr>\n",
       "      <th>12</th>\n",
       "      <td>13</td>\n",
       "      <td>37.566698</td>\n",
       "      <td>126.998123</td>\n",
       "      <td>2,5</td>\n",
       "      <td>1.114015e+09</td>\n",
       "      <td>140150.0</td>\n",
       "      <td>NaN</td>\n",
       "      <td>2</td>\n",
       "      <td>[2, 5]</td>\n",
       "      <td>1</td>\n",
       "      <td>1140150.0</td>\n",
       "    </tr>\n",
       "    <tr>\n",
       "      <th>13</th>\n",
       "      <td>14</td>\n",
       "      <td>37.564979</td>\n",
       "      <td>127.007742</td>\n",
       "      <td>2,4,5</td>\n",
       "      <td>1.114015e+09</td>\n",
       "      <td>140149.0</td>\n",
       "      <td>NaN</td>\n",
       "      <td>3</td>\n",
       "      <td>[2, 4, 5]</td>\n",
       "      <td>1</td>\n",
       "      <td>1140149.0</td>\n",
       "    </tr>\n",
       "    <tr>\n",
       "      <th>14</th>\n",
       "      <td>15</td>\n",
       "      <td>37.565314</td>\n",
       "      <td>127.016249</td>\n",
       "      <td>2,6</td>\n",
       "      <td>1.114016e+09</td>\n",
       "      <td>140162.0</td>\n",
       "      <td>15.382847</td>\n",
       "      <td>2</td>\n",
       "      <td>[2, 6]</td>\n",
       "      <td>1</td>\n",
       "      <td>1140162.0</td>\n",
       "    </tr>\n",
       "    <tr>\n",
       "      <th>15</th>\n",
       "      <td>16</td>\n",
       "      <td>37.564541</td>\n",
       "      <td>127.029541</td>\n",
       "      <td>2</td>\n",
       "      <td>1.120010e+09</td>\n",
       "      <td>200103.0</td>\n",
       "      <td>15.060403</td>\n",
       "      <td>1</td>\n",
       "      <td>[2]</td>\n",
       "      <td>1</td>\n",
       "      <td>1200103.0</td>\n",
       "    </tr>\n",
       "    <tr>\n",
       "      <th>16</th>\n",
       "      <td>17</td>\n",
       "      <td>37.561172</td>\n",
       "      <td>127.037270</td>\n",
       "      <td>2,5,DL,KJ</td>\n",
       "      <td>1.120011e+09</td>\n",
       "      <td>200107.0</td>\n",
       "      <td>15.380166</td>\n",
       "      <td>4</td>\n",
       "      <td>[2, 5, DL, KJ]</td>\n",
       "      <td>1</td>\n",
       "      <td>1200107.0</td>\n",
       "    </tr>\n",
       "    <tr>\n",
       "      <th>17</th>\n",
       "      <td>18</td>\n",
       "      <td>37.555603</td>\n",
       "      <td>127.043762</td>\n",
       "      <td>2</td>\n",
       "      <td>1.120011e+09</td>\n",
       "      <td>200107.0</td>\n",
       "      <td>15.380166</td>\n",
       "      <td>1</td>\n",
       "      <td>[2]</td>\n",
       "      <td>1</td>\n",
       "      <td>1200107.0</td>\n",
       "    </tr>\n",
       "    <tr>\n",
       "      <th>18</th>\n",
       "      <td>19</td>\n",
       "      <td>37.547169</td>\n",
       "      <td>127.047333</td>\n",
       "      <td>2</td>\n",
       "      <td>1.120011e+09</td>\n",
       "      <td>200114.0</td>\n",
       "      <td>15.511392</td>\n",
       "      <td>1</td>\n",
       "      <td>[2]</td>\n",
       "      <td>1</td>\n",
       "      <td>1200114.0</td>\n",
       "    </tr>\n",
       "    <tr>\n",
       "      <th>19</th>\n",
       "      <td>20</td>\n",
       "      <td>37.544569</td>\n",
       "      <td>127.055974</td>\n",
       "      <td>2</td>\n",
       "      <td>1.120012e+09</td>\n",
       "      <td>200115.0</td>\n",
       "      <td>15.460096</td>\n",
       "      <td>1</td>\n",
       "      <td>[2]</td>\n",
       "      <td>1</td>\n",
       "      <td>1200115.0</td>\n",
       "    </tr>\n",
       "    <tr>\n",
       "      <th>20</th>\n",
       "      <td>21</td>\n",
       "      <td>37.539896</td>\n",
       "      <td>127.070674</td>\n",
       "      <td>2,7</td>\n",
       "      <td>1.121510e+09</td>\n",
       "      <td>215105.0</td>\n",
       "      <td>15.452038</td>\n",
       "      <td>2</td>\n",
       "      <td>[2, 7]</td>\n",
       "      <td>1</td>\n",
       "      <td>1215105.0</td>\n",
       "    </tr>\n",
       "    <tr>\n",
       "      <th>21</th>\n",
       "      <td>22</td>\n",
       "      <td>37.537145</td>\n",
       "      <td>127.086135</td>\n",
       "      <td>2</td>\n",
       "      <td>1.121510e+09</td>\n",
       "      <td>215105.0</td>\n",
       "      <td>15.452038</td>\n",
       "      <td>1</td>\n",
       "      <td>[2]</td>\n",
       "      <td>1</td>\n",
       "      <td>1215105.0</td>\n",
       "    </tr>\n",
       "    <tr>\n",
       "      <th>22</th>\n",
       "      <td>23</td>\n",
       "      <td>37.535389</td>\n",
       "      <td>127.094551</td>\n",
       "      <td>2</td>\n",
       "      <td>1.121510e+09</td>\n",
       "      <td>215103.0</td>\n",
       "      <td>15.453870</td>\n",
       "      <td>1</td>\n",
       "      <td>[2]</td>\n",
       "      <td>1</td>\n",
       "      <td>1215103.0</td>\n",
       "    </tr>\n",
       "    <tr>\n",
       "      <th>23</th>\n",
       "      <td>24</td>\n",
       "      <td>37.520832</td>\n",
       "      <td>127.104149</td>\n",
       "      <td>2</td>\n",
       "      <td>1.171010e+09</td>\n",
       "      <td>710102.0</td>\n",
       "      <td>15.882748</td>\n",
       "      <td>1</td>\n",
       "      <td>[2]</td>\n",
       "      <td>1</td>\n",
       "      <td>1710102.0</td>\n",
       "    </tr>\n",
       "    <tr>\n",
       "      <th>24</th>\n",
       "      <td>25</td>\n",
       "      <td>37.513342</td>\n",
       "      <td>127.100155</td>\n",
       "      <td>2,8</td>\n",
       "      <td>1.171010e+09</td>\n",
       "      <td>710102.0</td>\n",
       "      <td>15.882748</td>\n",
       "      <td>2</td>\n",
       "      <td>[2, 8]</td>\n",
       "      <td>1</td>\n",
       "      <td>1710102.0</td>\n",
       "    </tr>\n",
       "    <tr>\n",
       "      <th>25</th>\n",
       "      <td>26</td>\n",
       "      <td>37.511636</td>\n",
       "      <td>127.085542</td>\n",
       "      <td>2</td>\n",
       "      <td>1.171010e+09</td>\n",
       "      <td>710101.0</td>\n",
       "      <td>16.027250</td>\n",
       "      <td>1</td>\n",
       "      <td>[2]</td>\n",
       "      <td>1</td>\n",
       "      <td>1710101.0</td>\n",
       "    </tr>\n",
       "    <tr>\n",
       "      <th>26</th>\n",
       "      <td>27</td>\n",
       "      <td>37.511332</td>\n",
       "      <td>127.074955</td>\n",
       "      <td>2,9</td>\n",
       "      <td>1.171010e+09</td>\n",
       "      <td>710101.0</td>\n",
       "      <td>16.027250</td>\n",
       "      <td>2</td>\n",
       "      <td>[2, 9]</td>\n",
       "      <td>1</td>\n",
       "      <td>1710101.0</td>\n",
       "    </tr>\n",
       "    <tr>\n",
       "      <th>27</th>\n",
       "      <td>28</td>\n",
       "      <td>37.508896</td>\n",
       "      <td>127.063080</td>\n",
       "      <td>2</td>\n",
       "      <td>1.168010e+09</td>\n",
       "      <td>680105.0</td>\n",
       "      <td>15.973982</td>\n",
       "      <td>1</td>\n",
       "      <td>[2]</td>\n",
       "      <td>1</td>\n",
       "      <td>1680105.0</td>\n",
       "    </tr>\n",
       "    <tr>\n",
       "      <th>28</th>\n",
       "      <td>29</td>\n",
       "      <td>37.504507</td>\n",
       "      <td>127.048999</td>\n",
       "      <td>2,DL</td>\n",
       "      <td>1.168010e+09</td>\n",
       "      <td>680101.0</td>\n",
       "      <td>15.951063</td>\n",
       "      <td>2</td>\n",
       "      <td>[2, DL]</td>\n",
       "      <td>1</td>\n",
       "      <td>1680101.0</td>\n",
       "    </tr>\n",
       "    <tr>\n",
       "      <th>29</th>\n",
       "      <td>30</td>\n",
       "      <td>37.500664</td>\n",
       "      <td>127.036426</td>\n",
       "      <td>2</td>\n",
       "      <td>1.168010e+09</td>\n",
       "      <td>680101.0</td>\n",
       "      <td>15.951063</td>\n",
       "      <td>1</td>\n",
       "      <td>[2]</td>\n",
       "      <td>1</td>\n",
       "      <td>1680101.0</td>\n",
       "    </tr>\n",
       "    <tr>\n",
       "      <th>...</th>\n",
       "      <td>...</td>\n",
       "      <td>...</td>\n",
       "      <td>...</td>\n",
       "      <td>...</td>\n",
       "      <td>...</td>\n",
       "      <td>...</td>\n",
       "      <td>...</td>\n",
       "      <td>...</td>\n",
       "      <td>...</td>\n",
       "      <td>...</td>\n",
       "      <td>...</td>\n",
       "    </tr>\n",
       "    <tr>\n",
       "      <th>375</th>\n",
       "      <td>695</td>\n",
       "      <td>35.163249</td>\n",
       "      <td>128.977716</td>\n",
       "      <td>BK</td>\n",
       "      <td>2.653010e+09</td>\n",
       "      <td>530104.0</td>\n",
       "      <td>14.585017</td>\n",
       "      <td>1</td>\n",
       "      <td>[BK]</td>\n",
       "      <td>0</td>\n",
       "      <td>530104.0</td>\n",
       "    </tr>\n",
       "    <tr>\n",
       "      <th>376</th>\n",
       "      <td>696</td>\n",
       "      <td>35.166350</td>\n",
       "      <td>128.954915</td>\n",
       "      <td>BK</td>\n",
       "      <td>2.644010e+09</td>\n",
       "      <td>440102.0</td>\n",
       "      <td>NaN</td>\n",
       "      <td>1</td>\n",
       "      <td>[BK]</td>\n",
       "      <td>0</td>\n",
       "      <td>440102.0</td>\n",
       "    </tr>\n",
       "    <tr>\n",
       "      <th>377</th>\n",
       "      <td>697</td>\n",
       "      <td>35.171936</td>\n",
       "      <td>128.948530</td>\n",
       "      <td>BK</td>\n",
       "      <td>2.644010e+09</td>\n",
       "      <td>440102.0</td>\n",
       "      <td>NaN</td>\n",
       "      <td>1</td>\n",
       "      <td>[BK]</td>\n",
       "      <td>0</td>\n",
       "      <td>440102.0</td>\n",
       "    </tr>\n",
       "    <tr>\n",
       "      <th>378</th>\n",
       "      <td>698</td>\n",
       "      <td>35.181975</td>\n",
       "      <td>128.954148</td>\n",
       "      <td>BK</td>\n",
       "      <td>2.644010e+09</td>\n",
       "      <td>440102.0</td>\n",
       "      <td>NaN</td>\n",
       "      <td>1</td>\n",
       "      <td>[BK]</td>\n",
       "      <td>0</td>\n",
       "      <td>440102.0</td>\n",
       "    </tr>\n",
       "    <tr>\n",
       "      <th>379</th>\n",
       "      <td>699</td>\n",
       "      <td>35.196170</td>\n",
       "      <td>128.963540</td>\n",
       "      <td>BK</td>\n",
       "      <td>2.644010e+09</td>\n",
       "      <td>440102.0</td>\n",
       "      <td>NaN</td>\n",
       "      <td>1</td>\n",
       "      <td>[BK]</td>\n",
       "      <td>0</td>\n",
       "      <td>440102.0</td>\n",
       "    </tr>\n",
       "    <tr>\n",
       "      <th>380</th>\n",
       "      <td>700</td>\n",
       "      <td>35.214036</td>\n",
       "      <td>128.950656</td>\n",
       "      <td>BK</td>\n",
       "      <td>2.644010e+09</td>\n",
       "      <td>440101.0</td>\n",
       "      <td>NaN</td>\n",
       "      <td>1</td>\n",
       "      <td>[BK]</td>\n",
       "      <td>0</td>\n",
       "      <td>440101.0</td>\n",
       "    </tr>\n",
       "    <tr>\n",
       "      <th>381</th>\n",
       "      <td>701</td>\n",
       "      <td>35.217685</td>\n",
       "      <td>128.938384</td>\n",
       "      <td>BK</td>\n",
       "      <td>2.644010e+09</td>\n",
       "      <td>440103.0</td>\n",
       "      <td>NaN</td>\n",
       "      <td>1</td>\n",
       "      <td>[BK]</td>\n",
       "      <td>0</td>\n",
       "      <td>440103.0</td>\n",
       "    </tr>\n",
       "    <tr>\n",
       "      <th>382</th>\n",
       "      <td>1024</td>\n",
       "      <td>37.612939</td>\n",
       "      <td>127.103208</td>\n",
       "      <td>KC</td>\n",
       "      <td>1.126010e+09</td>\n",
       "      <td>260105.0</td>\n",
       "      <td>15.041616</td>\n",
       "      <td>1</td>\n",
       "      <td>[KC]</td>\n",
       "      <td>1</td>\n",
       "      <td>1260105.0</td>\n",
       "    </tr>\n",
       "    <tr>\n",
       "      <th>383</th>\n",
       "      <td>1030</td>\n",
       "      <td>37.507301</td>\n",
       "      <td>127.033907</td>\n",
       "      <td>9</td>\n",
       "      <td>1.168011e+09</td>\n",
       "      <td>680108.0</td>\n",
       "      <td>15.707253</td>\n",
       "      <td>1</td>\n",
       "      <td>[9]</td>\n",
       "      <td>1</td>\n",
       "      <td>1680108.0</td>\n",
       "    </tr>\n",
       "    <tr>\n",
       "      <th>384</th>\n",
       "      <td>1031</td>\n",
       "      <td>37.513038</td>\n",
       "      <td>127.053347</td>\n",
       "      <td>9</td>\n",
       "      <td>1.168010e+09</td>\n",
       "      <td>680105.0</td>\n",
       "      <td>15.973982</td>\n",
       "      <td>1</td>\n",
       "      <td>[9]</td>\n",
       "      <td>1</td>\n",
       "      <td>1680105.0</td>\n",
       "    </tr>\n",
       "    <tr>\n",
       "      <th>385</th>\n",
       "      <td>1032</td>\n",
       "      <td>37.514219</td>\n",
       "      <td>127.060084</td>\n",
       "      <td>9</td>\n",
       "      <td>1.168010e+09</td>\n",
       "      <td>680105.0</td>\n",
       "      <td>15.973982</td>\n",
       "      <td>1</td>\n",
       "      <td>[9]</td>\n",
       "      <td>1</td>\n",
       "      <td>1680105.0</td>\n",
       "    </tr>\n",
       "    <tr>\n",
       "      <th>386</th>\n",
       "      <td>1033</td>\n",
       "      <td>37.566727</td>\n",
       "      <td>126.827401</td>\n",
       "      <td>9</td>\n",
       "      <td>1.150010e+09</td>\n",
       "      <td>500105.0</td>\n",
       "      <td>15.368392</td>\n",
       "      <td>1</td>\n",
       "      <td>[9]</td>\n",
       "      <td>1</td>\n",
       "      <td>1500105.0</td>\n",
       "    </tr>\n",
       "    <tr>\n",
       "      <th>387</th>\n",
       "      <td>1113</td>\n",
       "      <td>35.048198</td>\n",
       "      <td>128.965596</td>\n",
       "      <td>B1</td>\n",
       "      <td>2.638011e+09</td>\n",
       "      <td>380106.0</td>\n",
       "      <td>14.275201</td>\n",
       "      <td>1</td>\n",
       "      <td>[B1]</td>\n",
       "      <td>0</td>\n",
       "      <td>380106.0</td>\n",
       "    </tr>\n",
       "    <tr>\n",
       "      <th>388</th>\n",
       "      <td>1114</td>\n",
       "      <td>35.057678</td>\n",
       "      <td>128.971298</td>\n",
       "      <td>B1</td>\n",
       "      <td>2.638011e+09</td>\n",
       "      <td>380106.0</td>\n",
       "      <td>14.275201</td>\n",
       "      <td>1</td>\n",
       "      <td>[B1]</td>\n",
       "      <td>0</td>\n",
       "      <td>380106.0</td>\n",
       "    </tr>\n",
       "    <tr>\n",
       "      <th>389</th>\n",
       "      <td>1115</td>\n",
       "      <td>35.065151</td>\n",
       "      <td>128.979605</td>\n",
       "      <td>B1</td>\n",
       "      <td>2.638011e+09</td>\n",
       "      <td>380106.0</td>\n",
       "      <td>14.275201</td>\n",
       "      <td>1</td>\n",
       "      <td>[B1]</td>\n",
       "      <td>0</td>\n",
       "      <td>380106.0</td>\n",
       "    </tr>\n",
       "    <tr>\n",
       "      <th>390</th>\n",
       "      <td>1116</td>\n",
       "      <td>35.074957</td>\n",
       "      <td>128.976622</td>\n",
       "      <td>B1</td>\n",
       "      <td>2.638010e+09</td>\n",
       "      <td>380105.0</td>\n",
       "      <td>14.151469</td>\n",
       "      <td>1</td>\n",
       "      <td>[B1]</td>\n",
       "      <td>0</td>\n",
       "      <td>380105.0</td>\n",
       "    </tr>\n",
       "    <tr>\n",
       "      <th>391</th>\n",
       "      <td>1117</td>\n",
       "      <td>35.082002</td>\n",
       "      <td>128.977343</td>\n",
       "      <td>B1</td>\n",
       "      <td>2.638010e+09</td>\n",
       "      <td>380105.0</td>\n",
       "      <td>14.151469</td>\n",
       "      <td>1</td>\n",
       "      <td>[B1]</td>\n",
       "      <td>0</td>\n",
       "      <td>380105.0</td>\n",
       "    </tr>\n",
       "    <tr>\n",
       "      <th>392</th>\n",
       "      <td>1118</td>\n",
       "      <td>35.089765</td>\n",
       "      <td>128.973391</td>\n",
       "      <td>B1</td>\n",
       "      <td>2.638010e+09</td>\n",
       "      <td>380104.0</td>\n",
       "      <td>14.126023</td>\n",
       "      <td>1</td>\n",
       "      <td>[B1]</td>\n",
       "      <td>0</td>\n",
       "      <td>380104.0</td>\n",
       "    </tr>\n",
       "    <tr>\n",
       "      <th>393</th>\n",
       "      <td>1146</td>\n",
       "      <td>35.164757</td>\n",
       "      <td>129.060745</td>\n",
       "      <td>BD</td>\n",
       "      <td>2.623010e+09</td>\n",
       "      <td>230103.0</td>\n",
       "      <td>14.760381</td>\n",
       "      <td>1</td>\n",
       "      <td>[BD]</td>\n",
       "      <td>0</td>\n",
       "      <td>230103.0</td>\n",
       "    </tr>\n",
       "    <tr>\n",
       "      <th>394</th>\n",
       "      <td>1147</td>\n",
       "      <td>35.179287</td>\n",
       "      <td>129.068222</td>\n",
       "      <td>BD</td>\n",
       "      <td>2.647010e+09</td>\n",
       "      <td>470101.0</td>\n",
       "      <td>14.675894</td>\n",
       "      <td>1</td>\n",
       "      <td>[BD]</td>\n",
       "      <td>0</td>\n",
       "      <td>470101.0</td>\n",
       "    </tr>\n",
       "    <tr>\n",
       "      <th>395</th>\n",
       "      <td>1148</td>\n",
       "      <td>35.197323</td>\n",
       "      <td>129.091141</td>\n",
       "      <td>BD</td>\n",
       "      <td>2.626010e+09</td>\n",
       "      <td>260104.0</td>\n",
       "      <td>14.576853</td>\n",
       "      <td>1</td>\n",
       "      <td>[BD]</td>\n",
       "      <td>0</td>\n",
       "      <td>260104.0</td>\n",
       "    </tr>\n",
       "    <tr>\n",
       "      <th>396</th>\n",
       "      <td>1149</td>\n",
       "      <td>35.196033</td>\n",
       "      <td>129.101730</td>\n",
       "      <td>BD</td>\n",
       "      <td>2.626010e+09</td>\n",
       "      <td>260102.0</td>\n",
       "      <td>14.535030</td>\n",
       "      <td>1</td>\n",
       "      <td>[BD]</td>\n",
       "      <td>0</td>\n",
       "      <td>260102.0</td>\n",
       "    </tr>\n",
       "    <tr>\n",
       "      <th>397</th>\n",
       "      <td>1150</td>\n",
       "      <td>35.190018</td>\n",
       "      <td>129.120117</td>\n",
       "      <td>BD</td>\n",
       "      <td>2.635010e+09</td>\n",
       "      <td>350104.0</td>\n",
       "      <td>14.974031</td>\n",
       "      <td>1</td>\n",
       "      <td>[BD]</td>\n",
       "      <td>0</td>\n",
       "      <td>350104.0</td>\n",
       "    </tr>\n",
       "    <tr>\n",
       "      <th>398</th>\n",
       "      <td>1151</td>\n",
       "      <td>35.179211</td>\n",
       "      <td>129.124756</td>\n",
       "      <td>BD</td>\n",
       "      <td>2.635010e+09</td>\n",
       "      <td>350104.0</td>\n",
       "      <td>14.974031</td>\n",
       "      <td>1</td>\n",
       "      <td>[BD]</td>\n",
       "      <td>0</td>\n",
       "      <td>350104.0</td>\n",
       "    </tr>\n",
       "    <tr>\n",
       "      <th>399</th>\n",
       "      <td>1152</td>\n",
       "      <td>35.171192</td>\n",
       "      <td>129.136734</td>\n",
       "      <td>BD</td>\n",
       "      <td>2.635010e+09</td>\n",
       "      <td>350105.0</td>\n",
       "      <td>15.017301</td>\n",
       "      <td>1</td>\n",
       "      <td>[BD]</td>\n",
       "      <td>0</td>\n",
       "      <td>350105.0</td>\n",
       "    </tr>\n",
       "    <tr>\n",
       "      <th>400</th>\n",
       "      <td>1153</td>\n",
       "      <td>35.181824</td>\n",
       "      <td>129.177139</td>\n",
       "      <td>BD</td>\n",
       "      <td>2.635011e+09</td>\n",
       "      <td>350107.0</td>\n",
       "      <td>14.617395</td>\n",
       "      <td>1</td>\n",
       "      <td>[BD]</td>\n",
       "      <td>0</td>\n",
       "      <td>350107.0</td>\n",
       "    </tr>\n",
       "    <tr>\n",
       "      <th>401</th>\n",
       "      <td>1154</td>\n",
       "      <td>35.187515</td>\n",
       "      <td>129.202362</td>\n",
       "      <td>BD</td>\n",
       "      <td>2.635011e+09</td>\n",
       "      <td>350108.0</td>\n",
       "      <td>14.977574</td>\n",
       "      <td>1</td>\n",
       "      <td>[BD]</td>\n",
       "      <td>0</td>\n",
       "      <td>350108.0</td>\n",
       "    </tr>\n",
       "    <tr>\n",
       "      <th>402</th>\n",
       "      <td>1155</td>\n",
       "      <td>35.196297</td>\n",
       "      <td>129.208817</td>\n",
       "      <td>BD</td>\n",
       "      <td>2.671025e+09</td>\n",
       "      <td>710250.0</td>\n",
       "      <td>14.232825</td>\n",
       "      <td>1</td>\n",
       "      <td>[BD]</td>\n",
       "      <td>0</td>\n",
       "      <td>710250.0</td>\n",
       "    </tr>\n",
       "    <tr>\n",
       "      <th>403</th>\n",
       "      <td>1156</td>\n",
       "      <td>35.242882</td>\n",
       "      <td>129.218506</td>\n",
       "      <td>BD</td>\n",
       "      <td>2.671025e+09</td>\n",
       "      <td>710250.0</td>\n",
       "      <td>14.232825</td>\n",
       "      <td>1</td>\n",
       "      <td>[BD]</td>\n",
       "      <td>0</td>\n",
       "      <td>710250.0</td>\n",
       "    </tr>\n",
       "    <tr>\n",
       "      <th>404</th>\n",
       "      <td>1157</td>\n",
       "      <td>35.267380</td>\n",
       "      <td>129.233063</td>\n",
       "      <td>BD</td>\n",
       "      <td>2.671031e+09</td>\n",
       "      <td>710310.0</td>\n",
       "      <td>14.530630</td>\n",
       "      <td>1</td>\n",
       "      <td>[BD]</td>\n",
       "      <td>0</td>\n",
       "      <td>710310.0</td>\n",
       "    </tr>\n",
       "  </tbody>\n",
       "</table>\n",
       "<p>405 rows × 11 columns</p>\n",
       "</div>"
      ],
      "text/plain": [
       "     station_id   latitude   longitude subway_line  address_by_law   disTown  \\\n",
       "0             1  37.555729  126.972145   1,4,KJ,AP    1.114012e+09  140120.0   \n",
       "1             2  37.565624  126.976936         1,2    1.114017e+09  140167.0   \n",
       "2             3  37.570169  126.983099           1    1.111013e+09  110126.0   \n",
       "3             4  37.571570  126.991895       1,3,5    1.111016e+09  110156.0   \n",
       "4             5  37.570988  127.001921           1    1.111016e+09  110163.0   \n",
       "5             6  37.571256  127.009080         1,4             NaN       NaN   \n",
       "6             7  37.576107  127.024536      1,2,US    1.123010e+09  230101.0   \n",
       "7             8  37.578196  127.034867           1    1.123010e+09  230103.0   \n",
       "8             9  37.580166  127.044327     1,KJ,KC    1.123011e+09  230107.0   \n",
       "9            10  37.573246  127.016365         1,6    1.111018e+09  110175.0   \n",
       "10           11  37.566048  126.982399           2    1.114010e+09  140104.0   \n",
       "11           12  37.566101  126.991058         2,3    1.114016e+09  140155.0   \n",
       "12           13  37.566698  126.998123         2,5    1.114015e+09  140150.0   \n",
       "13           14  37.564979  127.007742       2,4,5    1.114015e+09  140149.0   \n",
       "14           15  37.565314  127.016249         2,6    1.114016e+09  140162.0   \n",
       "15           16  37.564541  127.029541           2    1.120010e+09  200103.0   \n",
       "16           17  37.561172  127.037270   2,5,DL,KJ    1.120011e+09  200107.0   \n",
       "17           18  37.555603  127.043762           2    1.120011e+09  200107.0   \n",
       "18           19  37.547169  127.047333           2    1.120011e+09  200114.0   \n",
       "19           20  37.544569  127.055974           2    1.120012e+09  200115.0   \n",
       "20           21  37.539896  127.070674         2,7    1.121510e+09  215105.0   \n",
       "21           22  37.537145  127.086135           2    1.121510e+09  215105.0   \n",
       "22           23  37.535389  127.094551           2    1.121510e+09  215103.0   \n",
       "23           24  37.520832  127.104149           2    1.171010e+09  710102.0   \n",
       "24           25  37.513342  127.100155         2,8    1.171010e+09  710102.0   \n",
       "25           26  37.511636  127.085542           2    1.171010e+09  710101.0   \n",
       "26           27  37.511332  127.074955         2,9    1.171010e+09  710101.0   \n",
       "27           28  37.508896  127.063080           2    1.168010e+09  680105.0   \n",
       "28           29  37.504507  127.048999        2,DL    1.168010e+09  680101.0   \n",
       "29           30  37.500664  127.036426           2    1.168010e+09  680101.0   \n",
       "..          ...        ...         ...         ...             ...       ...   \n",
       "375         695  35.163249  128.977716          BK    2.653010e+09  530104.0   \n",
       "376         696  35.166350  128.954915          BK    2.644010e+09  440102.0   \n",
       "377         697  35.171936  128.948530          BK    2.644010e+09  440102.0   \n",
       "378         698  35.181975  128.954148          BK    2.644010e+09  440102.0   \n",
       "379         699  35.196170  128.963540          BK    2.644010e+09  440102.0   \n",
       "380         700  35.214036  128.950656          BK    2.644010e+09  440101.0   \n",
       "381         701  35.217685  128.938384          BK    2.644010e+09  440103.0   \n",
       "382        1024  37.612939  127.103208          KC    1.126010e+09  260105.0   \n",
       "383        1030  37.507301  127.033907           9    1.168011e+09  680108.0   \n",
       "384        1031  37.513038  127.053347           9    1.168010e+09  680105.0   \n",
       "385        1032  37.514219  127.060084           9    1.168010e+09  680105.0   \n",
       "386        1033  37.566727  126.827401           9    1.150010e+09  500105.0   \n",
       "387        1113  35.048198  128.965596          B1    2.638011e+09  380106.0   \n",
       "388        1114  35.057678  128.971298          B1    2.638011e+09  380106.0   \n",
       "389        1115  35.065151  128.979605          B1    2.638011e+09  380106.0   \n",
       "390        1116  35.074957  128.976622          B1    2.638010e+09  380105.0   \n",
       "391        1117  35.082002  128.977343          B1    2.638010e+09  380105.0   \n",
       "392        1118  35.089765  128.973391          B1    2.638010e+09  380104.0   \n",
       "393        1146  35.164757  129.060745          BD    2.623010e+09  230103.0   \n",
       "394        1147  35.179287  129.068222          BD    2.647010e+09  470101.0   \n",
       "395        1148  35.197323  129.091141          BD    2.626010e+09  260104.0   \n",
       "396        1149  35.196033  129.101730          BD    2.626010e+09  260102.0   \n",
       "397        1150  35.190018  129.120117          BD    2.635010e+09  350104.0   \n",
       "398        1151  35.179211  129.124756          BD    2.635010e+09  350104.0   \n",
       "399        1152  35.171192  129.136734          BD    2.635010e+09  350105.0   \n",
       "400        1153  35.181824  129.177139          BD    2.635011e+09  350107.0   \n",
       "401        1154  35.187515  129.202362          BD    2.635011e+09  350108.0   \n",
       "402        1155  35.196297  129.208817          BD    2.671025e+09  710250.0   \n",
       "403        1156  35.242882  129.218506          BD    2.671025e+09  710250.0   \n",
       "404        1157  35.267380  129.233063          BD    2.671031e+09  710310.0   \n",
       "\n",
       "      logPrice  noLine           lines  city  cityDisTown  \n",
       "0          NaN       4  [1, 4, KJ, AP]     1    1140120.0  \n",
       "1          NaN       2          [1, 2]     1    1140167.0  \n",
       "2          NaN       1             [1]     1    1110126.0  \n",
       "3          NaN       3       [1, 3, 5]     1    1110156.0  \n",
       "4          NaN       1             [1]     1    1110163.0  \n",
       "5          NaN       2          [1, 4]     1          NaN  \n",
       "6          NaN       3      [1, 2, US]     1    1230101.0  \n",
       "7    15.056720       1             [1]     1    1230103.0  \n",
       "8    15.048571       3     [1, KJ, KC]     1    1230107.0  \n",
       "9    15.399594       2          [1, 6]     1    1110175.0  \n",
       "10         NaN       1             [2]     1    1140104.0  \n",
       "11         NaN       2          [2, 3]     1    1140155.0  \n",
       "12         NaN       2          [2, 5]     1    1140150.0  \n",
       "13         NaN       3       [2, 4, 5]     1    1140149.0  \n",
       "14   15.382847       2          [2, 6]     1    1140162.0  \n",
       "15   15.060403       1             [2]     1    1200103.0  \n",
       "16   15.380166       4  [2, 5, DL, KJ]     1    1200107.0  \n",
       "17   15.380166       1             [2]     1    1200107.0  \n",
       "18   15.511392       1             [2]     1    1200114.0  \n",
       "19   15.460096       1             [2]     1    1200115.0  \n",
       "20   15.452038       2          [2, 7]     1    1215105.0  \n",
       "21   15.452038       1             [2]     1    1215105.0  \n",
       "22   15.453870       1             [2]     1    1215103.0  \n",
       "23   15.882748       1             [2]     1    1710102.0  \n",
       "24   15.882748       2          [2, 8]     1    1710102.0  \n",
       "25   16.027250       1             [2]     1    1710101.0  \n",
       "26   16.027250       2          [2, 9]     1    1710101.0  \n",
       "27   15.973982       1             [2]     1    1680105.0  \n",
       "28   15.951063       2         [2, DL]     1    1680101.0  \n",
       "29   15.951063       1             [2]     1    1680101.0  \n",
       "..         ...     ...             ...   ...          ...  \n",
       "375  14.585017       1            [BK]     0     530104.0  \n",
       "376        NaN       1            [BK]     0     440102.0  \n",
       "377        NaN       1            [BK]     0     440102.0  \n",
       "378        NaN       1            [BK]     0     440102.0  \n",
       "379        NaN       1            [BK]     0     440102.0  \n",
       "380        NaN       1            [BK]     0     440101.0  \n",
       "381        NaN       1            [BK]     0     440103.0  \n",
       "382  15.041616       1            [KC]     1    1260105.0  \n",
       "383  15.707253       1             [9]     1    1680108.0  \n",
       "384  15.973982       1             [9]     1    1680105.0  \n",
       "385  15.973982       1             [9]     1    1680105.0  \n",
       "386  15.368392       1             [9]     1    1500105.0  \n",
       "387  14.275201       1            [B1]     0     380106.0  \n",
       "388  14.275201       1            [B1]     0     380106.0  \n",
       "389  14.275201       1            [B1]     0     380106.0  \n",
       "390  14.151469       1            [B1]     0     380105.0  \n",
       "391  14.151469       1            [B1]     0     380105.0  \n",
       "392  14.126023       1            [B1]     0     380104.0  \n",
       "393  14.760381       1            [BD]     0     230103.0  \n",
       "394  14.675894       1            [BD]     0     470101.0  \n",
       "395  14.576853       1            [BD]     0     260104.0  \n",
       "396  14.535030       1            [BD]     0     260102.0  \n",
       "397  14.974031       1            [BD]     0     350104.0  \n",
       "398  14.974031       1            [BD]     0     350104.0  \n",
       "399  15.017301       1            [BD]     0     350105.0  \n",
       "400  14.617395       1            [BD]     0     350107.0  \n",
       "401  14.977574       1            [BD]     0     350108.0  \n",
       "402  14.232825       1            [BD]     0     710250.0  \n",
       "403  14.232825       1            [BD]     0     710250.0  \n",
       "404  14.530630       1            [BD]     0     710310.0  \n",
       "\n",
       "[405 rows x 11 columns]"
      ]
     },
     "execution_count": 59,
     "metadata": {},
     "output_type": "execute_result"
    }
   ],
   "source": [
    "subway"
   ]
  },
  {
   "cell_type": "code",
   "execution_count": 8,
   "metadata": {},
   "outputs": [],
   "source": [
    "def colInfo(col, train=train):\n",
    "    dtype = train[col].dtypes\n",
    "    print(dtype)\n",
    "    if dtype == 'float64' : \n",
    "        print(train[col].describe())\n",
    "    else:\n",
    "        uniq = train[col].unique()\n",
    "        if dtype == 'O' or len(uniq)<100: \n",
    "            print(train[col].value_counts(dropna=False))\n",
    "        else : \n",
    "            print(train[col].describe())\n",
    "    isna(col, train)\n",
    "            \n",
    "def isna(col, train=train):\n",
    "    print('train na : ', sum(train[col].isna()))"
   ]
  },
  {
   "cell_type": "code",
   "execution_count": 5,
   "metadata": {},
   "outputs": [],
   "source": [
    "# 연산용 코드모음\n",
    "apart = 'apartment_id'\n",
    "target = 'logPrice'\n",
    "lat = 'latitude'\n",
    "lot = 'longitude'\n",
    "allUniq = list(set(train[apart].unique().tolist()+test[apart].unique().tolist()))\n",
    "mid = (len(allUniq)-12)//2\n",
    "onlyTest = list(set(test[apart].unique())-set(train[apart].unique()))\n",
    "\n",
    "# 아파트명 순서가 있는 int형 index로 변형\n",
    "meanApart = train[[target, apart]].groupby([apart]).agg('mean')\n",
    "meanApart=meanApart.sort_values(by=[target])\n",
    "apartCnvt = {}\n",
    "apartId = meanApart.index.tolist()\n",
    "for i in range(mid):\n",
    "    apartCnvt[apartId[i]] = i+1\n",
    "for i in range(12):\n",
    "    apartCnvt[onlyTest[i]] = mid+i+1\n",
    "for i in range(mid, mid*2):\n",
    "    apartCnvt[apartId[i]] = i+13\n",
    "train['apart'] = train[apart].apply(lambda row : apartCnvt[row])\n",
    "test['apart'] = test[apart].apply(lambda row : apartCnvt[row])\n",
    "\n",
    "# # 지하철 역과의 거리 구하기\n",
    "# station = subway['station_id'].tolist()\n",
    "# apartId = test[apart].unique().tolist()\n",
    "# subDict = {}\n",
    "# length = len(apartId)\n",
    "# for stat in station:\n",
    "#     subDict[stat] = [None for i in range(length)]\n",
    "# subDist = pd.DataFrame(subDict, index=apartId)\n",
    "# apartLoc = test[[apart, lat, lot]].groupby([apart]).agg('mean')\n",
    "# statLoc = subway[['station_id', lat, lot]].groupby(['station_id']).agg('mean')\n",
    "# for s in station:\n",
    "#     for a in apartId:\n",
    "#         width = (statLoc.loc[s, lat] - apartLoc.loc[a, lat])*88740\n",
    "#         height = (statLoc.loc[s, lot] - apartLoc.loc[a, lot])*110000\n",
    "#         subDist.loc[a, s]=math.sqrt(width**2+height**2)\n",
    "\n",
    "# 지하철역 구/동 위치 구하기\n",
    "disTownPrice = train[['disTown', target]].groupby(['disTown']).agg(['mean','median'])\n",
    "def disTownCnvrt(x):\n",
    "    try : return int(str(x)[2:8])\n",
    "    except ValueError : return np.nan\n",
    "subway['disTown'] = subway['address_by_law'].apply(lambda row : disTownCnvrt(row))\n",
    "\n",
    "# 지하철역 가치 구하기\n",
    "def priceCnvrt(x):\n",
    "    try : return disTownPrice[target]['median'][int(x)]\n",
    "    except KeyError : return np.nan\n",
    "    except ValueError : return np.nan\n",
    "subway[target] = subway['disTown'].apply(lambda row : priceCnvrt(row))\n",
    "\n",
    "# 지하철역 노선 갯수\n",
    "subway['noLine'] = subway['subway_line'].apply(lambda row : len(row.split(',')))"
   ]
  },
  {
   "cell_type": "markdown",
   "metadata": {},
   "source": [
    "## Apartment id"
   ]
  },
  {
   "cell_type": "code",
   "execution_count": 5,
   "metadata": {},
   "outputs": [],
   "source": [
    "apart = 'apartment_id'\n",
    "# target = 'logPrice'\n",
    "# train[target] = np.log(train['transaction_real_price'])\n",
    "# train.to_csv('./datasets/trainFe1st.csv', index=False)"
   ]
  },
  {
   "cell_type": "code",
   "execution_count": 18,
   "metadata": {},
   "outputs": [
    {
     "name": "stdout",
     "output_type": "stream",
     "text": [
      "3918\n",
      "only test {36224, 38465, 22247, 36841, 37353, 37354, 37297, 37431, 26553, 37180, 33373, 37086}\n",
      "only train set()\n",
      "1953\n"
     ]
    }
   ],
   "source": [
    "allUniq = list(set(train[apart].unique().tolist()+test[apart].unique().tolist()))\n",
    "print(len(allUniq))\n",
    "print('only test', set(test[apart].unique())-set(train[apart].unique()))\n",
    "print('only train', set(train[apart].unique())-set(test[apart].unique()))\n",
    "mid = (len(allUniq)-12)//2\n",
    "print(mid)"
   ]
  },
  {
   "cell_type": "code",
   "execution_count": 8,
   "metadata": {
    "collapsed": true
   },
   "outputs": [
    {
     "name": "stdout",
     "output_type": "stream",
     "text": [
      "3906\n",
      "               logPrice\n",
      "apartment_id           \n",
      "3             20.401682\n",
      "4             20.069339\n",
      "5             20.125429\n",
      "24            18.792244\n",
      "26            21.045349\n",
      "30            20.431576\n",
      "31            21.274273\n",
      "32            21.091375\n",
      "33            20.426868\n",
      "34            20.474804\n",
      "               logPrice\n",
      "apartment_id           \n",
      "3             20.382581\n",
      "4             20.045308\n",
      "5             20.177104\n",
      "24            18.682810\n",
      "26            21.026528\n",
      "30            20.425086\n",
      "31            21.239399\n",
      "32            21.061784\n",
      "33            20.453365\n",
      "34            20.489188\n"
     ]
    }
   ],
   "source": [
    "onlyTest = list(set(test[apart].unique())-set(train[apart].unique()))\n",
    "midApart = train[[target, apart]].groupby([apart]).agg('median')\n",
    "meanApart = train[[target, apart]].groupby([apart]).agg('mean')\n",
    "print(midApart.head(10))\n",
    "print(meanApart.head(10))"
   ]
  },
  {
   "cell_type": "code",
   "execution_count": 12,
   "metadata": {
    "collapsed": true
   },
   "outputs": [
    {
     "name": "stdout",
     "output_type": "stream",
     "text": [
      "Skewed:  -0.07944718426559089\n",
      "Kurtosis:  0.2178878686573391\n"
     ]
    },
    {
     "data": {
      "image/png": "[encoded data removed]",
      "text/plain": [
       "<Figure size 432x288 with 1 Axes>"
      ]
     },
     "metadata": {
      "needs_background": "light"
     },
     "output_type": "display_data"
    }
   ],
   "source": [
    "sns.distplot(midApart[target])\n",
    "print(\"Skewed: \", midApart[target].skew())\n",
    "print(\"Kurtosis: \", midApart[target].kurt())"
   ]
  },
  {
   "cell_type": "code",
   "execution_count": 11,
   "metadata": {
    "collapsed": true
   },
   "outputs": [
    {
     "name": "stdout",
     "output_type": "stream",
     "text": [
      "Skewed:  -0.08724618280060677\n",
      "Kurtosis:  0.08632898784966159\n"
     ]
    },
    {
     "data": {
      "image/png": "[encoded data removed]",
      "text/plain": [
       "<Figure size 432x288 with 1 Axes>"
      ]
     },
     "metadata": {
      "needs_background": "light"
     },
     "output_type": "display_data"
    }
   ],
   "source": [
    "sns.distplot(meanApart[target])\n",
    "print(\"Skewed: \", meanApart[target].skew())\n",
    "print(\"Kurtosis: \", meanApart[target].kurt())"
   ]
  },
  {
   "cell_type": "code",
   "execution_count": 19,
   "metadata": {},
   "outputs": [
    {
     "name": "stdout",
     "output_type": "stream",
     "text": [
      "3918\n"
     ]
    }
   ],
   "source": [
    "meanApart=meanApart.sort_values(by=[target])\n",
    "apartCnvt = {}\n",
    "apartId = meanApart.index.tolist()\n",
    "for i in range(mid):\n",
    "    apartCnvt[apartId[i]] = i+1\n",
    "for i in range(12):\n",
    "    apartCnvt[onlyTest[i]] = mid+i+1\n",
    "for i in range(mid, mid*2):\n",
    "    apartCnvt[apartId[i]] = i+13\n",
    "print(len(set(apartCnvt.keys())))"
   ]
  },
  {
   "cell_type": "code",
   "execution_count": 21,
   "metadata": {},
   "outputs": [],
   "source": [
    "train['apart'] = train[apart].apply(lambda row : apartCnvt[row])\n",
    "test['apart'] = test[apart].apply(lambda row : apartCnvt[row])"
   ]
  },
  {
   "cell_type": "markdown",
   "metadata": {},
   "source": [
    "## 평당가 계산\n",
    "\n",
    "- 1$m^2$당 계산"
   ]
  },
  {
   "cell_type": "code",
   "execution_count": 18,
   "metadata": {},
   "outputs": [
    {
     "data": {
      "text/plain": [
       "Index(['key', 'apartment_id', 'city', 'transaction_year_month',\n",
       "       'transaction_date', 'year_of_completion', 'exclusive_use_area', 'floor',\n",
       "       'latitude', 'longitude', 'address_by_law',\n",
       "       'total_parking_capacity_in_site', 'total_household_count_in_sites',\n",
       "       'apartment_building_count_in_sites', 'tallest_building_in_sites',\n",
       "       'lowest_building_in_sites', 'heat_type', 'heat_fuel', 'room_id',\n",
       "       'supply_area', 'total_household_count_of_area_type', 'room_count',\n",
       "       'bathroom_count', 'front_door_structure', 'transaction_real_price',\n",
       "       'transYear', 'transMonth', 'transDate', 'transYMD', 'transOrdered',\n",
       "       'commonArea', 'areaRate', 'district', 'town', 'disTown', 'cityDisTown',\n",
       "       'logPrice', 'apart', 'exAreaPrice', 'supAreaPrice', 'comAreaPrice',\n",
       "       'logExAreaPrice', 'logSupAreaPrice'],\n",
       "      dtype='object')"
      ]
     },
     "execution_count": 18,
     "metadata": {},
     "output_type": "execute_result"
    }
   ],
   "source": [
    "train.columns"
   ]
  },
  {
   "cell_type": "code",
   "execution_count": 11,
   "metadata": {},
   "outputs": [
    {
     "name": "stdout",
     "output_type": "stream",
     "text": [
      "Wall time: 1min 4s\n"
     ]
    }
   ],
   "source": [
    "%%time\n",
    "target = 'transaction_real_price'\n",
    "train['exAreaPrice'] = train.apply(lambda row : row[target]/row['exclusive_use_area'],axis=1)\n",
    "train['supAreaPrice'] = train.apply(lambda row : row[target]/row['supply_area'],axis=1)\n",
    "\n",
    "test['exAreaPrice'] = test.apply(lambda row : row[target]/row['exclusive_use_area'],axis=1)\n",
    "test['supAreaPrice'] = test.apply(lambda row : row[target]/row['supply_area'],axis=1)"
   ]
  },
  {
   "cell_type": "code",
   "execution_count": 13,
   "metadata": {},
   "outputs": [
    {
     "name": "stdout",
     "output_type": "stream",
     "text": [
      "Wall time: 44.9 s\n"
     ]
    }
   ],
   "source": [
    "# %%time\n",
    "# 이건 뭔가 실패한 듯\n",
    "# train['comAreaPrice']=train.apply(lambda row : row['supAreaPrice']-(row['exAreaPrice']*row['areaRate']),axis=1)\n",
    "# test['comAreaPrice']=test.apply(lambda row : row['supAreaPrice']-(row['exAreaPrice']*row['areaRate']),axis=1)"
   ]
  },
  {
   "cell_type": "code",
   "execution_count": 14,
   "metadata": {
    "collapsed": true
   },
   "outputs": [
    {
     "data": {
      "text/html": [
       "<div>\n",
       "<style scoped>\n",
       "    .dataframe tbody tr th:only-of-type {\n",
       "        vertical-align: middle;\n",
       "    }\n",
       "\n",
       "    .dataframe tbody tr th {\n",
       "        vertical-align: top;\n",
       "    }\n",
       "\n",
       "    .dataframe thead th {\n",
       "        text-align: right;\n",
       "    }\n",
       "</style>\n",
       "<table border=\"1\" class=\"dataframe\">\n",
       "  <thead>\n",
       "    <tr style=\"text-align: right;\">\n",
       "      <th></th>\n",
       "      <th>comAreaPrice</th>\n",
       "      <th>exAreaPrice</th>\n",
       "      <th>supAreaPrice</th>\n",
       "    </tr>\n",
       "  </thead>\n",
       "  <tbody>\n",
       "    <tr>\n",
       "      <th>0</th>\n",
       "      <td>0.000000e+00</td>\n",
       "      <td>4.532996e+06</td>\n",
       "      <td>3.275941e+06</td>\n",
       "    </tr>\n",
       "    <tr>\n",
       "      <th>1</th>\n",
       "      <td>-4.656613e-10</td>\n",
       "      <td>4.507550e+06</td>\n",
       "      <td>3.257860e+06</td>\n",
       "    </tr>\n",
       "    <tr>\n",
       "      <th>2</th>\n",
       "      <td>0.000000e+00</td>\n",
       "      <td>3.071298e+06</td>\n",
       "      <td>2.321725e+06</td>\n",
       "    </tr>\n",
       "    <tr>\n",
       "      <th>3</th>\n",
       "      <td>0.000000e+00</td>\n",
       "      <td>2.551809e+06</td>\n",
       "      <td>1.890034e+06</td>\n",
       "    </tr>\n",
       "    <tr>\n",
       "      <th>4</th>\n",
       "      <td>4.656613e-10</td>\n",
       "      <td>2.626149e+06</td>\n",
       "      <td>2.191952e+06</td>\n",
       "    </tr>\n",
       "    <tr>\n",
       "      <th>5</th>\n",
       "      <td>0.000000e+00</td>\n",
       "      <td>4.886952e+06</td>\n",
       "      <td>3.776847e+06</td>\n",
       "    </tr>\n",
       "    <tr>\n",
       "      <th>6</th>\n",
       "      <td>0.000000e+00</td>\n",
       "      <td>4.450000e+06</td>\n",
       "      <td>3.166133e+06</td>\n",
       "    </tr>\n",
       "    <tr>\n",
       "      <th>7</th>\n",
       "      <td>-4.656613e-10</td>\n",
       "      <td>4.896177e+06</td>\n",
       "      <td>3.978907e+06</td>\n",
       "    </tr>\n",
       "    <tr>\n",
       "      <th>8</th>\n",
       "      <td>0.000000e+00</td>\n",
       "      <td>3.652215e+06</td>\n",
       "      <td>2.879703e+06</td>\n",
       "    </tr>\n",
       "    <tr>\n",
       "      <th>9</th>\n",
       "      <td>-4.656613e-10</td>\n",
       "      <td>5.321989e+06</td>\n",
       "      <td>3.713620e+06</td>\n",
       "    </tr>\n",
       "  </tbody>\n",
       "</table>\n",
       "</div>"
      ],
      "text/plain": [
       "   comAreaPrice   exAreaPrice  supAreaPrice\n",
       "0  0.000000e+00  4.532996e+06  3.275941e+06\n",
       "1 -4.656613e-10  4.507550e+06  3.257860e+06\n",
       "2  0.000000e+00  3.071298e+06  2.321725e+06\n",
       "3  0.000000e+00  2.551809e+06  1.890034e+06\n",
       "4  4.656613e-10  2.626149e+06  2.191952e+06\n",
       "5  0.000000e+00  4.886952e+06  3.776847e+06\n",
       "6  0.000000e+00  4.450000e+06  3.166133e+06\n",
       "7 -4.656613e-10  4.896177e+06  3.978907e+06\n",
       "8  0.000000e+00  3.652215e+06  2.879703e+06\n",
       "9 -4.656613e-10  5.321989e+06  3.713620e+06"
      ]
     },
     "execution_count": 14,
     "metadata": {},
     "output_type": "execute_result"
    }
   ],
   "source": [
    "train[['comAreaPrice','exAreaPrice','supAreaPrice']].head(10)"
   ]
  },
  {
   "cell_type": "code",
   "execution_count": 16,
   "metadata": {},
   "outputs": [],
   "source": [
    "train['logExAreaPrice'] = np.log(train['exAreaPrice'])\n",
    "test['logExAreaPrice'] = np.log(test['exAreaPrice'])\n",
    "train['logSupAreaPrice'] = np.log(train['supAreaPrice'])\n",
    "test['logSupAreaPrice'] = np.log(test['supAreaPrice'])"
   ]
  },
  {
   "cell_type": "code",
   "execution_count": 17,
   "metadata": {
    "collapsed": true
   },
   "outputs": [
    {
     "data": {
      "text/html": [
       "<div>\n",
       "<style scoped>\n",
       "    .dataframe tbody tr th:only-of-type {\n",
       "        vertical-align: middle;\n",
       "    }\n",
       "\n",
       "    .dataframe tbody tr th {\n",
       "        vertical-align: top;\n",
       "    }\n",
       "\n",
       "    .dataframe thead th {\n",
       "        text-align: right;\n",
       "    }\n",
       "</style>\n",
       "<table border=\"1\" class=\"dataframe\">\n",
       "  <thead>\n",
       "    <tr style=\"text-align: right;\">\n",
       "      <th></th>\n",
       "      <th>logExAreaPrice</th>\n",
       "      <th>logSupAreaPrice</th>\n",
       "    </tr>\n",
       "  </thead>\n",
       "  <tbody>\n",
       "    <tr>\n",
       "      <th>0</th>\n",
       "      <td>15.326894</td>\n",
       "      <td>15.002116</td>\n",
       "    </tr>\n",
       "    <tr>\n",
       "      <th>1</th>\n",
       "      <td>15.321264</td>\n",
       "      <td>14.996581</td>\n",
       "    </tr>\n",
       "    <tr>\n",
       "      <th>2</th>\n",
       "      <td>14.937611</td>\n",
       "      <td>14.657821</td>\n",
       "    </tr>\n",
       "    <tr>\n",
       "      <th>3</th>\n",
       "      <td>14.752313</td>\n",
       "      <td>14.452106</td>\n",
       "    </tr>\n",
       "    <tr>\n",
       "      <th>4</th>\n",
       "      <td>14.781029</td>\n",
       "      <td>14.600303</td>\n",
       "    </tr>\n",
       "    <tr>\n",
       "      <th>5</th>\n",
       "      <td>15.402079</td>\n",
       "      <td>15.144400</td>\n",
       "    </tr>\n",
       "    <tr>\n",
       "      <th>6</th>\n",
       "      <td>15.308415</td>\n",
       "      <td>14.968022</td>\n",
       "    </tr>\n",
       "    <tr>\n",
       "      <th>7</th>\n",
       "      <td>15.403965</td>\n",
       "      <td>15.196518</td>\n",
       "    </tr>\n",
       "    <tr>\n",
       "      <th>8</th>\n",
       "      <td>15.110844</td>\n",
       "      <td>14.873198</td>\n",
       "    </tr>\n",
       "    <tr>\n",
       "      <th>9</th>\n",
       "      <td>15.487358</td>\n",
       "      <td>15.127518</td>\n",
       "    </tr>\n",
       "  </tbody>\n",
       "</table>\n",
       "</div>"
      ],
      "text/plain": [
       "   logExAreaPrice  logSupAreaPrice\n",
       "0       15.326894        15.002116\n",
       "1       15.321264        14.996581\n",
       "2       14.937611        14.657821\n",
       "3       14.752313        14.452106\n",
       "4       14.781029        14.600303\n",
       "5       15.402079        15.144400\n",
       "6       15.308415        14.968022\n",
       "7       15.403965        15.196518\n",
       "8       15.110844        14.873198\n",
       "9       15.487358        15.127518"
      ]
     },
     "execution_count": 17,
     "metadata": {},
     "output_type": "execute_result"
    }
   ],
   "source": [
    "train[['logExAreaPrice','logSupAreaPrice']].head(10)"
   ]
  },
  {
   "cell_type": "markdown",
   "metadata": {},
   "source": [
    "### 동별 평단가 구하기"
   ]
  },
  {
   "cell_type": "code",
   "execution_count": 39,
   "metadata": {},
   "outputs": [
    {
     "name": "stdout",
     "output_type": "stream",
     "text": [
      "368\n"
     ]
    }
   ],
   "source": [
    "towns = set(test['cityDisTown'].unique().tolist())\n",
    "print(len(towns))"
   ]
  },
  {
   "cell_type": "code",
   "execution_count": 21,
   "metadata": {
    "scrolled": true
   },
   "outputs": [
    {
     "name": "stdout",
     "output_type": "stream",
     "text": [
      "            logExAreaPrice                      logSupAreaPrice             \\\n",
      "                      mean     median       std            mean     median   \n",
      "cityDisTown                                                                  \n",
      "1710114          15.508575  15.477923  0.169914       15.235418  15.208193   \n",
      "1740101          15.640758  15.638292  0.233054       15.389918  15.392507   \n",
      "1740102          15.822453  15.836988  0.290382       15.534721  15.555307   \n",
      "1740103          15.530104  15.508829  0.254912       15.272063  15.262830   \n",
      "1740105          15.391597  15.389520  0.215121       15.214799  15.213320   \n",
      "1740106          15.789885  15.779029  0.374799       15.608816  15.552840   \n",
      "1740107          15.717210  15.734266  0.227480       15.421014  15.447194   \n",
      "1740108          15.561727  15.563201  0.202263       15.265501  15.260787   \n",
      "1740109          15.427219  15.424429  0.236170       15.138632  15.149270   \n",
      "1740110          15.426308  15.422981  0.215051       15.153342  15.155376   \n",
      "\n",
      "                       \n",
      "                  std  \n",
      "cityDisTown            \n",
      "1710114      0.172220  \n",
      "1740101      0.237540  \n",
      "1740102      0.275399  \n",
      "1740103      0.240144  \n",
      "1740105      0.238100  \n",
      "1740106      0.470860  \n",
      "1740107      0.224984  \n",
      "1740108      0.209433  \n",
      "1740109      0.244292  \n",
      "1740110      0.213695  \n"
     ]
    }
   ],
   "source": [
    "groupedTowns = train[['cityDisTown','logExAreaPrice','logSupAreaPrice']].groupby(['cityDisTown']).agg(['mean','median','std'])\n",
    "print(groupedTowns.tail(10))"
   ]
  },
  {
   "cell_type": "code",
   "execution_count": 48,
   "metadata": {},
   "outputs": [
    {
     "data": {
      "text/plain": [
       "0.2637602883644407"
      ]
     },
     "execution_count": 48,
     "metadata": {},
     "output_type": "execute_result"
    }
   ],
   "source": [
    "groupedTowns['logExAreaPrice']['std'].mean()"
   ]
  },
  {
   "cell_type": "code",
   "execution_count": 49,
   "metadata": {},
   "outputs": [
    {
     "data": {
      "text/plain": [
       "0.2603557501156086"
      ]
     },
     "execution_count": 49,
     "metadata": {},
     "output_type": "execute_result"
    }
   ],
   "source": [
    "groupedTowns['logSupAreaPrice']['std'].mean()"
   ]
  },
  {
   "cell_type": "markdown",
   "metadata": {},
   "source": [
    "## Subway"
   ]
  },
  {
   "cell_type": "code",
   "execution_count": 121,
   "metadata": {},
   "outputs": [
    {
     "name": "stdout",
     "output_type": "stream",
     "text": [
      "<class 'pandas.core.frame.DataFrame'>\n",
      "RangeIndex: 405 entries, 0 to 404\n",
      "Data columns (total 11 columns):\n",
      "station_id        405 non-null int64\n",
      "latitude          405 non-null float64\n",
      "longitude         405 non-null float64\n",
      "subway_line       405 non-null object\n",
      "address_by_law    396 non-null float64\n",
      "disTown           396 non-null float64\n",
      "logPrice          341 non-null float64\n",
      "noLine            405 non-null int64\n",
      "lines             405 non-null object\n",
      "city              405 non-null int64\n",
      "cityDisTown       396 non-null float64\n",
      "dtypes: float64(6), int64(3), object(2)\n",
      "memory usage: 34.9+ KB\n"
     ]
    }
   ],
   "source": [
    "subway.info()"
   ]
  },
  {
   "cell_type": "markdown",
   "metadata": {},
   "source": [
    "### 지하철역 거리 구하기"
   ]
  },
  {
   "cell_type": "code",
   "execution_count": 91,
   "metadata": {},
   "outputs": [
    {
     "name": "stdout",
     "output_type": "stream",
     "text": [
      "Wall time: 49.8 ms\n"
     ]
    }
   ],
   "source": [
    "%%time\n",
    "lat = 'latitude'\n",
    "lot = 'longitude'\n",
    "apartLoc = test[['apartment_id', lat, lot]].groupby(['apartment_id']).agg('mean')\n",
    "apartIdx = apartLoc.index.tolist()\n",
    "apartLoc = apartLoc.values\n",
    "statLoc = subway[['station_id', lat, lot]].groupby(['station_id']).agg('mean')\n",
    "statIdx = statLoc.index.tolist()\n",
    "statLoc = statLoc.values\n",
    "station= dict(zip(statIdx, statLoc))\n",
    "apartment = dict(zip(apartIdx, apartLoc))"
   ]
  },
  {
   "cell_type": "code",
   "execution_count": 109,
   "metadata": {
    "collapsed": true
   },
   "outputs": [
    {
     "name": "stderr",
     "output_type": "stream",
     "text": [
      "\n",
      "  0%|                                                      | 0/405 [00:00<?, ?it/s]\n",
      "  2%|▉                                             | 8/405 [00:00<00:05, 72.92it/s]\n",
      "  4%|█▋                                           | 15/405 [00:00<00:05, 71.20it/s]\n",
      "  6%|██▌                                          | 23/405 [00:00<00:05, 72.48it/s]\n",
      "  8%|███▍                                         | 31/405 [00:00<00:05, 73.21it/s]\n",
      " 10%|████▎                                        | 39/405 [00:00<00:04, 74.13it/s]\n",
      " 12%|█████▏                                       | 47/405 [00:00<00:04, 74.18it/s]\n",
      " 14%|██████                                       | 55/405 [00:00<00:04, 73.59it/s]\n",
      " 16%|███████                                      | 63/405 [00:00<00:04, 72.99it/s]\n",
      " 17%|███████▊                                     | 70/405 [00:00<00:04, 70.60it/s]\n",
      " 19%|████████▌                                    | 77/405 [00:01<00:05, 65.00it/s]\n",
      " 21%|█████████▎                                   | 84/405 [00:01<00:05, 60.46it/s]\n",
      " 22%|██████████                                   | 91/405 [00:01<00:05, 62.24it/s]\n",
      " 24%|██████████▉                                  | 98/405 [00:01<00:04, 63.39it/s]\n",
      " 26%|███████████▍                                | 105/405 [00:01<00:04, 63.16it/s]\n",
      " 28%|████████████▏                               | 112/405 [00:01<00:04, 64.05it/s]\n",
      " 29%|████████████▉                               | 119/405 [00:01<00:04, 64.50it/s]\n",
      " 31%|█████████████▋                              | 126/405 [00:01<00:04, 65.74it/s]\n",
      " 33%|██████████████▍                             | 133/405 [00:01<00:04, 66.63it/s]\n",
      " 35%|███████████████▎                            | 141/405 [00:02<00:03, 68.58it/s]\n",
      " 37%|████████████████▏                           | 149/405 [00:02<00:03, 69.82it/s]\n",
      " 39%|█████████████████                           | 157/405 [00:02<00:03, 70.91it/s]\n",
      " 41%|█████████████████▉                          | 165/405 [00:02<00:03, 71.89it/s]\n",
      " 43%|██████████████████▊                         | 173/405 [00:02<00:03, 72.39it/s]\n",
      " 45%|███████████████████▋                        | 181/405 [00:02<00:03, 73.34it/s]\n",
      " 47%|████████████████████▌                       | 189/405 [00:02<00:02, 73.42it/s]\n",
      " 49%|█████████████████████▍                      | 197/405 [00:02<00:02, 73.88it/s]\n",
      " 51%|██████████████████████▎                     | 205/405 [00:02<00:02, 73.39it/s]\n",
      " 53%|███████████████████████▏                    | 213/405 [00:03<00:02, 71.29it/s]\n",
      " 55%|████████████████████████                    | 221/405 [00:03<00:02, 69.90it/s]\n",
      " 57%|████████████████████████▉                   | 229/405 [00:03<00:02, 70.04it/s]\n",
      " 59%|█████████████████████████▋                  | 237/405 [00:03<00:02, 69.23it/s]\n",
      " 60%|██████████████████████████▌                 | 244/405 [00:03<00:02, 68.90it/s]\n",
      " 62%|███████████████████████████▎                | 251/405 [00:03<00:02, 68.07it/s]\n",
      " 64%|████████████████████████████                | 258/405 [00:03<00:02, 68.10it/s]\n",
      " 65%|████████████████████████████▊               | 265/405 [00:03<00:02, 66.94it/s]\n",
      " 67%|█████████████████████████████▌              | 272/405 [00:03<00:01, 67.49it/s]\n",
      " 69%|██████████████████████████████▎             | 279/405 [00:04<00:01, 64.16it/s]\n",
      " 71%|███████████████████████████████             | 286/405 [00:04<00:01, 61.69it/s]\n",
      " 72%|███████████████████████████████▊            | 293/405 [00:04<00:01, 63.67it/s]\n",
      " 74%|████████████████████████████████▌           | 300/405 [00:04<00:01, 64.58it/s]\n",
      " 76%|█████████████████████████████████▍          | 308/405 [00:04<00:01, 66.88it/s]\n",
      " 78%|██████████████████████████████████▎         | 316/405 [00:04<00:01, 69.11it/s]\n",
      " 80%|███████████████████████████████████         | 323/405 [00:04<00:01, 68.61it/s]\n",
      " 81%|███████████████████████████████████▊        | 330/405 [00:04<00:01, 66.92it/s]\n",
      " 83%|████████████████████████████████████▌       | 337/405 [00:04<00:01, 65.95it/s]\n",
      " 85%|█████████████████████████████████████▎      | 344/405 [00:05<00:00, 65.11it/s]\n",
      " 87%|██████████████████████████████████████▏     | 351/405 [00:05<00:00, 64.71it/s]\n",
      " 88%|██████████████████████████████████████▉     | 358/405 [00:05<00:00, 64.44it/s]\n",
      " 90%|███████████████████████████████████████▋    | 365/405 [00:05<00:00, 64.43it/s]\n",
      " 92%|████████████████████████████████████████▍   | 372/405 [00:05<00:00, 63.37it/s]\n",
      " 94%|█████████████████████████████████████████▎  | 380/405 [00:05<00:00, 65.63it/s]\n",
      " 96%|██████████████████████████████████████████  | 387/405 [00:05<00:00, 66.75it/s]\n",
      " 97%|██████████████████████████████████████████▊ | 394/405 [00:05<00:00, 65.11it/s]\n",
      " 99%|███████████████████████████████████████████▌| 401/405 [00:05<00:00, 64.53it/s]\n",
      "100%|████████████████████████████████████████████| 405/405 [00:05<00:00, 67.65it/s]"
     ]
    },
    {
     "name": "stdout",
     "output_type": "stream",
     "text": [
      "Wall time: 6.1 s\n"
     ]
    }
   ],
   "source": [
    "%%time\n",
    "# 위도 1도 : 110,000m\n",
    "# 경도 1도 : 88,740m\n",
    "subDist = {a:{s:None for s in statIdx} for a in apartIdx} # row(0) : apart, col(1) : station\n",
    "for s in tqdm(statIdx):\n",
    "    for a in apartIdx:\n",
    "        width = abs(station[s][0] - apartment[a][0])*110000\n",
    "        height = abs(station[s][1] - apartment[a][1])*88740\n",
    "        dist = math.sqrt(width**2+height**2)\n",
    "        subDist[a][s] = dist"
   ]
  },
  {
   "cell_type": "code",
   "execution_count": 130,
   "metadata": {},
   "outputs": [],
   "source": [
    "subLines = pd.Series(subway['lines'], index=subway['station_id'])"
   ]
  },
  {
   "cell_type": "code",
   "execution_count": 148,
   "metadata": {
    "scrolled": true
   },
   "outputs": [
    {
     "ename": "KeyError",
     "evalue": "'BK'",
     "output_type": "error",
     "traceback": [
      "\u001b[1;31m---------------------------------------------------------------------------\u001b[0m",
      "\u001b[1;31mTypeError\u001b[0m                                 Traceback (most recent call last)",
      "\u001b[1;32mpandas\\_libs\\index.pyx\u001b[0m in \u001b[0;36mpandas._libs.index.IndexEngine.get_loc\u001b[1;34m()\u001b[0m\n",
      "\u001b[1;32mpandas\\_libs\\hashtable_class_helper.pxi\u001b[0m in \u001b[0;36mpandas._libs.hashtable.Int64HashTable.get_item\u001b[1;34m()\u001b[0m\n",
      "\u001b[1;31mTypeError\u001b[0m: an integer is required",
      "\nDuring handling of the above exception, another exception occurred:\n",
      "\u001b[1;31mKeyError\u001b[0m                                  Traceback (most recent call last)",
      "\u001b[1;32m<ipython-input-148-3fd066b9ce02>\u001b[0m in \u001b[0;36m<module>\u001b[1;34m\u001b[0m\n\u001b[1;32m----> 1\u001b[1;33m \u001b[0mtype\u001b[0m\u001b[1;33m(\u001b[0m\u001b[0msubLines\u001b[0m\u001b[1;33m[\u001b[0m\u001b[1;34m'BK'\u001b[0m\u001b[1;33m]\u001b[0m\u001b[1;33m)\u001b[0m\u001b[1;33m==\u001b[0m\u001b[0mlist\u001b[0m\u001b[1;33m\u001b[0m\u001b[1;33m\u001b[0m\u001b[0m\n\u001b[0m",
      "\u001b[1;32mC:\\Anaconda3\\envs\\tensorflow\\lib\\site-packages\\pandas\\core\\series.py\u001b[0m in \u001b[0;36m__getitem__\u001b[1;34m(self, key)\u001b[0m\n\u001b[0;32m    765\u001b[0m         \u001b[0mkey\u001b[0m \u001b[1;33m=\u001b[0m \u001b[0mcom\u001b[0m\u001b[1;33m.\u001b[0m\u001b[0m_apply_if_callable\u001b[0m\u001b[1;33m(\u001b[0m\u001b[0mkey\u001b[0m\u001b[1;33m,\u001b[0m \u001b[0mself\u001b[0m\u001b[1;33m)\u001b[0m\u001b[1;33m\u001b[0m\u001b[1;33m\u001b[0m\u001b[0m\n\u001b[0;32m    766\u001b[0m         \u001b[1;32mtry\u001b[0m\u001b[1;33m:\u001b[0m\u001b[1;33m\u001b[0m\u001b[1;33m\u001b[0m\u001b[0m\n\u001b[1;32m--> 767\u001b[1;33m             \u001b[0mresult\u001b[0m \u001b[1;33m=\u001b[0m \u001b[0mself\u001b[0m\u001b[1;33m.\u001b[0m\u001b[0mindex\u001b[0m\u001b[1;33m.\u001b[0m\u001b[0mget_value\u001b[0m\u001b[1;33m(\u001b[0m\u001b[0mself\u001b[0m\u001b[1;33m,\u001b[0m \u001b[0mkey\u001b[0m\u001b[1;33m)\u001b[0m\u001b[1;33m\u001b[0m\u001b[1;33m\u001b[0m\u001b[0m\n\u001b[0m\u001b[0;32m    768\u001b[0m \u001b[1;33m\u001b[0m\u001b[0m\n\u001b[0;32m    769\u001b[0m             \u001b[1;32mif\u001b[0m \u001b[1;32mnot\u001b[0m \u001b[0mis_scalar\u001b[0m\u001b[1;33m(\u001b[0m\u001b[0mresult\u001b[0m\u001b[1;33m)\u001b[0m\u001b[1;33m:\u001b[0m\u001b[1;33m\u001b[0m\u001b[1;33m\u001b[0m\u001b[0m\n",
      "\u001b[1;32mC:\\Anaconda3\\envs\\tensorflow\\lib\\site-packages\\pandas\\core\\indexes\\base.py\u001b[0m in \u001b[0;36mget_value\u001b[1;34m(self, series, key)\u001b[0m\n\u001b[0;32m   3116\u001b[0m         \u001b[1;32mtry\u001b[0m\u001b[1;33m:\u001b[0m\u001b[1;33m\u001b[0m\u001b[1;33m\u001b[0m\u001b[0m\n\u001b[0;32m   3117\u001b[0m             return self._engine.get_value(s, k,\n\u001b[1;32m-> 3118\u001b[1;33m                                           tz=getattr(series.dtype, 'tz', None))\n\u001b[0m\u001b[0;32m   3119\u001b[0m         \u001b[1;32mexcept\u001b[0m \u001b[0mKeyError\u001b[0m \u001b[1;32mas\u001b[0m \u001b[0me1\u001b[0m\u001b[1;33m:\u001b[0m\u001b[1;33m\u001b[0m\u001b[1;33m\u001b[0m\u001b[0m\n\u001b[0;32m   3120\u001b[0m             \u001b[1;32mif\u001b[0m \u001b[0mlen\u001b[0m\u001b[1;33m(\u001b[0m\u001b[0mself\u001b[0m\u001b[1;33m)\u001b[0m \u001b[1;33m>\u001b[0m \u001b[1;36m0\u001b[0m \u001b[1;32mand\u001b[0m \u001b[0mself\u001b[0m\u001b[1;33m.\u001b[0m\u001b[0minferred_type\u001b[0m \u001b[1;32min\u001b[0m \u001b[1;33m[\u001b[0m\u001b[1;34m'integer'\u001b[0m\u001b[1;33m,\u001b[0m \u001b[1;34m'boolean'\u001b[0m\u001b[1;33m]\u001b[0m\u001b[1;33m:\u001b[0m\u001b[1;33m\u001b[0m\u001b[1;33m\u001b[0m\u001b[0m\n",
      "\u001b[1;32mpandas\\_libs\\index.pyx\u001b[0m in \u001b[0;36mpandas._libs.index.IndexEngine.get_value\u001b[1;34m()\u001b[0m\n",
      "\u001b[1;32mpandas\\_libs\\index.pyx\u001b[0m in \u001b[0;36mpandas._libs.index.IndexEngine.get_value\u001b[1;34m()\u001b[0m\n",
      "\u001b[1;32mpandas\\_libs\\index.pyx\u001b[0m in \u001b[0;36mpandas._libs.index.IndexEngine.get_loc\u001b[1;34m()\u001b[0m\n",
      "\u001b[1;31mKeyError\u001b[0m: 'BK'"
     ]
    }
   ],
   "source": [
    "type(subLines['BK'])==list"
   ]
  },
  {
   "cell_type": "code",
   "execution_count": 143,
   "metadata": {
    "scrolled": true
   },
   "outputs": [],
   "source": [
    "sub200 = {a:0 for a in subDist.keys()}\n",
    "sub500 = {a:0 for a in subDist.keys()}\n",
    "sub800 = {a:0 for a in subDist.keys()}\n",
    "for a in subDist.keys():\n",
    "    sub200[a] += sum(len(subLines[s]) for s, dist in zip(subDist[a].keys(), subDist[a].values()) if dist<=200 and type(subLines[s]) == list)\n",
    "    sub500[a] += sum(len(subLines[s]) for s, dist in zip(subDist[a].keys(), subDist[a].values()) if dist>200 and dist<=500 and type(subLines[s]) == list)\n",
    "    sub800[a] += sum(len(subLines[s]) for s, dist in zip(subDist[a].keys(), subDist[a].values()) if dist>500 and dist<=800 and type(subLines[s]) == list)"
   ]
  },
  {
   "cell_type": "code",
   "execution_count": 144,
   "metadata": {},
   "outputs": [],
   "source": [
    "train['sub200'] = train['apartment_id'].apply(lambda row : sub200[row])\n",
    "train['sub500'] = train['apartment_id'].apply(lambda row : sub500[row])\n",
    "train['sub800'] = train['apartment_id'].apply(lambda row : sub800[row])\n",
    "test['sub200'] = test['apartment_id'].apply(lambda row : sub200[row])\n",
    "test['sub500'] = test['apartment_id'].apply(lambda row : sub500[row])\n",
    "test['sub800'] = test['apartment_id'].apply(lambda row : sub800[row])"
   ]
  },
  {
   "cell_type": "code",
   "execution_count": 153,
   "metadata": {},
   "outputs": [
    {
     "data": {
      "text/plain": [
       "0    1136036\n",
       "1     263954\n",
       "2     120560\n",
       "3      52778\n",
       "4      20227\n",
       "5       3574\n",
       "6       3496\n",
       "9        413\n",
       "8        335\n",
       "7         85\n",
       "Name: sub800, dtype: int64"
      ]
     },
     "execution_count": 153,
     "metadata": {},
     "output_type": "execute_result"
    }
   ],
   "source": [
    "train['sub800'].value_counts(dropna=False)"
   ]
  },
  {
   "cell_type": "code",
   "execution_count": 161,
   "metadata": {},
   "outputs": [],
   "source": [
    "sub200Price = {a:0 for a in subDist.keys()}\n",
    "sub500Price = {a:0 for a in subDist.keys()}\n",
    "sub800Price = {a:0 for a in subDist.keys()}\n",
    "subPrice = pd.Series(subway['logPrice'], index=subway['station_id'])\n",
    "for a in subDist.keys():\n",
    "    sub200Price[a] += sum(subPrice[s] for s, dist in zip(subDist[a].keys(), subDist[a].values()) if dist<=200 and type(subLines[s]) == list and not np.isnan(subPrice[s]))\n",
    "    sub500Price[a] += sum(subPrice[s] for s, dist in zip(subDist[a].keys(), subDist[a].values()) if dist>200 and dist<=500 and type(subLines[s]) == list and not np.isnan(subPrice[s]))\n",
    "    sub800Price[a] += sum(subPrice[s] for s, dist in zip(subDist[a].keys(), subDist[a].values()) if dist>500 and dist<=800 and type(subLines[s]) == list and not np.isnan(subPrice[s]))"
   ]
  },
  {
   "cell_type": "code",
   "execution_count": 162,
   "metadata": {},
   "outputs": [],
   "source": [
    "train['sub200Price'] = train['apartment_id'].apply(lambda row : sub200Price[row])\n",
    "train['sub500Price'] = train['apartment_id'].apply(lambda row : sub500Price[row])\n",
    "train['sub800Price'] = train['apartment_id'].apply(lambda row : sub800Price[row])\n",
    "test['sub200Price'] = test['apartment_id'].apply(lambda row : sub200Price[row])\n",
    "test['sub500Price'] = test['apartment_id'].apply(lambda row : sub500Price[row])\n",
    "test['sub800Price'] = test['apartment_id'].apply(lambda row : sub800Price[row])"
   ]
  },
  {
   "cell_type": "code",
   "execution_count": 163,
   "metadata": {},
   "outputs": [
    {
     "data": {
      "text/plain": [
       "<matplotlib.axes._subplots.AxesSubplot at 0x193368f4438>"
      ]
     },
     "execution_count": 163,
     "metadata": {},
     "output_type": "execute_result"
    },
    {
     "data": {
      "image/png": "[encoded data removed]",
      "text/plain": [
       "<Figure size 432x288 with 1 Axes>"
      ]
     },
     "metadata": {
      "needs_background": "light"
     },
     "output_type": "display_data"
    }
   ],
   "source": [
    "sns.distplot(train['sub800Price'])"
   ]
  },
  {
   "cell_type": "markdown",
   "metadata": {},
   "source": [
    "### 지하철역 city"
   ]
  },
  {
   "cell_type": "code",
   "execution_count": 28,
   "metadata": {},
   "outputs": [
    {
     "data": {
      "text/plain": [
       "Index(['station_id', 'latitude', 'longitude', 'subway_line', 'address_by_law',\n",
       "       'disTown', 'logPrice', 'noLine'],\n",
       "      dtype='object')"
      ]
     },
     "execution_count": 28,
     "metadata": {},
     "output_type": "execute_result"
    }
   ],
   "source": [
    "subway.columns"
   ]
  },
  {
   "cell_type": "code",
   "execution_count": 31,
   "metadata": {
    "scrolled": true
   },
   "outputs": [],
   "source": [
    "subway['lines'] = subway['subway_line'].apply(lambda row : row.split(','))\n",
    "subway['city'] = subway['lines'].apply(lambda row : 0 if row[0][0]=='B' else 1)"
   ]
  },
  {
   "cell_type": "code",
   "execution_count": 37,
   "metadata": {},
   "outputs": [],
   "source": [
    "def cityDisTown(x):\n",
    "    try:town=int(x['disTown'])\n",
    "    except ValueError: return np.nan\n",
    "    town = str(town)\n",
    "    city = str(x['city'])\n",
    "    return int(city+town)\n",
    "subway['cityDisTown'] = subway.apply(lambda row : cityDisTown(row), axis=1)"
   ]
  },
  {
   "cell_type": "markdown",
   "metadata": {},
   "source": [
    "### 지하철역 가치 구하기"
   ]
  },
  {
   "cell_type": "code",
   "execution_count": 56,
   "metadata": {},
   "outputs": [],
   "source": [
    "townPrice = groupedTowns['logSupAreaPrice']['median']\n",
    "def price(x):\n",
    "    try : return townPrice[x]\n",
    "    except KeyError : return np.nan\n",
    "    except TypeError : return np.nan\n",
    "subway['logPrice'] = subway['cityDisTown'].apply(lambda row : price(row))"
   ]
  },
  {
   "cell_type": "markdown",
   "metadata": {},
   "source": [
    "### 지하철역 노선 갯수 구하기"
   ]
  },
  {
   "cell_type": "code",
   "execution_count": 62,
   "metadata": {
    "collapsed": true
   },
   "outputs": [
    {
     "data": {
      "text/plain": [
       "B1           36\n",
       "5            36\n",
       "B2           34\n",
       "2            29\n",
       "7            27\n",
       "6            24\n",
       "9            22\n",
       "1            19\n",
       "3            19\n",
       "4            14\n",
       "B4           12\n",
       "BD           12\n",
       "B3           11\n",
       "KJ            8\n",
       "8             7\n",
       "BK            7\n",
       "DL            6\n",
       "2,5           4\n",
       "1,7           3\n",
       "3,6           3\n",
       "3,DL          2\n",
       "2,9           2\n",
       "1,KJ,KC       2\n",
       "B2,B3         2\n",
       "2,7           2\n",
       "1,4           2\n",
       "4,7           2\n",
       "ND            2\n",
       "2,6           2\n",
       "1,6           2\n",
       "             ..\n",
       "3,4           1\n",
       "2,ND          1\n",
       "6,KJ          1\n",
       "2,DL          1\n",
       "2,KJ,AP       1\n",
       "B1,B2         1\n",
       "2,4           1\n",
       "4,US          1\n",
       "3,8           1\n",
       "B1,BD         1\n",
       "5,7           1\n",
       "KC            1\n",
       "KC,KJ         1\n",
       "5,6,KJ,AP     1\n",
       "1,9           1\n",
       "3,KJ          1\n",
       "4,6           1\n",
       "6,KJ,AP       1\n",
       "3,ND          1\n",
       "3,5           1\n",
       "B2,BK         1\n",
       "6,US          1\n",
       "4,9           1\n",
       "9,DL          1\n",
       "2,4,5         1\n",
       "B3,BK         1\n",
       "1,3,5         1\n",
       "B3,B4         1\n",
       "KJ,KC         1\n",
       "1,2,US        1\n",
       "Name: subway_line, Length: 80, dtype: int64"
      ]
     },
     "execution_count": 62,
     "metadata": {},
     "output_type": "execute_result"
    }
   ],
   "source": [
    "subway['subway_line'].value_counts()"
   ]
  },
  {
   "cell_type": "code",
   "execution_count": 63,
   "metadata": {
    "collapsed": true
   },
   "outputs": [
    {
     "data": {
      "text/plain": [
       "0    4\n",
       "1    2\n",
       "2    1\n",
       "3    3\n",
       "4    1\n",
       "5    2\n",
       "6    3\n",
       "7    1\n",
       "8    3\n",
       "9    2\n",
       "Name: noLine, dtype: int64"
      ]
     },
     "execution_count": 63,
     "metadata": {},
     "output_type": "execute_result"
    }
   ],
   "source": [
    "subway['noLine'] = subway['subway_line'].apply(lambda row : len(row.split(',')))\n",
    "subway['noLine'].head(10)"
   ]
  },
  {
   "cell_type": "markdown",
   "metadata": {},
   "source": [
    "## School"
   ]
  },
  {
   "cell_type": "code",
   "execution_count": 31,
   "metadata": {},
   "outputs": [
    {
     "name": "stdout",
     "output_type": "stream",
     "text": [
      "<class 'pandas.core.frame.DataFrame'>\n",
      "RangeIndex: 1921 entries, 0 to 1920\n",
      "Data columns (total 9 columns):\n",
      "school_code        1921 non-null object\n",
      "latitude           1921 non-null float64\n",
      "longitude          1921 non-null float64\n",
      "school_class       1921 non-null object\n",
      "operation_type     1921 non-null object\n",
      "highschool_type    462 non-null object\n",
      "gender             1921 non-null object\n",
      "foundation_date    1921 non-null object\n",
      "address_by_law     1921 non-null int64\n",
      "dtypes: float64(2), int64(1), object(6)\n",
      "memory usage: 135.1+ KB\n"
     ]
    }
   ],
   "source": [
    "school.info()"
   ]
  },
  {
   "cell_type": "markdown",
   "metadata": {},
   "source": [
    "### class"
   ]
  },
  {
   "cell_type": "code",
   "execution_count": 32,
   "metadata": {},
   "outputs": [
    {
     "name": "stdout",
     "output_type": "stream",
     "text": [
      "object\n",
      "elementary    901\n",
      "middle        558\n",
      "high          462\n",
      "Name: school_class, dtype: int64\n",
      "train na :  0\n"
     ]
    }
   ],
   "source": [
    "colInfo('school_class', school)"
   ]
  },
  {
   "cell_type": "code",
   "execution_count": 33,
   "metadata": {},
   "outputs": [],
   "source": [
    "def classCnvrt(x):\n",
    "    if x =='elementary': return 0\n",
    "    elif x =='middle' : return 1\n",
    "    else : return 2\n",
    "school['school_class'] = school['school_class'].apply(lambda row : classCnvrt(row))"
   ]
  },
  {
   "cell_type": "markdown",
   "metadata": {},
   "source": [
    "### op type"
   ]
  },
  {
   "cell_type": "code",
   "execution_count": 17,
   "metadata": {},
   "outputs": [
    {
     "name": "stdout",
     "output_type": "stream",
     "text": [
      "object\n",
      "public      1444\n",
      "private      466\n",
      "national      11\n",
      "Name: operation_type, dtype: int64\n",
      "train na :  0\n"
     ]
    }
   ],
   "source": [
    "colInfo('operation_type', school)"
   ]
  },
  {
   "cell_type": "code",
   "execution_count": 35,
   "metadata": {},
   "outputs": [],
   "source": [
    "school['private'] = (school['operation_type']=='private')"
   ]
  },
  {
   "cell_type": "code",
   "execution_count": 37,
   "metadata": {},
   "outputs": [],
   "source": [
    "def opCnvrt(x):\n",
    "    if x == 'public' : return 0\n",
    "    elif x=='private' : return 2\n",
    "    else : return 1\n",
    "school['operation_type'] = school['operation_type'].apply(lambda row : opCnvrt(row))"
   ]
  },
  {
   "cell_type": "markdown",
   "metadata": {},
   "source": [
    "### high school"
   ]
  },
  {
   "cell_type": "code",
   "execution_count": 18,
   "metadata": {},
   "outputs": [
    {
     "name": "stdout",
     "output_type": "stream",
     "text": [
      "object\n",
      "NaN            1459\n",
      "general         269\n",
      "specialized     104\n",
      "autonomous       55\n",
      "objective        34\n",
      "Name: highschool_type, dtype: int64\n",
      "train na :  1459\n"
     ]
    }
   ],
   "source": [
    "colInfo('highschool_type', school)"
   ]
  },
  {
   "cell_type": "code",
   "execution_count": 39,
   "metadata": {},
   "outputs": [],
   "source": [
    "def highCnvrt(x):\n",
    "    if x=='general' : return 0\n",
    "    elif x=='specialized' : return 1\n",
    "    elif x=='autonomous' : return 2\n",
    "    elif x=='objective' : return 3\n",
    "school['highschool_type'] = school['highschool_type'].apply(lambda row : highCnvrt(row))"
   ]
  },
  {
   "cell_type": "markdown",
   "metadata": {},
   "source": [
    "### gender"
   ]
  },
  {
   "cell_type": "code",
   "execution_count": 40,
   "metadata": {},
   "outputs": [
    {
     "name": "stdout",
     "output_type": "stream",
     "text": [
      "object\n",
      "both      1524\n",
      "male       199\n",
      "female     198\n",
      "Name: gender, dtype: int64\n",
      "train na :  0\n"
     ]
    }
   ],
   "source": [
    "colInfo('gender', school)"
   ]
  },
  {
   "cell_type": "code",
   "execution_count": 42,
   "metadata": {},
   "outputs": [],
   "source": [
    "school['onlySex'] = (school['gender']!='both')\n",
    "def genderCnvrt(x):\n",
    "    if x=='both' : return 2\n",
    "    elif x=='male' : return 1\n",
    "    else : return 0\n",
    "school['gender'] = school['gender'].apply(lambda row : genderCnvrt(row))"
   ]
  },
  {
   "cell_type": "markdown",
   "metadata": {},
   "source": [
    "### date"
   ]
  },
  {
   "cell_type": "code",
   "execution_count": 43,
   "metadata": {
    "collapsed": true
   },
   "outputs": [
    {
     "name": "stdout",
     "output_type": "stream",
     "text": [
      "object\n",
      "2009.3.1      19\n",
      "1984.1.9      16\n",
      "1990.1.20     16\n",
      "2002.3.1      15\n",
      "1986.1.29     15\n",
      "2004.3.1      14\n",
      "1984.12.8     13\n",
      "1972.12.29    13\n",
      "2003.3.1      12\n",
      "1984.12.17    12\n",
      "1982.12.9     12\n",
      "1994.1.5      10\n",
      "2005.3.1      10\n",
      "1983.12.3     10\n",
      "1986.12.17    10\n",
      "1945.11.1     10\n",
      "1982.7.7       9\n",
      "1968.8.6       9\n",
      "1980.1.24      9\n",
      "1991.1.21      9\n",
      "2006.3.1       8\n",
      "1984.3.1       8\n",
      "1974.1.5       8\n",
      "1991.10.30     8\n",
      "1988.12.24     8\n",
      "2012.3.1       7\n",
      "2010.3.1       7\n",
      "1983.12.26     7\n",
      "2017.3.1       7\n",
      "1996.3.1       7\n",
      "              ..\n",
      "1993.1.16      1\n",
      "1894-09-18     1\n",
      "1904.4.1       1\n",
      "1978.12.19     1\n",
      "1945.11.10     1\n",
      "1906.4.1       1\n",
      "1986.10.4      1\n",
      "1955.2.28      1\n",
      "1968.10.23     1\n",
      "1944.4.11      1\n",
      "1987.5.12      1\n",
      "1978.12.29     1\n",
      "1986.3.4       1\n",
      "1967.3.15      1\n",
      "1967.3.31      1\n",
      "1982.11.3      1\n",
      "2002.7.12      1\n",
      "1960.5.15      1\n",
      "1981.12.1      1\n",
      "1979.2.2       1\n",
      "1956.2.23      1\n",
      "1938.2.24      1\n",
      "1965.9.25      1\n",
      "1946.7.2       1\n",
      "1955.4.5       1\n",
      "1959.4.1       1\n",
      "1955.1.12      1\n",
      "2012.9.1       1\n",
      "1924.5.5       1\n",
      "1997.1.15      1\n",
      "Name: foundation_date, Length: 1141, dtype: int64\n",
      "train na :  0\n"
     ]
    }
   ],
   "source": [
    "colInfo('foundation_date', school)"
   ]
  },
  {
   "cell_type": "markdown",
   "metadata": {},
   "source": [
    "### School City, dist, town\n",
    "- 위도로 서울/부산 구별"
   ]
  },
  {
   "cell_type": "code",
   "execution_count": 42,
   "metadata": {
    "collapsed": true
   },
   "outputs": [
    {
     "data": {
      "text/plain": [
       "<matplotlib.axes._subplots.AxesSubplot at 0x193c3713b00>"
      ]
     },
     "execution_count": 42,
     "metadata": {},
     "output_type": "execute_result"
    },
    {
     "data": {
      "image/png": "[encoded data removed]",
      "text/plain": [
       "<Figure size 432x288 with 1 Axes>"
      ]
     },
     "metadata": {
      "needs_background": "light"
     },
     "output_type": "display_data"
    }
   ],
   "source": [
    "sns.distplot(school['latitude'].unique().tolist())"
   ]
  },
  {
   "cell_type": "code",
   "execution_count": 43,
   "metadata": {},
   "outputs": [
    {
     "name": "stdout",
     "output_type": "stream",
     "text": [
      "35.0508488 37.68669133\n"
     ]
    }
   ],
   "source": [
    "print(school['latitude'].min(),school['latitude'].max())"
   ]
  },
  {
   "cell_type": "code",
   "execution_count": 44,
   "metadata": {},
   "outputs": [],
   "source": [
    "school['city'] = school['latitude'].apply(lambda row : 1 if row>36.5 else 0)"
   ]
  },
  {
   "cell_type": "code",
   "execution_count": 45,
   "metadata": {},
   "outputs": [],
   "source": [
    "school['cityDisTown'] = school.apply(lambda row : int(str(row['city'])+str(row['address_by_law'])[2:8]), axis=1)"
   ]
  },
  {
   "cell_type": "markdown",
   "metadata": {},
   "source": [
    "### school Value"
   ]
  },
  {
   "cell_type": "code",
   "execution_count": 57,
   "metadata": {},
   "outputs": [],
   "source": [
    "def price(x):\n",
    "    try : return townPrice[x]\n",
    "    except KeyError : return np.nan\n",
    "    except TypeError : return np.nan\n",
    "school['logPrice'] = school['cityDisTown'].apply(lambda row : price(row))"
   ]
  },
  {
   "cell_type": "markdown",
   "metadata": {},
   "source": [
    "### School Distance"
   ]
  },
  {
   "cell_type": "code",
   "execution_count": 113,
   "metadata": {
    "scrolled": true
   },
   "outputs": [
    {
     "name": "stderr",
     "output_type": "stream",
     "text": [
      "\n",
      "  0%|                                                     | 0/1921 [00:00<?, ?it/s]\n",
      "  0%|▏                                            | 8/1921 [00:00<00:26, 70.94it/s]\n",
      "  1%|▎                                           | 16/1921 [00:00<00:26, 71.33it/s]\n",
      "  1%|▌                                           | 24/1921 [00:00<00:26, 72.20it/s]\n",
      "  2%|▋                                           | 32/1921 [00:00<00:26, 72.41it/s]\n",
      "  2%|▉                                           | 40/1921 [00:00<00:25, 72.57it/s]\n",
      "  2%|█                                           | 47/1921 [00:00<00:26, 71.62it/s]\n",
      "  3%|█▏                                          | 54/1921 [00:00<00:27, 67.09it/s]\n",
      "  3%|█▍                                          | 61/1921 [00:00<00:27, 67.61it/s]\n",
      "  4%|█▌                                          | 68/1921 [00:00<00:27, 66.80it/s]\n",
      "  4%|█▋                                          | 75/1921 [00:01<00:27, 67.00it/s]\n",
      "  4%|█▉                                          | 82/1921 [00:01<00:27, 66.96it/s]\n",
      "  5%|██                                          | 89/1921 [00:01<00:27, 67.11it/s]\n",
      "  5%|██▏                                         | 96/1921 [00:01<00:27, 66.27it/s]\n",
      "  5%|██▎                                        | 104/1921 [00:01<00:26, 67.96it/s]\n",
      "  6%|██▍                                        | 111/1921 [00:01<00:26, 68.42it/s]\n",
      "  6%|██▋                                        | 118/1921 [00:01<00:26, 67.74it/s]\n",
      "  7%|██▊                                        | 125/1921 [00:01<00:26, 67.47it/s]\n",
      "  7%|██▉                                        | 132/1921 [00:01<00:27, 65.04it/s]\n",
      "  7%|███▏                                       | 140/1921 [00:02<00:26, 66.88it/s]\n",
      "  8%|███▎                                       | 147/1921 [00:02<00:26, 65.93it/s]\n",
      "  8%|███▍                                       | 154/1921 [00:02<00:27, 64.91it/s]\n",
      "  8%|███▌                                       | 161/1921 [00:02<00:28, 62.35it/s]\n",
      "  9%|███▊                                       | 168/1921 [00:02<00:28, 61.78it/s]\n",
      "  9%|███▉                                       | 175/1921 [00:02<00:27, 63.74it/s]\n",
      "  9%|████                                       | 182/1921 [00:02<00:27, 63.58it/s]\n",
      " 10%|████▏                                      | 189/1921 [00:02<00:27, 62.96it/s]\n",
      " 10%|████▍                                      | 196/1921 [00:02<00:27, 63.55it/s]\n",
      " 11%|████▌                                      | 203/1921 [00:03<00:27, 62.12it/s]\n",
      " 11%|████▋                                      | 211/1921 [00:03<00:26, 65.32it/s]\n",
      " 11%|████▉                                      | 219/1921 [00:03<00:25, 66.93it/s]\n",
      " 12%|█████                                      | 226/1921 [00:03<00:26, 64.86it/s]\n",
      " 12%|█████▏                                     | 233/1921 [00:03<00:26, 64.90it/s]\n",
      " 12%|█████▎                                     | 240/1921 [00:03<00:26, 64.56it/s]\n",
      " 13%|█████▌                                     | 248/1921 [00:03<00:25, 66.69it/s]\n",
      " 13%|█████▋                                     | 256/1921 [00:03<00:24, 68.80it/s]\n",
      " 14%|█████▉                                     | 264/1921 [00:03<00:23, 69.27it/s]\n",
      " 14%|██████                                     | 271/1921 [00:04<00:24, 68.13it/s]\n",
      " 14%|██████▏                                    | 278/1921 [00:04<00:24, 66.76it/s]\n",
      " 15%|██████▍                                    | 286/1921 [00:04<00:23, 68.67it/s]\n",
      " 15%|██████▌                                    | 294/1921 [00:04<00:23, 70.63it/s]\n",
      " 16%|██████▊                                    | 302/1921 [00:04<00:22, 70.93it/s]\n",
      " 16%|██████▉                                    | 310/1921 [00:04<00:22, 72.48it/s]\n",
      " 17%|███████                                    | 318/1921 [00:04<00:22, 70.32it/s]\n",
      " 17%|███████▎                                   | 326/1921 [00:04<00:23, 67.32it/s]\n",
      " 17%|███████▍                                   | 334/1921 [00:04<00:23, 68.73it/s]\n",
      " 18%|███████▋                                   | 342/1921 [00:05<00:22, 69.93it/s]\n",
      " 18%|███████▊                                   | 350/1921 [00:05<00:22, 70.80it/s]\n",
      " 19%|████████                                   | 358/1921 [00:05<00:21, 71.62it/s]\n",
      " 19%|████████▏                                  | 366/1921 [00:05<00:21, 72.79it/s]\n",
      " 19%|████████▎                                  | 374/1921 [00:05<00:21, 73.23it/s]\n",
      " 20%|████████▌                                  | 382/1921 [00:05<00:21, 72.15it/s]\n",
      " 20%|████████▋                                  | 390/1921 [00:05<00:21, 71.03it/s]\n",
      " 21%|████████▉                                  | 398/1921 [00:05<00:21, 71.40it/s]\n",
      " 21%|█████████                                  | 406/1921 [00:05<00:21, 70.34it/s]\n",
      " 22%|█████████▎                                 | 414/1921 [00:06<00:21, 69.97it/s]\n",
      " 22%|█████████▍                                 | 422/1921 [00:06<00:22, 67.11it/s]\n",
      " 22%|█████████▌                                 | 429/1921 [00:06<00:22, 65.51it/s]\n",
      " 23%|█████████▊                                 | 437/1921 [00:06<00:21, 67.92it/s]\n",
      " 23%|█████████▉                                 | 445/1921 [00:06<00:21, 69.35it/s]\n",
      " 24%|██████████▏                                | 453/1921 [00:06<00:20, 70.57it/s]\n",
      " 24%|██████████▎                                | 461/1921 [00:06<00:20, 71.83it/s]\n",
      " 24%|██████████▍                                | 469/1921 [00:06<00:20, 72.16it/s]\n",
      " 25%|██████████▋                                | 477/1921 [00:06<00:19, 72.38it/s]\n",
      " 25%|██████████▊                                | 485/1921 [00:07<00:19, 72.35it/s]\n",
      " 26%|███████████                                | 493/1921 [00:07<00:20, 70.23it/s]\n",
      " 26%|███████████▏                               | 501/1921 [00:07<00:20, 69.91it/s]\n",
      " 26%|███████████▍                               | 509/1921 [00:07<00:20, 67.73it/s]\n",
      " 27%|███████████▌                               | 517/1921 [00:07<00:20, 69.21it/s]\n",
      " 27%|███████████▊                               | 525/1921 [00:07<00:19, 69.92it/s]\n",
      " 28%|███████████▉                               | 533/1921 [00:07<00:20, 68.97it/s]\n",
      " 28%|████████████                               | 540/1921 [00:07<00:21, 65.64it/s]\n",
      " 29%|████████████▎                              | 548/1921 [00:08<00:20, 67.32it/s]\n",
      " 29%|████████████▍                              | 555/1921 [00:08<00:20, 67.95it/s]\n",
      " 29%|████████████▌                              | 562/1921 [00:08<00:20, 67.81it/s]\n",
      " 30%|████████████▊                              | 570/1921 [00:08<00:19, 69.09it/s]\n",
      " 30%|████████████▉                              | 577/1921 [00:08<00:19, 68.80it/s]\n",
      " 30%|█████████████                              | 585/1921 [00:08<00:19, 69.80it/s]\n",
      " 31%|█████████████▎                             | 592/1921 [00:08<00:19, 68.90it/s]\n",
      " 31%|█████████████▍                             | 599/1921 [00:08<00:20, 65.96it/s]\n",
      " 32%|█████████████▌                             | 606/1921 [00:08<00:19, 66.22it/s]\n",
      " 32%|█████████████▋                             | 614/1921 [00:08<00:19, 68.62it/s]\n",
      " 32%|█████████████▉                             | 622/1921 [00:09<00:18, 69.49it/s]\n",
      " 33%|██████████████                             | 630/1921 [00:09<00:18, 71.05it/s]\n",
      " 33%|██████████████▎                            | 638/1921 [00:09<00:18, 69.02it/s]\n",
      " 34%|██████████████▍                            | 645/1921 [00:09<00:19, 66.41it/s]\n",
      " 34%|██████████████▌                            | 652/1921 [00:09<00:18, 67.11it/s]\n",
      " 34%|██████████████▊                            | 660/1921 [00:09<00:18, 68.75it/s]\n",
      " 35%|██████████████▉                            | 667/1921 [00:09<00:18, 67.98it/s]\n",
      " 35%|███████████████                            | 674/1921 [00:09<00:18, 66.67it/s]\n",
      " 35%|███████████████▏                           | 681/1921 [00:09<00:19, 65.23it/s]\n",
      " 36%|███████████████▍                           | 689/1921 [00:10<00:18, 67.19it/s]\n",
      " 36%|███████████████▌                           | 697/1921 [00:10<00:17, 68.46it/s]\n",
      " 37%|███████████████▊                           | 705/1921 [00:10<00:17, 68.49it/s]\n",
      " 37%|███████████████▉                           | 713/1921 [00:10<00:17, 70.13it/s]\n",
      " 38%|████████████████▏                          | 721/1921 [00:10<00:16, 71.51it/s]\n",
      " 38%|████████████████▎                          | 729/1921 [00:10<00:16, 71.54it/s]\n"
     ]
    },
    {
     "name": "stderr",
     "output_type": "stream",
     "text": [
      " 38%|████████████████▍                          | 737/1921 [00:10<00:16, 72.34it/s]\n",
      " 39%|████████████████▋                          | 745/1921 [00:10<00:16, 72.71it/s]\n",
      " 39%|████████████████▊                          | 753/1921 [00:10<00:16, 71.81it/s]\n",
      " 40%|█████████████████                          | 761/1921 [00:11<00:16, 72.32it/s]\n",
      " 40%|█████████████████▏                         | 769/1921 [00:11<00:15, 72.50it/s]\n",
      " 40%|█████████████████▍                         | 777/1921 [00:11<00:15, 71.85it/s]\n",
      " 41%|█████████████████▌                         | 785/1921 [00:11<00:15, 72.76it/s]\n",
      " 41%|█████████████████▊                         | 793/1921 [00:11<00:15, 73.40it/s]\n",
      " 42%|█████████████████▉                         | 801/1921 [00:11<00:15, 73.66it/s]\n",
      " 42%|██████████████████                         | 809/1921 [00:11<00:15, 73.84it/s]\n",
      " 43%|██████████████████▎                        | 817/1921 [00:11<00:15, 72.57it/s]\n",
      " 43%|██████████████████▍                        | 825/1921 [00:11<00:15, 71.89it/s]\n",
      " 43%|██████████████████▋                        | 833/1921 [00:12<00:15, 72.39it/s]\n",
      " 44%|██████████████████▊                        | 841/1921 [00:12<00:14, 72.95it/s]\n",
      " 44%|███████████████████                        | 849/1921 [00:12<00:14, 72.54it/s]\n",
      " 45%|███████████████████▏                       | 857/1921 [00:12<00:14, 72.66it/s]\n",
      " 45%|███████████████████▎                       | 865/1921 [00:12<00:14, 72.93it/s]\n",
      " 45%|███████████████████▌                       | 873/1921 [00:12<00:14, 73.33it/s]\n",
      " 46%|███████████████████▋                       | 881/1921 [00:12<00:14, 71.83it/s]\n",
      " 46%|███████████████████▉                       | 889/1921 [00:12<00:14, 72.74it/s]\n",
      " 47%|████████████████████                       | 897/1921 [00:12<00:14, 72.80it/s]\n",
      " 47%|████████████████████▎                      | 905/1921 [00:13<00:14, 72.25it/s]\n",
      " 48%|████████████████████▍                      | 913/1921 [00:13<00:14, 71.67it/s]\n",
      " 48%|████████████████████▌                      | 921/1921 [00:13<00:14, 70.34it/s]\n",
      " 48%|████████████████████▊                      | 929/1921 [00:13<00:13, 71.47it/s]\n",
      " 49%|████████████████████▉                      | 937/1921 [00:13<00:13, 72.10it/s]\n",
      " 49%|█████████████████████▏                     | 945/1921 [00:13<00:13, 71.95it/s]\n",
      " 50%|█████████████████████▎                     | 953/1921 [00:13<00:13, 73.03it/s]\n",
      " 50%|█████████████████████▌                     | 961/1921 [00:13<00:13, 73.20it/s]\n",
      " 50%|█████████████████████▋                     | 969/1921 [00:13<00:13, 73.11it/s]\n",
      " 51%|█████████████████████▊                     | 977/1921 [00:14<00:12, 72.87it/s]\n",
      " 51%|██████████████████████                     | 985/1921 [00:14<00:12, 73.07it/s]\n",
      " 52%|██████████████████████▏                    | 993/1921 [00:14<00:12, 73.43it/s]\n",
      " 52%|█████████████████████▉                    | 1001/1921 [00:14<00:12, 74.09it/s]\n",
      " 53%|██████████████████████                    | 1009/1921 [00:14<00:12, 73.94it/s]\n",
      " 53%|██████████████████████▏                   | 1017/1921 [00:14<00:12, 74.03it/s]\n",
      " 53%|██████████████████████▍                   | 1025/1921 [00:14<00:12, 73.70it/s]\n",
      " 54%|██████████████████████▌                   | 1033/1921 [00:14<00:13, 65.06it/s]\n",
      " 54%|██████████████████████▊                   | 1041/1921 [00:14<00:13, 67.58it/s]\n",
      " 55%|██████████████████████▉                   | 1048/1921 [00:15<00:12, 68.14it/s]\n",
      " 55%|███████████████████████                   | 1055/1921 [00:15<00:12, 68.53it/s]\n",
      " 55%|███████████████████████▏                  | 1063/1921 [00:15<00:12, 70.54it/s]\n",
      " 56%|███████████████████████▍                  | 1071/1921 [00:15<00:11, 71.24it/s]\n",
      " 56%|███████████████████████▌                  | 1079/1921 [00:15<00:11, 72.31it/s]\n",
      " 57%|███████████████████████▊                  | 1087/1921 [00:15<00:11, 71.91it/s]\n",
      " 57%|███████████████████████▉                  | 1095/1921 [00:15<00:11, 72.80it/s]\n",
      " 57%|████████████████████████                  | 1103/1921 [00:15<00:11, 72.05it/s]\n",
      " 58%|████████████████████████▎                 | 1111/1921 [00:15<00:11, 72.51it/s]\n",
      " 58%|████████████████████████▍                 | 1119/1921 [00:16<00:11, 70.34it/s]\n",
      " 59%|████████████████████████▋                 | 1127/1921 [00:16<00:11, 69.97it/s]\n",
      " 59%|████████████████████████▊                 | 1135/1921 [00:16<00:11, 71.21it/s]\n",
      " 60%|████████████████████████▉                 | 1143/1921 [00:16<00:10, 71.14it/s]\n",
      " 60%|█████████████████████████▏                | 1151/1921 [00:16<00:10, 72.05it/s]\n",
      " 60%|█████████████████████████▎                | 1159/1921 [00:16<00:10, 72.51it/s]\n",
      " 61%|█████████████████████████▌                | 1167/1921 [00:16<00:10, 73.03it/s]\n",
      " 61%|█████████████████████████▋                | 1175/1921 [00:16<00:10, 73.60it/s]\n",
      " 62%|█████████████████████████▊                | 1183/1921 [00:16<00:10, 73.60it/s]\n",
      " 62%|██████████████████████████                | 1191/1921 [00:17<00:09, 73.80it/s]\n",
      " 62%|██████████████████████████▏               | 1199/1921 [00:17<00:09, 72.74it/s]\n",
      " 63%|██████████████████████████▍               | 1207/1921 [00:17<00:09, 73.18it/s]\n",
      " 63%|██████████████████████████▌               | 1215/1921 [00:17<00:09, 73.11it/s]\n",
      " 64%|██████████████████████████▋               | 1223/1921 [00:17<00:09, 73.05it/s]\n",
      " 64%|██████████████████████████▉               | 1231/1921 [00:17<00:09, 73.01it/s]\n",
      " 64%|███████████████████████████               | 1239/1921 [00:17<00:09, 73.19it/s]\n",
      " 65%|███████████████████████████▎              | 1247/1921 [00:17<00:09, 72.91it/s]\n",
      " 65%|███████████████████████████▍              | 1255/1921 [00:17<00:09, 72.32it/s]\n",
      " 66%|███████████████████████████▌              | 1263/1921 [00:18<00:09, 72.50it/s]\n",
      " 66%|███████████████████████████▊              | 1271/1921 [00:18<00:09, 71.84it/s]\n",
      " 67%|███████████████████████████▉              | 1279/1921 [00:18<00:08, 71.97it/s]\n",
      " 67%|████████████████████████████▏             | 1287/1921 [00:18<00:08, 72.25it/s]\n",
      " 67%|████████████████████████████▎             | 1295/1921 [00:18<00:08, 72.06it/s]\n",
      " 68%|████████████████████████████▍             | 1303/1921 [00:18<00:08, 72.91it/s]\n",
      " 68%|████████████████████████████▋             | 1311/1921 [00:18<00:08, 72.71it/s]\n",
      " 69%|████████████████████████████▊             | 1319/1921 [00:18<00:08, 72.78it/s]\n",
      " 69%|█████████████████████████████             | 1327/1921 [00:18<00:08, 72.42it/s]\n",
      " 69%|█████████████████████████████▏            | 1335/1921 [00:19<00:08, 72.18it/s]\n",
      " 70%|█████████████████████████████▎            | 1343/1921 [00:19<00:07, 72.41it/s]\n",
      " 70%|█████████████████████████████▌            | 1351/1921 [00:19<00:07, 72.75it/s]\n",
      " 71%|█████████████████████████████▋            | 1359/1921 [00:19<00:07, 72.80it/s]\n",
      " 71%|█████████████████████████████▉            | 1367/1921 [00:19<00:07, 72.84it/s]\n",
      " 72%|██████████████████████████████            | 1375/1921 [00:19<00:07, 72.47it/s]\n",
      " 72%|██████████████████████████████▏           | 1383/1921 [00:19<00:07, 72.60it/s]\n",
      " 72%|██████████████████████████████▍           | 1391/1921 [00:19<00:07, 72.50it/s]\n",
      " 73%|██████████████████████████████▌           | 1399/1921 [00:19<00:07, 72.42it/s]\n",
      " 73%|██████████████████████████████▊           | 1407/1921 [00:20<00:07, 72.78it/s]\n",
      " 74%|██████████████████████████████▉           | 1415/1921 [00:20<00:06, 72.83it/s]\n",
      " 74%|███████████████████████████████           | 1423/1921 [00:20<00:07, 69.81it/s]\n",
      " 74%|███████████████████████████████▎          | 1431/1921 [00:20<00:07, 69.25it/s]\n",
      " 75%|███████████████████████████████▍          | 1438/1921 [00:20<00:07, 67.14it/s]\n",
      " 75%|███████████████████████████████▌          | 1445/1921 [00:20<00:07, 63.76it/s]\n",
      " 76%|███████████████████████████████▋          | 1452/1921 [00:20<00:08, 55.99it/s]\n",
      " 76%|███████████████████████████████▉          | 1458/1921 [00:20<00:08, 52.40it/s]\n",
      " 76%|████████████████████████████████          | 1464/1921 [00:21<00:08, 53.49it/s]\n",
      " 77%|████████████████████████████████▏         | 1470/1921 [00:21<00:08, 53.56it/s]\n",
      " 77%|████████████████████████████████▎         | 1476/1921 [00:21<00:08, 52.62it/s]\n",
      " 77%|████████████████████████████████▍         | 1483/1921 [00:21<00:07, 56.34it/s]\n",
      " 78%|████████████████████████████████▌         | 1490/1921 [00:21<00:07, 58.68it/s]\n"
     ]
    },
    {
     "name": "stderr",
     "output_type": "stream",
     "text": [
      " 78%|████████████████████████████████▊         | 1498/1921 [00:21<00:06, 62.18it/s]\n",
      " 78%|████████████████████████████████▉         | 1506/1921 [00:21<00:06, 65.22it/s]\n",
      " 79%|█████████████████████████████████         | 1514/1921 [00:21<00:06, 67.70it/s]\n",
      " 79%|█████████████████████████████████▎        | 1522/1921 [00:21<00:05, 69.37it/s]\n",
      " 80%|█████████████████████████████████▍        | 1530/1921 [00:21<00:05, 71.14it/s]\n",
      " 80%|█████████████████████████████████▋        | 1538/1921 [00:22<00:05, 71.86it/s]\n",
      " 80%|█████████████████████████████████▊        | 1546/1921 [00:22<00:05, 71.99it/s]\n",
      " 81%|█████████████████████████████████▉        | 1554/1921 [00:22<00:05, 69.26it/s]\n",
      " 81%|██████████████████████████████████▏       | 1561/1921 [00:22<00:05, 66.96it/s]\n",
      " 82%|██████████████████████████████████▎       | 1568/1921 [00:22<00:05, 65.42it/s]\n",
      " 82%|██████████████████████████████████▍       | 1575/1921 [00:22<00:05, 65.11it/s]\n",
      " 82%|██████████████████████████████████▌       | 1582/1921 [00:22<00:05, 64.72it/s]\n",
      " 83%|██████████████████████████████████▋       | 1589/1921 [00:22<00:05, 65.34it/s]\n",
      " 83%|██████████████████████████████████▉       | 1596/1921 [00:22<00:04, 66.53it/s]\n",
      " 83%|███████████████████████████████████       | 1604/1921 [00:23<00:04, 67.98it/s]\n",
      " 84%|███████████████████████████████████▏      | 1612/1921 [00:23<00:04, 69.57it/s]\n",
      " 84%|███████████████████████████████████▍      | 1620/1921 [00:23<00:04, 70.54it/s]\n",
      " 85%|███████████████████████████████████▌      | 1628/1921 [00:23<00:04, 71.62it/s]\n",
      " 85%|███████████████████████████████████▊      | 1636/1921 [00:23<00:03, 72.40it/s]\n",
      " 86%|███████████████████████████████████▉      | 1644/1921 [00:23<00:03, 72.55it/s]\n",
      " 86%|████████████████████████████████████      | 1652/1921 [00:23<00:03, 72.66it/s]\n",
      " 86%|████████████████████████████████████▎     | 1660/1921 [00:23<00:03, 72.74it/s]\n",
      " 87%|████████████████████████████████████▍     | 1668/1921 [00:23<00:03, 72.01it/s]\n",
      " 87%|████████████████████████████████████▋     | 1676/1921 [00:24<00:03, 72.29it/s]\n",
      " 88%|████████████████████████████████████▊     | 1684/1921 [00:24<00:03, 73.26it/s]\n",
      " 88%|████████████████████████████████████▉     | 1692/1921 [00:24<00:03, 68.30it/s]\n",
      " 88%|█████████████████████████████████████▏    | 1699/1921 [00:24<00:03, 68.06it/s]\n",
      " 89%|█████████████████████████████████████▎    | 1707/1921 [00:24<00:03, 68.91it/s]\n",
      " 89%|█████████████████████████████████████▍    | 1715/1921 [00:24<00:02, 70.25it/s]\n",
      " 90%|█████████████████████████████████████▋    | 1723/1921 [00:24<00:02, 71.03it/s]\n",
      " 90%|█████████████████████████████████████▊    | 1731/1921 [00:24<00:02, 71.77it/s]\n",
      " 91%|██████████████████████████████████████    | 1739/1921 [00:24<00:02, 68.79it/s]\n",
      " 91%|██████████████████████████████████████▏   | 1746/1921 [00:25<00:02, 67.21it/s]\n",
      " 91%|██████████████████████████████████████▎   | 1754/1921 [00:25<00:02, 68.30it/s]\n",
      " 92%|██████████████████████████████████████▌   | 1762/1921 [00:25<00:02, 68.91it/s]\n",
      " 92%|██████████████████████████████████████▋   | 1770/1921 [00:25<00:02, 69.88it/s]\n",
      " 93%|██████████████████████████████████████▊   | 1778/1921 [00:25<00:02, 70.21it/s]\n",
      " 93%|███████████████████████████████████████   | 1786/1921 [00:25<00:01, 71.57it/s]\n",
      " 93%|███████████████████████████████████████▏  | 1794/1921 [00:25<00:01, 71.78it/s]\n",
      " 94%|███████████████████████████████████████▍  | 1802/1921 [00:25<00:01, 70.78it/s]\n",
      " 94%|███████████████████████████████████████▌  | 1810/1921 [00:26<00:01, 67.97it/s]\n",
      " 95%|███████████████████████████████████████▋  | 1817/1921 [00:26<00:01, 67.22it/s]\n",
      " 95%|███████████████████████████████████████▉  | 1824/1921 [00:26<00:01, 65.80it/s]\n",
      " 95%|████████████████████████████████████████  | 1831/1921 [00:26<00:01, 63.25it/s]\n",
      " 96%|████████████████████████████████████████▏ | 1838/1921 [00:26<00:01, 63.42it/s]\n",
      " 96%|████████████████████████████████████████▎ | 1845/1921 [00:26<00:01, 62.51it/s]\n",
      " 96%|████████████████████████████████████████▍ | 1852/1921 [00:26<00:01, 60.31it/s]\n",
      " 97%|████████████████████████████████████████▋ | 1859/1921 [00:26<00:01, 59.90it/s]\n",
      " 97%|████████████████████████████████████████▊ | 1866/1921 [00:26<00:00, 58.43it/s]\n",
      " 98%|████████████████████████████████████████▉ | 1873/1921 [00:27<00:00, 59.79it/s]\n",
      " 98%|█████████████████████████████████████████ | 1880/1921 [00:27<00:00, 59.70it/s]\n",
      " 98%|█████████████████████████████████████████▏| 1886/1921 [00:27<00:00, 59.13it/s]\n",
      " 98%|█████████████████████████████████████████▎| 1892/1921 [00:27<00:00, 58.40it/s]\n",
      " 99%|█████████████████████████████████████████▍| 1898/1921 [00:27<00:00, 57.90it/s]\n",
      " 99%|█████████████████████████████████████████▋| 1904/1921 [00:27<00:00, 57.55it/s]\n",
      " 99%|█████████████████████████████████████████▊| 1911/1921 [00:27<00:00, 59.44it/s]\n",
      "100%|█████████████████████████████████████████▉| 1917/1921 [00:27<00:00, 58.78it/s]\n",
      "100%|██████████████████████████████████████████| 1921/1921 [00:27<00:00, 68.89it/s]"
     ]
    }
   ],
   "source": [
    "schooLoc = school[['school_code', lat, lot]].groupby(['school_code']).agg('mean')\n",
    "schoolIdx = schooLoc.index.tolist()\n",
    "schooLoc = schooLoc.values\n",
    "schooLoc= dict(zip(schoolIdx, schooLoc))\n",
    "\n",
    "schDist = {a:{s:None for s in schoolIdx} for a in apartIdx} # row(0) : apart, col(1) : station\n",
    "for s in tqdm(schoolIdx):\n",
    "    for a in apartIdx:\n",
    "        width = abs(schooLoc[s][0] - apartment[a][0])*110000\n",
    "        height = abs(schooLoc[s][1] - apartment[a][1])*88740\n",
    "        dist = math.sqrt(width**2+height**2)\n",
    "        schDist[a][s] = dist"
   ]
  },
  {
   "cell_type": "code",
   "execution_count": null,
   "metadata": {},
   "outputs": [],
   "source": []
  }
 ],
 "metadata": {
  "kernelspec": {
   "display_name": "Python 3",
   "language": "python",
   "name": "python3"
  },
  "language_info": {
   "codemirror_mode": {
    "name": "ipython",
    "version": 3
   },
   "file_extension": ".py",
   "mimetype": "text/x-python",
   "name": "python",
   "nbconvert_exporter": "python",
   "pygments_lexer": "ipython3",
   "version": "3.6.7"
  }
 },
 "nbformat": 4,
 "nbformat_minor": 2
}
