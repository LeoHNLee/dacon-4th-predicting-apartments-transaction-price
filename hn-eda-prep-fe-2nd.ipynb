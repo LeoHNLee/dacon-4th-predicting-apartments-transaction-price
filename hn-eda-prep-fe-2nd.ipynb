{
 "cells": [
  {
   "cell_type": "markdown",
   "metadata": {},
   "source": [
    "# EDA Prep FE 2nd\n",
    "\n",
    "## 목표\n",
    "\n",
    "- 아파트 아이디 변환 : 순서가 있는 int형 카테고리\n",
    "- 평당가 계산하기\n",
    "    1. row별로 평당가 계산 - 기준은? 공급면적, 전용면적을 구한 뒤, 수식으로 공용면적도 구하기\n",
    "    2. 동별로 평당가 mean, median, std 구해서 비교ㅁ\n",
    "- school, subway : eda\n",
    "\n",
    "## 결과\n",
    "\n",
    "- 아파트 아이디 변환 : test에만 있는 12개 단지는 mid값으로 넣음\n",
    "- null data 추정 : 그리드 서치로 lgb 파라미터 조절한 다음 바로 추정\n",
    "\n",
    "### subway\n",
    "\n",
    "- 역세권\n",
    "    - 1차 : 200m\n",
    "    - 2차 : 500m\n",
    "    - 3차 : 800m : 1km가 아닌 이유 : 단순히 직선거리로 재기 때문에 실소요거리는 더 길 것임\n",
    "- 더블 역세권\n",
    "    - 환승역\n",
    "    - 나머지는 기준이 애매함. 일단 3차도 도보 10분 이내이므로 3차까지 포함해서 계산\n",
    "- 지하철역의 가치 : logPrice\n",
    "    - 역세권에 속하는 단지 아이디의 타겟값을 활용해서 지하철역의 가치를 계산할 수 있음\n",
    "    - 예) 강남역, 판교역 등은 다른 역주변보다 비쌈\n",
    "- 지하철역 구/동 : disTown - 법정동코드 000000 형태\n",
    "- 환승역 갯수 : noLine\n",
    "    \n",
    "### school\n",
    "\n",
    "- private\n",
    "- onlySex\n",
    "\n",
    "## 부족한 부분\n",
    "\n",
    "- 아파트 단지와 지하철/학교와의 거리 구하기 연산 시간 너무 길다...\n",
    "- 평당가 계산하기 : logPrice로 계산해야 할까, raw price로 계산한 뒤에 log를 씌우는 게 맞을까, 일단 후자 택\n",
    "\n",
    "## 새로운 아이디어\n",
    "\n",
    "- 평당가를 구하자\n",
    "- 법정동 가치 구하기 : 평당가를 활용해서 가치 산출\n",
    "    - 지하철 가치 산출 가능\n",
    "    - 학교 가치 산출 가능"
   ]
  },
  {
   "cell_type": "code",
   "execution_count": 5,
   "metadata": {
    "ExecuteTime": {
     "end_time": "2019-01-15T09:36:42.969639Z",
     "start_time": "2019-01-15T09:36:42.190688Z"
    },
    "scrolled": true
   },
   "outputs": [
    {
     "name": "stdout",
     "output_type": "stream",
     "text": [
      "<class 'pandas.core.frame.DataFrame'>\n",
      "RangeIndex: 1601458 entries, 0 to 1601457\n",
      "Data columns (total 25 columns):\n",
      "key                                   1601458 non-null int64\n",
      "apartment_id                          1601458 non-null int64\n",
      "city                                  1601458 non-null int64\n",
      "transaction_year_month                1601458 non-null int64\n",
      "transaction_date                      1601458 non-null object\n",
      "year_of_completion                    1601458 non-null int64\n",
      "exclusive_use_area                    1601458 non-null float64\n",
      "floor                                 1601458 non-null int64\n",
      "latitude                              1601458 non-null float64\n",
      "longitude                             1601458 non-null float64\n",
      "address_by_law                        1601458 non-null int64\n",
      "total_parking_capacity_in_site        1509645 non-null float64\n",
      "total_household_count_in_sites        1601458 non-null int64\n",
      "apartment_building_count_in_sites     1601458 non-null int64\n",
      "tallest_building_in_sites             1601449 non-null float64\n",
      "lowest_building_in_sites              1601449 non-null float64\n",
      "heat_type                             1599441 non-null object\n",
      "heat_fuel                             1591791 non-null object\n",
      "room_id                               1601458 non-null int64\n",
      "supply_area                           1601458 non-null float64\n",
      "total_household_count_of_area_type    1601458 non-null int64\n",
      "room_count                            1600767 non-null float64\n",
      "bathroom_count                        1600767 non-null float64\n",
      "front_door_structure                  1587566 non-null object\n",
      "transaction_real_price                1601458 non-null int64\n",
      "dtypes: float64(9), int64(12), object(4)\n",
      "memory usage: 305.5+ MB\n"
     ]
    }
   ],
   "source": [
    "train.info()"
   ]
  },
  {
   "cell_type": "code",
   "execution_count": 1,
   "metadata": {
    "ExecuteTime": {
     "end_time": "2019-01-15T09:36:01.771790Z",
     "start_time": "2019-01-15T09:35:58.023852Z"
    }
   },
   "outputs": [
    {
     "data": {
      "text/plain": [
       "0"
      ]
     },
     "execution_count": 1,
     "metadata": {},
     "output_type": "execute_result"
    }
   ],
   "source": [
    "import pandas as pd\n",
    "import numpy as np\n",
    "import os, sys, warnings, re, time, gc,math\n",
    "from tqdm import tqdm\n",
    "import matplotlib.pyplot as plt\n",
    "import seaborn as sns\n",
    "from statsmodels.distributions.empirical_distribution import ECDF\n",
    "from sklearn.linear_model import RidgeCV as ridge\n",
    "import lightgbm as lgb\n",
    "\n",
    "warnings.filterwarnings('ignore')\n",
    "sys.path.append(os.path.abspath(os.path.dirname('../')))\n",
    "from modules import eda\n",
    "gc.collect()"
   ]
  },
  {
   "cell_type": "code",
   "execution_count": 19,
   "metadata": {
    "ExecuteTime": {
     "end_time": "2019-01-15T10:28:18.382829Z",
     "start_time": "2019-01-15T10:28:18.181368Z"
    }
   },
   "outputs": [
    {
     "name": "stdout",
     "output_type": "stream",
     "text": [
      "Wall time: 194 ms\n"
     ]
    }
   ],
   "source": [
    "%%time\n",
    "path = './datasets/origin/'\n",
    "# train = pd.read_csv(path+'train.csv')\n",
    "# test = pd.read_csv(path+'test.csv')\n",
    "school = pd.read_csv(path+'Schools.csv')\n",
    "# subway = pd.read_csv(path+'Subways.csv')\n",
    "gc.collect()"
   ]
  },
  {
   "cell_type": "code",
   "execution_count": 18,
   "metadata": {
    "ExecuteTime": {
     "end_time": "2019-01-15T10:28:15.735908Z",
     "start_time": "2019-01-15T10:28:03.905551Z"
    }
   },
   "outputs": [],
   "source": [
    "path = './datasets/'\n",
    "train = pd.read_csv(path+'trainFE3rd.csv')\n",
    "test = pd.read_csv(path+'testFE3rd.csv')"
   ]
  },
  {
   "cell_type": "code",
   "execution_count": 28,
   "metadata": {
    "ExecuteTime": {
     "end_time": "2019-01-14T14:46:30.446996Z",
     "start_time": "2019-01-14T14:44:57.957369Z"
    }
   },
   "outputs": [],
   "source": [
    "train.to_csv('./datasets/trainFE3rd.csv', index=False)\n",
    "test.to_csv('./datasets/testFE3rd.csv', index=False)\n",
    "# subway.to_csv('./datasets/subwayFE2nd.csv', index=False)\n",
    "# school.to_csv('./datasets/schoolFE2nd.csv', index=False)\n",
    "\n",
    "# groupedTowns.to_csv('./datasets/groupedTown.csv', index=False)\n",
    "# subDist.to_csv('./datasets/subDist.csv', index=False)"
   ]
  },
  {
   "cell_type": "code",
   "execution_count": 3,
   "metadata": {},
   "outputs": [],
   "source": [
    "def colInfo(col, train=train):\n",
    "    dtype = train[col].dtypes\n",
    "    print(dtype)\n",
    "    if dtype == 'float64' : \n",
    "        print(train[col].describe())\n",
    "    else:\n",
    "        uniq = train[col].unique()\n",
    "        if dtype == 'O' or len(uniq)<100: \n",
    "            print(train[col].value_counts(dropna=False))\n",
    "        else : \n",
    "            print(train[col].describe())\n",
    "    isna(col, train)\n",
    "            \n",
    "def isna(col, train=train):\n",
    "    print('train na : ', sum(train[col].isna()))"
   ]
  },
  {
   "cell_type": "code",
   "execution_count": 5,
   "metadata": {},
   "outputs": [],
   "source": [
    "# 연산용 코드모음\n",
    "apart = 'apartment_id'\n",
    "target = 'logPrice'\n",
    "lat = 'latitude'\n",
    "lot = 'longitude'\n",
    "allUniq = list(set(train[apart].unique().tolist()+test[apart].unique().tolist()))\n",
    "mid = (len(allUniq)-12)//2\n",
    "onlyTest = list(set(test[apart].unique())-set(train[apart].unique()))\n",
    "\n",
    "# 아파트명 순서가 있는 int형 index로 변형\n",
    "meanApart = train[[target, apart]].groupby([apart]).agg('mean')\n",
    "meanApart=meanApart.sort_values(by=[target])\n",
    "apartCnvt = {}\n",
    "apartId = meanApart.index.tolist()\n",
    "for i in range(mid):\n",
    "    apartCnvt[apartId[i]] = i+1\n",
    "for i in range(12):\n",
    "    apartCnvt[onlyTest[i]] = mid+i+1\n",
    "for i in range(mid, mid*2):\n",
    "    apartCnvt[apartId[i]] = i+13\n",
    "train['apart'] = train[apart].apply(lambda row : apartCnvt[row])\n",
    "test['apart'] = test[apart].apply(lambda row : apartCnvt[row])\n",
    "\n",
    "# # 지하철 역과의 거리 구하기\n",
    "# station = subway['station_id'].tolist()\n",
    "# apartId = test[apart].unique().tolist()\n",
    "# subDict = {}\n",
    "# length = len(apartId)\n",
    "# for stat in station:\n",
    "#     subDict[stat] = [None for i in range(length)]\n",
    "# subDist = pd.DataFrame(subDict, index=apartId)\n",
    "# apartLoc = test[[apart, lat, lot]].groupby([apart]).agg('mean')\n",
    "# statLoc = subway[['station_id', lat, lot]].groupby(['station_id']).agg('mean')\n",
    "# for s in station:\n",
    "#     for a in apartId:\n",
    "#         width = (statLoc.loc[s, lat] - apartLoc.loc[a, lat])*88740\n",
    "#         height = (statLoc.loc[s, lot] - apartLoc.loc[a, lot])*110000\n",
    "#         subDist.loc[a, s]=math.sqrt(width**2+height**2)\n",
    "\n",
    "# 지하철역 구/동 위치 구하기\n",
    "disTownPrice = train[['disTown', target]].groupby(['disTown']).agg(['mean','median'])\n",
    "def disTownCnvrt(x):\n",
    "    try : return int(str(x)[2:8])\n",
    "    except ValueError : return np.nan\n",
    "subway['disTown'] = subway['address_by_law'].apply(lambda row : disTownCnvrt(row))\n",
    "\n",
    "# 지하철역 가치 구하기\n",
    "def priceCnvrt(x):\n",
    "    try : return disTownPrice[target]['median'][int(x)]\n",
    "    except KeyError : return np.nan\n",
    "    except ValueError : return np.nan\n",
    "subway[target] = subway['disTown'].apply(lambda row : priceCnvrt(row))\n",
    "\n",
    "# 지하철역 노선 갯수\n",
    "subway['noLine'] = subway['subway_line'].apply(lambda row : len(row.split(',')))"
   ]
  },
  {
   "cell_type": "markdown",
   "metadata": {},
   "source": [
    "## Apartment id"
   ]
  },
  {
   "cell_type": "code",
   "execution_count": 5,
   "metadata": {},
   "outputs": [],
   "source": [
    "apart = 'apartment_id'\n",
    "# target = 'logPrice'\n",
    "# train[target] = np.log(train['transaction_real_price'])\n",
    "# train.to_csv('./datasets/trainFe1st.csv', index=False)"
   ]
  },
  {
   "cell_type": "code",
   "execution_count": 18,
   "metadata": {},
   "outputs": [
    {
     "name": "stdout",
     "output_type": "stream",
     "text": [
      "3918\n",
      "only test {36224, 38465, 22247, 36841, 37353, 37354, 37297, 37431, 26553, 37180, 33373, 37086}\n",
      "only train set()\n",
      "1953\n"
     ]
    }
   ],
   "source": [
    "allUniq = list(set(train[apart].unique().tolist()+test[apart].unique().tolist()))\n",
    "print(len(allUniq))\n",
    "print('only test', set(test[apart].unique())-set(train[apart].unique()))\n",
    "print('only train', set(train[apart].unique())-set(test[apart].unique()))\n",
    "mid = (len(allUniq)-12)//2\n",
    "print(mid)"
   ]
  },
  {
   "cell_type": "code",
   "execution_count": 8,
   "metadata": {
    "collapsed": true
   },
   "outputs": [
    {
     "name": "stdout",
     "output_type": "stream",
     "text": [
      "3906\n",
      "               logPrice\n",
      "apartment_id           \n",
      "3             20.401682\n",
      "4             20.069339\n",
      "5             20.125429\n",
      "24            18.792244\n",
      "26            21.045349\n",
      "30            20.431576\n",
      "31            21.274273\n",
      "32            21.091375\n",
      "33            20.426868\n",
      "34            20.474804\n",
      "               logPrice\n",
      "apartment_id           \n",
      "3             20.382581\n",
      "4             20.045308\n",
      "5             20.177104\n",
      "24            18.682810\n",
      "26            21.026528\n",
      "30            20.425086\n",
      "31            21.239399\n",
      "32            21.061784\n",
      "33            20.453365\n",
      "34            20.489188\n"
     ]
    }
   ],
   "source": [
    "onlyTest = list(set(test[apart].unique())-set(train[apart].unique()))\n",
    "midApart = train[[target, apart]].groupby([apart]).agg('median')\n",
    "meanApart = train[[target, apart]].groupby([apart]).agg('mean')\n",
    "print(midApart.head(10))\n",
    "print(meanApart.head(10))"
   ]
  },
  {
   "cell_type": "code",
   "execution_count": 12,
   "metadata": {
    "collapsed": true
   },
   "outputs": [
    {
     "name": "stdout",
     "output_type": "stream",
     "text": [
      "Skewed:  -0.07944718426559089\n",
      "Kurtosis:  0.2178878686573391\n"
     ]
    },
    {
     "data": {
      "image/png": "[encoded data removed]",
      "text/plain": [
       "<Figure size 432x288 with 1 Axes>"
      ]
     },
     "metadata": {
      "needs_background": "light"
     },
     "output_type": "display_data"
    }
   ],
   "source": [
    "sns.distplot(midApart[target])\n",
    "print(\"Skewed: \", midApart[target].skew())\n",
    "print(\"Kurtosis: \", midApart[target].kurt())"
   ]
  },
  {
   "cell_type": "code",
   "execution_count": 11,
   "metadata": {
    "collapsed": true
   },
   "outputs": [
    {
     "name": "stdout",
     "output_type": "stream",
     "text": [
      "Skewed:  -0.08724618280060677\n",
      "Kurtosis:  0.08632898784966159\n"
     ]
    },
    {
     "data": {
      "image/png": "[encoded data removed]",
      "text/plain": [
       "<Figure size 432x288 with 1 Axes>"
      ]
     },
     "metadata": {
      "needs_background": "light"
     },
     "output_type": "display_data"
    }
   ],
   "source": [
    "sns.distplot(meanApart[target])\n",
    "print(\"Skewed: \", meanApart[target].skew())\n",
    "print(\"Kurtosis: \", meanApart[target].kurt())"
   ]
  },
  {
   "cell_type": "code",
   "execution_count": 19,
   "metadata": {},
   "outputs": [
    {
     "name": "stdout",
     "output_type": "stream",
     "text": [
      "3918\n"
     ]
    }
   ],
   "source": [
    "meanApart=meanApart.sort_values(by=[target])\n",
    "apartCnvt = {}\n",
    "apartId = meanApart.index.tolist()\n",
    "for i in range(mid):\n",
    "    apartCnvt[apartId[i]] = i+1\n",
    "for i in range(12):\n",
    "    apartCnvt[onlyTest[i]] = mid+i+1\n",
    "for i in range(mid, mid*2):\n",
    "    apartCnvt[apartId[i]] = i+13\n",
    "print(len(set(apartCnvt.keys())))"
   ]
  },
  {
   "cell_type": "code",
   "execution_count": 21,
   "metadata": {},
   "outputs": [],
   "source": [
    "train['apart'] = train[apart].apply(lambda row : apartCnvt[row])\n",
    "test['apart'] = test[apart].apply(lambda row : apartCnvt[row])"
   ]
  },
  {
   "cell_type": "markdown",
   "metadata": {},
   "source": [
    "## 평당가 계산\n",
    "\n",
    "- 1$m^2$당 계산"
   ]
  },
  {
   "cell_type": "code",
   "execution_count": 18,
   "metadata": {},
   "outputs": [
    {
     "data": {
      "text/plain": [
       "Index(['key', 'apartment_id', 'city', 'transaction_year_month',\n",
       "       'transaction_date', 'year_of_completion', 'exclusive_use_area', 'floor',\n",
       "       'latitude', 'longitude', 'address_by_law',\n",
       "       'total_parking_capacity_in_site', 'total_household_count_in_sites',\n",
       "       'apartment_building_count_in_sites', 'tallest_building_in_sites',\n",
       "       'lowest_building_in_sites', 'heat_type', 'heat_fuel', 'room_id',\n",
       "       'supply_area', 'total_household_count_of_area_type', 'room_count',\n",
       "       'bathroom_count', 'front_door_structure', 'transaction_real_price',\n",
       "       'transYear', 'transMonth', 'transDate', 'transYMD', 'transOrdered',\n",
       "       'commonArea', 'areaRate', 'district', 'town', 'disTown', 'cityDisTown',\n",
       "       'logPrice', 'apart', 'exAreaPrice', 'supAreaPrice', 'comAreaPrice',\n",
       "       'logExAreaPrice', 'logSupAreaPrice'],\n",
       "      dtype='object')"
      ]
     },
     "execution_count": 18,
     "metadata": {},
     "output_type": "execute_result"
    }
   ],
   "source": [
    "train.columns"
   ]
  },
  {
   "cell_type": "code",
   "execution_count": 11,
   "metadata": {},
   "outputs": [
    {
     "name": "stdout",
     "output_type": "stream",
     "text": [
      "Wall time: 1min 4s\n"
     ]
    }
   ],
   "source": [
    "%%time\n",
    "target = 'transaction_real_price'\n",
    "train['exAreaPrice'] = train.apply(lambda row : row[target]/row['exclusive_use_area'],axis=1)\n",
    "train['supAreaPrice'] = train.apply(lambda row : row[target]/row['supply_area'],axis=1)\n",
    "\n",
    "test['exAreaPrice'] = test.apply(lambda row : row[target]/row['exclusive_use_area'],axis=1)\n",
    "test['supAreaPrice'] = test.apply(lambda row : row[target]/row['supply_area'],axis=1)"
   ]
  },
  {
   "cell_type": "code",
   "execution_count": 13,
   "metadata": {},
   "outputs": [
    {
     "name": "stdout",
     "output_type": "stream",
     "text": [
      "Wall time: 44.9 s\n"
     ]
    }
   ],
   "source": [
    "# %%time\n",
    "# 이건 뭔가 실패한 듯\n",
    "# train['comAreaPrice']=train.apply(lambda row : row['supAreaPrice']-(row['exAreaPrice']*row['areaRate']),axis=1)\n",
    "# test['comAreaPrice']=test.apply(lambda row : row['supAreaPrice']-(row['exAreaPrice']*row['areaRate']),axis=1)"
   ]
  },
  {
   "cell_type": "code",
   "execution_count": 14,
   "metadata": {
    "collapsed": true
   },
   "outputs": [
    {
     "data": {
      "text/html": [
       "<div>\n",
       "<style scoped>\n",
       "    .dataframe tbody tr th:only-of-type {\n",
       "        vertical-align: middle;\n",
       "    }\n",
       "\n",
       "    .dataframe tbody tr th {\n",
       "        vertical-align: top;\n",
       "    }\n",
       "\n",
       "    .dataframe thead th {\n",
       "        text-align: right;\n",
       "    }\n",
       "</style>\n",
       "<table border=\"1\" class=\"dataframe\">\n",
       "  <thead>\n",
       "    <tr style=\"text-align: right;\">\n",
       "      <th></th>\n",
       "      <th>comAreaPrice</th>\n",
       "      <th>exAreaPrice</th>\n",
       "      <th>supAreaPrice</th>\n",
       "    </tr>\n",
       "  </thead>\n",
       "  <tbody>\n",
       "    <tr>\n",
       "      <th>0</th>\n",
       "      <td>0.000000e+00</td>\n",
       "      <td>4.532996e+06</td>\n",
       "      <td>3.275941e+06</td>\n",
       "    </tr>\n",
       "    <tr>\n",
       "      <th>1</th>\n",
       "      <td>-4.656613e-10</td>\n",
       "      <td>4.507550e+06</td>\n",
       "      <td>3.257860e+06</td>\n",
       "    </tr>\n",
       "    <tr>\n",
       "      <th>2</th>\n",
       "      <td>0.000000e+00</td>\n",
       "      <td>3.071298e+06</td>\n",
       "      <td>2.321725e+06</td>\n",
       "    </tr>\n",
       "    <tr>\n",
       "      <th>3</th>\n",
       "      <td>0.000000e+00</td>\n",
       "      <td>2.551809e+06</td>\n",
       "      <td>1.890034e+06</td>\n",
       "    </tr>\n",
       "    <tr>\n",
       "      <th>4</th>\n",
       "      <td>4.656613e-10</td>\n",
       "      <td>2.626149e+06</td>\n",
       "      <td>2.191952e+06</td>\n",
       "    </tr>\n",
       "    <tr>\n",
       "      <th>5</th>\n",
       "      <td>0.000000e+00</td>\n",
       "      <td>4.886952e+06</td>\n",
       "      <td>3.776847e+06</td>\n",
       "    </tr>\n",
       "    <tr>\n",
       "      <th>6</th>\n",
       "      <td>0.000000e+00</td>\n",
       "      <td>4.450000e+06</td>\n",
       "      <td>3.166133e+06</td>\n",
       "    </tr>\n",
       "    <tr>\n",
       "      <th>7</th>\n",
       "      <td>-4.656613e-10</td>\n",
       "      <td>4.896177e+06</td>\n",
       "      <td>3.978907e+06</td>\n",
       "    </tr>\n",
       "    <tr>\n",
       "      <th>8</th>\n",
       "      <td>0.000000e+00</td>\n",
       "      <td>3.652215e+06</td>\n",
       "      <td>2.879703e+06</td>\n",
       "    </tr>\n",
       "    <tr>\n",
       "      <th>9</th>\n",
       "      <td>-4.656613e-10</td>\n",
       "      <td>5.321989e+06</td>\n",
       "      <td>3.713620e+06</td>\n",
       "    </tr>\n",
       "  </tbody>\n",
       "</table>\n",
       "</div>"
      ],
      "text/plain": [
       "   comAreaPrice   exAreaPrice  supAreaPrice\n",
       "0  0.000000e+00  4.532996e+06  3.275941e+06\n",
       "1 -4.656613e-10  4.507550e+06  3.257860e+06\n",
       "2  0.000000e+00  3.071298e+06  2.321725e+06\n",
       "3  0.000000e+00  2.551809e+06  1.890034e+06\n",
       "4  4.656613e-10  2.626149e+06  2.191952e+06\n",
       "5  0.000000e+00  4.886952e+06  3.776847e+06\n",
       "6  0.000000e+00  4.450000e+06  3.166133e+06\n",
       "7 -4.656613e-10  4.896177e+06  3.978907e+06\n",
       "8  0.000000e+00  3.652215e+06  2.879703e+06\n",
       "9 -4.656613e-10  5.321989e+06  3.713620e+06"
      ]
     },
     "execution_count": 14,
     "metadata": {},
     "output_type": "execute_result"
    }
   ],
   "source": [
    "train[['comAreaPrice','exAreaPrice','supAreaPrice']].head(10)"
   ]
  },
  {
   "cell_type": "code",
   "execution_count": 16,
   "metadata": {},
   "outputs": [],
   "source": [
    "train['logExAreaPrice'] = np.log(train['exAreaPrice'])\n",
    "test['logExAreaPrice'] = np.log(test['exAreaPrice'])\n",
    "train['logSupAreaPrice'] = np.log(train['supAreaPrice'])\n",
    "test['logSupAreaPrice'] = np.log(test['supAreaPrice'])"
   ]
  },
  {
   "cell_type": "code",
   "execution_count": 17,
   "metadata": {
    "collapsed": true
   },
   "outputs": [
    {
     "data": {
      "text/html": [
       "<div>\n",
       "<style scoped>\n",
       "    .dataframe tbody tr th:only-of-type {\n",
       "        vertical-align: middle;\n",
       "    }\n",
       "\n",
       "    .dataframe tbody tr th {\n",
       "        vertical-align: top;\n",
       "    }\n",
       "\n",
       "    .dataframe thead th {\n",
       "        text-align: right;\n",
       "    }\n",
       "</style>\n",
       "<table border=\"1\" class=\"dataframe\">\n",
       "  <thead>\n",
       "    <tr style=\"text-align: right;\">\n",
       "      <th></th>\n",
       "      <th>logExAreaPrice</th>\n",
       "      <th>logSupAreaPrice</th>\n",
       "    </tr>\n",
       "  </thead>\n",
       "  <tbody>\n",
       "    <tr>\n",
       "      <th>0</th>\n",
       "      <td>15.326894</td>\n",
       "      <td>15.002116</td>\n",
       "    </tr>\n",
       "    <tr>\n",
       "      <th>1</th>\n",
       "      <td>15.321264</td>\n",
       "      <td>14.996581</td>\n",
       "    </tr>\n",
       "    <tr>\n",
       "      <th>2</th>\n",
       "      <td>14.937611</td>\n",
       "      <td>14.657821</td>\n",
       "    </tr>\n",
       "    <tr>\n",
       "      <th>3</th>\n",
       "      <td>14.752313</td>\n",
       "      <td>14.452106</td>\n",
       "    </tr>\n",
       "    <tr>\n",
       "      <th>4</th>\n",
       "      <td>14.781029</td>\n",
       "      <td>14.600303</td>\n",
       "    </tr>\n",
       "    <tr>\n",
       "      <th>5</th>\n",
       "      <td>15.402079</td>\n",
       "      <td>15.144400</td>\n",
       "    </tr>\n",
       "    <tr>\n",
       "      <th>6</th>\n",
       "      <td>15.308415</td>\n",
       "      <td>14.968022</td>\n",
       "    </tr>\n",
       "    <tr>\n",
       "      <th>7</th>\n",
       "      <td>15.403965</td>\n",
       "      <td>15.196518</td>\n",
       "    </tr>\n",
       "    <tr>\n",
       "      <th>8</th>\n",
       "      <td>15.110844</td>\n",
       "      <td>14.873198</td>\n",
       "    </tr>\n",
       "    <tr>\n",
       "      <th>9</th>\n",
       "      <td>15.487358</td>\n",
       "      <td>15.127518</td>\n",
       "    </tr>\n",
       "  </tbody>\n",
       "</table>\n",
       "</div>"
      ],
      "text/plain": [
       "   logExAreaPrice  logSupAreaPrice\n",
       "0       15.326894        15.002116\n",
       "1       15.321264        14.996581\n",
       "2       14.937611        14.657821\n",
       "3       14.752313        14.452106\n",
       "4       14.781029        14.600303\n",
       "5       15.402079        15.144400\n",
       "6       15.308415        14.968022\n",
       "7       15.403965        15.196518\n",
       "8       15.110844        14.873198\n",
       "9       15.487358        15.127518"
      ]
     },
     "execution_count": 17,
     "metadata": {},
     "output_type": "execute_result"
    }
   ],
   "source": [
    "train[['logExAreaPrice','logSupAreaPrice']].head(10)"
   ]
  },
  {
   "cell_type": "markdown",
   "metadata": {},
   "source": [
    "### 동별 평단가 구하기"
   ]
  },
  {
   "cell_type": "code",
   "execution_count": 39,
   "metadata": {},
   "outputs": [
    {
     "name": "stdout",
     "output_type": "stream",
     "text": [
      "368\n"
     ]
    }
   ],
   "source": [
    "towns = set(test['cityDisTown'].unique().tolist())\n",
    "print(len(towns))"
   ]
  },
  {
   "cell_type": "code",
   "execution_count": 8,
   "metadata": {
    "ExecuteTime": {
     "end_time": "2019-01-15T06:31:10.699592Z",
     "start_time": "2019-01-15T06:28:03.932461Z"
    }
   },
   "outputs": [],
   "source": [
    "# Area\n",
    "train['commonArea'] = train.apply(lambda row : row['supply_area']-row['exclusive_use_area'], axis=1)\n",
    "test['commonArea'] = test.apply(lambda row : row['supply_area']-row['exclusive_use_area'], axis=1)\n",
    "train['areaRate'] = train.apply(lambda row : row['exclusive_use_area']/row['supply_area'], axis=1)\n",
    "test['areaRate'] = test.apply(lambda row : row['exclusive_use_area']/row['supply_area'], axis=1)\n",
    "\n",
    "# location by law\n",
    "train['district'] = train['address_by_law'].apply(lambda row : int(str(row)[2:5]))\n",
    "test['district'] = test['address_by_law'].apply(lambda row : int(str(row)[2:5]))\n",
    "train['town'] = train['address_by_law'].apply(lambda row : int(str(row)[5:8]))\n",
    "test['town'] = test['address_by_law'].apply(lambda row : int(str(row)[5:8]))\n",
    "train['disTown'] = train.apply(lambda row : int(str(row['district'])+str(row['town'])), axis=1)\n",
    "test['disTown'] = test.apply(lambda row : int(str(row['district'])+str(row['town'])), axis=1)\n",
    "train['cityDisTown'] = train.apply(lambda row : int(str(row['city'])+str(row['disTown'])), axis=1)\n",
    "test['cityDisTown'] = test.apply(lambda row : int(str(row['city'])+str(row['disTown'])), axis=1)"
   ]
  },
  {
   "cell_type": "code",
   "execution_count": 6,
   "metadata": {
    "ExecuteTime": {
     "end_time": "2019-01-15T06:23:13.491072Z",
     "start_time": "2019-01-15T06:21:39.625113Z"
    }
   },
   "outputs": [],
   "source": [
    "train['logPrice']=np.log(train['transaction_real_price'])\n",
    "\n",
    "## ~ price\n",
    "target = 'transaction_real_price'\n",
    "train['exAreaPrice'] = train.apply(lambda row : row[target]/row['exclusive_use_area'],axis=1)\n",
    "train['supAreaPrice'] = train.apply(lambda row : row[target]/row['supply_area'],axis=1)\n",
    "# test['exAreaPrice'] = test.apply(lambda row : row[target]/row['exclusive_use_area'],axis=1)\n",
    "# test['supAreaPrice'] = test.apply(lambda row : row[target]/row['supply_area'],axis=1)\n",
    "train['logExAreaPrice'] = np.log(train['exAreaPrice'])\n",
    "# test['logExAreaPrice'] = np.log(test['exAreaPrice'])\n",
    "train['logSupAreaPrice'] = np.log(train['supAreaPrice'])\n",
    "# test['logSupAreaPrice'] = np.log(test['supAreaPrice'])"
   ]
  },
  {
   "cell_type": "code",
   "execution_count": 21,
   "metadata": {
    "ExecuteTime": {
     "end_time": "2019-01-15T06:38:58.607094Z",
     "start_time": "2019-01-15T06:38:58.584404Z"
    }
   },
   "outputs": [
    {
     "data": {
      "text/plain": [
       "{110101: 14.154268590869162,\n",
       " 110102: 13.889212347096956,\n",
       " 110115: 13.898403766405217,\n",
       " 110120: 14.25662217728737,\n",
       " 140102: 14.888455099883807,\n",
       " 140103: 14.291950137687538,\n",
       " 140104: 15.14081934557303,\n",
       " 140105: 14.48083780032231,\n",
       " 140106: 14.522177288611733,\n",
       " 140107: 14.96464075406443,\n",
       " 140111: 14.60427749005045,\n",
       " 140112: 14.749326850602554,\n",
       " 140116: 13.681305445830553,\n",
       " 140123: 14.280913024108736,\n",
       " 140124: 14.242919600725148,\n",
       " 170101: 14.448475591119742,\n",
       " 170102: 14.177178285891745,\n",
       " 170103: 14.306165229349318,\n",
       " 170104: 14.67303715970034,\n",
       " 200103: 14.413171904407129,\n",
       " 200109: 14.830713840808357,\n",
       " 200111: 14.422480042283167,\n",
       " 200113: 13.611722941275442,\n",
       " 200115: 14.419067734737553,\n",
       " 200116: 14.55465364513244,\n",
       " 200118: 14.075762768674078,\n",
       " 200119: 13.838965300668171,\n",
       " 200120: 14.256748026702036,\n",
       " 200121: 14.14401462493631,\n",
       " 230101: 14.624346867655223,\n",
       " 230102: 14.522300214850024,\n",
       " 230103: 14.760380953180471,\n",
       " 230104: 14.56178479358245,\n",
       " 230105: 14.7888677961373,\n",
       " 230106: 14.600502563971922,\n",
       " 230107: 14.313425432777708,\n",
       " 230108: 14.601507428504494,\n",
       " 230109: 14.370815139698085,\n",
       " 230110: 14.505981554946619,\n",
       " 230111: 14.364713126256195,\n",
       " 260101: 14.331793221193323,\n",
       " 260102: 14.535029842863416,\n",
       " 260104: 14.576852843714374,\n",
       " 260105: 14.319942523380307,\n",
       " 260106: 14.527905626099912,\n",
       " 260107: 15.007268262476565,\n",
       " 260108: 14.643861446565555,\n",
       " 260109: 14.684927293919968,\n",
       " 290106: 14.491225140758342,\n",
       " 290107: 14.665977993112756,\n",
       " 290108: 14.294166898796874,\n",
       " 290109: 14.436744404559533,\n",
       " 290110: 14.259516610320963,\n",
       " 290111: 14.188222500812824,\n",
       " 320101: 14.218226412299053,\n",
       " 320102: 14.490735473751762,\n",
       " 320103: 14.357099047526278,\n",
       " 320104: 14.242554652769886,\n",
       " 320105: 14.235118967106677,\n",
       " 350101: 14.041735775815892,\n",
       " 350103: 14.411329394563657,\n",
       " 350104: 14.974031219491494,\n",
       " 350105: 15.017301188233816,\n",
       " 350106: 14.846415010976738,\n",
       " 350107: 14.617395122419751,\n",
       " 350108: 14.977573959213,\n",
       " 380101: 14.243454697832895,\n",
       " 380102: 14.223478796290557,\n",
       " 380103: 14.390656147517824,\n",
       " 380104: 14.126022692915955,\n",
       " 380105: 14.151468787892084,\n",
       " 380106: 14.275200772098152,\n",
       " 380107: 14.188992620219388,\n",
       " 380108: 14.211202154245457,\n",
       " 410103: 14.428894790259418,\n",
       " 410104: 14.299508939497121,\n",
       " 410107: 14.596722301498508,\n",
       " 410108: 14.812952133456736,\n",
       " 410109: 14.551807233477,\n",
       " 410110: 14.073003589293121,\n",
       " 410111: 14.277883798344318,\n",
       " 440104: 14.699135442874596,\n",
       " 440114: 14.431993220091357,\n",
       " 440117: 14.272560156268828,\n",
       " 470101: 14.675893657900133,\n",
       " 470102: 14.543872327626895,\n",
       " 500101: 14.530935611761878,\n",
       " 500102: 14.789912028653648,\n",
       " 500103: 14.774578319194488,\n",
       " 500104: 14.495319854836444,\n",
       " 500105: 14.916827531926108,\n",
       " 530101: 14.447509549036866,\n",
       " 530102: 14.152351717970092,\n",
       " 530103: 14.23702611828919,\n",
       " 530104: 14.585017125827934,\n",
       " 530106: 14.34831508844904,\n",
       " 530107: 14.153522440771079,\n",
       " 530108: 14.373660753738086,\n",
       " 710250: 14.232824833171,\n",
       " 710256: 14.56881438475193,\n",
       " 710310: 14.53063033213161,\n",
       " 710330: 14.579160910545944,\n",
       " 1110115: 15.692540719147347,\n",
       " 1110118: 15.679365450981996,\n",
       " 1110133: 15.056573014434537,\n",
       " 1110137: 14.820025523253268,\n",
       " 1110157: 15.36639658344876,\n",
       " 1110171: 15.466950406058478,\n",
       " 1110174: 15.046789748172161,\n",
       " 1110175: 15.399593626062902,\n",
       " 1110177: 16.228446374797407,\n",
       " 1110179: 16.28893852215754,\n",
       " 1110183: 15.231099408433352,\n",
       " 1110187: 15.516698329007943,\n",
       " 1140118: 15.73737871253935,\n",
       " 1140121: 15.630509410517755,\n",
       " 1140122: 15.763260132520944,\n",
       " 1140132: 15.55548728729136,\n",
       " 1140136: 15.231317988123447,\n",
       " 1140162: 15.382847294379738,\n",
       " 1140163: 15.422520462081772,\n",
       " 1140165: 15.41724464031298,\n",
       " 1140168: 15.600338611480916,\n",
       " 1140171: 15.481395910289088,\n",
       " 1140173: 15.637794244589601,\n",
       " 1140174: 15.952933218079224,\n",
       " 1170101: 15.720168460243524,\n",
       " 1170107: 15.615230926613425,\n",
       " 1170112: 15.611019906352062,\n",
       " 1170114: 15.305827836128541,\n",
       " 1170115: 15.380954050612353,\n",
       " 1170116: 15.771970557460332,\n",
       " 1170118: 15.564829942563641,\n",
       " 1170119: 15.693003463870555,\n",
       " 1170120: 15.430083583773214,\n",
       " 1170121: 15.60116776759396,\n",
       " 1170122: 15.52185187273094,\n",
       " 1170123: 15.8149777703767,\n",
       " 1170124: 15.755595430956312,\n",
       " 1170125: 15.686052786112302,\n",
       " 1170127: 16.070365894486976,\n",
       " 1170128: 15.862296572803828,\n",
       " 1170129: 15.78107411468034,\n",
       " 1170130: 15.658816788199033,\n",
       " 1170131: 15.790000426675155,\n",
       " 1170133: 15.903510789677267,\n",
       " 1170136: 15.539166439890261,\n",
       " 1200101: 15.755131798890131,\n",
       " 1200102: 15.24866361640385,\n",
       " 1200103: 15.060403170670767,\n",
       " 1200104: 15.232793802401073,\n",
       " 1200105: 15.205370988929324,\n",
       " 1200106: 14.950490490803258,\n",
       " 1200107: 15.380166327626482,\n",
       " 1200108: 15.36582229689828,\n",
       " 1200109: 15.241473732619427,\n",
       " 1200110: 15.767709671937894,\n",
       " 1200111: 15.340484498739924,\n",
       " 1200112: 15.544982513281361,\n",
       " 1200113: 15.574467355599896,\n",
       " 1200114: 15.511391826923996,\n",
       " 1200115: 15.460096008721093,\n",
       " 1200118: 15.126511935048734,\n",
       " 1200122: 14.942522321154081,\n",
       " 1215101: 15.070881658976726,\n",
       " 1215103: 15.453870267774189,\n",
       " 1215104: 15.573504881359034,\n",
       " 1215105: 15.452037937371541,\n",
       " 1215107: 15.246929083975319,\n",
       " 1215109: 15.243356908753123,\n",
       " 1230102: 15.36265761901004,\n",
       " 1230103: 15.056719838447869,\n",
       " 1230104: 15.121971631356745,\n",
       " 1230105: 15.102768997334087,\n",
       " 1230106: 15.23497833606924,\n",
       " 1230107: 15.048571285651526,\n",
       " 1230108: 15.202389134365117,\n",
       " 1230109: 15.025788914853488,\n",
       " 1230110: 15.053508074259168,\n",
       " 1260101: 14.977106681056641,\n",
       " 1260102: 15.038146014604846,\n",
       " 1260103: 14.984189815107165,\n",
       " 1260104: 15.018372868006184,\n",
       " 1260105: 15.041615708288141,\n",
       " 1260106: 14.93672245876943,\n",
       " 1290103: 15.019761178655381,\n",
       " 1290107: 14.961869805130119,\n",
       " 1290108: 15.329443225734366,\n",
       " 1290110: 15.287399698769732,\n",
       " 1290112: 15.260908958441869,\n",
       " 1290113: 15.491128099727685,\n",
       " 1290114: 15.058699325954368,\n",
       " 1290121: 15.269409035877473,\n",
       " 1290123: 14.634674579107706,\n",
       " 1290126: 15.209837090781429,\n",
       " 1290128: 14.993059608712212,\n",
       " 1290132: 15.29755964212764,\n",
       " 1290133: 14.966774542355312,\n",
       " 1290134: 15.281898563217208,\n",
       " 1290135: 15.218751355207909,\n",
       " 1290136: 15.180882470842297,\n",
       " 1290137: 14.917492152738351,\n",
       " 1290138: 15.125862915509007,\n",
       " 1290139: 15.106164583115014,\n",
       " 1305101: 15.072980403938463,\n",
       " 1305102: 14.898193624705817,\n",
       " 1305103: 14.87754115212757,\n",
       " 1305104: 14.99626776239779,\n",
       " 1320105: 14.8224251181603,\n",
       " 1320106: 14.821589280567501,\n",
       " 1320107: 14.94645822727532,\n",
       " 1320108: 14.851099313340038,\n",
       " 1350102: 14.96917054841662,\n",
       " 1350103: 14.987029617440472,\n",
       " 1350104: 15.125262925630755,\n",
       " 1350105: 14.93506987850976,\n",
       " 1350106: 15.044506489264558,\n",
       " 1380101: 15.09097936399528,\n",
       " 1380102: 15.156831553441434,\n",
       " 1380103: 15.289650961508048,\n",
       " 1380104: 14.809315880808807,\n",
       " 1380105: 14.803806211795372,\n",
       " 1380106: 14.850520998854183,\n",
       " 1380107: 15.225635690222962,\n",
       " 1380108: 15.098241035450222,\n",
       " 1380109: 14.867793465002775,\n",
       " 1380110: 14.981803705882495,\n",
       " 1380114: 15.2372018411426,\n",
       " 1410102: 15.240245572993569,\n",
       " 1410103: 15.44151348727307,\n",
       " 1410104: 14.930252228562267,\n",
       " 1410105: 15.502489110244875,\n",
       " 1410106: 15.308958085356512,\n",
       " 1410108: 15.228833591472084,\n",
       " 1410109: 15.293763578654975,\n",
       " 1410110: 15.384075109126648,\n",
       " 1410111: 15.096189890362991,\n",
       " 1410112: 15.237819212036317,\n",
       " 1410117: 15.160411659195617,\n",
       " 1410118: 14.952524303630918,\n",
       " 1410119: 15.402920157785466,\n",
       " 1410120: 15.241514675601703,\n",
       " 1440101: 15.863526444180437,\n",
       " 1440102: 15.59205306138747,\n",
       " 1440103: 15.540822657907146,\n",
       " 1440104: 15.342154559270762,\n",
       " 1440105: 15.665249653853952,\n",
       " 1440106: 15.427915831626176,\n",
       " 1440107: 15.224207847311286,\n",
       " 1440108: 15.355001805550947,\n",
       " 1440109: 15.318985396589152,\n",
       " 1440110: 15.268906293145337,\n",
       " 1440111: 15.332547861373483,\n",
       " 1440112: 15.535627403071022,\n",
       " 1440114: 15.425609065902037,\n",
       " 1440115: 15.81026499030049,\n",
       " 1440116: 15.773541829786712,\n",
       " 1440117: 15.292605283410662,\n",
       " 1440120: 15.474506695948909,\n",
       " 1440122: 15.985249224368404,\n",
       " 1440123: 15.174004481091885,\n",
       " 1440124: 15.354574167796702,\n",
       " 1440125: 15.374350550205024,\n",
       " 1440126: 15.197097448981037,\n",
       " 1440127: 15.560028680869891,\n",
       " 1470101: 15.401398504409684,\n",
       " 1470102: 15.727744180660203,\n",
       " 1470103: 14.966181984442393,\n",
       " 1500101: 15.188847113551914,\n",
       " 1500102: 15.164509134340468,\n",
       " 1500103: 15.465257099060851,\n",
       " 1500104: 15.183549848505274,\n",
       " 1500105: 15.368391972910228,\n",
       " 1500106: 15.369155605540415,\n",
       " 1500108: 15.219862941920454,\n",
       " 1500109: 15.074404885419392,\n",
       " 1530101: 15.289988014625415,\n",
       " 1530102: 15.03662952112518,\n",
       " 1530106: 15.02777896306072,\n",
       " 1530107: 14.98338483456275,\n",
       " 1530108: 14.963492945468387,\n",
       " 1530110: 15.169700815183633,\n",
       " 1530111: 15.142697787943801,\n",
       " 1530112: 14.97879852003204,\n",
       " 1545101: 14.995116005841915,\n",
       " 1545102: 14.892724049803382,\n",
       " 1545103: 14.90491858288268,\n",
       " 1560101: 15.241833577585025,\n",
       " 1560108: 15.152434338029934,\n",
       " 1560109: 15.349740717125284,\n",
       " 1560110: 15.807014485078307,\n",
       " 1560111: 15.219165426925422,\n",
       " 1560112: 15.116002850010739,\n",
       " 1560113: 15.377438442951659,\n",
       " 1560114: 15.387063838345634,\n",
       " 1560115: 15.502537294756056,\n",
       " 1560117: 15.367256477442664,\n",
       " 1560118: 15.092145962666123,\n",
       " 1560120: 15.087286465641572,\n",
       " 1560121: 15.408285353379387,\n",
       " 1560122: 15.198225127294872,\n",
       " 1560123: 14.979804878472034,\n",
       " 1560124: 15.075677274158679,\n",
       " 1560125: 15.202686756075842,\n",
       " 1560126: 15.05701468201647,\n",
       " 1560127: 15.19870767357946,\n",
       " 1560128: 15.062060625822415,\n",
       " 1560129: 15.153252878501998,\n",
       " 1560130: 14.98409226776112,\n",
       " 1560132: 15.185634481393306,\n",
       " 1560133: 15.113315535475998,\n",
       " 1590101: 15.221643261303829,\n",
       " 1590102: 15.494831786909806,\n",
       " 1590104: 15.378262424651108,\n",
       " 1590105: 15.564673057149424,\n",
       " 1590106: 15.70165396942048,\n",
       " 1590107: 15.363321159468262,\n",
       " 1590108: 15.330001993089422,\n",
       " 1590109: 15.278075054242382,\n",
       " 1620101: 15.161707617057521,\n",
       " 1620102: 15.03315666419042,\n",
       " 1620103: 15.336554852422806,\n",
       " 1650101: 15.709117301170533,\n",
       " 1650102: 15.582187246824866,\n",
       " 1650103: 15.708732085918133,\n",
       " 1650106: 15.925713758360864,\n",
       " 1650107: 16.205716550278286,\n",
       " 1650108: 15.767249743427763,\n",
       " 1650109: 15.775554206955327,\n",
       " 1650111: 15.859267719794987,\n",
       " 1680101: 15.95106303546801,\n",
       " 1680103: 16.292393279648707,\n",
       " 1680104: 15.902076006065492,\n",
       " 1680105: 15.97398203296789,\n",
       " 1680106: 16.126370133610955,\n",
       " 1680107: 15.551644010554122,\n",
       " 1680108: 15.707252871616037,\n",
       " 1680110: 16.290886130777924,\n",
       " 1680111: 15.809466836674114,\n",
       " 1680112: 15.6915554367136,\n",
       " 1680113: 15.786201986331434,\n",
       " 1680114: 15.854770310011277,\n",
       " 1680115: 15.661937428534637,\n",
       " 1680118: 15.985683305285978,\n",
       " 1710101: 16.027249967658744,\n",
       " 1710102: 15.882747806154049,\n",
       " 1710103: 15.370598253328804,\n",
       " 1710104: 15.572036030282868,\n",
       " 1710105: 15.57557288541991,\n",
       " 1710106: 15.357330368492297,\n",
       " 1710107: 15.518797533280152,\n",
       " 1710108: 15.550007915025533,\n",
       " 1710109: 15.591269685845887,\n",
       " 1710111: 15.742206488095784,\n",
       " 1710112: 15.47791993038581,\n",
       " 1710113: 15.291294935396403,\n",
       " 1710114: 15.208192825169363,\n",
       " 1740101: 15.392507444230471,\n",
       " 1740102: 15.555307232162846,\n",
       " 1740103: 15.26282962092194,\n",
       " 1740105: 15.213320235219562,\n",
       " 1740106: 15.552839546613521,\n",
       " 1740107: 15.447194079345694,\n",
       " 1740108: 15.260787336993541,\n",
       " 1740109: 15.149269971624507,\n",
       " 1740110: 15.155375816672663}"
      ]
     },
     "execution_count": 21,
     "metadata": {},
     "output_type": "execute_result"
    }
   ],
   "source": [
    "# unitPriceCnvrt = {}\n",
    "# groupedTowns = train[['cityDisTown','logSupAreaPrice']].groupby(['cityDisTown']).agg(['median'])\n",
    "# for idx, price in zip(groupedTowns['logSupAreaPrice']['median'].index, groupedTowns['logSupAreaPrice']['median'].values):\n",
    "#     unitPriceCnvrt[idx] = price\n",
    "# train['unitPrcie'] = train.apply(lambda row : row['transaction_real_price']/row['supply_area'], axis=1)\n",
    "train['townUnitPrice'] = train['cityDisTown'].apply(lambda row : unitPriceCnvrt[row])\n",
    "test['townUnitPrice'] = test['cityDisTown'].apply(lambda row : unitPriceCnvrt[row])"
   ]
  },
  {
   "cell_type": "code",
   "execution_count": 9,
   "metadata": {
    "ExecuteTime": {
     "end_time": "2019-01-15T06:33:21.016340Z",
     "start_time": "2019-01-15T06:33:20.390340Z"
    },
    "scrolled": true
   },
   "outputs": [
    {
     "name": "stdout",
     "output_type": "stream",
     "text": [
      "            logExAreaPrice                      logSupAreaPrice             \\\n",
      "                      mean     median       std            mean     median   \n",
      "cityDisTown                                                                  \n",
      "1710114          15.508575  15.477923  0.169914       15.235418  15.208193   \n",
      "1740101          15.640758  15.638292  0.233054       15.389918  15.392507   \n",
      "1740102          15.822453  15.836988  0.290382       15.534721  15.555307   \n",
      "1740103          15.530104  15.508829  0.254912       15.272063  15.262830   \n",
      "1740105          15.391597  15.389520  0.215121       15.214799  15.213320   \n",
      "1740106          15.789885  15.779029  0.374799       15.608816  15.552840   \n",
      "1740107          15.717210  15.734266  0.227480       15.421014  15.447194   \n",
      "1740108          15.561727  15.563201  0.202263       15.265501  15.260787   \n",
      "1740109          15.427219  15.424429  0.236170       15.138632  15.149270   \n",
      "1740110          15.426308  15.422981  0.215051       15.153342  15.155376   \n",
      "\n",
      "                       \n",
      "                  std  \n",
      "cityDisTown            \n",
      "1710114      0.172220  \n",
      "1740101      0.237540  \n",
      "1740102      0.275399  \n",
      "1740103      0.240144  \n",
      "1740105      0.238100  \n",
      "1740106      0.470860  \n",
      "1740107      0.224984  \n",
      "1740108      0.209433  \n",
      "1740109      0.244292  \n",
      "1740110      0.213695  \n"
     ]
    }
   ],
   "source": [
    "groupedTowns = train[['cityDisTown','logExAreaPrice','logSupAreaPrice']].groupby(['cityDisTown']).agg(['mean','median','std'])\n",
    "print(groupedTowns.tail(10))"
   ]
  },
  {
   "cell_type": "code",
   "execution_count": 15,
   "metadata": {
    "ExecuteTime": {
     "end_time": "2019-01-15T06:35:29.998129Z",
     "start_time": "2019-01-15T06:35:29.980701Z"
    },
    "scrolled": true
   },
   "outputs": [
    {
     "name": "stdout",
     "output_type": "stream",
     "text": [
      "logExAreaPrice   mean      15.337483\n",
      "                 median    15.348899\n",
      "                 std        0.263760\n",
      "logSupAreaPrice  mean      15.087603\n",
      "                 median    15.101387\n",
      "                 std        0.260356\n",
      "dtype: float64\n",
      "logExAreaPrice   mean      16.591483\n",
      "                 median    16.592872\n",
      "                 std        0.636723\n",
      "logSupAreaPrice  mean      16.307454\n",
      "                 median    16.292393\n",
      "                 std        0.527532\n",
      "dtype: float64\n",
      "logExAreaPrice   mean      13.718577\n",
      "                 median    13.805442\n",
      "                 std        0.066299\n",
      "logSupAreaPrice  mean      13.574745\n",
      "                 median    13.611723\n",
      "                 std        0.066305\n",
      "dtype: float64\n"
     ]
    }
   ],
   "source": [
    "print(groupedTowns.mean())\n",
    "print(groupedTowns.max())\n",
    "print(groupedTowns.min())"
   ]
  },
  {
   "cell_type": "markdown",
   "metadata": {},
   "source": [
    "## 단지별 평당가 구하기"
   ]
  },
  {
   "cell_type": "code",
   "execution_count": 4,
   "metadata": {
    "ExecuteTime": {
     "end_time": "2019-01-15T08:15:44.499432Z",
     "start_time": "2019-01-15T08:15:44.494468Z"
    }
   },
   "outputs": [
    {
     "data": {
      "text/plain": [
       "Index(['key', 'apartment_id', 'city', 'transaction_year_month',\n",
       "       'transaction_date', 'year_of_completion', 'exclusive_use_area', 'floor',\n",
       "       'latitude', 'longitude', 'address_by_law',\n",
       "       'total_parking_capacity_in_site', 'total_household_count_in_sites',\n",
       "       'apartment_building_count_in_sites', 'tallest_building_in_sites',\n",
       "       'lowest_building_in_sites', 'heat_type', 'heat_fuel', 'room_id',\n",
       "       'supply_area', 'total_household_count_of_area_type', 'room_count',\n",
       "       'bathroom_count', 'front_door_structure', 'transaction_real_price',\n",
       "       'unitPrice'],\n",
       "      dtype='object')"
      ]
     },
     "execution_count": 4,
     "metadata": {},
     "output_type": "execute_result"
    }
   ],
   "source": [
    "train.columns"
   ]
  },
  {
   "cell_type": "code",
   "execution_count": 10,
   "metadata": {
    "ExecuteTime": {
     "end_time": "2019-01-15T08:24:11.883687Z",
     "start_time": "2019-01-15T08:24:11.338141Z"
    }
   },
   "outputs": [],
   "source": [
    "# 단지 평당가를 구하자 :\n",
    "# train['unitPrice'] = train.apply(lambda row : row['transaction_real_price']/row['supply_area'], axis=1)\n",
    "# groupedUnitPrice = train[['unitPrice', 'apartment_id']].groupby(['apartment_id']).agg('median')\n",
    "apartUnitPriceCnvrt = {}\n",
    "for apartId, price in zip(groupedUnitPrice['unitPrice'].index, groupedUnitPrice['unitPrice'].values):\n",
    "    apartUnitPriceCnvrt[apartId] = price\n",
    "def apartUnitPrice(x):\n",
    "    try : return apartUnitPriceCnvrt[x]\n",
    "    except KeyError : return np.nan\n",
    "train['apartUnitPrice'] = train['apartment_id'].apply(lambda row : apartUnitPrice(row))\n",
    "test['apartUnitPrice'] = test['apartment_id'].apply(lambda row : apartUnitPrice(row))"
   ]
  },
  {
   "cell_type": "code",
   "execution_count": 12,
   "metadata": {
    "ExecuteTime": {
     "end_time": "2019-01-15T08:24:24.657488Z",
     "start_time": "2019-01-15T08:24:24.651531Z"
    },
    "scrolled": true
   },
   "outputs": [
    {
     "data": {
      "text/plain": [
       "12"
      ]
     },
     "execution_count": 12,
     "metadata": {},
     "output_type": "execute_result"
    }
   ],
   "source": [
    "test['apartUnitPrice'].isna().sum()"
   ]
  },
  {
   "cell_type": "markdown",
   "metadata": {},
   "source": [
    "## Null Prep"
   ]
  },
  {
   "cell_type": "code",
   "execution_count": 14,
   "metadata": {
    "ExecuteTime": {
     "end_time": "2019-01-15T10:03:38.655436Z",
     "start_time": "2019-01-15T10:03:38.636484Z"
    }
   },
   "outputs": [
    {
     "ename": "KeyError",
     "evalue": "\"['apartUnitPrice'] not in index\"",
     "output_type": "error",
     "traceback": [
      "\u001b[1;31m---------------------------------------------------------------------------\u001b[0m",
      "\u001b[1;31mKeyError\u001b[0m                                  Traceback (most recent call last)",
      "\u001b[1;32m<ipython-input-14-b807cea0617b>\u001b[0m in \u001b[0;36m<module>\u001b[1;34m\u001b[0m\n\u001b[0;32m     48\u001b[0m \u001b[1;31m# test = pd.read_csv(path+'testFe2nd.csv')\u001b[0m\u001b[1;33m\u001b[0m\u001b[1;33m\u001b[0m\u001b[1;33m\u001b[0m\u001b[0m\n\u001b[0;32m     49\u001b[0m \u001b[0mcols\u001b[0m\u001b[1;33m,\u001b[0m \u001b[0mcats\u001b[0m \u001b[1;33m=\u001b[0m \u001b[0mcoList\u001b[0m\u001b[1;33m(\u001b[0m\u001b[1;33m)\u001b[0m\u001b[1;33m\u001b[0m\u001b[1;33m\u001b[0m\u001b[0m\n\u001b[1;32m---> 50\u001b[1;33m \u001b[0mdata\u001b[0m \u001b[1;33m=\u001b[0m \u001b[0mtrain\u001b[0m\u001b[1;33m[\u001b[0m\u001b[0mcols\u001b[0m\u001b[1;33m]\u001b[0m\u001b[1;33m.\u001b[0m\u001b[0mappend\u001b[0m\u001b[1;33m(\u001b[0m\u001b[0mtest\u001b[0m\u001b[1;33m[\u001b[0m\u001b[0mcols\u001b[0m\u001b[1;33m]\u001b[0m\u001b[1;33m)\u001b[0m\u001b[1;33m\u001b[0m\u001b[1;33m\u001b[0m\u001b[0m\n\u001b[0m",
      "\u001b[1;32mC:\\Anaconda3\\envs\\tensorflow\\lib\\site-packages\\pandas\\core\\frame.py\u001b[0m in \u001b[0;36m__getitem__\u001b[1;34m(self, key)\u001b[0m\n\u001b[0;32m   2680\u001b[0m         \u001b[1;32mif\u001b[0m \u001b[0misinstance\u001b[0m\u001b[1;33m(\u001b[0m\u001b[0mkey\u001b[0m\u001b[1;33m,\u001b[0m \u001b[1;33m(\u001b[0m\u001b[0mSeries\u001b[0m\u001b[1;33m,\u001b[0m \u001b[0mnp\u001b[0m\u001b[1;33m.\u001b[0m\u001b[0mndarray\u001b[0m\u001b[1;33m,\u001b[0m \u001b[0mIndex\u001b[0m\u001b[1;33m,\u001b[0m \u001b[0mlist\u001b[0m\u001b[1;33m)\u001b[0m\u001b[1;33m)\u001b[0m\u001b[1;33m:\u001b[0m\u001b[1;33m\u001b[0m\u001b[1;33m\u001b[0m\u001b[0m\n\u001b[0;32m   2681\u001b[0m             \u001b[1;31m# either boolean or fancy integer index\u001b[0m\u001b[1;33m\u001b[0m\u001b[1;33m\u001b[0m\u001b[1;33m\u001b[0m\u001b[0m\n\u001b[1;32m-> 2682\u001b[1;33m             \u001b[1;32mreturn\u001b[0m \u001b[0mself\u001b[0m\u001b[1;33m.\u001b[0m\u001b[0m_getitem_array\u001b[0m\u001b[1;33m(\u001b[0m\u001b[0mkey\u001b[0m\u001b[1;33m)\u001b[0m\u001b[1;33m\u001b[0m\u001b[1;33m\u001b[0m\u001b[0m\n\u001b[0m\u001b[0;32m   2683\u001b[0m         \u001b[1;32melif\u001b[0m \u001b[0misinstance\u001b[0m\u001b[1;33m(\u001b[0m\u001b[0mkey\u001b[0m\u001b[1;33m,\u001b[0m \u001b[0mDataFrame\u001b[0m\u001b[1;33m)\u001b[0m\u001b[1;33m:\u001b[0m\u001b[1;33m\u001b[0m\u001b[1;33m\u001b[0m\u001b[0m\n\u001b[0;32m   2684\u001b[0m             \u001b[1;32mreturn\u001b[0m \u001b[0mself\u001b[0m\u001b[1;33m.\u001b[0m\u001b[0m_getitem_frame\u001b[0m\u001b[1;33m(\u001b[0m\u001b[0mkey\u001b[0m\u001b[1;33m)\u001b[0m\u001b[1;33m\u001b[0m\u001b[1;33m\u001b[0m\u001b[0m\n",
      "\u001b[1;32mC:\\Anaconda3\\envs\\tensorflow\\lib\\site-packages\\pandas\\core\\frame.py\u001b[0m in \u001b[0;36m_getitem_array\u001b[1;34m(self, key)\u001b[0m\n\u001b[0;32m   2724\u001b[0m             \u001b[1;32mreturn\u001b[0m \u001b[0mself\u001b[0m\u001b[1;33m.\u001b[0m\u001b[0m_take\u001b[0m\u001b[1;33m(\u001b[0m\u001b[0mindexer\u001b[0m\u001b[1;33m,\u001b[0m \u001b[0maxis\u001b[0m\u001b[1;33m=\u001b[0m\u001b[1;36m0\u001b[0m\u001b[1;33m)\u001b[0m\u001b[1;33m\u001b[0m\u001b[1;33m\u001b[0m\u001b[0m\n\u001b[0;32m   2725\u001b[0m         \u001b[1;32melse\u001b[0m\u001b[1;33m:\u001b[0m\u001b[1;33m\u001b[0m\u001b[1;33m\u001b[0m\u001b[0m\n\u001b[1;32m-> 2726\u001b[1;33m             \u001b[0mindexer\u001b[0m \u001b[1;33m=\u001b[0m \u001b[0mself\u001b[0m\u001b[1;33m.\u001b[0m\u001b[0mloc\u001b[0m\u001b[1;33m.\u001b[0m\u001b[0m_convert_to_indexer\u001b[0m\u001b[1;33m(\u001b[0m\u001b[0mkey\u001b[0m\u001b[1;33m,\u001b[0m \u001b[0maxis\u001b[0m\u001b[1;33m=\u001b[0m\u001b[1;36m1\u001b[0m\u001b[1;33m)\u001b[0m\u001b[1;33m\u001b[0m\u001b[1;33m\u001b[0m\u001b[0m\n\u001b[0m\u001b[0;32m   2727\u001b[0m             \u001b[1;32mreturn\u001b[0m \u001b[0mself\u001b[0m\u001b[1;33m.\u001b[0m\u001b[0m_take\u001b[0m\u001b[1;33m(\u001b[0m\u001b[0mindexer\u001b[0m\u001b[1;33m,\u001b[0m \u001b[0maxis\u001b[0m\u001b[1;33m=\u001b[0m\u001b[1;36m1\u001b[0m\u001b[1;33m)\u001b[0m\u001b[1;33m\u001b[0m\u001b[1;33m\u001b[0m\u001b[0m\n\u001b[0;32m   2728\u001b[0m \u001b[1;33m\u001b[0m\u001b[0m\n",
      "\u001b[1;32mC:\\Anaconda3\\envs\\tensorflow\\lib\\site-packages\\pandas\\core\\indexing.py\u001b[0m in \u001b[0;36m_convert_to_indexer\u001b[1;34m(self, obj, axis, is_setter)\u001b[0m\n\u001b[0;32m   1325\u001b[0m                 \u001b[1;32mif\u001b[0m \u001b[0mmask\u001b[0m\u001b[1;33m.\u001b[0m\u001b[0many\u001b[0m\u001b[1;33m(\u001b[0m\u001b[1;33m)\u001b[0m\u001b[1;33m:\u001b[0m\u001b[1;33m\u001b[0m\u001b[1;33m\u001b[0m\u001b[0m\n\u001b[0;32m   1326\u001b[0m                     raise KeyError('{mask} not in index'\n\u001b[1;32m-> 1327\u001b[1;33m                                    .format(mask=objarr[mask]))\n\u001b[0m\u001b[0;32m   1328\u001b[0m \u001b[1;33m\u001b[0m\u001b[0m\n\u001b[0;32m   1329\u001b[0m                 \u001b[1;32mreturn\u001b[0m \u001b[0mcom\u001b[0m\u001b[1;33m.\u001b[0m\u001b[0m_values_from_object\u001b[0m\u001b[1;33m(\u001b[0m\u001b[0mindexer\u001b[0m\u001b[1;33m)\u001b[0m\u001b[1;33m\u001b[0m\u001b[1;33m\u001b[0m\u001b[0m\n",
      "\u001b[1;31mKeyError\u001b[0m: \"['apartUnitPrice'] not in index\""
     ]
    }
   ],
   "source": [
    "def coList(col=None):\n",
    "    cols = [\n",
    "     'lowest_building_in_sites',\n",
    "     'transMonth',\n",
    "     'commonArea',\n",
    "#      'sub500',\n",
    "#      'sub800',\n",
    "     'heat_fuel',\n",
    "     'latitude',\n",
    "     'bathroom_count',\n",
    "     'transOrdered',\n",
    "#      'sub200',\n",
    "     'transYear',\n",
    "     'heat_type',\n",
    "     'supply_area',\n",
    "     'disTown',\n",
    "     'year_of_completion',\n",
    "     'total_parking_capacity_in_site',\n",
    "     'areaRate',\n",
    "     'total_household_count_in_sites',\n",
    "     'longitude',\n",
    "#      'sub200Price',\n",
    "     'front_door_structure',\n",
    "     'city',\n",
    "     'transaction_year_month',\n",
    "     'tallest_building_in_sites',\n",
    "     'total_household_count_of_area_type',\n",
    "#      'apart',\n",
    "     'floor',\n",
    "#      'sub800Price',\n",
    "     'exclusive_use_area',\n",
    "     'room_count',\n",
    "#      'sub500Price',\n",
    "     'cityDisTown',\n",
    "     'transYMD',\n",
    "     'apartment_building_count_in_sites',\n",
    "     'apartment_id',\n",
    "     'apartUnitPrice',\n",
    "    ]\n",
    "    cats = ['heat_fuel', 'heat_type','front_door_structure', 'city', 'cityDisTown',]\n",
    "    if col is not None : \n",
    "        cols.remove(col)\n",
    "        if col in cats: cats.remove(col)\n",
    "    return cols, cats\n",
    "    \n",
    "# path = './datasets/'\n",
    "# train = pd.read_csv(path+'trainFe2nd.csv')\n",
    "# test = pd.read_csv(path+'testFe2nd.csv')\n",
    "cols, cats = coList()\n",
    "data = train[cols].append(test[cols])"
   ]
  },
  {
   "cell_type": "markdown",
   "metadata": {},
   "source": [
    "### Obj Type Convert"
   ]
  },
  {
   "cell_type": "code",
   "execution_count": 23,
   "metadata": {
    "ExecuteTime": {
     "end_time": "2019-01-14T10:50:16.408034Z",
     "start_time": "2019-01-14T10:50:11.635799Z"
    },
    "scrolled": true
   },
   "outputs": [],
   "source": [
    "col = 'heat_fuel'\n",
    "def heatFuel(x):\n",
    "    if x =='gas' : return 0\n",
    "    elif x=='cogeneration': return 1\n",
    "    else : return 2\n",
    "data[col] = data[col].apply(lambda row : heatFuel(row))\n",
    "train[col] = train[col].apply(lambda row : heatFuel(row))\n",
    "test[col] = test[col].apply(lambda row : heatFuel(row))\n",
    "\n",
    "col = 'heat_type'\n",
    "def heaType(x):\n",
    "    if x=='individual': return 0\n",
    "    elif x=='district':return 1\n",
    "    elif x=='central':return 2\n",
    "    else : return 3\n",
    "data[col] = data[col].apply(lambda row : heaType(row))\n",
    "train[col] = train[col].apply(lambda row : heaType(row))\n",
    "test[col] = test[col].apply(lambda row : heaType(row))\n",
    "\n",
    "col = 'front_door_structure'\n",
    "def FDS(x):\n",
    "    if x=='stairway': return 0\n",
    "    elif x=='corridor': return 2\n",
    "    elif x=='mixed': return 1\n",
    "    else : return 3\n",
    "data[col] = data[col].apply(lambda row : FDS(row))\n",
    "train[col] = train[col].apply(lambda row : FDS(row))\n",
    "test[col] = test[col].apply(lambda row : FDS(row))"
   ]
  },
  {
   "cell_type": "markdown",
   "metadata": {},
   "source": [
    "## Null Main"
   ]
  },
  {
   "cell_type": "code",
   "execution_count": 10,
   "metadata": {
    "ExecuteTime": {
     "end_time": "2019-01-15T10:02:27.135777Z",
     "start_time": "2019-01-15T10:02:27.124745Z"
    }
   },
   "outputs": [],
   "source": [
    "def trainLgb(col, model=None):\n",
    "    print('first run')\n",
    "    cols, cats = coList(col)\n",
    "    trainSet = data[~pd.isna(data[col])]\n",
    "    label = trainSet[col].values\n",
    "    lgbSet = lgb.Dataset(trainSet[cols], label=label, categorical_feature=cats)\n",
    "    bst = lgb.train(params, lgbSet)\n",
    "    \n",
    "    print('second run')\n",
    "    for i,v in enumerate(bst.feature_importance('gain')):\n",
    "        if v<10: cols[i]=0\n",
    "    cols = [i for i in cols if i!=0]\n",
    "    cats = list(set(cols)&set(cats))\n",
    "\n",
    "    lgbSet = lgb.Dataset(trainSet[cols], label=label, categorical_feature=cats)\n",
    "    bst = lgb.train(params, lgbSet)\n",
    "    if model is not None : bst.save_model(model+'.txt')\n",
    "    \n",
    "    print('predict train')\n",
    "    predSet = train[pd.isna(train[col])]\n",
    "    idx = predSet.index.tolist()\n",
    "    predArray = predSet[cols]\n",
    "    predicted = bst.predict(predArray.values)\n",
    "    for i, v in enumerate(idx):\n",
    "        train[col][v] = predicted[i]\n",
    "        \n",
    "    print('predict test')\n",
    "    predSet = test[pd.isna(test[col])]\n",
    "    idx = predSet.index.tolist()\n",
    "    predArray = predSet[cols]\n",
    "    predicted = bst.predict(predArray.values)\n",
    "    for i, v in enumerate(idx):\n",
    "        test[col][v] = predicted[i]\n",
    "        \n",
    "nullCols = ['room_count','bathroom_count','total_parking_capacity_in_site',\n",
    "            'tallest_building_in_sites',]\n",
    "params = {\n",
    "    'objective':'regression',\n",
    "    'metric':'l2',\n",
    "    'num_threads':3,\n",
    "#     'device_type':'gpu',\n",
    "}\n",
    "\n",
    "def applyRound(x):\n",
    "    if x-int(x)>0.5: return int(x)+1\n",
    "    else : return int(x)"
   ]
  },
  {
   "cell_type": "code",
   "execution_count": 28,
   "metadata": {
    "ExecuteTime": {
     "end_time": "2019-01-14T10:55:53.348863Z",
     "start_time": "2019-01-14T10:55:52.056320Z"
    },
    "scrolled": true
   },
   "outputs": [
    {
     "name": "stdout",
     "output_type": "stream",
     "text": [
      "[1 2 4 3 5 0 6 8 7]\n",
      "[3 0 2 4 1 5 6]\n"
     ]
    }
   ],
   "source": [
    "col = 'room_count'\n",
    "\n",
    "bst = trainLgb(col)\n",
    "\n",
    "predSet = train[pd.isna(train[col])]\n",
    "idx = predSet.index.tolist()\n",
    "predArray = predSet[cols]\n",
    "predicted = bst.predict(predArray.values)\n",
    "for i, v in enumerate(idx):\n",
    "    train[col][v] = predicted[i]\n",
    "print(train[col].unique())\n",
    "        \n",
    "predSet = test[pd.isna(test[col])]\n",
    "idx = predSet.index.tolist()\n",
    "predArray = predSet[cols]\n",
    "predicted = bst.predict(predArray.values)\n",
    "for i, v in enumerate(idx):\n",
    "    test[col][v] = predicted[i]\n",
    "print(test[col].unique())\n",
    "\n",
    "\n",
    "train[col] = train[col].apply(lambda row : applyRound(row))\n",
    "test[col] = test[col].apply(lambda row : applyRound(row))\n",
    "\n",
    "print(train[col].unique())\n",
    "print(test[col].unique())"
   ]
  },
  {
   "cell_type": "code",
   "execution_count": 31,
   "metadata": {
    "ExecuteTime": {
     "end_time": "2019-01-14T10:58:39.137450Z",
     "start_time": "2019-01-14T10:58:37.944669Z"
    },
    "scrolled": true
   },
   "outputs": [
    {
     "name": "stdout",
     "output_type": "stream",
     "text": [
      "2.000000    926898\n",
      "1.000000    662676\n",
      "3.000000      7627\n",
      "0.000000      3231\n",
      "4.000000       334\n",
      "1.120463       181\n",
      "1.064729        77\n",
      "1.294330        41\n",
      "1.293866        41\n",
      "1.123588        36\n",
      "2.005695        27\n",
      "1.029664        25\n",
      "1.016877        23\n",
      "1.298349        22\n",
      "1.121136        21\n",
      "1.999038        20\n",
      "1.124260        17\n",
      "1.298557        15\n",
      "1.007611        15\n",
      "1.997265        13\n",
      "1.007299        11\n",
      "1.999960        11\n",
      "1.007678         9\n",
      "1.038784         9\n",
      "1.008625         9\n",
      "1.308537         8\n",
      "1.285725         6\n",
      "1.276335         6\n",
      "1.008376         6\n",
      "1.326106         6\n",
      "1.080177         4\n",
      "1.008080         4\n",
      "2.016980         4\n",
      "1.138259         4\n",
      "2.001426         3\n",
      "1.481281         3\n",
      "1.533262         3\n",
      "1.126216         3\n",
      "1.009406         2\n",
      "1.989481         2\n",
      "1.121202         2\n",
      "5.000000         1\n",
      "1.079230         1\n",
      "1.724961         1\n",
      "Name: bathroom_count, dtype: int64\n",
      "2.000000    2465\n",
      "1.000000    1409\n",
      "3.000000      26\n",
      "0.000000      11\n",
      "4.000000       2\n",
      "2.005695       1\n",
      "1.481281       1\n",
      "1.007299       1\n",
      "1.120463       1\n",
      "1.997265       1\n",
      "Name: bathroom_count, dtype: int64\n",
      "2.000000    926898\n",
      "1.000000    662676\n",
      "3.000000      7627\n",
      "0.000000      3231\n",
      "4.000000       334\n",
      "1.120463       181\n",
      "1.064729        77\n",
      "1.294330        41\n",
      "1.293866        41\n",
      "1.123588        36\n",
      "2.005695        27\n",
      "1.029664        25\n",
      "1.016877        23\n",
      "1.298349        22\n",
      "1.121136        21\n",
      "1.999038        20\n",
      "1.124260        17\n",
      "1.298557        15\n",
      "1.007611        15\n",
      "1.997265        13\n",
      "1.007299        11\n",
      "1.999960        11\n",
      "1.007678         9\n",
      "1.038784         9\n",
      "1.008625         9\n",
      "1.308537         8\n",
      "1.285725         6\n",
      "1.276335         6\n",
      "1.008376         6\n",
      "1.326106         6\n",
      "1.080177         4\n",
      "1.008080         4\n",
      "2.016980         4\n",
      "1.138259         4\n",
      "2.001426         3\n",
      "1.481281         3\n",
      "1.533262         3\n",
      "1.126216         3\n",
      "1.009406         2\n",
      "1.989481         2\n",
      "1.121202         2\n",
      "5.000000         1\n",
      "1.079230         1\n",
      "1.724961         1\n",
      "Name: bathroom_count, dtype: int64\n",
      "2.000000    2465\n",
      "1.000000    1409\n",
      "3.000000      26\n",
      "0.000000      11\n",
      "4.000000       2\n",
      "2.005695       1\n",
      "1.481281       1\n",
      "1.007299       1\n",
      "1.120463       1\n",
      "1.997265       1\n",
      "Name: bathroom_count, dtype: int64\n",
      "[1 2 0 3 4 5]\n",
      "[1 0 2 4 3]\n",
      "Wall time: 1.19 s\n"
     ]
    }
   ],
   "source": [
    "%%time\n",
    "col = 'bathroom_count'\n",
    "print(train[col].value_counts(dropna=False))\n",
    "print(test[col].value_counts(dropna=False))\n",
    "# trainLgb(col)\n",
    "print(train[col].value_counts(dropna=False))\n",
    "print(test[col].value_counts(dropna=False))\n",
    "\n",
    "train[col] = train[col].apply(lambda row : applyRound(row))\n",
    "test[col] = test[col].apply(lambda row : applyRound(row))\n",
    "print(train[col].unique())\n",
    "print(test[col].unique())"
   ]
  },
  {
   "cell_type": "code",
   "execution_count": 33,
   "metadata": {
    "ExecuteTime": {
     "end_time": "2019-01-14T11:46:24.674294Z",
     "start_time": "2019-01-14T11:46:23.455589Z"
    }
   },
   "outputs": [
    {
     "name": "stdout",
     "output_type": "stream",
     "text": [
      "[ 163.  902. 1365. ...  903.  484.  807.]\n",
      "[ 375.           45.5846042    14.25271935 ...  570.          802.\n",
      " 1128.        ]\n",
      "[ 163  902 1365 ... 1211  903  484]\n",
      "[ 375   46   14 ... 1673  570 1128]\n",
      "Wall time: 1.21 s\n"
     ]
    }
   ],
   "source": [
    "%%time\n",
    "col = 'total_parking_capacity_in_site'\n",
    "# print(train[col].unique())\n",
    "# print(test[col].unique())\n",
    "# trainLgb(col)\n",
    "print(train[col].unique())\n",
    "print(test[col].unique())\n",
    "\n",
    "train[col] = train[col].apply(lambda row : applyRound(row))\n",
    "test[col] = test[col].apply(lambda row : applyRound(row))\n",
    "print(train[col].unique())\n",
    "print(test[col].unique())"
   ]
  },
  {
   "cell_type": "code",
   "execution_count": 6,
   "metadata": {
    "ExecuteTime": {
     "end_time": "2019-01-14T13:56:27.615501Z",
     "start_time": "2019-01-14T13:55:45.795350Z"
    },
    "scrolled": true
   },
   "outputs": [
    {
     "name": "stdout",
     "output_type": "stream",
     "text": [
      "[ 8. 14. 15. 23. 20. 18. 30. 22. 25. 21. 19. 13. 12.  6.  5. 24. 28. 10.\n",
      " 27. 17.  7. 16. 11. 26.  9. 31. 29. 35. 39. 66. 40. 49. 33. 36. 37. 46.\n",
      " 38. 55. 43. 34. 51. 69. 32. 50. 41. 47. 58. 45. 42. 52. 48. 60. 44. 80.\n",
      " 72. 53. 56. nan]\n",
      "[15.  5. 16. 10. 14. 33.  6. 21. 25. 13. 19.  7. 18. 20. 11.  9. 27. 12.\n",
      " 23. 37. 29. 35. 28. 24. 17. 30.  8. 47. 49. 32. 22. 26. 44. 34. 41. 39.\n",
      " 42. 48. 38. 36. 31. nan 45. 46. 40. 56. 43. 58. 66. 55. 69. 52. 53. 51.\n",
      " 60. 72. 80. 50.]\n",
      "first run\n",
      "second run\n",
      "predict train\n",
      "predict test\n",
      "[ 8.         14.         15.         23.         20.         18.\n",
      " 30.         22.         25.         21.         19.         13.\n",
      " 12.          6.          5.         24.         28.         10.\n",
      " 27.         17.          7.         16.         11.         26.\n",
      "  9.         31.         29.         35.         39.         66.\n",
      " 40.         49.         33.         36.         37.         46.\n",
      " 38.         55.         43.         34.         51.         69.\n",
      " 32.         50.         41.         47.         58.         45.\n",
      " 42.         52.         48.         60.         44.         80.\n",
      " 72.         53.         56.         17.32432394 18.08943754 17.85274085\n",
      " 17.79070793]\n",
      "[15.          5.         16.         10.         14.         33.\n",
      "  6.         21.         25.         13.         19.          7.\n",
      " 18.         20.         11.          9.         27.         12.\n",
      " 23.         37.         29.         35.         28.         24.\n",
      " 17.         30.          8.         47.         49.         32.\n",
      " 22.         26.         44.         34.         41.         39.\n",
      " 42.         48.         38.         36.         31.         18.08943754\n",
      " 45.         46.         40.         56.         43.         58.\n",
      " 66.         55.         69.         52.         53.         51.\n",
      " 60.         72.         80.         50.        ]\n",
      "[ 8 14 15 23 20 18 30 22 25 21 19 13 12  6  5 24 28 10 27 17  7 16 11 26\n",
      "  9 31 29 35 39 66 40 49 33 36 37 46 38 55 43 34 51 69 32 50 41 47 58 45\n",
      " 42 52 48 60 44 80 72 53 56]\n",
      "[15  5 16 10 14 33  6 21 25 13 19  7 18 20 11  9 27 12 23 37 29 35 28 24\n",
      " 17 30  8 47 49 32 22 26 44 34 41 39 42 48 38 36 31 45 46 40 56 43 58 66\n",
      " 55 69 52 53 51 60 72 80 50]\n",
      "Wall time: 41.8 s\n"
     ]
    }
   ],
   "source": [
    "%%time\n",
    "col = 'tallest_building_in_sites'\n",
    "print(train[col].unique())\n",
    "print(test[col].unique())\n",
    "trainLgb(col)\n",
    "print(train[col].unique())\n",
    "print(test[col].unique())\n",
    "\n",
    "train[col] = train[col].apply(lambda row : applyRound(row))\n",
    "test[col] = test[col].apply(lambda row : applyRound(row))\n",
    "print(train[col].unique())\n",
    "print(test[col].unique())"
   ]
  },
  {
   "cell_type": "code",
   "execution_count": 16,
   "metadata": {
    "ExecuteTime": {
     "end_time": "2019-01-14T14:14:30.646118Z",
     "start_time": "2019-01-14T14:05:29.246131Z"
    }
   },
   "outputs": [
    {
     "name": "stdout",
     "output_type": "stream",
     "text": [
      "0    1159097\n",
      "2     415942\n",
      "1      26419\n",
      "Name: front_door_structure, dtype: int64\n",
      "0    3069\n",
      "2     779\n",
      "1      70\n",
      "Name: front_door_structure, dtype: int64\n"
     ]
    }
   ],
   "source": [
    "col = 'front_door_structure'\n",
    "params = {\n",
    "    'objective':'multiclass',\n",
    "#     'metric':'l2',\n",
    "    'num_class':3,\n",
    "    'num_threads':3,\n",
    "#     'device_type':'gpu',\n",
    "}\n",
    "cols, cats = coList(col)\n",
    "trainSet = data[data[col]!=3]\n",
    "label = trainSet[col].values\n",
    "lgbSet = lgb.Dataset(trainSet[cols], label=label, categorical_feature=cats)\n",
    "bst = lgb.train(params, lgbSet)\n",
    "    \n",
    "for i,v in enumerate(bst.feature_importance('gain')):\n",
    "    if v<10: cols[i]=0\n",
    "cols = [i for i in cols if i!=0]\n",
    "cats = list(set(cols)&set(cats))\n",
    "\n",
    "lgbSet = lgb.Dataset(trainSet[cols], label=label, categorical_feature=cats)\n",
    "bst = lgb.train(params, lgbSet)\n",
    "\n",
    "predSet = train[train[col]==3]\n",
    "idx = predSet.index.tolist()\n",
    "predArray = predSet[cols]\n",
    "predicted = bst.predict(predArray.values)\n",
    "for i, v in enumerate(idx):\n",
    "    train[col][v] = predicted[i].tolist().index(max(predicted[i]))\n",
    "\n",
    "predSet = test[test[col]==3]\n",
    "idx = predSet.index.tolist()\n",
    "predArray = predSet[cols]\n",
    "predicted = bst.predict(predArray.values)\n",
    "for i, v in enumerate(idx):\n",
    "    test[col][v] = predicted[i].tolist().index(max(predicted[i]))\n",
    "    \n",
    "print(train[col].value_counts(dropna=False))\n",
    "print(test[col].value_counts(dropna=False))"
   ]
  },
  {
   "cell_type": "code",
   "execution_count": 17,
   "metadata": {
    "ExecuteTime": {
     "end_time": "2019-01-14T14:16:58.403931Z",
     "start_time": "2019-01-14T14:14:30.649110Z"
    }
   },
   "outputs": [
    {
     "name": "stdout",
     "output_type": "stream",
     "text": [
      "0    1087845\n",
      "1     379864\n",
      "2     133749\n",
      "Name: heat_type, dtype: int64\n",
      "0    3037\n",
      "1     677\n",
      "2     204\n",
      "Name: heat_type, dtype: int64\n"
     ]
    }
   ],
   "source": [
    "col = 'heat_type'\n",
    "params = {\n",
    "    'objective':'multiclass',\n",
    "#     'metric':'l2',\n",
    "    'num_class':3,\n",
    "    'num_threads':3,\n",
    "#     'device_type':'gpu',\n",
    "}\n",
    "cols, cats = coList(col)\n",
    "trainSet = data[data[col]!=3]\n",
    "label = trainSet[col].values\n",
    "lgbSet = lgb.Dataset(trainSet[cols], label=label, categorical_feature=cats)\n",
    "bst = lgb.train(params, lgbSet)\n",
    "\n",
    "for i,v in enumerate(bst.feature_importance('gain')):\n",
    "    if v<10: cols[i]=0\n",
    "cols = [i for i in cols if i!=0]\n",
    "cats = list(set(cols)&set(cats))\n",
    "\n",
    "lgbSet = lgb.Dataset(trainSet[cols], label=label, categorical_feature=cats)\n",
    "bst = lgb.train(params, lgbSet)\n",
    "    \n",
    "predSet = train[train[col]==3]\n",
    "idx = predSet.index.tolist()\n",
    "predArray = predSet[cols]\n",
    "predicted = bst.predict(predArray.values)    \n",
    "for i, v in enumerate(idx):\n",
    "    train[col][v] = predicted[i].tolist().index(max(predicted[i]))\n",
    "        \n",
    "predSet = test[test[col]==3]\n",
    "idx = predSet.index.tolist()\n",
    "predArray = predSet[cols]\n",
    "predicted = bst.predict(predArray.values)    \n",
    "for i, v in enumerate(idx):\n",
    "    test[col][v] = predicted[i].tolist().index(max(predicted[i]))\n",
    "    \n",
    "print(train[col].value_counts(dropna=False))\n",
    "print(test[col].value_counts(dropna=False))"
   ]
  },
  {
   "cell_type": "code",
   "execution_count": 27,
   "metadata": {
    "ExecuteTime": {
     "end_time": "2019-01-14T14:31:35.238809Z",
     "start_time": "2019-01-14T14:22:06.869917Z"
    }
   },
   "outputs": [
    {
     "name": "stdout",
     "output_type": "stream",
     "text": [
      "train :  18638\n",
      "0    1223002\n",
      "1     378456\n",
      "Name: heat_fuel, dtype: int64\n",
      "test :  95\n",
      "0    3238\n",
      "1     680\n",
      "Name: heat_fuel, dtype: int64\n"
     ]
    }
   ],
   "source": [
    "col = 'heat_fuel'\n",
    "params = {\n",
    "    'objective':'binary',\n",
    "#     'metric':'l2',\n",
    "    'num_threads':3,\n",
    "#     'device_type':'gpu',\n",
    "}\n",
    "# cols, cats = coList(col)\n",
    "# trainSet = data[data[col]!=2]\n",
    "# label = trainSet[col].values\n",
    "# lgbSet = lgb.Dataset(trainSet[cols], label=label, categorical_feature=cats)\n",
    "# bst = lgb.train(params, lgbSet)\n",
    "\n",
    "# for i,v in enumerate(bst.feature_importance('gain')):\n",
    "#     if v<10: cols[i]=0\n",
    "# cols = [i for i in cols if i!=0]\n",
    "# cats = list(set(cols)&set(cats))\n",
    "\n",
    "# lgbSet = lgb.Dataset(trainSet[cols], label=label, categorical_feature=cats)\n",
    "# bst = lgb.train(params, lgbSet)\n",
    "    \n",
    "predSet = train[train[col]==2]\n",
    "print('train : ', len(predSet))\n",
    "idx = predSet.index.tolist()\n",
    "predArray = predSet[cols]\n",
    "predicted = bst.predict(predArray.values)    \n",
    "for i, v in enumerate(idx):\n",
    "    train[col][v] = int(predicted[i]>0.5)\n",
    "print(train[col].value_counts(dropna=False))\n",
    "        \n",
    "predSet = test[test[col]==2]\n",
    "print('test : ', len(predSet))\n",
    "idx = predSet.index.tolist()\n",
    "predArray = predSet[cols]\n",
    "predicted = bst.predict(predArray.values)    \n",
    "for i, v in enumerate(idx):\n",
    "    test[col][v] = int(predicted[i]>0.5)\n",
    "print(test[col].value_counts(dropna=False))"
   ]
  },
  {
   "cell_type": "code",
   "execution_count": 15,
   "metadata": {
    "ExecuteTime": {
     "end_time": "2019-01-15T10:03:50.348160Z",
     "start_time": "2019-01-15T10:03:50.287322Z"
    }
   },
   "outputs": [
    {
     "ename": "KeyError",
     "evalue": "'apartUnitPrice'",
     "output_type": "error",
     "traceback": [
      "\u001b[1;31m---------------------------------------------------------------------------\u001b[0m",
      "\u001b[1;31mKeyError\u001b[0m                                  Traceback (most recent call last)",
      "\u001b[1;32mC:\\Anaconda3\\envs\\tensorflow\\lib\\site-packages\\pandas\\core\\indexes\\base.py\u001b[0m in \u001b[0;36mget_loc\u001b[1;34m(self, key, method, tolerance)\u001b[0m\n\u001b[0;32m   3077\u001b[0m             \u001b[1;32mtry\u001b[0m\u001b[1;33m:\u001b[0m\u001b[1;33m\u001b[0m\u001b[1;33m\u001b[0m\u001b[0m\n\u001b[1;32m-> 3078\u001b[1;33m                 \u001b[1;32mreturn\u001b[0m \u001b[0mself\u001b[0m\u001b[1;33m.\u001b[0m\u001b[0m_engine\u001b[0m\u001b[1;33m.\u001b[0m\u001b[0mget_loc\u001b[0m\u001b[1;33m(\u001b[0m\u001b[0mkey\u001b[0m\u001b[1;33m)\u001b[0m\u001b[1;33m\u001b[0m\u001b[1;33m\u001b[0m\u001b[0m\n\u001b[0m\u001b[0;32m   3079\u001b[0m             \u001b[1;32mexcept\u001b[0m \u001b[0mKeyError\u001b[0m\u001b[1;33m:\u001b[0m\u001b[1;33m\u001b[0m\u001b[1;33m\u001b[0m\u001b[0m\n",
      "\u001b[1;32mpandas\\_libs\\index.pyx\u001b[0m in \u001b[0;36mpandas._libs.index.IndexEngine.get_loc\u001b[1;34m()\u001b[0m\n",
      "\u001b[1;32mpandas\\_libs\\index.pyx\u001b[0m in \u001b[0;36mpandas._libs.index.IndexEngine.get_loc\u001b[1;34m()\u001b[0m\n",
      "\u001b[1;32mpandas\\_libs\\hashtable_class_helper.pxi\u001b[0m in \u001b[0;36mpandas._libs.hashtable.PyObjectHashTable.get_item\u001b[1;34m()\u001b[0m\n",
      "\u001b[1;32mpandas\\_libs\\hashtable_class_helper.pxi\u001b[0m in \u001b[0;36mpandas._libs.hashtable.PyObjectHashTable.get_item\u001b[1;34m()\u001b[0m\n",
      "\u001b[1;31mKeyError\u001b[0m: 'apartUnitPrice'",
      "\nDuring handling of the above exception, another exception occurred:\n",
      "\u001b[1;31mKeyError\u001b[0m                                  Traceback (most recent call last)",
      "\u001b[1;32m<ipython-input-15-0a5769e3572b>\u001b[0m in \u001b[0;36m<module>\u001b[1;34m\u001b[0m\n\u001b[0;32m      2\u001b[0m \u001b[0mcols\u001b[0m\u001b[1;33m,\u001b[0m \u001b[0mcats\u001b[0m \u001b[1;33m=\u001b[0m \u001b[0mcoList\u001b[0m\u001b[1;33m(\u001b[0m\u001b[0mcol\u001b[0m\u001b[1;33m)\u001b[0m\u001b[1;33m\u001b[0m\u001b[1;33m\u001b[0m\u001b[0m\n\u001b[0;32m      3\u001b[0m \u001b[0mcols\u001b[0m\u001b[1;33m.\u001b[0m\u001b[0mremove\u001b[0m\u001b[1;33m(\u001b[0m\u001b[1;34m'apartment_id'\u001b[0m\u001b[1;33m)\u001b[0m\u001b[1;33m\u001b[0m\u001b[1;33m\u001b[0m\u001b[0m\n\u001b[1;32m----> 4\u001b[1;33m \u001b[0mtrainSet\u001b[0m \u001b[1;33m=\u001b[0m \u001b[0mdata\u001b[0m\u001b[1;33m[\u001b[0m\u001b[1;33m~\u001b[0m\u001b[0mpd\u001b[0m\u001b[1;33m.\u001b[0m\u001b[0misna\u001b[0m\u001b[1;33m(\u001b[0m\u001b[0mdata\u001b[0m\u001b[1;33m[\u001b[0m\u001b[0mcol\u001b[0m\u001b[1;33m]\u001b[0m\u001b[1;33m)\u001b[0m\u001b[1;33m]\u001b[0m\u001b[1;33m\u001b[0m\u001b[1;33m\u001b[0m\u001b[0m\n\u001b[0m\u001b[0;32m      5\u001b[0m \u001b[0mlabel\u001b[0m \u001b[1;33m=\u001b[0m \u001b[0mtrainSet\u001b[0m\u001b[1;33m[\u001b[0m\u001b[0mcol\u001b[0m\u001b[1;33m]\u001b[0m\u001b[1;33m.\u001b[0m\u001b[0mvalues\u001b[0m\u001b[1;33m\u001b[0m\u001b[1;33m\u001b[0m\u001b[0m\n\u001b[0;32m      6\u001b[0m \u001b[0mlgbSet\u001b[0m \u001b[1;33m=\u001b[0m \u001b[0mlgb\u001b[0m\u001b[1;33m.\u001b[0m\u001b[0mDataset\u001b[0m\u001b[1;33m(\u001b[0m\u001b[0mtrainSet\u001b[0m\u001b[1;33m[\u001b[0m\u001b[0mcols\u001b[0m\u001b[1;33m]\u001b[0m\u001b[1;33m,\u001b[0m \u001b[0mlabel\u001b[0m\u001b[1;33m=\u001b[0m\u001b[0mlabel\u001b[0m\u001b[1;33m,\u001b[0m \u001b[0mcategorical_feature\u001b[0m\u001b[1;33m=\u001b[0m\u001b[0mcats\u001b[0m\u001b[1;33m)\u001b[0m\u001b[1;33m\u001b[0m\u001b[1;33m\u001b[0m\u001b[0m\n",
      "\u001b[1;32mC:\\Anaconda3\\envs\\tensorflow\\lib\\site-packages\\pandas\\core\\frame.py\u001b[0m in \u001b[0;36m__getitem__\u001b[1;34m(self, key)\u001b[0m\n\u001b[0;32m   2686\u001b[0m             \u001b[1;32mreturn\u001b[0m \u001b[0mself\u001b[0m\u001b[1;33m.\u001b[0m\u001b[0m_getitem_multilevel\u001b[0m\u001b[1;33m(\u001b[0m\u001b[0mkey\u001b[0m\u001b[1;33m)\u001b[0m\u001b[1;33m\u001b[0m\u001b[1;33m\u001b[0m\u001b[0m\n\u001b[0;32m   2687\u001b[0m         \u001b[1;32melse\u001b[0m\u001b[1;33m:\u001b[0m\u001b[1;33m\u001b[0m\u001b[1;33m\u001b[0m\u001b[0m\n\u001b[1;32m-> 2688\u001b[1;33m             \u001b[1;32mreturn\u001b[0m \u001b[0mself\u001b[0m\u001b[1;33m.\u001b[0m\u001b[0m_getitem_column\u001b[0m\u001b[1;33m(\u001b[0m\u001b[0mkey\u001b[0m\u001b[1;33m)\u001b[0m\u001b[1;33m\u001b[0m\u001b[1;33m\u001b[0m\u001b[0m\n\u001b[0m\u001b[0;32m   2689\u001b[0m \u001b[1;33m\u001b[0m\u001b[0m\n\u001b[0;32m   2690\u001b[0m     \u001b[1;32mdef\u001b[0m \u001b[0m_getitem_column\u001b[0m\u001b[1;33m(\u001b[0m\u001b[0mself\u001b[0m\u001b[1;33m,\u001b[0m \u001b[0mkey\u001b[0m\u001b[1;33m)\u001b[0m\u001b[1;33m:\u001b[0m\u001b[1;33m\u001b[0m\u001b[1;33m\u001b[0m\u001b[0m\n",
      "\u001b[1;32mC:\\Anaconda3\\envs\\tensorflow\\lib\\site-packages\\pandas\\core\\frame.py\u001b[0m in \u001b[0;36m_getitem_column\u001b[1;34m(self, key)\u001b[0m\n\u001b[0;32m   2693\u001b[0m         \u001b[1;31m# get column\u001b[0m\u001b[1;33m\u001b[0m\u001b[1;33m\u001b[0m\u001b[1;33m\u001b[0m\u001b[0m\n\u001b[0;32m   2694\u001b[0m         \u001b[1;32mif\u001b[0m \u001b[0mself\u001b[0m\u001b[1;33m.\u001b[0m\u001b[0mcolumns\u001b[0m\u001b[1;33m.\u001b[0m\u001b[0mis_unique\u001b[0m\u001b[1;33m:\u001b[0m\u001b[1;33m\u001b[0m\u001b[1;33m\u001b[0m\u001b[0m\n\u001b[1;32m-> 2695\u001b[1;33m             \u001b[1;32mreturn\u001b[0m \u001b[0mself\u001b[0m\u001b[1;33m.\u001b[0m\u001b[0m_get_item_cache\u001b[0m\u001b[1;33m(\u001b[0m\u001b[0mkey\u001b[0m\u001b[1;33m)\u001b[0m\u001b[1;33m\u001b[0m\u001b[1;33m\u001b[0m\u001b[0m\n\u001b[0m\u001b[0;32m   2696\u001b[0m \u001b[1;33m\u001b[0m\u001b[0m\n\u001b[0;32m   2697\u001b[0m         \u001b[1;31m# duplicate columns & possible reduce dimensionality\u001b[0m\u001b[1;33m\u001b[0m\u001b[1;33m\u001b[0m\u001b[1;33m\u001b[0m\u001b[0m\n",
      "\u001b[1;32mC:\\Anaconda3\\envs\\tensorflow\\lib\\site-packages\\pandas\\core\\generic.py\u001b[0m in \u001b[0;36m_get_item_cache\u001b[1;34m(self, item)\u001b[0m\n\u001b[0;32m   2487\u001b[0m         \u001b[0mres\u001b[0m \u001b[1;33m=\u001b[0m \u001b[0mcache\u001b[0m\u001b[1;33m.\u001b[0m\u001b[0mget\u001b[0m\u001b[1;33m(\u001b[0m\u001b[0mitem\u001b[0m\u001b[1;33m)\u001b[0m\u001b[1;33m\u001b[0m\u001b[1;33m\u001b[0m\u001b[0m\n\u001b[0;32m   2488\u001b[0m         \u001b[1;32mif\u001b[0m \u001b[0mres\u001b[0m \u001b[1;32mis\u001b[0m \u001b[1;32mNone\u001b[0m\u001b[1;33m:\u001b[0m\u001b[1;33m\u001b[0m\u001b[1;33m\u001b[0m\u001b[0m\n\u001b[1;32m-> 2489\u001b[1;33m             \u001b[0mvalues\u001b[0m \u001b[1;33m=\u001b[0m \u001b[0mself\u001b[0m\u001b[1;33m.\u001b[0m\u001b[0m_data\u001b[0m\u001b[1;33m.\u001b[0m\u001b[0mget\u001b[0m\u001b[1;33m(\u001b[0m\u001b[0mitem\u001b[0m\u001b[1;33m)\u001b[0m\u001b[1;33m\u001b[0m\u001b[1;33m\u001b[0m\u001b[0m\n\u001b[0m\u001b[0;32m   2490\u001b[0m             \u001b[0mres\u001b[0m \u001b[1;33m=\u001b[0m \u001b[0mself\u001b[0m\u001b[1;33m.\u001b[0m\u001b[0m_box_item_values\u001b[0m\u001b[1;33m(\u001b[0m\u001b[0mitem\u001b[0m\u001b[1;33m,\u001b[0m \u001b[0mvalues\u001b[0m\u001b[1;33m)\u001b[0m\u001b[1;33m\u001b[0m\u001b[1;33m\u001b[0m\u001b[0m\n\u001b[0;32m   2491\u001b[0m             \u001b[0mcache\u001b[0m\u001b[1;33m[\u001b[0m\u001b[0mitem\u001b[0m\u001b[1;33m]\u001b[0m \u001b[1;33m=\u001b[0m \u001b[0mres\u001b[0m\u001b[1;33m\u001b[0m\u001b[1;33m\u001b[0m\u001b[0m\n",
      "\u001b[1;32mC:\\Anaconda3\\envs\\tensorflow\\lib\\site-packages\\pandas\\core\\internals.py\u001b[0m in \u001b[0;36mget\u001b[1;34m(self, item, fastpath)\u001b[0m\n\u001b[0;32m   4113\u001b[0m \u001b[1;33m\u001b[0m\u001b[0m\n\u001b[0;32m   4114\u001b[0m             \u001b[1;32mif\u001b[0m \u001b[1;32mnot\u001b[0m \u001b[0misna\u001b[0m\u001b[1;33m(\u001b[0m\u001b[0mitem\u001b[0m\u001b[1;33m)\u001b[0m\u001b[1;33m:\u001b[0m\u001b[1;33m\u001b[0m\u001b[1;33m\u001b[0m\u001b[0m\n\u001b[1;32m-> 4115\u001b[1;33m                 \u001b[0mloc\u001b[0m \u001b[1;33m=\u001b[0m \u001b[0mself\u001b[0m\u001b[1;33m.\u001b[0m\u001b[0mitems\u001b[0m\u001b[1;33m.\u001b[0m\u001b[0mget_loc\u001b[0m\u001b[1;33m(\u001b[0m\u001b[0mitem\u001b[0m\u001b[1;33m)\u001b[0m\u001b[1;33m\u001b[0m\u001b[1;33m\u001b[0m\u001b[0m\n\u001b[0m\u001b[0;32m   4116\u001b[0m             \u001b[1;32melse\u001b[0m\u001b[1;33m:\u001b[0m\u001b[1;33m\u001b[0m\u001b[1;33m\u001b[0m\u001b[0m\n\u001b[0;32m   4117\u001b[0m                 \u001b[0mindexer\u001b[0m \u001b[1;33m=\u001b[0m \u001b[0mnp\u001b[0m\u001b[1;33m.\u001b[0m\u001b[0marange\u001b[0m\u001b[1;33m(\u001b[0m\u001b[0mlen\u001b[0m\u001b[1;33m(\u001b[0m\u001b[0mself\u001b[0m\u001b[1;33m.\u001b[0m\u001b[0mitems\u001b[0m\u001b[1;33m)\u001b[0m\u001b[1;33m)\u001b[0m\u001b[1;33m[\u001b[0m\u001b[0misna\u001b[0m\u001b[1;33m(\u001b[0m\u001b[0mself\u001b[0m\u001b[1;33m.\u001b[0m\u001b[0mitems\u001b[0m\u001b[1;33m)\u001b[0m\u001b[1;33m]\u001b[0m\u001b[1;33m\u001b[0m\u001b[1;33m\u001b[0m\u001b[0m\n",
      "\u001b[1;32mC:\\Anaconda3\\envs\\tensorflow\\lib\\site-packages\\pandas\\core\\indexes\\base.py\u001b[0m in \u001b[0;36mget_loc\u001b[1;34m(self, key, method, tolerance)\u001b[0m\n\u001b[0;32m   3078\u001b[0m                 \u001b[1;32mreturn\u001b[0m \u001b[0mself\u001b[0m\u001b[1;33m.\u001b[0m\u001b[0m_engine\u001b[0m\u001b[1;33m.\u001b[0m\u001b[0mget_loc\u001b[0m\u001b[1;33m(\u001b[0m\u001b[0mkey\u001b[0m\u001b[1;33m)\u001b[0m\u001b[1;33m\u001b[0m\u001b[1;33m\u001b[0m\u001b[0m\n\u001b[0;32m   3079\u001b[0m             \u001b[1;32mexcept\u001b[0m \u001b[0mKeyError\u001b[0m\u001b[1;33m:\u001b[0m\u001b[1;33m\u001b[0m\u001b[1;33m\u001b[0m\u001b[0m\n\u001b[1;32m-> 3080\u001b[1;33m                 \u001b[1;32mreturn\u001b[0m \u001b[0mself\u001b[0m\u001b[1;33m.\u001b[0m\u001b[0m_engine\u001b[0m\u001b[1;33m.\u001b[0m\u001b[0mget_loc\u001b[0m\u001b[1;33m(\u001b[0m\u001b[0mself\u001b[0m\u001b[1;33m.\u001b[0m\u001b[0m_maybe_cast_indexer\u001b[0m\u001b[1;33m(\u001b[0m\u001b[0mkey\u001b[0m\u001b[1;33m)\u001b[0m\u001b[1;33m)\u001b[0m\u001b[1;33m\u001b[0m\u001b[1;33m\u001b[0m\u001b[0m\n\u001b[0m\u001b[0;32m   3081\u001b[0m \u001b[1;33m\u001b[0m\u001b[0m\n\u001b[0;32m   3082\u001b[0m         \u001b[0mindexer\u001b[0m \u001b[1;33m=\u001b[0m \u001b[0mself\u001b[0m\u001b[1;33m.\u001b[0m\u001b[0mget_indexer\u001b[0m\u001b[1;33m(\u001b[0m\u001b[1;33m[\u001b[0m\u001b[0mkey\u001b[0m\u001b[1;33m]\u001b[0m\u001b[1;33m,\u001b[0m \u001b[0mmethod\u001b[0m\u001b[1;33m=\u001b[0m\u001b[0mmethod\u001b[0m\u001b[1;33m,\u001b[0m \u001b[0mtolerance\u001b[0m\u001b[1;33m=\u001b[0m\u001b[0mtolerance\u001b[0m\u001b[1;33m)\u001b[0m\u001b[1;33m\u001b[0m\u001b[1;33m\u001b[0m\u001b[0m\n",
      "\u001b[1;32mpandas\\_libs\\index.pyx\u001b[0m in \u001b[0;36mpandas._libs.index.IndexEngine.get_loc\u001b[1;34m()\u001b[0m\n",
      "\u001b[1;32mpandas\\_libs\\index.pyx\u001b[0m in \u001b[0;36mpandas._libs.index.IndexEngine.get_loc\u001b[1;34m()\u001b[0m\n",
      "\u001b[1;32mpandas\\_libs\\hashtable_class_helper.pxi\u001b[0m in \u001b[0;36mpandas._libs.hashtable.PyObjectHashTable.get_item\u001b[1;34m()\u001b[0m\n",
      "\u001b[1;32mpandas\\_libs\\hashtable_class_helper.pxi\u001b[0m in \u001b[0;36mpandas._libs.hashtable.PyObjectHashTable.get_item\u001b[1;34m()\u001b[0m\n",
      "\u001b[1;31mKeyError\u001b[0m: 'apartUnitPrice'"
     ]
    }
   ],
   "source": [
    "col = 'apartUnitPrice'\n",
    "cols, cats = coList(col)\n",
    "cols.remove('apartment_id')\n",
    "trainSet = data[~pd.isna(data[col])]\n",
    "label = trainSet[col].values\n",
    "lgbSet = lgb.Dataset(trainSet[cols], label=label, categorical_feature=cats)\n",
    "bst = lgb.train(params, lgbSet)\n",
    "for i,v in enumerate(bst.feature_importance('gain')):\n",
    "    if v<10: cols[i]=0\n",
    "cols = [i for i in cols if i!=0]\n",
    "cats = list(set(cols)&set(cats))\n",
    "lgbSet = lgb.Dataset(trainSet[cols], label=label, categorical_feature=cats)\n",
    "bst = lgb.train(params, lgbSet)\n",
    "predSet = train[pd.isna(train[col])]\n",
    "idx = predSet.index.tolist()\n",
    "predArray = predSet[cols]\n",
    "predicted = bst.predict(predArray.values)\n",
    "for i, v in enumerate(idx):\n",
    "    train[col][v] = predicted[i]\n",
    "predSet = test[pd.isna(test[col])]\n",
    "idx = predSet.index.tolist()\n",
    "predArray = predSet[cols]\n",
    "predicted = bst.predict(predArray.values)\n",
    "for i, v in enumerate(idx):\n",
    "    test[col][v] = predicted[i]\n",
    "    \n",
    "train[col] = train[col].apply(lambda row : applyRound(row))\n",
    "test[col] = test[col].apply(lambda row : applyRound(row))"
   ]
  },
  {
   "cell_type": "code",
   "execution_count": 17,
   "metadata": {
    "ExecuteTime": {
     "end_time": "2019-01-15T10:14:33.170575Z",
     "start_time": "2019-01-15T10:14:33.161599Z"
    }
   },
   "outputs": [
    {
     "data": {
      "text/plain": [
       "Index(['key', 'apartment_id', 'city', 'transaction_year_month',\n",
       "       'transaction_date', 'year_of_completion', 'exclusive_use_area', 'floor',\n",
       "       'latitude', 'longitude', 'address_by_law',\n",
       "       'total_parking_capacity_in_site', 'total_household_count_in_sites',\n",
       "       'apartment_building_count_in_sites', 'tallest_building_in_sites',\n",
       "       'lowest_building_in_sites', 'heat_type', 'heat_fuel', 'room_id',\n",
       "       'supply_area', 'total_household_count_of_area_type', 'room_count',\n",
       "       'bathroom_count', 'front_door_structure', 'transaction_real_price',\n",
       "       'logPrice', 'exAreaPrice', 'supAreaPrice', 'logExAreaPrice',\n",
       "       'logSupAreaPrice', 'transYear', 'transMonth', 'transDate', 'transYMD',\n",
       "       'transOrdered', 'commonArea', 'areaRate', 'district', 'town', 'disTown',\n",
       "       'cityDisTown', 'townUnitPrice'],\n",
       "      dtype='object')"
      ]
     },
     "execution_count": 17,
     "metadata": {},
     "output_type": "execute_result"
    }
   ],
   "source": [
    "train.columns"
   ]
  },
  {
   "cell_type": "markdown",
   "metadata": {},
   "source": [
    "## Subway"
   ]
  },
  {
   "cell_type": "code",
   "execution_count": 121,
   "metadata": {
    "scrolled": true
   },
   "outputs": [
    {
     "name": "stdout",
     "output_type": "stream",
     "text": [
      "<class 'pandas.core.frame.DataFrame'>\n",
      "RangeIndex: 405 entries, 0 to 404\n",
      "Data columns (total 11 columns):\n",
      "station_id        405 non-null int64\n",
      "latitude          405 non-null float64\n",
      "longitude         405 non-null float64\n",
      "subway_line       405 non-null object\n",
      "address_by_law    396 non-null float64\n",
      "disTown           396 non-null float64\n",
      "logPrice          341 non-null float64\n",
      "noLine            405 non-null int64\n",
      "lines             405 non-null object\n",
      "city              405 non-null int64\n",
      "cityDisTown       396 non-null float64\n",
      "dtypes: float64(6), int64(3), object(2)\n",
      "memory usage: 34.9+ KB\n"
     ]
    }
   ],
   "source": [
    "subway.info()"
   ]
  },
  {
   "cell_type": "markdown",
   "metadata": {},
   "source": [
    "### 지하철역 거리 구하기"
   ]
  },
  {
   "cell_type": "code",
   "execution_count": 91,
   "metadata": {},
   "outputs": [
    {
     "name": "stdout",
     "output_type": "stream",
     "text": [
      "Wall time: 49.8 ms\n"
     ]
    }
   ],
   "source": [
    "%%time\n",
    "lat = 'latitude'\n",
    "lot = 'longitude'\n",
    "apartLoc = test[['apartment_id', lat, lot]].groupby(['apartment_id']).agg('mean')\n",
    "apartIdx = apartLoc.index.tolist()\n",
    "apartLoc = apartLoc.values\n",
    "statLoc = subway[['station_id', lat, lot]].groupby(['station_id']).agg('mean')\n",
    "statIdx = statLoc.index.tolist()\n",
    "statLoc = statLoc.values\n",
    "station= dict(zip(statIdx, statLoc))\n",
    "apartment = dict(zip(apartIdx, apartLoc))"
   ]
  },
  {
   "cell_type": "code",
   "execution_count": 109,
   "metadata": {
    "collapsed": true
   },
   "outputs": [
    {
     "name": "stderr",
     "output_type": "stream",
     "text": [
      "\n",
      "  0%|                                                      | 0/405 [00:00<?, ?it/s]\n",
      "  2%|▉                                             | 8/405 [00:00<00:05, 72.92it/s]\n",
      "  4%|█▋                                           | 15/405 [00:00<00:05, 71.20it/s]\n",
      "  6%|██▌                                          | 23/405 [00:00<00:05, 72.48it/s]\n",
      "  8%|███▍                                         | 31/405 [00:00<00:05, 73.21it/s]\n",
      " 10%|████▎                                        | 39/405 [00:00<00:04, 74.13it/s]\n",
      " 12%|█████▏                                       | 47/405 [00:00<00:04, 74.18it/s]\n",
      " 14%|██████                                       | 55/405 [00:00<00:04, 73.59it/s]\n",
      " 16%|███████                                      | 63/405 [00:00<00:04, 72.99it/s]\n",
      " 17%|███████▊                                     | 70/405 [00:00<00:04, 70.60it/s]\n",
      " 19%|████████▌                                    | 77/405 [00:01<00:05, 65.00it/s]\n",
      " 21%|█████████▎                                   | 84/405 [00:01<00:05, 60.46it/s]\n",
      " 22%|██████████                                   | 91/405 [00:01<00:05, 62.24it/s]\n",
      " 24%|██████████▉                                  | 98/405 [00:01<00:04, 63.39it/s]\n",
      " 26%|███████████▍                                | 105/405 [00:01<00:04, 63.16it/s]\n",
      " 28%|████████████▏                               | 112/405 [00:01<00:04, 64.05it/s]\n",
      " 29%|████████████▉                               | 119/405 [00:01<00:04, 64.50it/s]\n",
      " 31%|█████████████▋                              | 126/405 [00:01<00:04, 65.74it/s]\n",
      " 33%|██████████████▍                             | 133/405 [00:01<00:04, 66.63it/s]\n",
      " 35%|███████████████▎                            | 141/405 [00:02<00:03, 68.58it/s]\n",
      " 37%|████████████████▏                           | 149/405 [00:02<00:03, 69.82it/s]\n",
      " 39%|█████████████████                           | 157/405 [00:02<00:03, 70.91it/s]\n",
      " 41%|█████████████████▉                          | 165/405 [00:02<00:03, 71.89it/s]\n",
      " 43%|██████████████████▊                         | 173/405 [00:02<00:03, 72.39it/s]\n",
      " 45%|███████████████████▋                        | 181/405 [00:02<00:03, 73.34it/s]\n",
      " 47%|████████████████████▌                       | 189/405 [00:02<00:02, 73.42it/s]\n",
      " 49%|█████████████████████▍                      | 197/405 [00:02<00:02, 73.88it/s]\n",
      " 51%|██████████████████████▎                     | 205/405 [00:02<00:02, 73.39it/s]\n",
      " 53%|███████████████████████▏                    | 213/405 [00:03<00:02, 71.29it/s]\n",
      " 55%|████████████████████████                    | 221/405 [00:03<00:02, 69.90it/s]\n",
      " 57%|████████████████████████▉                   | 229/405 [00:03<00:02, 70.04it/s]\n",
      " 59%|█████████████████████████▋                  | 237/405 [00:03<00:02, 69.23it/s]\n",
      " 60%|██████████████████████████▌                 | 244/405 [00:03<00:02, 68.90it/s]\n",
      " 62%|███████████████████████████▎                | 251/405 [00:03<00:02, 68.07it/s]\n",
      " 64%|████████████████████████████                | 258/405 [00:03<00:02, 68.10it/s]\n",
      " 65%|████████████████████████████▊               | 265/405 [00:03<00:02, 66.94it/s]\n",
      " 67%|█████████████████████████████▌              | 272/405 [00:03<00:01, 67.49it/s]\n",
      " 69%|██████████████████████████████▎             | 279/405 [00:04<00:01, 64.16it/s]\n",
      " 71%|███████████████████████████████             | 286/405 [00:04<00:01, 61.69it/s]\n",
      " 72%|███████████████████████████████▊            | 293/405 [00:04<00:01, 63.67it/s]\n",
      " 74%|████████████████████████████████▌           | 300/405 [00:04<00:01, 64.58it/s]\n",
      " 76%|█████████████████████████████████▍          | 308/405 [00:04<00:01, 66.88it/s]\n",
      " 78%|██████████████████████████████████▎         | 316/405 [00:04<00:01, 69.11it/s]\n",
      " 80%|███████████████████████████████████         | 323/405 [00:04<00:01, 68.61it/s]\n",
      " 81%|███████████████████████████████████▊        | 330/405 [00:04<00:01, 66.92it/s]\n",
      " 83%|████████████████████████████████████▌       | 337/405 [00:04<00:01, 65.95it/s]\n",
      " 85%|█████████████████████████████████████▎      | 344/405 [00:05<00:00, 65.11it/s]\n",
      " 87%|██████████████████████████████████████▏     | 351/405 [00:05<00:00, 64.71it/s]\n",
      " 88%|██████████████████████████████████████▉     | 358/405 [00:05<00:00, 64.44it/s]\n",
      " 90%|███████████████████████████████████████▋    | 365/405 [00:05<00:00, 64.43it/s]\n",
      " 92%|████████████████████████████████████████▍   | 372/405 [00:05<00:00, 63.37it/s]\n",
      " 94%|█████████████████████████████████████████▎  | 380/405 [00:05<00:00, 65.63it/s]\n",
      " 96%|██████████████████████████████████████████  | 387/405 [00:05<00:00, 66.75it/s]\n",
      " 97%|██████████████████████████████████████████▊ | 394/405 [00:05<00:00, 65.11it/s]\n",
      " 99%|███████████████████████████████████████████▌| 401/405 [00:05<00:00, 64.53it/s]\n",
      "100%|████████████████████████████████████████████| 405/405 [00:05<00:00, 67.65it/s]"
     ]
    },
    {
     "name": "stdout",
     "output_type": "stream",
     "text": [
      "Wall time: 6.1 s\n"
     ]
    }
   ],
   "source": [
    "%%time\n",
    "# 위도 1도 : 110,000m\n",
    "# 경도 1도 : 88,740m\n",
    "subDist = {a:{s:None for s in statIdx} for a in apartIdx} # row(0) : apart, col(1) : station\n",
    "for s in tqdm(statIdx):\n",
    "    for a in apartIdx:\n",
    "        width = abs(station[s][0] - apartment[a][0])*110000\n",
    "        height = abs(station[s][1] - apartment[a][1])*88740\n",
    "        dist = math.sqrt(width**2+height**2)\n",
    "        subDist[a][s] = dist"
   ]
  },
  {
   "cell_type": "code",
   "execution_count": 130,
   "metadata": {},
   "outputs": [],
   "source": [
    "subLines = pd.Series(subway['lines'], index=subway['station_id'])"
   ]
  },
  {
   "cell_type": "code",
   "execution_count": 148,
   "metadata": {
    "scrolled": true
   },
   "outputs": [
    {
     "ename": "KeyError",
     "evalue": "'BK'",
     "output_type": "error",
     "traceback": [
      "\u001b[1;31m---------------------------------------------------------------------------\u001b[0m",
      "\u001b[1;31mTypeError\u001b[0m                                 Traceback (most recent call last)",
      "\u001b[1;32mpandas\\_libs\\index.pyx\u001b[0m in \u001b[0;36mpandas._libs.index.IndexEngine.get_loc\u001b[1;34m()\u001b[0m\n",
      "\u001b[1;32mpandas\\_libs\\hashtable_class_helper.pxi\u001b[0m in \u001b[0;36mpandas._libs.hashtable.Int64HashTable.get_item\u001b[1;34m()\u001b[0m\n",
      "\u001b[1;31mTypeError\u001b[0m: an integer is required",
      "\nDuring handling of the above exception, another exception occurred:\n",
      "\u001b[1;31mKeyError\u001b[0m                                  Traceback (most recent call last)",
      "\u001b[1;32m<ipython-input-148-3fd066b9ce02>\u001b[0m in \u001b[0;36m<module>\u001b[1;34m\u001b[0m\n\u001b[1;32m----> 1\u001b[1;33m \u001b[0mtype\u001b[0m\u001b[1;33m(\u001b[0m\u001b[0msubLines\u001b[0m\u001b[1;33m[\u001b[0m\u001b[1;34m'BK'\u001b[0m\u001b[1;33m]\u001b[0m\u001b[1;33m)\u001b[0m\u001b[1;33m==\u001b[0m\u001b[0mlist\u001b[0m\u001b[1;33m\u001b[0m\u001b[1;33m\u001b[0m\u001b[0m\n\u001b[0m",
      "\u001b[1;32mC:\\Anaconda3\\envs\\tensorflow\\lib\\site-packages\\pandas\\core\\series.py\u001b[0m in \u001b[0;36m__getitem__\u001b[1;34m(self, key)\u001b[0m\n\u001b[0;32m    765\u001b[0m         \u001b[0mkey\u001b[0m \u001b[1;33m=\u001b[0m \u001b[0mcom\u001b[0m\u001b[1;33m.\u001b[0m\u001b[0m_apply_if_callable\u001b[0m\u001b[1;33m(\u001b[0m\u001b[0mkey\u001b[0m\u001b[1;33m,\u001b[0m \u001b[0mself\u001b[0m\u001b[1;33m)\u001b[0m\u001b[1;33m\u001b[0m\u001b[1;33m\u001b[0m\u001b[0m\n\u001b[0;32m    766\u001b[0m         \u001b[1;32mtry\u001b[0m\u001b[1;33m:\u001b[0m\u001b[1;33m\u001b[0m\u001b[1;33m\u001b[0m\u001b[0m\n\u001b[1;32m--> 767\u001b[1;33m             \u001b[0mresult\u001b[0m \u001b[1;33m=\u001b[0m \u001b[0mself\u001b[0m\u001b[1;33m.\u001b[0m\u001b[0mindex\u001b[0m\u001b[1;33m.\u001b[0m\u001b[0mget_value\u001b[0m\u001b[1;33m(\u001b[0m\u001b[0mself\u001b[0m\u001b[1;33m,\u001b[0m \u001b[0mkey\u001b[0m\u001b[1;33m)\u001b[0m\u001b[1;33m\u001b[0m\u001b[1;33m\u001b[0m\u001b[0m\n\u001b[0m\u001b[0;32m    768\u001b[0m \u001b[1;33m\u001b[0m\u001b[0m\n\u001b[0;32m    769\u001b[0m             \u001b[1;32mif\u001b[0m \u001b[1;32mnot\u001b[0m \u001b[0mis_scalar\u001b[0m\u001b[1;33m(\u001b[0m\u001b[0mresult\u001b[0m\u001b[1;33m)\u001b[0m\u001b[1;33m:\u001b[0m\u001b[1;33m\u001b[0m\u001b[1;33m\u001b[0m\u001b[0m\n",
      "\u001b[1;32mC:\\Anaconda3\\envs\\tensorflow\\lib\\site-packages\\pandas\\core\\indexes\\base.py\u001b[0m in \u001b[0;36mget_value\u001b[1;34m(self, series, key)\u001b[0m\n\u001b[0;32m   3116\u001b[0m         \u001b[1;32mtry\u001b[0m\u001b[1;33m:\u001b[0m\u001b[1;33m\u001b[0m\u001b[1;33m\u001b[0m\u001b[0m\n\u001b[0;32m   3117\u001b[0m             return self._engine.get_value(s, k,\n\u001b[1;32m-> 3118\u001b[1;33m                                           tz=getattr(series.dtype, 'tz', None))\n\u001b[0m\u001b[0;32m   3119\u001b[0m         \u001b[1;32mexcept\u001b[0m \u001b[0mKeyError\u001b[0m \u001b[1;32mas\u001b[0m \u001b[0me1\u001b[0m\u001b[1;33m:\u001b[0m\u001b[1;33m\u001b[0m\u001b[1;33m\u001b[0m\u001b[0m\n\u001b[0;32m   3120\u001b[0m             \u001b[1;32mif\u001b[0m \u001b[0mlen\u001b[0m\u001b[1;33m(\u001b[0m\u001b[0mself\u001b[0m\u001b[1;33m)\u001b[0m \u001b[1;33m>\u001b[0m \u001b[1;36m0\u001b[0m \u001b[1;32mand\u001b[0m \u001b[0mself\u001b[0m\u001b[1;33m.\u001b[0m\u001b[0minferred_type\u001b[0m \u001b[1;32min\u001b[0m \u001b[1;33m[\u001b[0m\u001b[1;34m'integer'\u001b[0m\u001b[1;33m,\u001b[0m \u001b[1;34m'boolean'\u001b[0m\u001b[1;33m]\u001b[0m\u001b[1;33m:\u001b[0m\u001b[1;33m\u001b[0m\u001b[1;33m\u001b[0m\u001b[0m\n",
      "\u001b[1;32mpandas\\_libs\\index.pyx\u001b[0m in \u001b[0;36mpandas._libs.index.IndexEngine.get_value\u001b[1;34m()\u001b[0m\n",
      "\u001b[1;32mpandas\\_libs\\index.pyx\u001b[0m in \u001b[0;36mpandas._libs.index.IndexEngine.get_value\u001b[1;34m()\u001b[0m\n",
      "\u001b[1;32mpandas\\_libs\\index.pyx\u001b[0m in \u001b[0;36mpandas._libs.index.IndexEngine.get_loc\u001b[1;34m()\u001b[0m\n",
      "\u001b[1;31mKeyError\u001b[0m: 'BK'"
     ]
    }
   ],
   "source": [
    "type(subLines['BK'])==list"
   ]
  },
  {
   "cell_type": "code",
   "execution_count": 143,
   "metadata": {
    "scrolled": true
   },
   "outputs": [],
   "source": [
    "sub200 = {a:0 for a in subDist.keys()}\n",
    "sub500 = {a:0 for a in subDist.keys()}\n",
    "sub800 = {a:0 for a in subDist.keys()}\n",
    "for a in subDist.keys():\n",
    "    sub200[a] += sum(len(subLines[s]) for s, dist in zip(subDist[a].keys(), subDist[a].values()) if dist<=200 and type(subLines[s]) == list)\n",
    "    sub500[a] += sum(len(subLines[s]) for s, dist in zip(subDist[a].keys(), subDist[a].values()) if dist>200 and dist<=500 and type(subLines[s]) == list)\n",
    "    sub800[a] += sum(len(subLines[s]) for s, dist in zip(subDist[a].keys(), subDist[a].values()) if dist>500 and dist<=800 and type(subLines[s]) == list)"
   ]
  },
  {
   "cell_type": "code",
   "execution_count": 144,
   "metadata": {},
   "outputs": [],
   "source": [
    "train['sub200'] = train['apartment_id'].apply(lambda row : sub200[row])\n",
    "train['sub500'] = train['apartment_id'].apply(lambda row : sub500[row])\n",
    "train['sub800'] = train['apartment_id'].apply(lambda row : sub800[row])\n",
    "test['sub200'] = test['apartment_id'].apply(lambda row : sub200[row])\n",
    "test['sub500'] = test['apartment_id'].apply(lambda row : sub500[row])\n",
    "test['sub800'] = test['apartment_id'].apply(lambda row : sub800[row])"
   ]
  },
  {
   "cell_type": "code",
   "execution_count": 153,
   "metadata": {},
   "outputs": [
    {
     "data": {
      "text/plain": [
       "0    1136036\n",
       "1     263954\n",
       "2     120560\n",
       "3      52778\n",
       "4      20227\n",
       "5       3574\n",
       "6       3496\n",
       "9        413\n",
       "8        335\n",
       "7         85\n",
       "Name: sub800, dtype: int64"
      ]
     },
     "execution_count": 153,
     "metadata": {},
     "output_type": "execute_result"
    }
   ],
   "source": [
    "train['sub800'].value_counts(dropna=False)"
   ]
  },
  {
   "cell_type": "code",
   "execution_count": 161,
   "metadata": {},
   "outputs": [],
   "source": [
    "# sub200Price = {a:0 for a in subDist.keys()}\n",
    "# sub500Price = {a:0 for a in subDist.keys()}\n",
    "sub800Price = {a:0 for a in subDist.keys()}\n",
    "subPrice = {}\n",
    "for k, v in zip(subway['station_id'].tolist(),subway['unitPrice'].tolist()):\n",
    "    subPrice[k] = v\n",
    "for a in subDist.keys():\n",
    "#     sub200Price[a] += sum(subPrice[s] for s, dist in zip(subDist[a].keys(), subDist[a].values()) if dist<=200 and type(subLines[s]) == list and not np.isnan(subPrice[s]))\n",
    "#     sub500Price[a] += sum(subPrice[s] for s, dist in zip(subDist[a].keys(), subDist[a].values()) if dist>200 and dist<=500 and type(subLines[s]) == list and not np.isnan(subPrice[s]))\n",
    "    sub800Price[a] += sum(subPrice[s] for s, dist in zip(subDist[a].keys(), subDist[a].values()) if dist<=800 and type(subLines[s]) == list and not np.isnan(subPrice[s]))"
   ]
  },
  {
   "cell_type": "code",
   "execution_count": 162,
   "metadata": {},
   "outputs": [],
   "source": [
    "train['sub200Price'] = train['apartment_id'].apply(lambda row : sub200Price[row])\n",
    "train['sub500Price'] = train['apartment_id'].apply(lambda row : sub500Price[row])\n",
    "train['sub800Price'] = train['apartment_id'].apply(lambda row : sub800Price[row])\n",
    "test['sub200Price'] = test['apartment_id'].apply(lambda row : sub200Price[row])\n",
    "test['sub500Price'] = test['apartment_id'].apply(lambda row : sub500Price[row])\n",
    "test['sub800Price'] = test['apartment_id'].apply(lambda row : sub800Price[row])"
   ]
  },
  {
   "cell_type": "code",
   "execution_count": 163,
   "metadata": {},
   "outputs": [
    {
     "data": {
      "text/plain": [
       "<matplotlib.axes._subplots.AxesSubplot at 0x193368f4438>"
      ]
     },
     "execution_count": 163,
     "metadata": {},
     "output_type": "execute_result"
    },
    {
     "data": {
      "image/png": "[encoded data removed]",
      "text/plain": [
       "<Figure size 432x288 with 1 Axes>"
      ]
     },
     "metadata": {
      "needs_background": "light"
     },
     "output_type": "display_data"
    }
   ],
   "source": [
    "sns.distplot(train['sub800Price'])"
   ]
  },
  {
   "cell_type": "markdown",
   "metadata": {},
   "source": [
    "### 지하철역 city"
   ]
  },
  {
   "cell_type": "code",
   "execution_count": 28,
   "metadata": {},
   "outputs": [
    {
     "data": {
      "text/plain": [
       "Index(['station_id', 'latitude', 'longitude', 'subway_line', 'address_by_law',\n",
       "       'disTown', 'logPrice', 'noLine'],\n",
       "      dtype='object')"
      ]
     },
     "execution_count": 28,
     "metadata": {},
     "output_type": "execute_result"
    }
   ],
   "source": [
    "subway.columns"
   ]
  },
  {
   "cell_type": "code",
   "execution_count": 31,
   "metadata": {
    "scrolled": true
   },
   "outputs": [],
   "source": [
    "subway['lines'] = subway['subway_line'].apply(lambda row : row.split(','))\n",
    "subway['city'] = subway['lines'].apply(lambda row : 0 if row[0][0]=='B' else 1)"
   ]
  },
  {
   "cell_type": "code",
   "execution_count": 37,
   "metadata": {},
   "outputs": [],
   "source": [
    "def cityDisTown(x):\n",
    "    try:town=int(x['disTown'])\n",
    "    except ValueError: return np.nan\n",
    "    town = str(town)\n",
    "    city = str(x['city'])\n",
    "    return int(city+town)\n",
    "subway['cityDisTown'] = subway.apply(lambda row : cityDisTown(row), axis=1)"
   ]
  },
  {
   "cell_type": "markdown",
   "metadata": {},
   "source": [
    "### 지하철역 가치 구하기"
   ]
  },
  {
   "cell_type": "code",
   "execution_count": null,
   "metadata": {},
   "outputs": [],
   "source": [
    "unitPriceCnvrt = {}\n",
    "groupedTowns = train[['cityDisTown','logSupAreaPrice']].groupby(['cityDisTown']).agg(['median'])\n",
    "for idx, price in zip(groupedTowns['logSupAreaPrice']['median'].index, groupedTowns['logSupAreaPrice']['median'].values):\n",
    "    unitPriceCnvrt[idx] = price\n",
    "def subwayUnitPrice(x):\n",
    "    try : return unitPriceCnvrt[x]\n",
    "    except KeyError : return np.nan\n",
    "    except TypeError : return np.nan\n",
    "subway['unitPrice'] = subway['cityDisTown'].apply(lambda row : subwayUnitPrice(row))"
   ]
  },
  {
   "cell_type": "markdown",
   "metadata": {},
   "source": [
    "### 지하철역 노선 갯수 구하기"
   ]
  },
  {
   "cell_type": "code",
   "execution_count": 62,
   "metadata": {
    "collapsed": true
   },
   "outputs": [
    {
     "data": {
      "text/plain": [
       "B1           36\n",
       "5            36\n",
       "B2           34\n",
       "2            29\n",
       "7            27\n",
       "6            24\n",
       "9            22\n",
       "1            19\n",
       "3            19\n",
       "4            14\n",
       "B4           12\n",
       "BD           12\n",
       "B3           11\n",
       "KJ            8\n",
       "8             7\n",
       "BK            7\n",
       "DL            6\n",
       "2,5           4\n",
       "1,7           3\n",
       "3,6           3\n",
       "3,DL          2\n",
       "2,9           2\n",
       "1,KJ,KC       2\n",
       "B2,B3         2\n",
       "2,7           2\n",
       "1,4           2\n",
       "4,7           2\n",
       "ND            2\n",
       "2,6           2\n",
       "1,6           2\n",
       "             ..\n",
       "3,4           1\n",
       "2,ND          1\n",
       "6,KJ          1\n",
       "2,DL          1\n",
       "2,KJ,AP       1\n",
       "B1,B2         1\n",
       "2,4           1\n",
       "4,US          1\n",
       "3,8           1\n",
       "B1,BD         1\n",
       "5,7           1\n",
       "KC            1\n",
       "KC,KJ         1\n",
       "5,6,KJ,AP     1\n",
       "1,9           1\n",
       "3,KJ          1\n",
       "4,6           1\n",
       "6,KJ,AP       1\n",
       "3,ND          1\n",
       "3,5           1\n",
       "B2,BK         1\n",
       "6,US          1\n",
       "4,9           1\n",
       "9,DL          1\n",
       "2,4,5         1\n",
       "B3,BK         1\n",
       "1,3,5         1\n",
       "B3,B4         1\n",
       "KJ,KC         1\n",
       "1,2,US        1\n",
       "Name: subway_line, Length: 80, dtype: int64"
      ]
     },
     "execution_count": 62,
     "metadata": {},
     "output_type": "execute_result"
    }
   ],
   "source": [
    "subway['subway_line'].value_counts()"
   ]
  },
  {
   "cell_type": "code",
   "execution_count": 63,
   "metadata": {
    "collapsed": true
   },
   "outputs": [
    {
     "data": {
      "text/plain": [
       "0    4\n",
       "1    2\n",
       "2    1\n",
       "3    3\n",
       "4    1\n",
       "5    2\n",
       "6    3\n",
       "7    1\n",
       "8    3\n",
       "9    2\n",
       "Name: noLine, dtype: int64"
      ]
     },
     "execution_count": 63,
     "metadata": {},
     "output_type": "execute_result"
    }
   ],
   "source": [
    "subway['noLine'] = subway['subway_line'].apply(lambda row : len(row.split(',')))\n",
    "subway['noLine'].head(10)"
   ]
  },
  {
   "cell_type": "markdown",
   "metadata": {},
   "source": [
    "## School"
   ]
  },
  {
   "cell_type": "code",
   "execution_count": 31,
   "metadata": {},
   "outputs": [
    {
     "name": "stdout",
     "output_type": "stream",
     "text": [
      "<class 'pandas.core.frame.DataFrame'>\n",
      "RangeIndex: 1921 entries, 0 to 1920\n",
      "Data columns (total 9 columns):\n",
      "school_code        1921 non-null object\n",
      "latitude           1921 non-null float64\n",
      "longitude          1921 non-null float64\n",
      "school_class       1921 non-null object\n",
      "operation_type     1921 non-null object\n",
      "highschool_type    462 non-null object\n",
      "gender             1921 non-null object\n",
      "foundation_date    1921 non-null object\n",
      "address_by_law     1921 non-null int64\n",
      "dtypes: float64(2), int64(1), object(6)\n",
      "memory usage: 135.1+ KB\n"
     ]
    }
   ],
   "source": [
    "school.info()"
   ]
  },
  {
   "cell_type": "markdown",
   "metadata": {},
   "source": [
    "### class"
   ]
  },
  {
   "cell_type": "code",
   "execution_count": 32,
   "metadata": {},
   "outputs": [
    {
     "name": "stdout",
     "output_type": "stream",
     "text": [
      "object\n",
      "elementary    901\n",
      "middle        558\n",
      "high          462\n",
      "Name: school_class, dtype: int64\n",
      "train na :  0\n"
     ]
    }
   ],
   "source": [
    "colInfo('school_class', school)"
   ]
  },
  {
   "cell_type": "code",
   "execution_count": 20,
   "metadata": {
    "ExecuteTime": {
     "end_time": "2019-01-15T10:28:33.117446Z",
     "start_time": "2019-01-15T10:28:33.110473Z"
    }
   },
   "outputs": [],
   "source": [
    "def classCnvrt(x):\n",
    "    if x =='elementary': return 0\n",
    "    elif x =='middle' : return 1\n",
    "    else : return 2\n",
    "school['school_class'] = school['school_class'].apply(lambda row : classCnvrt(row))"
   ]
  },
  {
   "cell_type": "markdown",
   "metadata": {},
   "source": [
    "### op type"
   ]
  },
  {
   "cell_type": "code",
   "execution_count": 17,
   "metadata": {},
   "outputs": [
    {
     "name": "stdout",
     "output_type": "stream",
     "text": [
      "object\n",
      "public      1444\n",
      "private      466\n",
      "national      11\n",
      "Name: operation_type, dtype: int64\n",
      "train na :  0\n"
     ]
    }
   ],
   "source": [
    "colInfo('operation_type', school)"
   ]
  },
  {
   "cell_type": "code",
   "execution_count": 35,
   "metadata": {},
   "outputs": [],
   "source": [
    "school['private'] = (school['operation_type']=='private')"
   ]
  },
  {
   "cell_type": "code",
   "execution_count": 21,
   "metadata": {
    "ExecuteTime": {
     "end_time": "2019-01-15T10:28:34.478780Z",
     "start_time": "2019-01-15T10:28:34.471823Z"
    }
   },
   "outputs": [],
   "source": [
    "def opCnvrt(x):\n",
    "    if x == 'public' : return 0\n",
    "    elif x=='private' : return 2\n",
    "    else : return 1\n",
    "school['operation_type'] = school['operation_type'].apply(lambda row : opCnvrt(row))"
   ]
  },
  {
   "cell_type": "markdown",
   "metadata": {},
   "source": [
    "### high school"
   ]
  },
  {
   "cell_type": "code",
   "execution_count": 18,
   "metadata": {},
   "outputs": [
    {
     "name": "stdout",
     "output_type": "stream",
     "text": [
      "object\n",
      "NaN            1459\n",
      "general         269\n",
      "specialized     104\n",
      "autonomous       55\n",
      "objective        34\n",
      "Name: highschool_type, dtype: int64\n",
      "train na :  1459\n"
     ]
    }
   ],
   "source": [
    "colInfo('highschool_type', school)"
   ]
  },
  {
   "cell_type": "code",
   "execution_count": 22,
   "metadata": {
    "ExecuteTime": {
     "end_time": "2019-01-15T10:28:36.306890Z",
     "start_time": "2019-01-15T10:28:36.300931Z"
    }
   },
   "outputs": [],
   "source": [
    "def highCnvrt(x):\n",
    "    if x=='general' : return 0\n",
    "    elif x=='specialized' : return 1\n",
    "    elif x=='autonomous' : return 2\n",
    "    elif x=='objective' : return 3\n",
    "school['highschool_type'] = school['highschool_type'].apply(lambda row : highCnvrt(row))"
   ]
  },
  {
   "cell_type": "markdown",
   "metadata": {},
   "source": [
    "### gender"
   ]
  },
  {
   "cell_type": "code",
   "execution_count": 40,
   "metadata": {},
   "outputs": [
    {
     "name": "stdout",
     "output_type": "stream",
     "text": [
      "object\n",
      "both      1524\n",
      "male       199\n",
      "female     198\n",
      "Name: gender, dtype: int64\n",
      "train na :  0\n"
     ]
    }
   ],
   "source": [
    "colInfo('gender', school)"
   ]
  },
  {
   "cell_type": "code",
   "execution_count": 23,
   "metadata": {
    "ExecuteTime": {
     "end_time": "2019-01-15T10:29:23.048874Z",
     "start_time": "2019-01-15T10:29:23.035912Z"
    }
   },
   "outputs": [],
   "source": [
    "school['onlySex'] = (school['gender']!='both')\n",
    "def genderCnvrt(x):\n",
    "    if x=='both' : return 2\n",
    "    elif x=='male' : return 1\n",
    "    else : return 0\n",
    "school['gender'] = school['gender'].apply(lambda row : genderCnvrt(row))"
   ]
  },
  {
   "cell_type": "markdown",
   "metadata": {},
   "source": [
    "### date"
   ]
  },
  {
   "cell_type": "code",
   "execution_count": 43,
   "metadata": {
    "collapsed": true
   },
   "outputs": [
    {
     "name": "stdout",
     "output_type": "stream",
     "text": [
      "object\n",
      "2009.3.1      19\n",
      "1984.1.9      16\n",
      "1990.1.20     16\n",
      "2002.3.1      15\n",
      "1986.1.29     15\n",
      "2004.3.1      14\n",
      "1984.12.8     13\n",
      "1972.12.29    13\n",
      "2003.3.1      12\n",
      "1984.12.17    12\n",
      "1982.12.9     12\n",
      "1994.1.5      10\n",
      "2005.3.1      10\n",
      "1983.12.3     10\n",
      "1986.12.17    10\n",
      "1945.11.1     10\n",
      "1982.7.7       9\n",
      "1968.8.6       9\n",
      "1980.1.24      9\n",
      "1991.1.21      9\n",
      "2006.3.1       8\n",
      "1984.3.1       8\n",
      "1974.1.5       8\n",
      "1991.10.30     8\n",
      "1988.12.24     8\n",
      "2012.3.1       7\n",
      "2010.3.1       7\n",
      "1983.12.26     7\n",
      "2017.3.1       7\n",
      "1996.3.1       7\n",
      "              ..\n",
      "1993.1.16      1\n",
      "1894-09-18     1\n",
      "1904.4.1       1\n",
      "1978.12.19     1\n",
      "1945.11.10     1\n",
      "1906.4.1       1\n",
      "1986.10.4      1\n",
      "1955.2.28      1\n",
      "1968.10.23     1\n",
      "1944.4.11      1\n",
      "1987.5.12      1\n",
      "1978.12.29     1\n",
      "1986.3.4       1\n",
      "1967.3.15      1\n",
      "1967.3.31      1\n",
      "1982.11.3      1\n",
      "2002.7.12      1\n",
      "1960.5.15      1\n",
      "1981.12.1      1\n",
      "1979.2.2       1\n",
      "1956.2.23      1\n",
      "1938.2.24      1\n",
      "1965.9.25      1\n",
      "1946.7.2       1\n",
      "1955.4.5       1\n",
      "1959.4.1       1\n",
      "1955.1.12      1\n",
      "2012.9.1       1\n",
      "1924.5.5       1\n",
      "1997.1.15      1\n",
      "Name: foundation_date, Length: 1141, dtype: int64\n",
      "train na :  0\n"
     ]
    }
   ],
   "source": [
    "colInfo('foundation_date', school)"
   ]
  },
  {
   "cell_type": "markdown",
   "metadata": {},
   "source": [
    "### School City, dist, town\n",
    "- 위도로 서울/부산 구별"
   ]
  },
  {
   "cell_type": "code",
   "execution_count": 42,
   "metadata": {
    "collapsed": true
   },
   "outputs": [
    {
     "data": {
      "text/plain": [
       "<matplotlib.axes._subplots.AxesSubplot at 0x193c3713b00>"
      ]
     },
     "execution_count": 42,
     "metadata": {},
     "output_type": "execute_result"
    },
    {
     "data": {
      "image/png": "[encoded data removed]",
      "text/plain": [
       "<Figure size 432x288 with 1 Axes>"
      ]
     },
     "metadata": {
      "needs_background": "light"
     },
     "output_type": "display_data"
    }
   ],
   "source": [
    "sns.distplot(school['latitude'].unique().tolist())"
   ]
  },
  {
   "cell_type": "code",
   "execution_count": 43,
   "metadata": {},
   "outputs": [
    {
     "name": "stdout",
     "output_type": "stream",
     "text": [
      "35.0508488 37.68669133\n"
     ]
    }
   ],
   "source": [
    "print(school['latitude'].min(),school['latitude'].max())"
   ]
  },
  {
   "cell_type": "code",
   "execution_count": 24,
   "metadata": {
    "ExecuteTime": {
     "end_time": "2019-01-15T10:29:35.365932Z",
     "start_time": "2019-01-15T10:29:35.359951Z"
    }
   },
   "outputs": [],
   "source": [
    "school['city'] = school['latitude'].apply(lambda row : 1 if row>36.5 else 0)"
   ]
  },
  {
   "cell_type": "code",
   "execution_count": 25,
   "metadata": {
    "ExecuteTime": {
     "end_time": "2019-01-15T10:29:43.430401Z",
     "start_time": "2019-01-15T10:29:43.377508Z"
    }
   },
   "outputs": [],
   "source": [
    "school['cityDisTown'] = school.apply(lambda row : int(str(row['city'])+str(row['address_by_law'])[2:8]), axis=1)"
   ]
  },
  {
   "cell_type": "markdown",
   "metadata": {},
   "source": [
    "### school Value"
   ]
  },
  {
   "cell_type": "code",
   "execution_count": 57,
   "metadata": {},
   "outputs": [],
   "source": [
    "def price(x):\n",
    "    try : return townPrice[x]\n",
    "    except KeyError : return np.nan\n",
    "    except TypeError : return np.nan\n",
    "school['logPrice'] = school['cityDisTown'].apply(lambda row : price(row))"
   ]
  },
  {
   "cell_type": "markdown",
   "metadata": {},
   "source": [
    "### School Distance"
   ]
  },
  {
   "cell_type": "code",
   "execution_count": 40,
   "metadata": {
    "ExecuteTime": {
     "end_time": "2019-01-15T10:35:25.142430Z",
     "start_time": "2019-01-15T10:34:55.733092Z"
    },
    "scrolled": true
   },
   "outputs": [
    {
     "name": "stderr",
     "output_type": "stream",
     "text": [
      "100%|██████████████████████████████████████████| 1921/1921 [00:28<00:00, 66.71it/s]\n"
     ]
    }
   ],
   "source": [
    "schooLoc = school[['school_code', 'latitude', 'longitude']].groupby(['school_code']).agg('mean')\n",
    "schoolIdx = schooLoc.index.tolist()\n",
    "schooLoc = schooLoc.values\n",
    "schooLoc= dict(zip(schoolIdx, schooLoc))\n",
    "apartLoc = test[['apartment_id', 'latitude', 'longitude']].groupby(['apartment_id']).agg('mean')\n",
    "apartIdx = apartLoc.index.tolist()\n",
    "apartLoc = apartLoc.values\n",
    "apartment = dict(zip(apartIdx, apartLoc))\n",
    "schDist = {a:{s:None for s in schoolIdx} for a in apartIdx} # row(0) : apart, col(1) : station\n",
    "for s in tqdm(schoolIdx):\n",
    "    for a in apartIdx:\n",
    "        width = abs(schooLoc[s][0] - apartment[a][0])*110000\n",
    "        height = abs(schooLoc[s][1] - apartment[a][1])*88740\n",
    "        dist = math.sqrt(width**2+height**2)\n",
    "        schDist[a][s] = dist"
   ]
  },
  {
   "cell_type": "code",
   "execution_count": 50,
   "metadata": {
    "ExecuteTime": {
     "end_time": "2019-01-15T11:09:16.307878Z",
     "start_time": "2019-01-15T10:46:55.637629Z"
    }
   },
   "outputs": [],
   "source": [
    "schoolCode = {}\n",
    "for k, v in zip(school['school_code'].tolist(), school['school_class'].tolist()):\n",
    "    schoolCode[k] = v\n",
    "    \n",
    "def elementSchool(x):\n",
    "    dic = schDist[x]\n",
    "    ret = 0\n",
    "    for sch, dist in zip(dic.keys(), dic.values()):\n",
    "        if dist<=800 and schoolCode[sch]==0: ret+=1\n",
    "    return ret\n",
    "def middleSchool(x):\n",
    "    dic = schDist[x]\n",
    "    ret = 0\n",
    "    for sch, dist in zip(dic.keys(), dic.values()):\n",
    "        if dist<=800 and schoolCode[sch]==1: ret+=1\n",
    "    return ret\n",
    "def highSchool(x):\n",
    "    dic = schDist[x]\n",
    "    ret = 0\n",
    "    for sch, dist in zip(dic.keys(), dic.values()):\n",
    "        if dist<=800 and schoolCode[sch]==2: ret+=1\n",
    "    return ret\n",
    "train['elementSchool800'] = train['apartment_id'].apply(lambda row : elementSchool(row))\n",
    "train['middleSchool800'] = train['apartment_id'].apply(lambda row : middleSchool(row))\n",
    "train['highSchool800'] = train['apartment_id'].apply(lambda row : highSchool(row))\n",
    "test['elementSchool800'] = test['apartment_id'].apply(lambda row : elementSchool(row))\n",
    "test['middleSchool800'] = test['apartment_id'].apply(lambda row : middleSchool(row))\n",
    "test['highSchool800'] = test['apartment_id'].apply(lambda row : highSchool(row))"
   ]
  },
  {
   "cell_type": "code",
   "execution_count": 51,
   "metadata": {
    "ExecuteTime": {
     "end_time": "2019-01-15T11:12:30.939583Z",
     "start_time": "2019-01-15T11:11:11.077931Z"
    }
   },
   "outputs": [],
   "source": [
    "train.to_csv('./datasets/trainFE3rd.csv', index=False)\n",
    "test.to_csv('./datasets/testFE3rd.csv', index=False)"
   ]
  },
  {
   "cell_type": "code",
   "execution_count": 53,
   "metadata": {
    "ExecuteTime": {
     "end_time": "2019-01-15T11:13:01.330430Z",
     "start_time": "2019-01-15T11:13:01.302472Z"
    }
   },
   "outputs": [],
   "source": [
    "school.to_csv('./datasets/schoolFE3rd.csv', index=False)"
   ]
  },
  {
   "cell_type": "code",
   "execution_count": 54,
   "metadata": {
    "ExecuteTime": {
     "end_time": "2019-01-15T11:19:56.062168Z",
     "start_time": "2019-01-15T11:19:56.054247Z"
    },
    "scrolled": true
   },
   "outputs": [
    {
     "data": {
      "text/plain": [
       "Index(['key', 'apartment_id', 'city', 'transaction_year_month',\n",
       "       'transaction_date', 'year_of_completion', 'exclusive_use_area', 'floor',\n",
       "       'latitude', 'longitude', 'address_by_law',\n",
       "       'total_parking_capacity_in_site', 'total_household_count_in_sites',\n",
       "       'apartment_building_count_in_sites', 'tallest_building_in_sites',\n",
       "       'lowest_building_in_sites', 'heat_type', 'heat_fuel', 'room_id',\n",
       "       'supply_area', 'total_household_count_of_area_type', 'room_count',\n",
       "       'bathroom_count', 'front_door_structure', 'transaction_real_price',\n",
       "       'logPrice', 'exAreaPrice', 'supAreaPrice', 'logExAreaPrice',\n",
       "       'logSupAreaPrice', 'transYear', 'transMonth', 'transDate', 'transYMD',\n",
       "       'transOrdered', 'commonArea', 'areaRate', 'district', 'town', 'disTown',\n",
       "       'cityDisTown', 'townUnitPrice', 'unitPrice', 'apartUnitPrice', 'sub800',\n",
       "       'elementSchool800', 'middleSchool800', 'highSchool800'],\n",
       "      dtype='object')"
      ]
     },
     "execution_count": 54,
     "metadata": {},
     "output_type": "execute_result"
    }
   ],
   "source": [
    "train.columns"
   ]
  }
 ],
 "metadata": {
  "kernelspec": {
   "display_name": "Python 3",
   "language": "python",
   "name": "python3"
  },
  "language_info": {
   "codemirror_mode": {
    "name": "ipython",
    "version": 3
   },
   "file_extension": ".py",
   "mimetype": "text/x-python",
   "name": "python",
   "nbconvert_exporter": "python",
   "pygments_lexer": "ipython3",
   "version": "3.6.7"
  },
  "latex_envs": {
   "LaTeX_envs_menu_present": true,
   "autoclose": false,
   "autocomplete": true,
   "bibliofile": "biblio.bib",
   "cite_by": "apalike",
   "current_citInitial": 1,
   "eqLabelWithNumbers": true,
   "eqNumInitial": 1,
   "hotkeys": {
    "equation": "Ctrl-E",
    "itemize": "Ctrl-I"
   },
   "labels_anchors": false,
   "latex_user_defs": false,
   "report_style_numbering": false,
   "user_envs_cfg": false
  }
 },
 "nbformat": 4,
 "nbformat_minor": 2
}
