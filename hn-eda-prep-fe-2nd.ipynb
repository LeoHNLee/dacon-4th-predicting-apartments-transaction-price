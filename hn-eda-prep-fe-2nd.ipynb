{
 "cells": [
  {
   "cell_type": "markdown",
   "metadata": {},
   "source": [
    "# EDA Prep FE 2nd\n",
    "\n",
    "### 목표\n",
    "\n",
    "- 아파트 아이디 변환 : 순서가 있는 int형 카테고리\n",
    "- null data 추정 : 그리드 서치로 lgb 파라미터 조절한 다음 바로 추정\n",
    "- school, subway : eda\n",
    "\n",
    "### 결과\n",
    "\n",
    "- 아파트 아이디 변환 : test에만 있는 12개 단지는 mid값으로 넣음\n",
    "- null data 추정 : 그리드 서치로 lgb 파라미터 조절한 다음 바로 추정\n",
    "\n",
    "##### subway\n",
    "\n",
    "- 역세권\n",
    "    - 1차 : 200m\n",
    "    - 2차 : 500m\n",
    "    - 3차 : 800m : 1km가 아닌 이유 : 단순히 직선거리로 재기 때문에 실소요거리는 더 길 것임\n",
    "- 더블 역세권\n",
    "    - 환승역\n",
    "    - 나머지는 기준이 애매함. 일단 3차도 도보 10분 이내이므로 3차까지 포함해서 계산\n",
    "- 지하철역의 가치 : logPrice\n",
    "    - 역세권에 속하는 단지 아이디의 타겟값을 활용해서 지하철역의 가치를 계산할 수 있음\n",
    "    - 예) 강남역, 판교역 등은 다른 역주변보다 비쌈\n",
    "- 지하철역 구/동 : disTown - 법정동코드 000000 형태\n",
    "- 환승역 갯수 : noLine\n",
    "    \n",
    "##### school\n",
    "\n",
    "- private\n",
    "- onlySex\n",
    "\n",
    "### 부족한 부분\n",
    "\n",
    "- 아파트 단지와 지하철/학교와의 거리 구하기 연산 시간 너무 길다...\n",
    "\n",
    "### 새로운 아이디어\n",
    "\n",
    "- 평당가를 구하자\n",
    "- 법정동 가치 구하기 : 평당가를 활용해서 가치 산출\n",
    "    - 지하철 가치 산출 가능\n",
    "    - 학교 가치 산출 가능"
   ]
  },
  {
   "cell_type": "code",
   "execution_count": 2,
   "metadata": {},
   "outputs": [
    {
     "data": {
      "text/plain": [
       "0"
      ]
     },
     "execution_count": 2,
     "metadata": {},
     "output_type": "execute_result"
    }
   ],
   "source": [
    "import pandas as pd\n",
    "import numpy as np\n",
    "import os, sys, warnings, re, time, gc,math\n",
    "from tqdm import tqdm\n",
    "import matplotlib.pyplot as plt\n",
    "import seaborn as sns\n",
    "from statsmodels.distributions.empirical_distribution import ECDF\n",
    "\n",
    "warnings.filterwarnings('ignore')\n",
    "sys.path.append(os.path.abspath(os.path.dirname('../')))\n",
    "from modules import eda\n",
    "gc.collect()"
   ]
  },
  {
   "cell_type": "code",
   "execution_count": 30,
   "metadata": {},
   "outputs": [],
   "source": [
    "# path = './datasets/'\n",
    "# train = pd.read_csv(path+'trainFe1st.csv')\n",
    "# test = pd.read_csv(path+'testFe1st.csv')\n",
    "school = pd.read_csv(path+'origin/Schools.csv')\n",
    "# subway = pd.read_csv(path+'origin/Subways.csv')"
   ]
  },
  {
   "cell_type": "code",
   "execution_count": 7,
   "metadata": {},
   "outputs": [],
   "source": [
    "# train.to_csv('./datasets/trainFE2nd.csv', index=False)\n",
    "# test.to_csv('./datasets/testFE2nd.csv', index=False)\n",
    "# subway.to_csv('./datasets/subwayFE1st.csv', index=False)\n",
    "subDist.to_csv('./datasets/subDist.csv', index=False)"
   ]
  },
  {
   "cell_type": "code",
   "execution_count": 14,
   "metadata": {},
   "outputs": [],
   "source": [
    "def colInfo(col, train=train):\n",
    "    dtype = train[col].dtypes\n",
    "    print(dtype)\n",
    "    if dtype == 'float64' : \n",
    "        print(train[col].describe())\n",
    "    else:\n",
    "        uniq = train[col].unique()\n",
    "        if dtype == 'O' or len(uniq)<100: \n",
    "            print(train[col].value_counts(dropna=False))\n",
    "        else : \n",
    "            print(train[col].describe())\n",
    "    isna(col, train)\n",
    "            \n",
    "def isna(col, train=train):\n",
    "    print('train na : ', sum(train[col].isna()))\n"
   ]
  },
  {
   "cell_type": "code",
   "execution_count": 5,
   "metadata": {},
   "outputs": [],
   "source": [
    "# 연산용 코드모음\n",
    "apart = 'apartment_id'\n",
    "target = 'logPrice'\n",
    "lat = 'latitude'\n",
    "lot = 'longitude'\n",
    "allUniq = list(set(train[apart].unique().tolist()+test[apart].unique().tolist()))\n",
    "mid = (len(allUniq)-12)//2\n",
    "onlyTest = list(set(test[apart].unique())-set(train[apart].unique()))\n",
    "\n",
    "# 아파트명 순서가 있는 int형 index로 변형\n",
    "meanApart = train[[target, apart]].groupby([apart]).agg('mean')\n",
    "meanApart=meanApart.sort_values(by=[target])\n",
    "apartCnvt = {}\n",
    "apartId = meanApart.index.tolist()\n",
    "for i in range(mid):\n",
    "    apartCnvt[apartId[i]] = i+1\n",
    "for i in range(12):\n",
    "    apartCnvt[onlyTest[i]] = mid+i+1\n",
    "for i in range(mid, mid*2):\n",
    "    apartCnvt[apartId[i]] = i+13\n",
    "train['apart'] = train[apart].apply(lambda row : apartCnvt[row])\n",
    "test['apart'] = test[apart].apply(lambda row : apartCnvt[row])\n",
    "\n",
    "# # 지하철 역과의 거리 구하기\n",
    "# station = subway['station_id'].tolist()\n",
    "# apartId = test[apart].unique().tolist()\n",
    "# subDict = {}\n",
    "# length = len(apartId)\n",
    "# for stat in station:\n",
    "#     subDict[stat] = [None for i in range(length)]\n",
    "# subDist = pd.DataFrame(subDict, index=apartId)\n",
    "# apartLoc = test[[apart, lat, lot]].groupby([apart]).agg('mean')\n",
    "# statLoc = subway[['station_id', lat, lot]].groupby(['station_id']).agg('mean')\n",
    "# for s in station:\n",
    "#     for a in apartId:\n",
    "#         width = (statLoc.loc[s, lat] - apartLoc.loc[a, lat])*88740\n",
    "#         height = (statLoc.loc[s, lot] - apartLoc.loc[a, lot])*110000\n",
    "#         subDist.loc[a, s]=math.sqrt(width**2+height**2)\n",
    "\n",
    "# 지하철역 구/동 위치 구하기\n",
    "disTownPrice = train[['disTown', target]].groupby(['disTown']).agg(['mean','median'])\n",
    "def disTownCnvrt(x):\n",
    "    try : return int(str(x)[2:8])\n",
    "    except ValueError : return np.nan\n",
    "subway['disTown'] = subway['address_by_law'].apply(lambda row : disTownCnvrt(row))\n",
    "\n",
    "# 지하철역 가치 구하기\n",
    "def priceCnvrt(x):\n",
    "    try : return disTownPrice[target]['median'][int(x)]\n",
    "    except KeyError : return np.nan\n",
    "    except ValueError : return np.nan\n",
    "subway[target] = subway['disTown'].apply(lambda row : priceCnvrt(row))\n",
    "\n",
    "# 지하철역 노선 갯수\n",
    "subway['noLine'] = subway['subway_line'].apply(lambda row : len(row.split(',')))"
   ]
  },
  {
   "cell_type": "markdown",
   "metadata": {},
   "source": [
    "## Apartment id"
   ]
  },
  {
   "cell_type": "code",
   "execution_count": 5,
   "metadata": {},
   "outputs": [],
   "source": [
    "apart = 'apartment_id'\n",
    "target = 'logPrice'\n",
    "train[target] = np.log(train['transaction_real_price'])\n",
    "train.to_csv('./datasets/trainFe1st.csv', index=False)"
   ]
  },
  {
   "cell_type": "code",
   "execution_count": 18,
   "metadata": {},
   "outputs": [
    {
     "name": "stdout",
     "output_type": "stream",
     "text": [
      "3918\n",
      "only test {36224, 38465, 22247, 36841, 37353, 37354, 37297, 37431, 26553, 37180, 33373, 37086}\n",
      "only train set()\n",
      "1953\n"
     ]
    }
   ],
   "source": [
    "allUniq = list(set(train[apart].unique().tolist()+test[apart].unique().tolist()))\n",
    "print(len(allUniq))\n",
    "print('only test', set(test[apart].unique())-set(train[apart].unique()))\n",
    "print('only train', set(train[apart].unique())-set(test[apart].unique()))\n",
    "mid = (len(allUniq)-12)//2\n",
    "print(mid)"
   ]
  },
  {
   "cell_type": "code",
   "execution_count": 8,
   "metadata": {
    "collapsed": true
   },
   "outputs": [
    {
     "name": "stdout",
     "output_type": "stream",
     "text": [
      "3906\n",
      "               logPrice\n",
      "apartment_id           \n",
      "3             20.401682\n",
      "4             20.069339\n",
      "5             20.125429\n",
      "24            18.792244\n",
      "26            21.045349\n",
      "30            20.431576\n",
      "31            21.274273\n",
      "32            21.091375\n",
      "33            20.426868\n",
      "34            20.474804\n",
      "               logPrice\n",
      "apartment_id           \n",
      "3             20.382581\n",
      "4             20.045308\n",
      "5             20.177104\n",
      "24            18.682810\n",
      "26            21.026528\n",
      "30            20.425086\n",
      "31            21.239399\n",
      "32            21.061784\n",
      "33            20.453365\n",
      "34            20.489188\n"
     ]
    }
   ],
   "source": [
    "onlyTest = list(set(test[apart].unique())-set(train[apart].unique()))\n",
    "midApart = train[[target, apart]].groupby([apart]).agg('median')\n",
    "meanApart = train[[target, apart]].groupby([apart]).agg('mean')\n",
    "print(midApart.head(10))\n",
    "print(meanApart.head(10))"
   ]
  },
  {
   "cell_type": "code",
   "execution_count": 12,
   "metadata": {
    "collapsed": true
   },
   "outputs": [
    {
     "name": "stdout",
     "output_type": "stream",
     "text": [
      "Skewed:  -0.07944718426559089\n",
      "Kurtosis:  0.2178878686573391\n"
     ]
    },
    {
     "data": {
      "image/png": "[encoded data removed]",
      "text/plain": [
       "<Figure size 432x288 with 1 Axes>"
      ]
     },
     "metadata": {
      "needs_background": "light"
     },
     "output_type": "display_data"
    }
   ],
   "source": [
    "sns.distplot(midApart[target])\n",
    "print(\"Skewed: \", midApart[target].skew())\n",
    "print(\"Kurtosis: \", midApart[target].kurt())"
   ]
  },
  {
   "cell_type": "code",
   "execution_count": 11,
   "metadata": {
    "collapsed": true
   },
   "outputs": [
    {
     "name": "stdout",
     "output_type": "stream",
     "text": [
      "Skewed:  -0.08724618280060677\n",
      "Kurtosis:  0.08632898784966159\n"
     ]
    },
    {
     "data": {
      "image/png": "[encoded data removed]",
      "text/plain": [
       "<Figure size 432x288 with 1 Axes>"
      ]
     },
     "metadata": {
      "needs_background": "light"
     },
     "output_type": "display_data"
    }
   ],
   "source": [
    "sns.distplot(meanApart[target])\n",
    "print(\"Skewed: \", meanApart[target].skew())\n",
    "print(\"Kurtosis: \", meanApart[target].kurt())"
   ]
  },
  {
   "cell_type": "code",
   "execution_count": 19,
   "metadata": {},
   "outputs": [
    {
     "name": "stdout",
     "output_type": "stream",
     "text": [
      "3918\n"
     ]
    }
   ],
   "source": [
    "meanApart=meanApart.sort_values(by=[target])\n",
    "apartCnvt = {}\n",
    "apartId = meanApart.index.tolist()\n",
    "for i in range(mid):\n",
    "    apartCnvt[apartId[i]] = i+1\n",
    "for i in range(12):\n",
    "    apartCnvt[onlyTest[i]] = mid+i+1\n",
    "for i in range(mid, mid*2):\n",
    "    apartCnvt[apartId[i]] = i+13\n",
    "print(len(set(apartCnvt.keys())))"
   ]
  },
  {
   "cell_type": "code",
   "execution_count": 21,
   "metadata": {},
   "outputs": [],
   "source": [
    "train['apart'] = train[apart].apply(lambda row : apartCnvt[row])\n",
    "test['apart'] = test[apart].apply(lambda row : apartCnvt[row])"
   ]
  },
  {
   "cell_type": "markdown",
   "metadata": {},
   "source": [
    "## Subway"
   ]
  },
  {
   "cell_type": "code",
   "execution_count": 22,
   "metadata": {
    "collapsed": true
   },
   "outputs": [
    {
     "name": "stdout",
     "output_type": "stream",
     "text": [
      "<class 'pandas.core.frame.DataFrame'>\n",
      "RangeIndex: 405 entries, 0 to 404\n",
      "Data columns (total 5 columns):\n",
      "station_id        405 non-null int64\n",
      "latitude          405 non-null float64\n",
      "longitude         405 non-null float64\n",
      "subway_line       405 non-null object\n",
      "address_by_law    396 non-null float64\n",
      "dtypes: float64(3), int64(1), object(1)\n",
      "memory usage: 15.9+ KB\n"
     ]
    }
   ],
   "source": [
    "subway.info()"
   ]
  },
  {
   "cell_type": "markdown",
   "metadata": {},
   "source": [
    "### 지하철역 거리 구하기"
   ]
  },
  {
   "cell_type": "code",
   "execution_count": 9,
   "metadata": {
    "collapsed": true
   },
   "outputs": [
    {
     "name": "stderr",
     "output_type": "stream",
     "text": [
      "  0%|                                          | 1/405 [01:46<11:59:32, 106.86s/it]"
     ]
    },
    {
     "ename": "KeyboardInterrupt",
     "evalue": "",
     "output_type": "error",
     "traceback": [
      "\u001b[1;31m---------------------------------------------------------------------------\u001b[0m",
      "\u001b[1;31mKeyboardInterrupt\u001b[0m                         Traceback (most recent call last)",
      "\u001b[1;32m<timed exec>\u001b[0m in \u001b[0;36m<module>\u001b[1;34m\u001b[0m\n",
      "\u001b[1;32mC:\\Anaconda3\\envs\\tensorflow\\lib\\site-packages\\pandas\\core\\indexing.py\u001b[0m in \u001b[0;36m__setitem__\u001b[1;34m(self, key, value)\u001b[0m\n\u001b[0;32m    187\u001b[0m             \u001b[0mkey\u001b[0m \u001b[1;33m=\u001b[0m \u001b[0mcom\u001b[0m\u001b[1;33m.\u001b[0m\u001b[0m_apply_if_callable\u001b[0m\u001b[1;33m(\u001b[0m\u001b[0mkey\u001b[0m\u001b[1;33m,\u001b[0m \u001b[0mself\u001b[0m\u001b[1;33m.\u001b[0m\u001b[0mobj\u001b[0m\u001b[1;33m)\u001b[0m\u001b[1;33m\u001b[0m\u001b[1;33m\u001b[0m\u001b[0m\n\u001b[0;32m    188\u001b[0m         \u001b[0mindexer\u001b[0m \u001b[1;33m=\u001b[0m \u001b[0mself\u001b[0m\u001b[1;33m.\u001b[0m\u001b[0m_get_setitem_indexer\u001b[0m\u001b[1;33m(\u001b[0m\u001b[0mkey\u001b[0m\u001b[1;33m)\u001b[0m\u001b[1;33m\u001b[0m\u001b[1;33m\u001b[0m\u001b[0m\n\u001b[1;32m--> 189\u001b[1;33m         \u001b[0mself\u001b[0m\u001b[1;33m.\u001b[0m\u001b[0m_setitem_with_indexer\u001b[0m\u001b[1;33m(\u001b[0m\u001b[0mindexer\u001b[0m\u001b[1;33m,\u001b[0m \u001b[0mvalue\u001b[0m\u001b[1;33m)\u001b[0m\u001b[1;33m\u001b[0m\u001b[1;33m\u001b[0m\u001b[0m\n\u001b[0m\u001b[0;32m    190\u001b[0m \u001b[1;33m\u001b[0m\u001b[0m\n\u001b[0;32m    191\u001b[0m     \u001b[1;32mdef\u001b[0m \u001b[0m_validate_key\u001b[0m\u001b[1;33m(\u001b[0m\u001b[0mself\u001b[0m\u001b[1;33m,\u001b[0m \u001b[0mkey\u001b[0m\u001b[1;33m,\u001b[0m \u001b[0maxis\u001b[0m\u001b[1;33m)\u001b[0m\u001b[1;33m:\u001b[0m\u001b[1;33m\u001b[0m\u001b[1;33m\u001b[0m\u001b[0m\n",
      "\u001b[1;32mC:\\Anaconda3\\envs\\tensorflow\\lib\\site-packages\\pandas\\core\\indexing.py\u001b[0m in \u001b[0;36m_setitem_with_indexer\u001b[1;34m(self, indexer, value)\u001b[0m\n\u001b[0;32m    649\u001b[0m             \u001b[0mself\u001b[0m\u001b[1;33m.\u001b[0m\u001b[0mobj\u001b[0m\u001b[1;33m.\u001b[0m\u001b[0m_consolidate_inplace\u001b[0m\u001b[1;33m(\u001b[0m\u001b[1;33m)\u001b[0m\u001b[1;33m\u001b[0m\u001b[1;33m\u001b[0m\u001b[0m\n\u001b[0;32m    650\u001b[0m             self.obj._data = self.obj._data.setitem(indexer=indexer,\n\u001b[1;32m--> 651\u001b[1;33m                                                     value=value)\n\u001b[0m\u001b[0;32m    652\u001b[0m             \u001b[0mself\u001b[0m\u001b[1;33m.\u001b[0m\u001b[0mobj\u001b[0m\u001b[1;33m.\u001b[0m\u001b[0m_maybe_update_cacher\u001b[0m\u001b[1;33m(\u001b[0m\u001b[0mclear\u001b[0m\u001b[1;33m=\u001b[0m\u001b[1;32mTrue\u001b[0m\u001b[1;33m)\u001b[0m\u001b[1;33m\u001b[0m\u001b[1;33m\u001b[0m\u001b[0m\n\u001b[0;32m    653\u001b[0m \u001b[1;33m\u001b[0m\u001b[0m\n",
      "\u001b[1;32mC:\\Anaconda3\\envs\\tensorflow\\lib\\site-packages\\pandas\\core\\internals.py\u001b[0m in \u001b[0;36msetitem\u001b[1;34m(self, **kwargs)\u001b[0m\n\u001b[0;32m   3691\u001b[0m \u001b[1;33m\u001b[0m\u001b[0m\n\u001b[0;32m   3692\u001b[0m     \u001b[1;32mdef\u001b[0m \u001b[0msetitem\u001b[0m\u001b[1;33m(\u001b[0m\u001b[0mself\u001b[0m\u001b[1;33m,\u001b[0m \u001b[1;33m**\u001b[0m\u001b[0mkwargs\u001b[0m\u001b[1;33m)\u001b[0m\u001b[1;33m:\u001b[0m\u001b[1;33m\u001b[0m\u001b[1;33m\u001b[0m\u001b[0m\n\u001b[1;32m-> 3693\u001b[1;33m         \u001b[1;32mreturn\u001b[0m \u001b[0mself\u001b[0m\u001b[1;33m.\u001b[0m\u001b[0mapply\u001b[0m\u001b[1;33m(\u001b[0m\u001b[1;34m'setitem'\u001b[0m\u001b[1;33m,\u001b[0m \u001b[1;33m**\u001b[0m\u001b[0mkwargs\u001b[0m\u001b[1;33m)\u001b[0m\u001b[1;33m\u001b[0m\u001b[1;33m\u001b[0m\u001b[0m\n\u001b[0m\u001b[0;32m   3694\u001b[0m \u001b[1;33m\u001b[0m\u001b[0m\n\u001b[0;32m   3695\u001b[0m     \u001b[1;32mdef\u001b[0m \u001b[0mputmask\u001b[0m\u001b[1;33m(\u001b[0m\u001b[0mself\u001b[0m\u001b[1;33m,\u001b[0m \u001b[1;33m**\u001b[0m\u001b[0mkwargs\u001b[0m\u001b[1;33m)\u001b[0m\u001b[1;33m:\u001b[0m\u001b[1;33m\u001b[0m\u001b[1;33m\u001b[0m\u001b[0m\n",
      "\u001b[1;32mC:\\Anaconda3\\envs\\tensorflow\\lib\\site-packages\\pandas\\core\\internals.py\u001b[0m in \u001b[0;36mapply\u001b[1;34m(self, f, axes, filter, do_integrity_check, consolidate, **kwargs)\u001b[0m\n\u001b[0;32m   3579\u001b[0m \u001b[1;33m\u001b[0m\u001b[0m\n\u001b[0;32m   3580\u001b[0m             \u001b[0mkwargs\u001b[0m\u001b[1;33m[\u001b[0m\u001b[1;34m'mgr'\u001b[0m\u001b[1;33m]\u001b[0m \u001b[1;33m=\u001b[0m \u001b[0mself\u001b[0m\u001b[1;33m\u001b[0m\u001b[1;33m\u001b[0m\u001b[0m\n\u001b[1;32m-> 3581\u001b[1;33m             \u001b[0mapplied\u001b[0m \u001b[1;33m=\u001b[0m \u001b[0mgetattr\u001b[0m\u001b[1;33m(\u001b[0m\u001b[0mb\u001b[0m\u001b[1;33m,\u001b[0m \u001b[0mf\u001b[0m\u001b[1;33m)\u001b[0m\u001b[1;33m(\u001b[0m\u001b[1;33m**\u001b[0m\u001b[0mkwargs\u001b[0m\u001b[1;33m)\u001b[0m\u001b[1;33m\u001b[0m\u001b[1;33m\u001b[0m\u001b[0m\n\u001b[0m\u001b[0;32m   3582\u001b[0m             \u001b[0mresult_blocks\u001b[0m \u001b[1;33m=\u001b[0m \u001b[0m_extend_blocks\u001b[0m\u001b[1;33m(\u001b[0m\u001b[0mapplied\u001b[0m\u001b[1;33m,\u001b[0m \u001b[0mresult_blocks\u001b[0m\u001b[1;33m)\u001b[0m\u001b[1;33m\u001b[0m\u001b[1;33m\u001b[0m\u001b[0m\n\u001b[0;32m   3583\u001b[0m \u001b[1;33m\u001b[0m\u001b[0m\n",
      "\u001b[1;32mC:\\Anaconda3\\envs\\tensorflow\\lib\\site-packages\\pandas\\core\\internals.py\u001b[0m in \u001b[0;36msetitem\u001b[1;34m(self, indexer, value, mgr)\u001b[0m\n\u001b[0;32m    941\u001b[0m \u001b[1;33m\u001b[0m\u001b[0m\n\u001b[0;32m    942\u001b[0m         \u001b[1;31m# coerce and try to infer the dtypes of the result\u001b[0m\u001b[1;33m\u001b[0m\u001b[1;33m\u001b[0m\u001b[1;33m\u001b[0m\u001b[0m\n\u001b[1;32m--> 943\u001b[1;33m         \u001b[0mvalues\u001b[0m \u001b[1;33m=\u001b[0m \u001b[0mself\u001b[0m\u001b[1;33m.\u001b[0m\u001b[0m_try_coerce_and_cast_result\u001b[0m\u001b[1;33m(\u001b[0m\u001b[0mvalues\u001b[0m\u001b[1;33m,\u001b[0m \u001b[0mdtype\u001b[0m\u001b[1;33m)\u001b[0m\u001b[1;33m\u001b[0m\u001b[1;33m\u001b[0m\u001b[0m\n\u001b[0m\u001b[0;32m    944\u001b[0m         \u001b[0mblock\u001b[0m \u001b[1;33m=\u001b[0m \u001b[0mself\u001b[0m\u001b[1;33m.\u001b[0m\u001b[0mmake_block\u001b[0m\u001b[1;33m(\u001b[0m\u001b[0mtransf\u001b[0m\u001b[1;33m(\u001b[0m\u001b[0mvalues\u001b[0m\u001b[1;33m)\u001b[0m\u001b[1;33m)\u001b[0m\u001b[1;33m\u001b[0m\u001b[1;33m\u001b[0m\u001b[0m\n\u001b[0;32m    945\u001b[0m         \u001b[1;32mreturn\u001b[0m \u001b[0mblock\u001b[0m\u001b[1;33m\u001b[0m\u001b[1;33m\u001b[0m\u001b[0m\n",
      "\u001b[1;32mC:\\Anaconda3\\envs\\tensorflow\\lib\\site-packages\\pandas\\core\\internals.py\u001b[0m in \u001b[0;36m_try_coerce_and_cast_result\u001b[1;34m(self, result, dtype)\u001b[0m\n\u001b[0;32m    750\u001b[0m     \u001b[1;32mdef\u001b[0m \u001b[0m_try_coerce_and_cast_result\u001b[0m\u001b[1;33m(\u001b[0m\u001b[0mself\u001b[0m\u001b[1;33m,\u001b[0m \u001b[0mresult\u001b[0m\u001b[1;33m,\u001b[0m \u001b[0mdtype\u001b[0m\u001b[1;33m=\u001b[0m\u001b[1;32mNone\u001b[0m\u001b[1;33m)\u001b[0m\u001b[1;33m:\u001b[0m\u001b[1;33m\u001b[0m\u001b[1;33m\u001b[0m\u001b[0m\n\u001b[0;32m    751\u001b[0m         \u001b[0mresult\u001b[0m \u001b[1;33m=\u001b[0m \u001b[0mself\u001b[0m\u001b[1;33m.\u001b[0m\u001b[0m_try_coerce_result\u001b[0m\u001b[1;33m(\u001b[0m\u001b[0mresult\u001b[0m\u001b[1;33m)\u001b[0m\u001b[1;33m\u001b[0m\u001b[1;33m\u001b[0m\u001b[0m\n\u001b[1;32m--> 752\u001b[1;33m         \u001b[0mresult\u001b[0m \u001b[1;33m=\u001b[0m \u001b[0mself\u001b[0m\u001b[1;33m.\u001b[0m\u001b[0m_try_cast_result\u001b[0m\u001b[1;33m(\u001b[0m\u001b[0mresult\u001b[0m\u001b[1;33m,\u001b[0m \u001b[0mdtype\u001b[0m\u001b[1;33m=\u001b[0m\u001b[0mdtype\u001b[0m\u001b[1;33m)\u001b[0m\u001b[1;33m\u001b[0m\u001b[1;33m\u001b[0m\u001b[0m\n\u001b[0m\u001b[0;32m    753\u001b[0m         \u001b[1;32mreturn\u001b[0m \u001b[0mresult\u001b[0m\u001b[1;33m\u001b[0m\u001b[1;33m\u001b[0m\u001b[0m\n\u001b[0;32m    754\u001b[0m \u001b[1;33m\u001b[0m\u001b[0m\n",
      "\u001b[1;32mC:\\Anaconda3\\envs\\tensorflow\\lib\\site-packages\\pandas\\core\\internals.py\u001b[0m in \u001b[0;36m_try_cast_result\u001b[1;34m(self, result, dtype)\u001b[0m\n\u001b[0;32m    730\u001b[0m \u001b[1;33m\u001b[0m\u001b[0m\n\u001b[0;32m    731\u001b[0m         \u001b[1;31m# may need to change the dtype here\u001b[0m\u001b[1;33m\u001b[0m\u001b[1;33m\u001b[0m\u001b[1;33m\u001b[0m\u001b[0m\n\u001b[1;32m--> 732\u001b[1;33m         \u001b[1;32mreturn\u001b[0m \u001b[0mmaybe_downcast_to_dtype\u001b[0m\u001b[1;33m(\u001b[0m\u001b[0mresult\u001b[0m\u001b[1;33m,\u001b[0m \u001b[0mdtype\u001b[0m\u001b[1;33m)\u001b[0m\u001b[1;33m\u001b[0m\u001b[1;33m\u001b[0m\u001b[0m\n\u001b[0m\u001b[0;32m    733\u001b[0m \u001b[1;33m\u001b[0m\u001b[0m\n\u001b[0;32m    734\u001b[0m     \u001b[1;32mdef\u001b[0m \u001b[0m_try_coerce_args\u001b[0m\u001b[1;33m(\u001b[0m\u001b[0mself\u001b[0m\u001b[1;33m,\u001b[0m \u001b[0mvalues\u001b[0m\u001b[1;33m,\u001b[0m \u001b[0mother\u001b[0m\u001b[1;33m)\u001b[0m\u001b[1;33m:\u001b[0m\u001b[1;33m\u001b[0m\u001b[1;33m\u001b[0m\u001b[0m\n",
      "\u001b[1;32mC:\\Anaconda3\\envs\\tensorflow\\lib\\site-packages\\pandas\\core\\dtypes\\cast.py\u001b[0m in \u001b[0;36mmaybe_downcast_to_dtype\u001b[1;34m(result, dtype)\u001b[0m\n\u001b[0;32m    105\u001b[0m                 \u001b[0mdtype\u001b[0m \u001b[1;33m=\u001b[0m \u001b[1;34m'object'\u001b[0m\u001b[1;33m\u001b[0m\u001b[1;33m\u001b[0m\u001b[0m\n\u001b[0;32m    106\u001b[0m \u001b[1;33m\u001b[0m\u001b[0m\n\u001b[1;32m--> 107\u001b[1;33m     \u001b[1;32mif\u001b[0m \u001b[0misinstance\u001b[0m\u001b[1;33m(\u001b[0m\u001b[0mdtype\u001b[0m\u001b[1;33m,\u001b[0m \u001b[0mstring_types\u001b[0m\u001b[1;33m)\u001b[0m\u001b[1;33m:\u001b[0m\u001b[1;33m\u001b[0m\u001b[1;33m\u001b[0m\u001b[0m\n\u001b[0m\u001b[0;32m    108\u001b[0m         \u001b[0mdtype\u001b[0m \u001b[1;33m=\u001b[0m \u001b[0mnp\u001b[0m\u001b[1;33m.\u001b[0m\u001b[0mdtype\u001b[0m\u001b[1;33m(\u001b[0m\u001b[0mdtype\u001b[0m\u001b[1;33m)\u001b[0m\u001b[1;33m\u001b[0m\u001b[1;33m\u001b[0m\u001b[0m\n\u001b[0;32m    109\u001b[0m \u001b[1;33m\u001b[0m\u001b[0m\n",
      "\u001b[1;31mKeyboardInterrupt\u001b[0m: "
     ]
    }
   ],
   "source": [
    "%%time\n",
    "# 위도 1도 : 110,000m\n",
    "# 경도 1도 : 88,740m\n",
    "# station = subway['station_id'].tolist()\n",
    "# apartId = test[apart].unique().tolist()\n",
    "# subDict = {}\n",
    "# length = len(apartId)\n",
    "for stat in station:\n",
    "    subDict[stat] = [None for i in range(length)]\n",
    "subDist = pd.DataFrame(subDict, index=apartId)\n",
    "\n",
    "# lat = 'latitude'\n",
    "# lot = 'longitude'\n",
    "# apartLoc = test[[apart, lat, lot]].groupby([apart]).agg('mean')\n",
    "# statLoc = subway[['station_id', lat, lot]].groupby(['station_id']).agg('mean')\n",
    "for s in tqdm(station):\n",
    "    for a in apartId:\n",
    "        width = (statLoc.loc[s, lat] - apartLoc.loc[a, lat])*110000\n",
    "        height = (statLoc.loc[s, lot] - apartLoc.loc[a, lot])*88740\n",
    "        subDist.loc[a, s]=math.sqrt(width**2+height**2)"
   ]
  },
  {
   "cell_type": "code",
   "execution_count": null,
   "metadata": {},
   "outputs": [],
   "source": [
    "subDist = subDist.T\n",
    "for u in allUniq:\n",
    "    test"
   ]
  },
  {
   "cell_type": "markdown",
   "metadata": {},
   "source": [
    "### 지하철역 가치 구하기"
   ]
  },
  {
   "cell_type": "code",
   "execution_count": 42,
   "metadata": {
    "collapsed": true
   },
   "outputs": [
    {
     "data": {
      "text/html": [
       "<div>\n",
       "<style scoped>\n",
       "    .dataframe tbody tr th:only-of-type {\n",
       "        vertical-align: middle;\n",
       "    }\n",
       "\n",
       "    .dataframe tbody tr th {\n",
       "        vertical-align: top;\n",
       "    }\n",
       "\n",
       "    .dataframe thead tr th {\n",
       "        text-align: left;\n",
       "    }\n",
       "\n",
       "    .dataframe thead tr:last-of-type th {\n",
       "        text-align: right;\n",
       "    }\n",
       "</style>\n",
       "<table border=\"1\" class=\"dataframe\">\n",
       "  <thead>\n",
       "    <tr>\n",
       "      <th></th>\n",
       "      <th colspan=\"2\" halign=\"left\">logPrice</th>\n",
       "    </tr>\n",
       "    <tr>\n",
       "      <th></th>\n",
       "      <th>mean</th>\n",
       "      <th>median</th>\n",
       "    </tr>\n",
       "    <tr>\n",
       "      <th>disTown</th>\n",
       "      <th></th>\n",
       "      <th></th>\n",
       "    </tr>\n",
       "  </thead>\n",
       "  <tbody>\n",
       "    <tr>\n",
       "      <th>110101</th>\n",
       "      <td>18.667098</td>\n",
       "      <td>18.683045</td>\n",
       "    </tr>\n",
       "    <tr>\n",
       "      <th>110102</th>\n",
       "      <td>17.989931</td>\n",
       "      <td>17.989898</td>\n",
       "    </tr>\n",
       "    <tr>\n",
       "      <th>110115</th>\n",
       "      <td>20.245029</td>\n",
       "      <td>20.560747</td>\n",
       "    </tr>\n",
       "    <tr>\n",
       "      <th>110118</th>\n",
       "      <td>20.740151</td>\n",
       "      <td>20.762487</td>\n",
       "    </tr>\n",
       "    <tr>\n",
       "      <th>110120</th>\n",
       "      <td>18.835167</td>\n",
       "      <td>18.951309</td>\n",
       "    </tr>\n",
       "    <tr>\n",
       "      <th>110133</th>\n",
       "      <td>19.102234</td>\n",
       "      <td>19.091068</td>\n",
       "    </tr>\n",
       "    <tr>\n",
       "      <th>110137</th>\n",
       "      <td>19.228001</td>\n",
       "      <td>19.231364</td>\n",
       "    </tr>\n",
       "    <tr>\n",
       "      <th>110157</th>\n",
       "      <td>20.102490</td>\n",
       "      <td>20.088388</td>\n",
       "    </tr>\n",
       "    <tr>\n",
       "      <th>110171</th>\n",
       "      <td>19.986549</td>\n",
       "      <td>20.084607</td>\n",
       "    </tr>\n",
       "    <tr>\n",
       "      <th>110174</th>\n",
       "      <td>19.527896</td>\n",
       "      <td>19.552083</td>\n",
       "    </tr>\n",
       "    <tr>\n",
       "      <th>110175</th>\n",
       "      <td>20.031233</td>\n",
       "      <td>20.063069</td>\n",
       "    </tr>\n",
       "    <tr>\n",
       "      <th>110177</th>\n",
       "      <td>20.915938</td>\n",
       "      <td>20.938377</td>\n",
       "    </tr>\n",
       "    <tr>\n",
       "      <th>110179</th>\n",
       "      <td>20.869117</td>\n",
       "      <td>20.890894</td>\n",
       "    </tr>\n",
       "    <tr>\n",
       "      <th>110183</th>\n",
       "      <td>20.156968</td>\n",
       "      <td>19.929193</td>\n",
       "    </tr>\n",
       "    <tr>\n",
       "      <th>110187</th>\n",
       "      <td>20.208038</td>\n",
       "      <td>20.245230</td>\n",
       "    </tr>\n",
       "    <tr>\n",
       "      <th>140102</th>\n",
       "      <td>19.581871</td>\n",
       "      <td>19.583832</td>\n",
       "    </tr>\n",
       "    <tr>\n",
       "      <th>140103</th>\n",
       "      <td>18.586311</td>\n",
       "      <td>18.603002</td>\n",
       "    </tr>\n",
       "    <tr>\n",
       "      <th>140104</th>\n",
       "      <td>19.864395</td>\n",
       "      <td>19.864395</td>\n",
       "    </tr>\n",
       "    <tr>\n",
       "      <th>140105</th>\n",
       "      <td>19.230338</td>\n",
       "      <td>19.195408</td>\n",
       "    </tr>\n",
       "    <tr>\n",
       "      <th>140106</th>\n",
       "      <td>19.244327</td>\n",
       "      <td>19.304448</td>\n",
       "    </tr>\n",
       "    <tr>\n",
       "      <th>140107</th>\n",
       "      <td>19.524791</td>\n",
       "      <td>19.518008</td>\n",
       "    </tr>\n",
       "    <tr>\n",
       "      <th>140111</th>\n",
       "      <td>19.140180</td>\n",
       "      <td>19.138521</td>\n",
       "    </tr>\n",
       "    <tr>\n",
       "      <th>140112</th>\n",
       "      <td>19.568282</td>\n",
       "      <td>19.535822</td>\n",
       "    </tr>\n",
       "    <tr>\n",
       "      <th>140116</th>\n",
       "      <td>18.176420</td>\n",
       "      <td>18.122897</td>\n",
       "    </tr>\n",
       "    <tr>\n",
       "      <th>140118</th>\n",
       "      <td>20.863630</td>\n",
       "      <td>20.849898</td>\n",
       "    </tr>\n",
       "    <tr>\n",
       "      <th>140121</th>\n",
       "      <td>20.507197</td>\n",
       "      <td>20.757667</td>\n",
       "    </tr>\n",
       "    <tr>\n",
       "      <th>140122</th>\n",
       "      <td>21.056095</td>\n",
       "      <td>21.084425</td>\n",
       "    </tr>\n",
       "    <tr>\n",
       "      <th>140123</th>\n",
       "      <td>18.824162</td>\n",
       "      <td>18.871756</td>\n",
       "    </tr>\n",
       "    <tr>\n",
       "      <th>140124</th>\n",
       "      <td>18.861045</td>\n",
       "      <td>18.812723</td>\n",
       "    </tr>\n",
       "    <tr>\n",
       "      <th>140132</th>\n",
       "      <td>20.432062</td>\n",
       "      <td>20.387769</td>\n",
       "    </tr>\n",
       "    <tr>\n",
       "      <th>...</th>\n",
       "      <td>...</td>\n",
       "      <td>...</td>\n",
       "    </tr>\n",
       "    <tr>\n",
       "      <th>680113</th>\n",
       "      <td>20.485359</td>\n",
       "      <td>20.500122</td>\n",
       "    </tr>\n",
       "    <tr>\n",
       "      <th>680114</th>\n",
       "      <td>20.387313</td>\n",
       "      <td>20.461901</td>\n",
       "    </tr>\n",
       "    <tr>\n",
       "      <th>680115</th>\n",
       "      <td>20.014819</td>\n",
       "      <td>19.989297</td>\n",
       "    </tr>\n",
       "    <tr>\n",
       "      <th>680118</th>\n",
       "      <td>20.708503</td>\n",
       "      <td>20.712204</td>\n",
       "    </tr>\n",
       "    <tr>\n",
       "      <th>710101</th>\n",
       "      <td>20.707666</td>\n",
       "      <td>20.713216</td>\n",
       "    </tr>\n",
       "    <tr>\n",
       "      <th>710102</th>\n",
       "      <td>20.583988</td>\n",
       "      <td>20.581126</td>\n",
       "    </tr>\n",
       "    <tr>\n",
       "      <th>710103</th>\n",
       "      <td>19.908340</td>\n",
       "      <td>19.989297</td>\n",
       "    </tr>\n",
       "    <tr>\n",
       "      <th>710104</th>\n",
       "      <td>20.293056</td>\n",
       "      <td>20.307750</td>\n",
       "    </tr>\n",
       "    <tr>\n",
       "      <th>710105</th>\n",
       "      <td>20.176677</td>\n",
       "      <td>20.207428</td>\n",
       "    </tr>\n",
       "    <tr>\n",
       "      <th>710106</th>\n",
       "      <td>19.931074</td>\n",
       "      <td>19.968243</td>\n",
       "    </tr>\n",
       "    <tr>\n",
       "      <th>710107</th>\n",
       "      <td>20.088449</td>\n",
       "      <td>20.088388</td>\n",
       "    </tr>\n",
       "    <tr>\n",
       "      <th>710108</th>\n",
       "      <td>20.154486</td>\n",
       "      <td>20.307750</td>\n",
       "    </tr>\n",
       "    <tr>\n",
       "      <th>710109</th>\n",
       "      <td>20.226098</td>\n",
       "      <td>20.209101</td>\n",
       "    </tr>\n",
       "    <tr>\n",
       "      <th>710111</th>\n",
       "      <td>20.517237</td>\n",
       "      <td>20.530894</td>\n",
       "    </tr>\n",
       "    <tr>\n",
       "      <th>710112</th>\n",
       "      <td>20.053525</td>\n",
       "      <td>20.082711</td>\n",
       "    </tr>\n",
       "    <tr>\n",
       "      <th>710113</th>\n",
       "      <td>19.706355</td>\n",
       "      <td>19.715408</td>\n",
       "    </tr>\n",
       "    <tr>\n",
       "      <th>710114</th>\n",
       "      <td>19.902409</td>\n",
       "      <td>19.919186</td>\n",
       "    </tr>\n",
       "    <tr>\n",
       "      <th>710250</th>\n",
       "      <td>18.601977</td>\n",
       "      <td>18.635792</td>\n",
       "    </tr>\n",
       "    <tr>\n",
       "      <th>710256</th>\n",
       "      <td>19.311116</td>\n",
       "      <td>19.328939</td>\n",
       "    </tr>\n",
       "    <tr>\n",
       "      <th>710310</th>\n",
       "      <td>18.616545</td>\n",
       "      <td>18.779054</td>\n",
       "    </tr>\n",
       "    <tr>\n",
       "      <th>710330</th>\n",
       "      <td>19.330044</td>\n",
       "      <td>19.282093</td>\n",
       "    </tr>\n",
       "    <tr>\n",
       "      <th>740101</th>\n",
       "      <td>20.004756</td>\n",
       "      <td>20.004185</td>\n",
       "    </tr>\n",
       "    <tr>\n",
       "      <th>740102</th>\n",
       "      <td>20.209360</td>\n",
       "      <td>20.276979</td>\n",
       "    </tr>\n",
       "    <tr>\n",
       "      <th>740103</th>\n",
       "      <td>19.827327</td>\n",
       "      <td>19.831668</td>\n",
       "    </tr>\n",
       "    <tr>\n",
       "      <th>740105</th>\n",
       "      <td>19.716345</td>\n",
       "      <td>19.701615</td>\n",
       "    </tr>\n",
       "    <tr>\n",
       "      <th>740106</th>\n",
       "      <td>20.094201</td>\n",
       "      <td>20.125429</td>\n",
       "    </tr>\n",
       "    <tr>\n",
       "      <th>740107</th>\n",
       "      <td>20.050456</td>\n",
       "      <td>20.088388</td>\n",
       "    </tr>\n",
       "    <tr>\n",
       "      <th>740108</th>\n",
       "      <td>19.847170</td>\n",
       "      <td>19.843789</td>\n",
       "    </tr>\n",
       "    <tr>\n",
       "      <th>740109</th>\n",
       "      <td>19.684273</td>\n",
       "      <td>19.701615</td>\n",
       "    </tr>\n",
       "    <tr>\n",
       "      <th>740110</th>\n",
       "      <td>19.837655</td>\n",
       "      <td>19.831668</td>\n",
       "    </tr>\n",
       "  </tbody>\n",
       "</table>\n",
       "<p>307 rows × 2 columns</p>\n",
       "</div>"
      ],
      "text/plain": [
       "          logPrice           \n",
       "              mean     median\n",
       "disTown                      \n",
       "110101   18.667098  18.683045\n",
       "110102   17.989931  17.989898\n",
       "110115   20.245029  20.560747\n",
       "110118   20.740151  20.762487\n",
       "110120   18.835167  18.951309\n",
       "110133   19.102234  19.091068\n",
       "110137   19.228001  19.231364\n",
       "110157   20.102490  20.088388\n",
       "110171   19.986549  20.084607\n",
       "110174   19.527896  19.552083\n",
       "110175   20.031233  20.063069\n",
       "110177   20.915938  20.938377\n",
       "110179   20.869117  20.890894\n",
       "110183   20.156968  19.929193\n",
       "110187   20.208038  20.245230\n",
       "140102   19.581871  19.583832\n",
       "140103   18.586311  18.603002\n",
       "140104   19.864395  19.864395\n",
       "140105   19.230338  19.195408\n",
       "140106   19.244327  19.304448\n",
       "140107   19.524791  19.518008\n",
       "140111   19.140180  19.138521\n",
       "140112   19.568282  19.535822\n",
       "140116   18.176420  18.122897\n",
       "140118   20.863630  20.849898\n",
       "140121   20.507197  20.757667\n",
       "140122   21.056095  21.084425\n",
       "140123   18.824162  18.871756\n",
       "140124   18.861045  18.812723\n",
       "140132   20.432062  20.387769\n",
       "...            ...        ...\n",
       "680113   20.485359  20.500122\n",
       "680114   20.387313  20.461901\n",
       "680115   20.014819  19.989297\n",
       "680118   20.708503  20.712204\n",
       "710101   20.707666  20.713216\n",
       "710102   20.583988  20.581126\n",
       "710103   19.908340  19.989297\n",
       "710104   20.293056  20.307750\n",
       "710105   20.176677  20.207428\n",
       "710106   19.931074  19.968243\n",
       "710107   20.088449  20.088388\n",
       "710108   20.154486  20.307750\n",
       "710109   20.226098  20.209101\n",
       "710111   20.517237  20.530894\n",
       "710112   20.053525  20.082711\n",
       "710113   19.706355  19.715408\n",
       "710114   19.902409  19.919186\n",
       "710250   18.601977  18.635792\n",
       "710256   19.311116  19.328939\n",
       "710310   18.616545  18.779054\n",
       "710330   19.330044  19.282093\n",
       "740101   20.004756  20.004185\n",
       "740102   20.209360  20.276979\n",
       "740103   19.827327  19.831668\n",
       "740105   19.716345  19.701615\n",
       "740106   20.094201  20.125429\n",
       "740107   20.050456  20.088388\n",
       "740108   19.847170  19.843789\n",
       "740109   19.684273  19.701615\n",
       "740110   19.837655  19.831668\n",
       "\n",
       "[307 rows x 2 columns]"
      ]
     },
     "execution_count": 42,
     "metadata": {},
     "output_type": "execute_result"
    }
   ],
   "source": [
    "disTownPrice = train[['disTown', target]].groupby(['disTown']).agg(['mean','median'])\n",
    "disTownPrice"
   ]
  },
  {
   "cell_type": "code",
   "execution_count": 47,
   "metadata": {
    "collapsed": true
   },
   "outputs": [
    {
     "name": "stdout",
     "output_type": "stream",
     "text": [
      "Skewed:  -0.25744540010944317\n",
      "Kurtosis:  0.27666409505424294\n",
      "Skewed:  -0.2731270886571076\n",
      "Kurtosis:  0.2669077755441398\n"
     ]
    }
   ],
   "source": [
    "print(\"Skewed: \", disTownPrice[target]['mean'].skew())\n",
    "print(\"Kurtosis: \", disTownPrice[target]['mean'].kurt())\n",
    "\n",
    "print(\"Skewed: \", disTownPrice[target]['median'].skew())\n",
    "print(\"Kurtosis: \", disTownPrice[target]['median'].kurt())"
   ]
  },
  {
   "cell_type": "code",
   "execution_count": 52,
   "metadata": {
    "collapsed": true
   },
   "outputs": [
    {
     "data": {
      "text/plain": [
       "0      1.114012e+09\n",
       "1      1.114017e+09\n",
       "2      1.111013e+09\n",
       "3      1.111016e+09\n",
       "4      1.111016e+09\n",
       "5               NaN\n",
       "6      1.123010e+09\n",
       "7      1.123010e+09\n",
       "8      1.123011e+09\n",
       "9      1.111018e+09\n",
       "10     1.114010e+09\n",
       "11     1.114016e+09\n",
       "12     1.114015e+09\n",
       "13     1.114015e+09\n",
       "14     1.114016e+09\n",
       "15     1.120010e+09\n",
       "16     1.120011e+09\n",
       "17     1.120011e+09\n",
       "18     1.120011e+09\n",
       "19     1.120012e+09\n",
       "20     1.121510e+09\n",
       "21     1.121510e+09\n",
       "22     1.121510e+09\n",
       "23     1.171010e+09\n",
       "24     1.171010e+09\n",
       "25     1.171010e+09\n",
       "26     1.171010e+09\n",
       "27     1.168010e+09\n",
       "28     1.168010e+09\n",
       "29     1.168010e+09\n",
       "           ...     \n",
       "375    2.653010e+09\n",
       "376    2.644010e+09\n",
       "377    2.644010e+09\n",
       "378    2.644010e+09\n",
       "379    2.644010e+09\n",
       "380    2.644010e+09\n",
       "381    2.644010e+09\n",
       "382    1.126010e+09\n",
       "383    1.168011e+09\n",
       "384    1.168010e+09\n",
       "385    1.168010e+09\n",
       "386    1.150010e+09\n",
       "387    2.638011e+09\n",
       "388    2.638011e+09\n",
       "389    2.638011e+09\n",
       "390    2.638010e+09\n",
       "391    2.638010e+09\n",
       "392    2.638010e+09\n",
       "393    2.623010e+09\n",
       "394    2.647010e+09\n",
       "395    2.626010e+09\n",
       "396    2.626010e+09\n",
       "397    2.635010e+09\n",
       "398    2.635010e+09\n",
       "399    2.635010e+09\n",
       "400    2.635011e+09\n",
       "401    2.635011e+09\n",
       "402    2.671025e+09\n",
       "403    2.671025e+09\n",
       "404    2.671031e+09\n",
       "Name: address_by_law, Length: 405, dtype: float64"
      ]
     },
     "execution_count": 52,
     "metadata": {},
     "output_type": "execute_result"
    }
   ],
   "source": [
    "subway['address_by_law']"
   ]
  },
  {
   "cell_type": "code",
   "execution_count": 59,
   "metadata": {
    "collapsed": true
   },
   "outputs": [
    {
     "name": "stdout",
     "output_type": "stream",
     "text": [
      "   station_id   latitude   longitude subway_line  address_by_law   disTown  \\\n",
      "0           1  37.555729  126.972145   1,4,KJ,AP    1.114012e+09  140120.0   \n",
      "1           2  37.565624  126.976936         1,2    1.114017e+09  140167.0   \n",
      "2           3  37.570169  126.983099           1    1.111013e+09  110126.0   \n",
      "3           4  37.571570  126.991895       1,3,5    1.111016e+09  110156.0   \n",
      "4           5  37.570988  127.001921           1    1.111016e+09  110163.0   \n",
      "5           6  37.571256  127.009080         1,4             NaN       NaN   \n",
      "6           7  37.576107  127.024536      1,2,US    1.123010e+09  230101.0   \n",
      "7           8  37.578196  127.034867           1    1.123010e+09  230103.0   \n",
      "8           9  37.580166  127.044327     1,KJ,KC    1.123011e+09  230107.0   \n",
      "9          10  37.573246  127.016365         1,6    1.111018e+09  110175.0   \n",
      "\n",
      "    logPrice  \n",
      "0        NaN  \n",
      "1        NaN  \n",
      "2        NaN  \n",
      "3        NaN  \n",
      "4        NaN  \n",
      "5        NaN  \n",
      "6  19.251414  \n",
      "7  19.781657  \n",
      "8  19.485391  \n",
      "9  20.063069  \n"
     ]
    }
   ],
   "source": [
    "def disTownCnvrt(x):\n",
    "    try : return int(str(x)[2:8])\n",
    "    except ValueError : return np.nan\n",
    "subway['disTown'] = subway['address_by_law'].apply(lambda row : disTownCnvrt(row))\n",
    "\n",
    "def priceCnvrt(x):\n",
    "    try : return disTownPrice[target]['median'][int(x)]\n",
    "    except KeyError : return np.nan\n",
    "    except ValueError : return np.nan\n",
    "subway[target] = subway['disTown'].apply(lambda row : priceCnvrt(row))\n",
    "print(subway.head(10))"
   ]
  },
  {
   "cell_type": "code",
   "execution_count": 61,
   "metadata": {},
   "outputs": [
    {
     "name": "stdout",
     "output_type": "stream",
     "text": [
      "44\n"
     ]
    }
   ],
   "source": [
    "print(sum(subway[target].isna()))"
   ]
  },
  {
   "cell_type": "markdown",
   "metadata": {},
   "source": [
    "### 지하철역 노선 갯수 구하기"
   ]
  },
  {
   "cell_type": "code",
   "execution_count": 62,
   "metadata": {
    "collapsed": true
   },
   "outputs": [
    {
     "data": {
      "text/plain": [
       "B1           36\n",
       "5            36\n",
       "B2           34\n",
       "2            29\n",
       "7            27\n",
       "6            24\n",
       "9            22\n",
       "1            19\n",
       "3            19\n",
       "4            14\n",
       "B4           12\n",
       "BD           12\n",
       "B3           11\n",
       "KJ            8\n",
       "8             7\n",
       "BK            7\n",
       "DL            6\n",
       "2,5           4\n",
       "1,7           3\n",
       "3,6           3\n",
       "3,DL          2\n",
       "2,9           2\n",
       "1,KJ,KC       2\n",
       "B2,B3         2\n",
       "2,7           2\n",
       "1,4           2\n",
       "4,7           2\n",
       "ND            2\n",
       "2,6           2\n",
       "1,6           2\n",
       "             ..\n",
       "3,4           1\n",
       "2,ND          1\n",
       "6,KJ          1\n",
       "2,DL          1\n",
       "2,KJ,AP       1\n",
       "B1,B2         1\n",
       "2,4           1\n",
       "4,US          1\n",
       "3,8           1\n",
       "B1,BD         1\n",
       "5,7           1\n",
       "KC            1\n",
       "KC,KJ         1\n",
       "5,6,KJ,AP     1\n",
       "1,9           1\n",
       "3,KJ          1\n",
       "4,6           1\n",
       "6,KJ,AP       1\n",
       "3,ND          1\n",
       "3,5           1\n",
       "B2,BK         1\n",
       "6,US          1\n",
       "4,9           1\n",
       "9,DL          1\n",
       "2,4,5         1\n",
       "B3,BK         1\n",
       "1,3,5         1\n",
       "B3,B4         1\n",
       "KJ,KC         1\n",
       "1,2,US        1\n",
       "Name: subway_line, Length: 80, dtype: int64"
      ]
     },
     "execution_count": 62,
     "metadata": {},
     "output_type": "execute_result"
    }
   ],
   "source": [
    "subway['subway_line'].value_counts()"
   ]
  },
  {
   "cell_type": "code",
   "execution_count": 63,
   "metadata": {
    "collapsed": true
   },
   "outputs": [
    {
     "data": {
      "text/plain": [
       "0    4\n",
       "1    2\n",
       "2    1\n",
       "3    3\n",
       "4    1\n",
       "5    2\n",
       "6    3\n",
       "7    1\n",
       "8    3\n",
       "9    2\n",
       "Name: noLine, dtype: int64"
      ]
     },
     "execution_count": 63,
     "metadata": {},
     "output_type": "execute_result"
    }
   ],
   "source": [
    "subway['noLine'] = subway['subway_line'].apply(lambda row : len(row.split(',')))\n",
    "subway['noLine'].head(10)"
   ]
  },
  {
   "cell_type": "markdown",
   "metadata": {},
   "source": [
    "## School"
   ]
  },
  {
   "cell_type": "code",
   "execution_count": 31,
   "metadata": {},
   "outputs": [
    {
     "name": "stdout",
     "output_type": "stream",
     "text": [
      "<class 'pandas.core.frame.DataFrame'>\n",
      "RangeIndex: 1921 entries, 0 to 1920\n",
      "Data columns (total 9 columns):\n",
      "school_code        1921 non-null object\n",
      "latitude           1921 non-null float64\n",
      "longitude          1921 non-null float64\n",
      "school_class       1921 non-null object\n",
      "operation_type     1921 non-null object\n",
      "highschool_type    462 non-null object\n",
      "gender             1921 non-null object\n",
      "foundation_date    1921 non-null object\n",
      "address_by_law     1921 non-null int64\n",
      "dtypes: float64(2), int64(1), object(6)\n",
      "memory usage: 135.1+ KB\n"
     ]
    }
   ],
   "source": [
    "school.info()"
   ]
  },
  {
   "cell_type": "markdown",
   "metadata": {},
   "source": [
    "### class"
   ]
  },
  {
   "cell_type": "code",
   "execution_count": 32,
   "metadata": {},
   "outputs": [
    {
     "name": "stdout",
     "output_type": "stream",
     "text": [
      "object\n",
      "elementary    901\n",
      "middle        558\n",
      "high          462\n",
      "Name: school_class, dtype: int64\n",
      "train na :  0\n"
     ]
    }
   ],
   "source": [
    "colInfo('school_class', school)"
   ]
  },
  {
   "cell_type": "code",
   "execution_count": 33,
   "metadata": {},
   "outputs": [],
   "source": [
    "def classCnvrt(x):\n",
    "    if x =='elementary': return 0\n",
    "    elif x =='middle' : return 1\n",
    "    else : return 2\n",
    "school['school_class'] = school['school_class'].apply(lambda row : classCnvrt(row))"
   ]
  },
  {
   "cell_type": "markdown",
   "metadata": {},
   "source": [
    "### op type"
   ]
  },
  {
   "cell_type": "code",
   "execution_count": 17,
   "metadata": {},
   "outputs": [
    {
     "name": "stdout",
     "output_type": "stream",
     "text": [
      "object\n",
      "public      1444\n",
      "private      466\n",
      "national      11\n",
      "Name: operation_type, dtype: int64\n",
      "train na :  0\n"
     ]
    }
   ],
   "source": [
    "colInfo('operation_type', school)"
   ]
  },
  {
   "cell_type": "code",
   "execution_count": 35,
   "metadata": {},
   "outputs": [],
   "source": [
    "school['private'] = (school['operation_type']=='private')"
   ]
  },
  {
   "cell_type": "code",
   "execution_count": 37,
   "metadata": {},
   "outputs": [],
   "source": [
    "def opCnvrt(x):\n",
    "    if x == 'public' : return 0\n",
    "    elif x=='private' : return 2\n",
    "    else : return 1\n",
    "school['operation_type'] = school['operation_type'].apply(lambda row : opCnvrt(row))"
   ]
  },
  {
   "cell_type": "markdown",
   "metadata": {},
   "source": [
    "### high school"
   ]
  },
  {
   "cell_type": "code",
   "execution_count": 18,
   "metadata": {},
   "outputs": [
    {
     "name": "stdout",
     "output_type": "stream",
     "text": [
      "object\n",
      "NaN            1459\n",
      "general         269\n",
      "specialized     104\n",
      "autonomous       55\n",
      "objective        34\n",
      "Name: highschool_type, dtype: int64\n",
      "train na :  1459\n"
     ]
    }
   ],
   "source": [
    "colInfo('highschool_type', school)"
   ]
  },
  {
   "cell_type": "code",
   "execution_count": 39,
   "metadata": {},
   "outputs": [],
   "source": [
    "def highCnvrt(x):\n",
    "    if x=='general' : return 0\n",
    "    elif x=='specialized' : return 1\n",
    "    elif x=='autonomous' : return 2\n",
    "    elif x=='objective' : return 3\n",
    "school['highschool_type'] = school['highschool_type'].apply(lambda row : highCnvrt(row))"
   ]
  },
  {
   "cell_type": "markdown",
   "metadata": {},
   "source": [
    "### gender"
   ]
  },
  {
   "cell_type": "code",
   "execution_count": 40,
   "metadata": {},
   "outputs": [
    {
     "name": "stdout",
     "output_type": "stream",
     "text": [
      "object\n",
      "both      1524\n",
      "male       199\n",
      "female     198\n",
      "Name: gender, dtype: int64\n",
      "train na :  0\n"
     ]
    }
   ],
   "source": [
    "colInfo('gender', school)"
   ]
  },
  {
   "cell_type": "code",
   "execution_count": 42,
   "metadata": {},
   "outputs": [],
   "source": [
    "school['onlySex'] = (school['gender']!='both')\n",
    "def genderCnvrt(x):\n",
    "    if x=='both' : return 2\n",
    "    elif x=='male' : return 1\n",
    "    else : return 0\n",
    "school['gender'] = school['gender'].apply(lambda row : genderCnvrt(row))"
   ]
  },
  {
   "cell_type": "markdown",
   "metadata": {},
   "source": [
    "### date"
   ]
  },
  {
   "cell_type": "code",
   "execution_count": 43,
   "metadata": {
    "collapsed": true
   },
   "outputs": [
    {
     "name": "stdout",
     "output_type": "stream",
     "text": [
      "object\n",
      "2009.3.1      19\n",
      "1984.1.9      16\n",
      "1990.1.20     16\n",
      "2002.3.1      15\n",
      "1986.1.29     15\n",
      "2004.3.1      14\n",
      "1984.12.8     13\n",
      "1972.12.29    13\n",
      "2003.3.1      12\n",
      "1984.12.17    12\n",
      "1982.12.9     12\n",
      "1994.1.5      10\n",
      "2005.3.1      10\n",
      "1983.12.3     10\n",
      "1986.12.17    10\n",
      "1945.11.1     10\n",
      "1982.7.7       9\n",
      "1968.8.6       9\n",
      "1980.1.24      9\n",
      "1991.1.21      9\n",
      "2006.3.1       8\n",
      "1984.3.1       8\n",
      "1974.1.5       8\n",
      "1991.10.30     8\n",
      "1988.12.24     8\n",
      "2012.3.1       7\n",
      "2010.3.1       7\n",
      "1983.12.26     7\n",
      "2017.3.1       7\n",
      "1996.3.1       7\n",
      "              ..\n",
      "1993.1.16      1\n",
      "1894-09-18     1\n",
      "1904.4.1       1\n",
      "1978.12.19     1\n",
      "1945.11.10     1\n",
      "1906.4.1       1\n",
      "1986.10.4      1\n",
      "1955.2.28      1\n",
      "1968.10.23     1\n",
      "1944.4.11      1\n",
      "1987.5.12      1\n",
      "1978.12.29     1\n",
      "1986.3.4       1\n",
      "1967.3.15      1\n",
      "1967.3.31      1\n",
      "1982.11.3      1\n",
      "2002.7.12      1\n",
      "1960.5.15      1\n",
      "1981.12.1      1\n",
      "1979.2.2       1\n",
      "1956.2.23      1\n",
      "1938.2.24      1\n",
      "1965.9.25      1\n",
      "1946.7.2       1\n",
      "1955.4.5       1\n",
      "1959.4.1       1\n",
      "1955.1.12      1\n",
      "2012.9.1       1\n",
      "1924.5.5       1\n",
      "1997.1.15      1\n",
      "Name: foundation_date, Length: 1141, dtype: int64\n",
      "train na :  0\n"
     ]
    }
   ],
   "source": [
    "colInfo('foundation_date', school)"
   ]
  }
 ],
 "metadata": {
  "kernelspec": {
   "display_name": "Python 3",
   "language": "python",
   "name": "python3"
  },
  "language_info": {
   "codemirror_mode": {
    "name": "ipython",
    "version": 3
   },
   "file_extension": ".py",
   "mimetype": "text/x-python",
   "name": "python",
   "nbconvert_exporter": "python",
   "pygments_lexer": "ipython3",
   "version": "3.6.7"
  }
 },
 "nbformat": 4,
 "nbformat_minor": 2
}
