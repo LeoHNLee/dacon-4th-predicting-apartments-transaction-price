{
 "cells": [
  {
   "cell_type": "markdown",
   "metadata": {
    "ExecuteTime": {
     "end_time": "2019-01-16T06:13:30.863337Z",
     "start_time": "2019-01-16T06:13:30.854360Z"
    }
   },
   "source": [
    "### 컬럼 뜻 정리\n",
    "\n",
    "- 기존에 있던 것\n",
    "['key', 'apartment_id', 'city', 'transaction_year_month',\n",
    "       'transaction_date', 'year_of_completion', 'exclusive_use_area', 'floor',\n",
    "       'latitude', 'longitude', 'address_by_law',\n",
    "       'total_parking_capacity_in_site', 'total_household_count_in_sites',\n",
    "       'apartment_building_count_in_sites', 'tallest_building_in_sites',\n",
    "       'lowest_building_in_sites', 'heat_type', 'heat_fuel', 'room_id',\n",
    "       'supply_area', 'total_household_count_of_area_type', 'room_count',\n",
    "       'bathroom_count', 'front_door_structure', 'transaction_real_price',\n",
    "       \n",
    "1. 'logPrice' : 실거래가 로그 정규화\n",
    "2. 'exAreaPrice', : 전용면적 당 실거래가 = 실거래가 / 전용면적\n",
    "3. 'supAreaPrice', : 공급면적 당 실거래가 = 실거래가 / 공급면적\n",
    "4. 'logExAreaPrice', : 전용면적 당 실거래가 로그 정규화\n",
    "5. 'logSupAreaPrice', : 공급면적 당 실거래가 로그 정규화\n",
    "6. 'transYear', : 거래 연도\n",
    "7. 'transMonth', : 거래 월\n",
    "8. 'transDate', : 거래 일 1,11,21\n",
    "9. 'transYMD', : yyyymmdd 형태 거래 일자\n",
    "10. 'transOrdered', : d=1,2,3 / m=3 / y=36으로 계산해서 yyyymmdd형태를 리스케일링\n",
    "11. 'commonArea', : 공용 면적\n",
    "12. 'areaRate', : 전용률 = 전용면적/공급면적\n",
    "13. 'district', : 구 법정동 코드\n",
    "14. 'town', : 동 법정동 코드\n",
    "15. 'disTown', : 구+동 법정동 코드\n",
    "16. 'cityDisTown', : 시+구+동 법정동 코드\n",
    "17. 'townUnitPrice', : 시+구+동 법정동 코드 별 공급면적 제곱미터 당 실거래가 중위값\n",
    "18. 'unitPrice', : 공급면적 제곱미터 당 실거래가\n",
    "19. 'apartUnitPrice', : 아파트 단지별 공급면적 제곱미터 당 실거래가 중위값\n",
    "20. 'sub800', : 800m 이내 지하철 갯수 (환승역은 노선수를 따로 셈, 1호선+2호선 환승역이면 한 역을 두 번 셈)\n",
    "21. 'elementSchool800', : 800m 이내 초등학교 갯수\n",
    "22. 'middleSchool800', : 800m 이내 중학교 갯수\n",
    "23. 'highSchool800', : 800m 이내 고등학교 갯수\n",
    "24. 'sub800Price' : 지하철 시+구+동 법정동 코드에 해당하는 unitPrice (800m 이내에 있는 지하철역 가격 중에서 max값)\n",
    "25. 'logTownUnitPrice', \n",
    "26. 'logApartUnitPrice'\n",
    "27. logSub800Price\n",
    "28. apart : 단지별 평당가를 활용한 줄세우기"
   ]
  },
  {
   "cell_type": "code",
   "execution_count": 1,
   "metadata": {
    "ExecuteTime": {
     "end_time": "2019-01-17T02:49:46.847807Z",
     "start_time": "2019-01-17T02:49:44.965841Z"
    }
   },
   "outputs": [
    {
     "data": {
      "text/plain": [
       "0"
      ]
     },
     "execution_count": 1,
     "metadata": {},
     "output_type": "execute_result"
    }
   ],
   "source": [
    "import pandas as pd\n",
    "import numpy as np\n",
    "import os, sys, warnings, re, time, gc,math\n",
    "from tqdm import tqdm\n",
    "import matplotlib.pyplot as plt\n",
    "import seaborn as sns\n",
    "from statsmodels.distributions.empirical_distribution import ECDF\n",
    "from sklearn.linear_model import RidgeCV as ridge\n",
    "import lightgbm as lgb\n",
    "\n",
    "warnings.filterwarnings('ignore')\n",
    "sys.path.append(os.path.abspath(os.path.dirname('../')))\n",
    "from modules import eda\n",
    "gc.collect()"
   ]
  },
  {
   "cell_type": "code",
   "execution_count": 2,
   "metadata": {
    "ExecuteTime": {
     "end_time": "2019-01-15T10:04:32.667971Z",
     "start_time": "2019-01-15T10:04:26.912370Z"
    }
   },
   "outputs": [
    {
     "name": "stdout",
     "output_type": "stream",
     "text": [
      "Wall time: 5.74 s\n"
     ]
    }
   ],
   "source": [
    "%%time\n",
    "# input raw data, 같은 dir에 있다고 가정함\n",
    "# path = './datasets/origin/'\n",
    "train = pd.read_csv('train.csv')\n",
    "test = pd.read_csv('test.csv')\n",
    "school = pd.read_csv('Schools.csv')\n",
    "subway = pd.read_csv('Subways.csv')\n",
    "gc.collect()"
   ]
  },
  {
   "cell_type": "code",
   "execution_count": 3,
   "metadata": {
    "ExecuteTime": {
     "end_time": "2019-01-15T10:08:55.158094Z",
     "start_time": "2019-01-15T10:04:38.708817Z"
    }
   },
   "outputs": [],
   "source": [
    "# Price\n",
    "## log price\n",
    "train['logPrice']=np.log(train['transaction_real_price'])\n",
    "\n",
    "## ~ price\n",
    "train['exAreaPrice'] = train.apply(lambda row : row['transaction_real_price']/row['exclusive_use_area'],axis=1)\n",
    "train['supAreaPrice'] = train.apply(lambda row : row['transaction_real_price']/row['supply_area'],axis=1)\n",
    "train['logExAreaPrice'] = np.log(train['exAreaPrice'])\n",
    "train['logSupAreaPrice'] = np.log(train['supAreaPrice'])\n",
    "\n",
    "# transaction Y-M-D\n",
    "train['transYear'] = train['transaction_year_month'].apply(lambda row : int(str(row)[:4]))\n",
    "train['transMonth'] = train['transaction_year_month'].apply(lambda row : int(str(row)[4:]))\n",
    "train['transDate'] = train['transaction_date'].apply(lambda row : int(row.split('~')[0]))\n",
    "test['transYear'] = test['transaction_year_month'].apply(lambda row : int(str(row)[:4]))\n",
    "test['transMonth'] = test['transaction_year_month'].apply(lambda row : int(str(row)[4:]))\n",
    "test['transDate'] = test['transaction_date'].apply(lambda row : int(row.split('~')[0]))\n",
    "\n",
    "def transYMD(row):\n",
    "    ym = str(row['transaction_year_month'])\n",
    "    date = str(row['transDate'])\n",
    "    if len(date)==1 : date = '0'+date\n",
    "    return int(ym+date)\n",
    "train['transYMD'] = train.apply(lambda row : transYMD(row), axis=1)\n",
    "test['transYMD'] = test.apply(lambda row : transYMD(row), axis=1)\n",
    "\n",
    "def transOdered(row):\n",
    "    data = str(row)\n",
    "    year = data[:4]\n",
    "    month = data[4:6]\n",
    "    date = data[6:]\n",
    "    if date == '01' : date = 1\n",
    "    elif date == '11' : date = 2\n",
    "    else : date = 3\n",
    "    month = (int(month)-1)*3\n",
    "    year = (int(year)-2006)*36\n",
    "    return year+month+date\n",
    "\n",
    "train['transOrdered'] = train['transYMD'].apply(lambda row : transOdered(row))\n",
    "test['transOrdered'] = test['transYMD'].apply(lambda row : transOdered(row))\n",
    "\n",
    "# Area\n",
    "# common Area : 공용 면적 = 공급면적-전용면적\n",
    "# area rate : 전용률 = \n",
    "train['commonArea'] = train.apply(lambda row : row['supply_area']-row['exclusive_use_area'], axis=1)\n",
    "test['commonArea'] = test.apply(lambda row : row['supply_area']-row['exclusive_use_area'], axis=1)\n",
    "train['areaRate'] = train.apply(lambda row : row['exclusive_use_area']/row['supply_area'], axis=1)\n",
    "test['areaRate'] = test.apply(lambda row : row['exclusive_use_area']/row['supply_area'], axis=1)\n",
    "\n",
    "# location by law\n",
    "train['district'] = train['address_by_law'].apply(lambda row : int(str(row)[2:5]))\n",
    "test['district'] = test['address_by_law'].apply(lambda row : int(str(row)[2:5]))\n",
    "train['town'] = train['address_by_law'].apply(lambda row : int(str(row)[5:8]))\n",
    "test['town'] = test['address_by_law'].apply(lambda row : int(str(row)[5:8]))\n",
    "train['disTown'] = train.apply(lambda row : int(str(row['district'])+str(row['town'])), axis=1)\n",
    "test['disTown'] = test.apply(lambda row : int(str(row['district'])+str(row['town'])), axis=1)\n",
    "train['cityDisTown'] = train.apply(lambda row : int(str(row['city'])+str(row['disTown'])), axis=1)\n",
    "test['cityDisTown'] = test.apply(lambda row : int(str(row['city'])+str(row['disTown'])), axis=1)\n",
    "\n",
    "# ETC\n",
    "col = 'heat_fuel'\n",
    "def heatFuel(x):\n",
    "    if x =='gas' : return 0\n",
    "    elif x=='cogeneration': return 1\n",
    "    else : return 2\n",
    "train[col] = train[col].apply(lambda row : heatFuel(row))\n",
    "test[col] = test[col].apply(lambda row : heatFuel(row))\n",
    "\n",
    "col = 'heat_type'\n",
    "def heaType(x):\n",
    "    if x=='individual': return 0\n",
    "    elif x=='district':return 1\n",
    "    elif x=='central':return 2\n",
    "    else : return 3\n",
    "train[col] = train[col].apply(lambda row : heaType(row))\n",
    "test[col] = test[col].apply(lambda row : heaType(row))\n",
    "\n",
    "col = 'front_door_structure'\n",
    "def FDS(x):\n",
    "    if x=='stairway': return 0\n",
    "    elif x=='corridor': return 2\n",
    "    elif x=='mixed': return 1\n",
    "    else : return 3\n",
    "train[col] = train[col].apply(lambda row : FDS(row))\n",
    "test[col] = test[col].apply(lambda row : FDS(row))"
   ]
  },
  {
   "cell_type": "code",
   "execution_count": 3,
   "metadata": {
    "ExecuteTime": {
     "end_time": "2019-01-17T00:34:29.857298Z",
     "start_time": "2019-01-17T00:33:56.911413Z"
    }
   },
   "outputs": [],
   "source": [
    "# 평당가를 활용한 특성 공학\n",
    "train['unitPrice'] = train.apply(lambda row : row['transaction_real_price']/row['supply_area'], axis=1)\n",
    "\n",
    "# 평당가 구하기\n",
    "unitPriceCnvrt = {}\n",
    "groupedTowns = train[['cityDisTown','unitPrice']].groupby(['cityDisTown']).agg('median')\n",
    "for idx, price in zip(groupedTowns['unitPrice'].index, groupedTowns['unitPrice'].values):\n",
    "    unitPriceCnvrt[idx] = price\n",
    "def townUnitPrice(x):\n",
    "    try : return unitPriceCnvrt[x]\n",
    "    except KeyError : return np.nan\n",
    "train['townUnitPrice'] = train['cityDisTown'].apply(lambda row : townUnitPrice(row))\n",
    "test['townUnitPrice'] = test['cityDisTown'].apply(lambda row : townUnitPrice(row))\n",
    "# 단지 평당가를 구하자 :\n",
    "groupedUnitPrice = train[['unitPrice', 'apartment_id']].groupby(['apartment_id']).agg('median')\n",
    "apartUnitPriceCnvrt = {}\n",
    "for apartId, price in zip(groupedUnitPrice['unitPrice'].index, groupedUnitPrice['unitPrice'].values):\n",
    "    apartUnitPriceCnvrt[apartId] = price\n",
    "def apartUnitPrice(x):\n",
    "    try : return apartUnitPriceCnvrt[x]\n",
    "    except KeyError : return np.nan\n",
    "train['apartUnitPrice'] = train['apartment_id'].apply(lambda row : apartUnitPrice(row))\n",
    "test['apartUnitPrice'] = test['apartment_id'].apply(lambda row : apartUnitPrice(row))"
   ]
  },
  {
   "cell_type": "code",
   "execution_count": 24,
   "metadata": {
    "ExecuteTime": {
     "end_time": "2019-01-17T00:56:23.021149Z",
     "start_time": "2019-01-17T00:56:22.017835Z"
    }
   },
   "outputs": [],
   "source": [
    "# Subways\n",
    "\n",
    "# 지하철 라인과 도시 구하기\n",
    "subway['lines'] = subway['subway_line'].apply(lambda row : row.split(','))\n",
    "subway['noLine'] = subway['subway_line'].apply(lambda row : len(row.split(','))) # 환승역일 경우, 역 갯수\n",
    "subway['city'] = subway['lines'].apply(lambda row : 0 if row[0][0]=='B' else 1)\n",
    "def disTown(x):\n",
    "    try : return int(str(x['address_by_law'])[2:8])\n",
    "    except ValueError : return np.nan\n",
    "subway['disTown'] = subway.apply(lambda row : disTown(row), axis=1)\n",
    "def cityDisTown(x):\n",
    "    try:town=int(x['disTown'])\n",
    "    except ValueError: return np.nan\n",
    "    town = str(town)\n",
    "    city = str(x['city'])\n",
    "    return int(city+town)\n",
    "subway['cityDisTown'] = subway.apply(lambda row : cityDisTown(row), axis=1)\n",
    "\n",
    "# 거리 구하기 - 위도 1도 : 110,000m, 경도 1도 : 88,740m\n",
    "apartLoc = test[['apartment_id', 'latitude', 'longitude']].groupby(['apartment_id']).agg('mean')\n",
    "apartIdx = apartLoc.index.tolist()\n",
    "apartLoc = apartLoc.values\n",
    "statLoc = subway[['station_id', 'latitude', 'longitude']].groupby(['station_id']).agg('mean')\n",
    "statIdx = statLoc.index.tolist()\n",
    "statLoc = statLoc.values\n",
    "station= dict(zip(statIdx, statLoc))\n",
    "apartment = dict(zip(apartIdx, apartLoc))\n",
    "subDist = {a:{s:None for s in statIdx} for a in apartIdx} # row(0) : apart, col(1) : station\n",
    "for s in tqdm(statIdx):\n",
    "    for a in apartIdx:\n",
    "        width = abs(station[s][0] - apartment[a][0])*110000\n",
    "        height = abs(station[s][1] - apartment[a][1])*88740\n",
    "        dist = math.sqrt(width**2+height**2)\n",
    "        subDist[a][s] = dist\n",
    "# ### 200, 500, 800 이내 구하기\n",
    "subLines = pd.Series(subway['lines'], index=subway['station_id'])\n",
    "sub800 = {a:0 for a in subDist.keys()}\n",
    "for a in subDist.keys():\n",
    "    sub800[a] += sum(len(subLines[s]) for s, dist in zip(subDist[a].keys(), subDist[a].values()) if dist<=800 and type(subLines[s]) == list)\n",
    "### 데이터에 삽입\n",
    "train['sub800'] = train['apartment_id'].apply(lambda row : sub800[row])\n",
    "test['sub800'] = test['apartment_id'].apply(lambda row : sub800[row])\n",
    "\n",
    "# 지하철 가격 구하기\n",
    "unitPriceCnvrt = {}\n",
    "groupedTowns = train[['townUnitPrice', 'apartment_id']].groupby(['apartment_id']).agg('median')\n",
    "for idx, price in zip(groupedTowns['townUnitPrice'].index, groupedTowns['townUnitPrice'].values):\n",
    "    unitPriceCnvrt[idx] = price\n",
    "def subwayUnitPrice(x):\n",
    "    try : return unitPriceCnvrt[x]\n",
    "    except KeyError : return np.nan\n",
    "    except TypeError : return np.nan\n",
    "subway['unitPrice'] = subway['cityDisTown'].apply(lambda row : subwayUnitPrice(row))\n",
    "\n",
    "## 지하철역 가격으로 환산(동네 평균 평당가)\n",
    "\n",
    "sub800Price = {a:0 for a in subDist.keys()}\n",
    "subPrice = {}\n",
    "for k, v in zip(subway['station_id'].tolist(),subway['unitPrice'].tolist()):\n",
    "    subPrice[k] = v\n",
    "for a in subDist.keys():\n",
    "    sub800Price[a] += max(subPrice[s] if dist<=800 and type(subLines[s]) == list and not np.isnan(subPrice[s]) else 0 for s, dist in zip(subDist[a].keys(), subDist[a].values()))\n",
    "train['sub800Price'] = train['apartment_id'].apply(lambda row : sub800Price[row])\n",
    "test['sub800Price'] = test['apartment_id'].apply(lambda row : sub800Price[row])"
   ]
  },
  {
   "cell_type": "code",
   "execution_count": null,
   "metadata": {},
   "outputs": [],
   "source": [
    "# Schools\n",
    "\n",
    "def classCnvrt(x):\n",
    "    if x =='elementary': return 0\n",
    "    elif x =='middle' : return 1\n",
    "    else : return 2\n",
    "school['school_class'] = school['school_class'].apply(lambda row : classCnvrt(row))\n",
    "\n",
    "def opCnvrt(x):\n",
    "    if x == 'public' : return 0\n",
    "    elif x=='private' : return 2\n",
    "    else : return 1\n",
    "school['operation_type'] = school['operation_type'].apply(lambda row : opCnvrt(row))\n",
    "\n",
    "def highCnvrt(x):\n",
    "    if x=='general' : return 0\n",
    "    elif x=='specialized' : return 1\n",
    "    elif x=='autonomous' : return 2\n",
    "    elif x=='objective' : return 3\n",
    "school['highschool_type'] = school['highschool_type'].apply(lambda row : highCnvrt(row))\n",
    "\n",
    "school['onlySex'] = (school['gender']!='both')\n",
    "def genderCnvrt(x):\n",
    "    if x=='both' : return 2\n",
    "    elif x=='male' : return 1\n",
    "    else : return 0\n",
    "school['gender'] = school['gender'].apply(lambda row : genderCnvrt(row))\n",
    "\n",
    "school['city'] = school['latitude'].apply(lambda row : 1 if row>36.5 else 0)\n",
    "school['cityDisTown'] = school.apply(lambda row : int(str(row['city'])+str(row['address_by_law'])[2:8]), axis=1)\n",
    "\n",
    "# 학교 거리 구하기\n",
    "schooLoc = school[['school_code', 'latitude', 'longitude']].groupby(['school_code']).agg('mean')\n",
    "schoolIdx = schooLoc.index.tolist()\n",
    "schooLoc = schooLoc.values\n",
    "schooLoc= dict(zip(schoolIdx, schooLoc))\n",
    "apartLoc = test[['apartment_id', 'latitude', 'longitude']].groupby(['apartment_id']).agg('mean')\n",
    "apartIdx = apartLoc.index.tolist()\n",
    "apartLoc = apartLoc.values\n",
    "apartment = dict(zip(apartIdx, apartLoc))\n",
    "schDist = {a:{s:None for s in schoolIdx} for a in apartIdx} # row(0) : apart, col(1) : station\n",
    "for s in tqdm(schoolIdx):\n",
    "    for a in apartIdx:\n",
    "        width = abs(schooLoc[s][0] - apartment[a][0])*110000\n",
    "        height = abs(schooLoc[s][1] - apartment[a][1])*88740\n",
    "        dist = math.sqrt(width**2+height**2)\n",
    "        schDist[a][s] = dist\n",
    "        \n",
    "schoolCode = {}\n",
    "for k, v in zip(school['school_code'].tolist(), school['school_class'].tolist()):\n",
    "    schoolCode[k] = v\n",
    "    \n",
    "def elementSchool(x):\n",
    "    dic = schDist[x]\n",
    "    ret = 0\n",
    "    for sch, dist in zip(dic.keys(), dic.values()):\n",
    "        if dist<=800 and schoolCode[sch]==0: ret+=1\n",
    "    return ret\n",
    "def middleSchool(x):\n",
    "    dic = schDist[x]\n",
    "    ret = 0\n",
    "    for sch, dist in zip(dic.keys(), dic.values()):\n",
    "        if dist<=800 and schoolCode[sch]==1: ret+=1\n",
    "    return ret\n",
    "def highSchool(x):\n",
    "    dic = schDist[x]\n",
    "    ret = 0\n",
    "    for sch, dist in zip(dic.keys(), dic.values()):\n",
    "        if dist<=800 and schoolCode[sch]==2: ret+=1\n",
    "    return ret\n",
    "train['elementSchool800'] = train['apartment_id'].apply(lambda row : elementSchool(row))\n",
    "train['middleSchool800'] = train['apartment_id'].apply(lambda row : middleSchool(row))\n",
    "train['highSchool800'] = train['apartment_id'].apply(lambda row : highSchool(row))\n",
    "test['elementSchool800'] = test['apartment_id'].apply(lambda row : elementSchool(row))\n",
    "test['middleSchool800'] = test['apartment_id'].apply(lambda row : middleSchool(row))\n",
    "test['highSchool800'] = test['apartment_id'].apply(lambda row : highSchool(row))\n",
    "\n",
    "## 학교 가치구하기 pass"
   ]
  },
  {
   "cell_type": "markdown",
   "metadata": {},
   "source": [
    "## 여기서부터는 lgb를 활용한 null 채워넣는 실험\n",
    "1. 일단 쌩으로 lgb를 돌린다\n",
    "2. importance가 10개 미만으로 분류한 컬럼들을 제외하고 lgb를 다시 돌린다.\n",
    "3. [2]의 모델로 null값 추정"
   ]
  },
  {
   "cell_type": "code",
   "execution_count": 3,
   "metadata": {
    "ExecuteTime": {
     "end_time": "2019-01-17T02:50:04.794807Z",
     "start_time": "2019-01-17T02:50:04.299160Z"
    }
   },
   "outputs": [],
   "source": [
    "# Null1\n",
    "def coList(col=None):\n",
    "    cols = [\n",
    "     'apartment_id','year_of_completion', 'exclusive_use_area', 'floor',\n",
    "       'address_by_law','total_parking_capacity_in_site', 'total_household_count_in_sites',\n",
    "       'apartment_building_count_in_sites', 'tallest_building_in_sites',\n",
    "       'lowest_building_in_sites', 'heat_type', 'heat_fuel', 'room_id',\n",
    "       'supply_area', 'total_household_count_of_area_type', 'room_count',\n",
    "       'bathroom_count', 'front_door_structure', 'transYear', 'transMonth',\n",
    "       'transOrdered', 'commonArea', 'areaRate',\n",
    "       'cityDisTown', 'sub800',\n",
    "       'elementSchool800', 'middleSchool800', 'highSchool800',\n",
    "        'logTownUnitPrice', 'logApartUnitPrice', 'logSub800Price',\n",
    "    ]\n",
    "    cats = ['apartment_id','address_by_law','heat_type', 'heat_fuel', 'room_id','front_door_structure',\n",
    "           'transMonth', 'cityDisTown',]\n",
    "    if col is not None : \n",
    "        cols.remove(col)\n",
    "        if col in cats: cats.remove(col)\n",
    "    return cols, cats\n",
    "    \n",
    "cols, cats = coList()\n",
    "data = train[cols].append(test[cols])"
   ]
  },
  {
   "cell_type": "code",
   "execution_count": 5,
   "metadata": {
    "ExecuteTime": {
     "end_time": "2019-01-16T06:03:19.481914Z",
     "start_time": "2019-01-16T06:03:19.467939Z"
    }
   },
   "outputs": [
    {
     "name": "stdout",
     "output_type": "stream",
     "text": [
      "Wall time: 0 ns\n"
     ]
    }
   ],
   "source": [
    "%%time\n",
    "# Null2\n",
    "def trainLgb(col, model=None):\n",
    "    cols, cats = coList(col)\n",
    "    trainSet = data[~pd.isna(data[col])]\n",
    "    label = trainSet[col].values\n",
    "    lgbSet = lgb.Dataset(trainSet[cols], label=label, categorical_feature=cats)\n",
    "    bst = lgb.train(params, lgbSet)\n",
    "    \n",
    "    for i,v in enumerate(bst.feature_importance('gain')):\n",
    "        if v<10: cols[i]=0\n",
    "    cols = [i for i in cols if i!=0]\n",
    "    cats = list(set(cols)&set(cats))\n",
    "\n",
    "    lgbSet = lgb.Dataset(trainSet[cols], label=label, categorical_feature=cats)\n",
    "    bst = lgb.train(params, lgbSet)\n",
    "    if model is not None : bst.save_model(model+'.txt')\n",
    "    \n",
    "    predSet = train[pd.isna(train[col])]\n",
    "    idx = predSet.index.tolist()\n",
    "    predArray = predSet[cols]\n",
    "    predicted = bst.predict(predArray.values)\n",
    "    for i, v in enumerate(idx):\n",
    "        train[col][v] = predicted[i] # 이 부분이 느린데, 어떻게 하면 대입 연산을 빠르게 할 수 있을까?\n",
    "        \n",
    "    predSet = test[pd.isna(test[col])]\n",
    "    idx = predSet.index.tolist()\n",
    "    predArray = predSet[cols]\n",
    "    predicted = bst.predict(predArray.values)\n",
    "    for i, v in enumerate(idx):\n",
    "        test[col][v] = predicted[i] # 이 부분이 느린데, 어떻게 하면 대입 연산을 빠르게 할 수 있을까?\n",
    "\n",
    "def applyRound(x):\n",
    "    if x-int(x)>0.5: return int(x)+1\n",
    "    else : return int(x)\n",
    "    \n",
    "params = {\n",
    "    'objective':'regression',\n",
    "    'metric':'l2',\n",
    "    'num_threads':3,\n",
    "}"
   ]
  },
  {
   "cell_type": "code",
   "execution_count": 6,
   "metadata": {
    "ExecuteTime": {
     "end_time": "2019-01-16T06:09:41.479410Z",
     "start_time": "2019-01-16T06:03:27.913397Z"
    }
   },
   "outputs": [],
   "source": [
    "col = 'room_count'\n",
    "trainLgb(col)\n",
    "train[col] = train[col].apply(lambda row : applyRound(row))\n",
    "test[col] = test[col].apply(lambda row : applyRound(row))"
   ]
  },
  {
   "cell_type": "code",
   "execution_count": 7,
   "metadata": {
    "ExecuteTime": {
     "end_time": "2019-01-16T06:13:05.935009Z",
     "start_time": "2019-01-16T06:10:28.272771Z"
    }
   },
   "outputs": [],
   "source": [
    "col = 'bathroom_count'\n",
    "trainLgb(col)\n",
    "train[col] = train[col].apply(lambda row : applyRound(row))\n",
    "test[col] = test[col].apply(lambda row : applyRound(row))"
   ]
  },
  {
   "cell_type": "code",
   "execution_count": null,
   "metadata": {
    "ExecuteTime": {
     "start_time": "2019-01-16T06:13:38.231Z"
    }
   },
   "outputs": [],
   "source": [
    "col = 'total_parking_capacity_in_site'\n",
    "trainLgb(col)\n",
    "train[col] = train[col].apply(lambda row : applyRound(row))\n",
    "test[col] = test[col].apply(lambda row : applyRound(row))"
   ]
  },
  {
   "cell_type": "code",
   "execution_count": null,
   "metadata": {
    "ExecuteTime": {
     "start_time": "2019-01-15T13:48:43.009Z"
    }
   },
   "outputs": [],
   "source": [
    "col = 'tallest_building_in_sites'\n",
    "trainLgb(col)\n",
    "train[col] = train[col].apply(lambda row : applyRound(row))\n",
    "test[col] = test[col].apply(lambda row : applyRound(row))"
   ]
  },
  {
   "cell_type": "code",
   "execution_count": null,
   "metadata": {
    "ExecuteTime": {
     "start_time": "2019-01-15T13:48:43.009Z"
    }
   },
   "outputs": [],
   "source": [
    "col = 'front_door_structure'\n",
    "params = {\n",
    "    'objective':'multiclass',\n",
    "    'num_class':3,\n",
    "    'num_threads':3,\n",
    "}\n",
    "cols, cats = coList(col)\n",
    "trainSet = data[data[col]!=3]\n",
    "label = trainSet[col].values\n",
    "lgbSet = lgb.Dataset(trainSet[cols], label=label, categorical_feature=cats)\n",
    "bst = lgb.train(params, lgbSet)\n",
    "for i,v in enumerate(bst.feature_importance('gain')):\n",
    "    if v<10: cols[i]=0\n",
    "cols = [i for i in cols if i!=0]\n",
    "cats = list(set(cols)&set(cats))\n",
    "lgbSet = lgb.Dataset(trainSet[cols], label=label, categorical_feature=cats)\n",
    "bst = lgb.train(params, lgbSet)\n",
    "predSet = train[train[col]==3]\n",
    "idx = predSet.index.tolist()\n",
    "predArray = predSet[cols]\n",
    "predicted = bst.predict(predArray.values)\n",
    "for i, v in enumerate(idx):\n",
    "    train[col][v] = predicted[i].tolist().index(max(predicted[i]))\n",
    "predSet = test[test[col]==3]\n",
    "idx = predSet.index.tolist()\n",
    "predArray = predSet[cols]\n",
    "predicted = bst.predict(predArray.values)\n",
    "for i, v in enumerate(idx):\n",
    "    test[col][v] = predicted[i].tolist().index(max(predicted[i]))"
   ]
  },
  {
   "cell_type": "code",
   "execution_count": null,
   "metadata": {
    "ExecuteTime": {
     "start_time": "2019-01-15T13:48:43.009Z"
    }
   },
   "outputs": [],
   "source": [
    "col = 'heat_type'\n",
    "params = {\n",
    "    'objective':'multiclass',\n",
    "    'num_class':3,\n",
    "    'num_threads':3,\n",
    "}\n",
    "cols, cats = coList(col)\n",
    "trainSet = data[data[col]!=3]\n",
    "label = trainSet[col].values\n",
    "lgbSet = lgb.Dataset(trainSet[cols], label=label, categorical_feature=cats)\n",
    "bst = lgb.train(params, lgbSet)\n",
    "for i,v in enumerate(bst.feature_importance('gain')):\n",
    "    if v<10: cols[i]=0\n",
    "cols = [i for i in cols if i!=0]\n",
    "cats = list(set(cols)&set(cats))\n",
    "lgbSet = lgb.Dataset(trainSet[cols], label=label, categorical_feature=cats)\n",
    "bst = lgb.train(params, lgbSet)\n",
    "predSet = train[train[col]==3]\n",
    "idx = predSet.index.tolist()\n",
    "predArray = predSet[cols]\n",
    "predicted = bst.predict(predArray.values)    \n",
    "for i, v in enumerate(idx):\n",
    "    train[col][v] = predicted[i].tolist().index(max(predicted[i]))\n",
    "predSet = test[test[col]==3]\n",
    "idx = predSet.index.tolist()\n",
    "predArray = predSet[cols]\n",
    "predicted = bst.predict(predArray.values)    \n",
    "for i, v in enumerate(idx):\n",
    "    test[col][v] = predicted[i].tolist().index(max(predicted[i]))"
   ]
  },
  {
   "cell_type": "code",
   "execution_count": null,
   "metadata": {
    "ExecuteTime": {
     "start_time": "2019-01-15T13:48:43.009Z"
    }
   },
   "outputs": [],
   "source": [
    "col = 'heat_fuel'\n",
    "params = {\n",
    "    'objective':'binary',\n",
    "    'num_threads':3,\n",
    "}\n",
    "cols, cats = coList(col)\n",
    "trainSet = data[data[col]!=2]\n",
    "label = trainSet[col].values\n",
    "lgbSet = lgb.Dataset(trainSet[cols], label=label, categorical_feature=cats)\n",
    "bst = lgb.train(params, lgbSet)\n",
    "for i,v in enumerate(bst.feature_importance('gain')):\n",
    "    if v<10: cols[i]=0\n",
    "cols = [i for i in cols if i!=0]\n",
    "cats = list(set(cols)&set(cats))\n",
    "lgbSet = lgb.Dataset(trainSet[cols], label=label, categorical_feature=cats)\n",
    "bst = lgb.train(params, lgbSet)\n",
    "predSet = train[train[col]==2]\n",
    "idx = predSet.index.tolist()\n",
    "predArray = predSet[cols]\n",
    "predicted = bst.predict(predArray.values)    \n",
    "for i, v in enumerate(idx):\n",
    "    train[col][v] = int(predicted[i]>0.5)\n",
    "predSet = test[test[col]==2]\n",
    "idx = predSet.index.tolist()\n",
    "predArray = predSet[cols]\n",
    "predicted = bst.predict(predArray.values)    \n",
    "for i, v in enumerate(idx):\n",
    "    test[col][v] = int(predicted[i]>0.5)"
   ]
  },
  {
   "cell_type": "code",
   "execution_count": null,
   "metadata": {
    "ExecuteTime": {
     "start_time": "2019-01-17T02:50:07.601Z"
    }
   },
   "outputs": [],
   "source": [
    "%%time\n",
    "col = 'logApartUnitPrice'\n",
    "params = {\n",
    "    'num_threads':3,\n",
    "}\n",
    "cols, cats = coList(col)\n",
    "cols.remove('apartment_id')\n",
    "cats.remove('apartment_id')\n",
    "trainSet = data[~pd.isna(data[col])]\n",
    "label = trainSet[col].values\n",
    "lgbSet = lgb.Dataset(trainSet[cols], label=label, categorical_feature=cats)\n",
    "bst = lgb.train(params, lgbSet)"
   ]
  },
  {
   "cell_type": "code",
   "execution_count": null,
   "metadata": {
    "ExecuteTime": {
     "start_time": "2019-01-17T01:18:33.101Z"
    }
   },
   "outputs": [],
   "source": [
    "%%time\n",
    "for i,v in enumerate(bst.feature_importance('gain')):\n",
    "    if v<10: cols[i]=0\n",
    "cols = [i for i in cols if i!=0]\n",
    "cats = list(set(cols)&set(cats))\n",
    "lgbSet = lgb.Dataset(trainSet[cols], label=label, categorical_feature=cats)\n",
    "bst = lgb.train(params, lgbSet)"
   ]
  },
  {
   "cell_type": "code",
   "execution_count": null,
   "metadata": {
    "ExecuteTime": {
     "start_time": "2019-01-17T01:18:33.101Z"
    }
   },
   "outputs": [],
   "source": [
    "predSet = train[pd.isna(train[col])]\n",
    "idx = predSet.index.tolist()\n",
    "predArray = predSet[cols]\n",
    "predicted = bst.predict(predArray.values)\n",
    "for i, v in enumerate(idx):\n",
    "    train[col][v] = predicted[i]"
   ]
  },
  {
   "cell_type": "code",
   "execution_count": null,
   "metadata": {
    "ExecuteTime": {
     "start_time": "2019-01-17T01:18:33.101Z"
    }
   },
   "outputs": [],
   "source": [
    "predSet = test[pd.isna(test[col])]\n",
    "idx = predSet.index.tolist()\n",
    "predArray = predSet[cols]\n",
    "predicted = bst.predict(predArray.values)\n",
    "for i, v in enumerate(idx):\n",
    "    test[col][v] = predicted[i]"
   ]
  },
  {
   "cell_type": "code",
   "execution_count": null,
   "metadata": {},
   "outputs": [],
   "source": [
    "%%time\n",
    "col = 'townUnitPrice'\n",
    "params = {\n",
    "    'num_threads':3,\n",
    "}\n",
    "cols, cats = coList(col)\n",
    "cols.remove('cityDisTown')\n",
    "cats.remove('cityDisTown')\n",
    "trainSet = data[~pd.isna(data[col])]\n",
    "label = trainSet[col].values\n",
    "lgbSet = lgb.Dataset(trainSet[cols], label=label, categorical_feature=cats)\n",
    "bst = lgb.train(params, lgbSet)\n",
    "for i,v in enumerate(bst.feature_importance('gain')):\n",
    "    if v<10: cols[i]=0\n",
    "cols = [i for i in cols if i!=0]\n",
    "cats = list(set(cols)&set(cats))\n",
    "lgbSet = lgb.Dataset(trainSet[cols], label=label, categorical_feature=cats)\n",
    "bst = lgb.train(params, lgbSet)\n",
    "predSet = train[pd.isna(train[col])]\n",
    "idx = predSet.index.tolist()\n",
    "predArray = predSet[cols]\n",
    "predicted = bst.predict(predArray.values)\n",
    "for i, v in enumerate(idx):\n",
    "    train[col][v] = predicted[i]\n",
    "predSet = test[pd.isna(test[col])]\n",
    "idx = predSet.index.tolist()\n",
    "predArray = predSet[cols]\n",
    "predicted = bst.predict(predArray.values)\n",
    "for i, v in enumerate(idx):\n",
    "    test[col][v] = predicted[i]"
   ]
  },
  {
   "cell_type": "code",
   "execution_count": null,
   "metadata": {},
   "outputs": [],
   "source": [
    "%%time\n",
    "col = 'sub800Price'\n",
    "params = {\n",
    "    'num_threads':3,\n",
    "}\n",
    "cols, cats = coList(col)\n",
    "trainSet = data[~pd.isna(data[col])]\n",
    "label = trainSet[col].values\n",
    "lgbSet = lgb.Dataset(trainSet[cols], label=label, categorical_feature=cats)\n",
    "bst = lgb.train(params, lgbSet)\n",
    "for i,v in enumerate(bst.feature_importance('gain')):\n",
    "    if v<10: cols[i]=0\n",
    "cols = [i for i in cols if i!=0]\n",
    "cats = list(set(cols)&set(cats))\n",
    "lgbSet = lgb.Dataset(trainSet[cols], label=label, categorical_feature=cats)\n",
    "bst = lgb.train(params, lgbSet)\n",
    "predSet = train[pd.isna(train[col])]\n",
    "idx = predSet.index.tolist()\n",
    "predArray = predSet[cols]\n",
    "predicted = bst.predict(predArray.values)\n",
    "for i, v in enumerate(idx):\n",
    "    train[col][v] = predicted[i]\n",
    "predSet = test[pd.isna(test[col])]\n",
    "idx = predSet.index.tolist()\n",
    "predArray = predSet[cols]\n",
    "predicted = bst.predict(predArray.values)\n",
    "for i, v in enumerate(idx):\n",
    "    test[col][v] = predicted[i]"
   ]
  },
  {
   "cell_type": "markdown",
   "metadata": {},
   "source": [
    "## null값을 채운 뒤 새로운 특성을 만들어 보자"
   ]
  },
  {
   "cell_type": "code",
   "execution_count": 25,
   "metadata": {
    "ExecuteTime": {
     "end_time": "2019-01-17T00:56:37.549291Z",
     "start_time": "2019-01-17T00:56:37.437591Z"
    }
   },
   "outputs": [],
   "source": [
    "train['logTownUnitPrice'] = np.log(train['townUnitPrice'])\n",
    "test['logTownUnitPrice'] = np.log(test['townUnitPrice'])\n",
    "\n",
    "train['logApartUnitPrice'] = np.log(train['apartUnitPrice'])\n",
    "test['logApartUnitPrice'] = np.log(test['apartUnitPrice'])\n",
    "\n",
    "train['logSub800Price'] = np.log(train['sub800Price'])\n",
    "test['logSub800Price'] = np.log(test['sub800Price'])"
   ]
  },
  {
   "cell_type": "code",
   "execution_count": null,
   "metadata": {
    "ExecuteTime": {
     "start_time": "2019-01-17T01:18:48.835Z"
    }
   },
   "outputs": [],
   "source": [
    "# 단지별 평당가로 줄세워서 인트 카테고리\n",
    "data = train.append(test)\n",
    "groupedUnitPrice = data[['unitPrice', 'apartment_id']].groupby(['apartment_id']).agg('median')\n",
    "apartUnitPriceCnvrt = {}\n",
    "for apartId, price in zip(groupedUnitPrice['unitPrice'].index, groupedUnitPrice['unitPrice'].values):\n",
    "    apartUnitPriceCnvrt[apartId] = price\n",
    "    \n",
    "sortedApart = sorted(apartUnitPriceCnvrt.keys(), key=lambda k : uniqUnitPriceCnvrt[k])\n",
    "uniqUnitPriceCnvrt = {}\n",
    "for v, k in enumerate(sortedApart):\n",
    "    uniqUnitPriceCnvrt[k] = v\n",
    "    \n",
    "train['apart'] = train['apartment_id'].apply(lambda row : uniqUnitPriceCnvrt[row])\n",
    "test['apart'] = test['apartment_id'].apply(lambda row : uniqUnitPriceCnvrt[row])"
   ]
  }
 ],
 "metadata": {
  "kernelspec": {
   "display_name": "Python 3",
   "language": "python",
   "name": "python3"
  },
  "language_info": {
   "codemirror_mode": {
    "name": "ipython",
    "version": 3
   },
   "file_extension": ".py",
   "mimetype": "text/x-python",
   "name": "python",
   "nbconvert_exporter": "python",
   "pygments_lexer": "ipython3",
   "version": "3.6.7"
  },
  "latex_envs": {
   "LaTeX_envs_menu_present": true,
   "autoclose": false,
   "autocomplete": true,
   "bibliofile": "biblio.bib",
   "cite_by": "apalike",
   "current_citInitial": 1,
   "eqLabelWithNumbers": true,
   "eqNumInitial": 1,
   "hotkeys": {
    "equation": "Ctrl-E",
    "itemize": "Ctrl-I"
   },
   "labels_anchors": false,
   "latex_user_defs": false,
   "report_style_numbering": false,
   "user_envs_cfg": false
  }
 },
 "nbformat": 4,
 "nbformat_minor": 2
}
